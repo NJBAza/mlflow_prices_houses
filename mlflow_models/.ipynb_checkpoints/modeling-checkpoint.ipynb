{
 "cells": [
  {
   "cell_type": "code",
   "execution_count": 1,
   "id": "50006af1-d355-485d-90e2-9174ae05e7ec",
   "metadata": {},
   "outputs": [
    {
     "name": "stderr",
     "output_type": "stream",
     "text": [
      "[nltk_data] Downloading package wordnet to /home/javier/nltk_data...\n",
      "[nltk_data]   Package wordnet is already up-to-date!\n"
     ]
    }
   ],
   "source": [
    "import datetime as dt\n",
    "import glob\n",
    "import os\n",
    "import pickle\n",
    "import re\n",
    "import string\n",
    "import sys\n",
    "import time\n",
    "import warnings\n",
    "from datetime import datetime\n",
    "from pathlib import Path\n",
    "\n",
    "import featuretools as ft\n",
    "import matplotlib.pyplot as plt\n",
    "import nltk\n",
    "import numpy as np\n",
    "import pandas as pd\n",
    "import seaborn as sns\n",
    "from nltk import word_tokenize\n",
    "from nltk.corpus import (\n",
    "    stopwords,\n",
    "    wordnet,\n",
    ")\n",
    "from nltk.stem import (\n",
    "    PorterStemmer,\n",
    "    WordNetLemmatizer,\n",
    ")\n",
    "from scipy.stats.mstats import winsorize\n",
    "from sklearn.base import (\n",
    "    BaseEstimator,\n",
    "    TransformerMixin,\n",
    ")\n",
    "from sklearn.feature_extraction.text import TfidfVectorizer\n",
    "from sklearn.impute import SimpleImputer\n",
    "from sklearn.model_selection import train_test_split\n",
    "from sklearn.pipeline import Pipeline\n",
    "from sklearn.preprocessing import (\n",
    "    LabelEncoder,\n",
    "    MinMaxScaler,\n",
    "    StandardScaler,\n",
    "    normalize,\n",
    ")\n",
    "from tqdm import tqdm\n",
    "\n",
    "nltk.download(\"wordnet\")\n",
    "warnings.filterwarnings(\"ignore\")\n",
    "warnings.filterwarnings(\"ignore\", category=DeprecationWarning)\n",
    "\n",
    "pd.set_option(\"display.max_rows\", 500)\n",
    "pd.set_option(\"display.max_columns\", 500)\n",
    "pd.set_option(\"display.width\", 1000)"
   ]
  },
  {
   "cell_type": "code",
   "execution_count": 3,
   "id": "81a4338d-a1de-4073-80b4-8579defc21eb",
   "metadata": {},
   "outputs": [],
   "source": [
    "tqdm.pandas()"
   ]
  },
  {
   "cell_type": "code",
   "execution_count": 4,
   "id": "53a788a7-54f3-4b3e-8ae8-fc084e4c7ce8",
   "metadata": {},
   "outputs": [],
   "source": [
    "raw_train = pd.read_csv('data/train.csv')\n",
    "raw_test = pd.read_csv('data/test.csv')"
   ]
  },
  {
   "cell_type": "markdown",
   "id": "d702d486-229a-43b2-8425-0f0159748e91",
   "metadata": {},
   "source": [
    "---\n",
    "\n",
    "<center><h1>💻💻 Data Preparation 💻 💻</h1></center>\n",
    "\n",
    "---"
   ]
  },
  {
   "cell_type": "code",
   "execution_count": 5,
   "id": "ca691e6b-93bc-4810-9d07-43d5bd171dc9",
   "metadata": {},
   "outputs": [
    {
     "data": {
      "text/html": [
       "<div>\n",
       "<style scoped>\n",
       "    .dataframe tbody tr th:only-of-type {\n",
       "        vertical-align: middle;\n",
       "    }\n",
       "\n",
       "    .dataframe tbody tr th {\n",
       "        vertical-align: top;\n",
       "    }\n",
       "\n",
       "    .dataframe thead th {\n",
       "        text-align: right;\n",
       "    }\n",
       "</style>\n",
       "<table border=\"1\" class=\"dataframe\">\n",
       "  <thead>\n",
       "    <tr style=\"text-align: right;\">\n",
       "      <th></th>\n",
       "      <th>uid</th>\n",
       "      <th>city</th>\n",
       "      <th>description</th>\n",
       "      <th>homeType</th>\n",
       "      <th>latitude</th>\n",
       "      <th>longitude</th>\n",
       "      <th>garageSpaces</th>\n",
       "      <th>hasSpa</th>\n",
       "      <th>yearBuilt</th>\n",
       "      <th>numOfPatioAndPorchFeatures</th>\n",
       "      <th>lotSizeSqFt</th>\n",
       "      <th>avgSchoolRating</th>\n",
       "      <th>MedianStudentsPerTeacher</th>\n",
       "      <th>numOfBathrooms</th>\n",
       "      <th>numOfBedrooms</th>\n",
       "      <th>priceRange</th>\n",
       "    </tr>\n",
       "  </thead>\n",
       "  <tbody>\n",
       "    <tr>\n",
       "      <th>8147</th>\n",
       "      <td>4289</td>\n",
       "      <td>austin</td>\n",
       "      <td>10921 Roderick Lawson Ln, Austin, TX 78754 is ...</td>\n",
       "      <td>Single Family</td>\n",
       "      <td>30.346254</td>\n",
       "      <td>-97.615433</td>\n",
       "      <td>0</td>\n",
       "      <td>False</td>\n",
       "      <td>2013</td>\n",
       "      <td>0</td>\n",
       "      <td>5662.0</td>\n",
       "      <td>5.000000</td>\n",
       "      <td>11</td>\n",
       "      <td>3.0</td>\n",
       "      <td>4</td>\n",
       "      <td>250000-350000</td>\n",
       "    </tr>\n",
       "    <tr>\n",
       "      <th>1102</th>\n",
       "      <td>11774</td>\n",
       "      <td>austin</td>\n",
       "      <td>Investors special...Home for sale, Corner lot,...</td>\n",
       "      <td>Single Family</td>\n",
       "      <td>30.338911</td>\n",
       "      <td>-97.713936</td>\n",
       "      <td>2</td>\n",
       "      <td>False</td>\n",
       "      <td>1951</td>\n",
       "      <td>0</td>\n",
       "      <td>9104.0</td>\n",
       "      <td>3.333333</td>\n",
       "      <td>13</td>\n",
       "      <td>1.0</td>\n",
       "      <td>2</td>\n",
       "      <td>250000-350000</td>\n",
       "    </tr>\n",
       "    <tr>\n",
       "      <th>5474</th>\n",
       "      <td>12229</td>\n",
       "      <td>austin</td>\n",
       "      <td>Beautiful Legend Oaks home within walking dist...</td>\n",
       "      <td>Single Family</td>\n",
       "      <td>30.219906</td>\n",
       "      <td>-97.874496</td>\n",
       "      <td>0</td>\n",
       "      <td>False</td>\n",
       "      <td>1993</td>\n",
       "      <td>0</td>\n",
       "      <td>5837.0</td>\n",
       "      <td>8.000000</td>\n",
       "      <td>17</td>\n",
       "      <td>3.0</td>\n",
       "      <td>4</td>\n",
       "      <td>350000-450000</td>\n",
       "    </tr>\n",
       "  </tbody>\n",
       "</table>\n",
       "</div>"
      ],
      "text/plain": [
       "        uid    city                                        description       homeType   latitude  longitude  garageSpaces  hasSpa  yearBuilt  numOfPatioAndPorchFeatures  lotSizeSqFt  avgSchoolRating  MedianStudentsPerTeacher  numOfBathrooms  numOfBedrooms     priceRange\n",
       "8147   4289  austin  10921 Roderick Lawson Ln, Austin, TX 78754 is ...  Single Family  30.346254 -97.615433             0   False       2013                           0       5662.0         5.000000                        11             3.0              4  250000-350000\n",
       "1102  11774  austin  Investors special...Home for sale, Corner lot,...  Single Family  30.338911 -97.713936             2   False       1951                           0       9104.0         3.333333                        13             1.0              2  250000-350000\n",
       "5474  12229  austin  Beautiful Legend Oaks home within walking dist...  Single Family  30.219906 -97.874496             0   False       1993                           0       5837.0         8.000000                        17             3.0              4  350000-450000"
      ]
     },
     "execution_count": 5,
     "metadata": {},
     "output_type": "execute_result"
    }
   ],
   "source": [
    "raw_train.sample(3)"
   ]
  },
  {
   "cell_type": "code",
   "execution_count": 6,
   "id": "942164de-3172-4a5f-82f0-f00adc5760a1",
   "metadata": {},
   "outputs": [
    {
     "data": {
      "text/plain": [
       "uid                             int64\n",
       "city                           object\n",
       "description                    object\n",
       "homeType                       object\n",
       "latitude                      float64\n",
       "longitude                     float64\n",
       "garageSpaces                    int64\n",
       "hasSpa                           bool\n",
       "yearBuilt                       int64\n",
       "numOfPatioAndPorchFeatures      int64\n",
       "lotSizeSqFt                   float64\n",
       "avgSchoolRating               float64\n",
       "MedianStudentsPerTeacher        int64\n",
       "numOfBathrooms                float64\n",
       "numOfBedrooms                   int64\n",
       "priceRange                     object\n",
       "dtype: object"
      ]
     },
     "execution_count": 6,
     "metadata": {},
     "output_type": "execute_result"
    }
   ],
   "source": [
    "raw_test.dtypes"
   ]
  },
  {
   "cell_type": "code",
   "execution_count": 7,
   "id": "bcab3121-8be2-455a-84af-0c7150bf331c",
   "metadata": {},
   "outputs": [
    {
     "data": {
      "text/plain": [
       "((9000, 16), (1000, 16))"
      ]
     },
     "execution_count": 7,
     "metadata": {},
     "output_type": "execute_result"
    }
   ],
   "source": [
    "raw_train.shape, raw_test.shape"
   ]
  },
  {
   "cell_type": "code",
   "execution_count": 8,
   "id": "e3d6bcdd-23f3-4575-9232-14b8e71ec131",
   "metadata": {},
   "outputs": [],
   "source": [
    "import processing.preprocessing as pp\n",
    "from config import config"
   ]
  },
  {
   "cell_type": "code",
   "execution_count": 31,
   "id": "d60a6c85-06e6-4975-a774-6f1996203c0f",
   "metadata": {},
   "outputs": [],
   "source": [
    "classification_pipeline = Pipeline(\n",
    "    [\n",
    "        (\n",
    "            \"DataFrameTypeConverter\",\n",
    "            pp.DataFrameTypeConverter(conversion_dict=config.CONVERSION_DICT),\n",
    "        ),\n",
    "        (\n",
    "            \"DropColumns\",\n",
    "            pp.DropColumns(variables_to_drop=config.VARIABLES_TO_DROP),\n",
    "        ),\n",
    "        (\n",
    "            \"ModeImputer\",\n",
    "            pp.ModeImputer(variables=config.CATEGORICAL_FEATURES),\n",
    "        ),\n",
    "        (\n",
    "            \"DataFrameProcessor\",\n",
    "            pp.DataFrameProcessor(features=config.FEATURES_MODIFY, quantile_threshold=0.1),\n",
    "        ),\n",
    "        (\n",
    "            \"MedianImputer\",\n",
    "            pp.MedianImputer(variables=config.NUMERICAL_FEATURES),\n",
    "        ),\n",
    "        (\n",
    "            \"Winsorizer\",\n",
    "            pp.Winsorizer(numerical_features=config.NUMERICAL_FEATURES, limits=[0.025, 0.025]),\n",
    "        ),\n",
    "        (\n",
    "            \"DropColumns2\",\n",
    "            pp.DropColumns(variables_to_drop=config.NUMERICAL_FEATURES),\n",
    "        ),\n",
    "        (\n",
    "            \"CoordinateBinner\",\n",
    "            pp.CoordinateBinner(columns=config.GEOLOCATION, decimal_places=3),\n",
    "        ),\n",
    "        (\n",
    "            \"DropColumns3\",\n",
    "            pp.DropColumns(variables_to_drop=config.GEOLOCATION),\n",
    "        ),\n",
    "        (\n",
    "            \"TextProcessor\",\n",
    "            pp.TextProcessor(column=config.DESCRIPTION_FEATURE, blacklist=config.BLACK_LIST),\n",
    "        ),\n",
    "        (\n",
    "            \"TFIDFTransformer\",\n",
    "            pp.TFIDFTransformer(column=config.DESCRIPTION_FEATURE, max_features=20),\n",
    "        ),\n",
    "        (\n",
    "            \"NumericalFeatureSelector\",\n",
    "            pp.NumericalFeatureSelector(remove_columns=config.TO_REMOVE),\n",
    "        ),\n",
    "        (\n",
    "            \"LogTransforms\",\n",
    "            pp.LogTransforms(),\n",
    "        ),\n",
    "        (\n",
    "            \"DataScaler\",\n",
    "            pp.DataScaler(),\n",
    "        ),\n",
    "        (\n",
    "            \"CorrelationMatrixProcessor\",\n",
    "            pp.CorrelationMatrixProcessor(threshold=0.7),\n",
    "        ),\n",
    "        (\n",
    "            \"FeatureVariance\",\n",
    "            pp.FeatureVariance(threshold=0.001),\n",
    "        ),\n",
    "        (\n",
    "            \"DropColumns4\",\n",
    "            pp.DropColumns(variables_to_drop=config.DESCRIPTION_FEATURE),\n",
    "        ),\n",
    "        (\n",
    "            \"LabelEncoderProcessor\",\n",
    "            pp.LabelEncoderProcessor(),\n",
    "        ),\n",
    "    ]\n",
    ")"
   ]
  },
  {
   "cell_type": "code",
   "execution_count": 32,
   "id": "86010fd7-d727-45be-9b2b-b23ce73daf69",
   "metadata": {},
   "outputs": [],
   "source": [
    "transformed_train = classification_pipeline.fit_transform(raw_train)"
   ]
  },
  {
   "cell_type": "code",
   "execution_count": 33,
   "id": "91612f36-af71-47ce-9743-3d46d5302f5c",
   "metadata": {},
   "outputs": [
    {
     "data": {
      "text/html": [
       "<div>\n",
       "<style scoped>\n",
       "    .dataframe tbody tr th:only-of-type {\n",
       "        vertical-align: middle;\n",
       "    }\n",
       "\n",
       "    .dataframe tbody tr th {\n",
       "        vertical-align: top;\n",
       "    }\n",
       "\n",
       "    .dataframe thead th {\n",
       "        text-align: right;\n",
       "    }\n",
       "</style>\n",
       "<table border=\"1\" class=\"dataframe\">\n",
       "  <thead>\n",
       "    <tr style=\"text-align: right;\">\n",
       "      <th></th>\n",
       "      <th>city</th>\n",
       "      <th>homeType</th>\n",
       "      <th>hasSpa</th>\n",
       "      <th>priceRange</th>\n",
       "      <th>garageSpaces_winsor</th>\n",
       "      <th>yearBuilt_winsor</th>\n",
       "      <th>numOfPatioAndPorchFeatures_winsor</th>\n",
       "      <th>lotSizeSqFt_winsor</th>\n",
       "      <th>avgSchoolRating_winsor</th>\n",
       "      <th>numOfBathrooms_winsor</th>\n",
       "      <th>numOfBedrooms_winsor</th>\n",
       "      <th>homeType_count_winsor</th>\n",
       "      <th>latitude_winsor_3</th>\n",
       "      <th>longitude_winsor_3</th>\n",
       "      <th>area</th>\n",
       "      <th>back</th>\n",
       "      <th>backyard</th>\n",
       "      <th>build</th>\n",
       "      <th>ceiling</th>\n",
       "      <th>contain</th>\n",
       "      <th>family</th>\n",
       "      <th>feature</th>\n",
       "      <th>from</th>\n",
       "      <th>great</th>\n",
       "      <th>include</th>\n",
       "      <th>large</th>\n",
       "      <th>living</th>\n",
       "      <th>lot</th>\n",
       "      <th>new</th>\n",
       "      <th>open</th>\n",
       "      <th>update</th>\n",
       "      <th>walk</th>\n",
       "    </tr>\n",
       "  </thead>\n",
       "  <tbody>\n",
       "    <tr>\n",
       "      <th>7466</th>\n",
       "      <td>1</td>\n",
       "      <td>0</td>\n",
       "      <td>0</td>\n",
       "      <td>1</td>\n",
       "      <td>0.0</td>\n",
       "      <td>0.492102</td>\n",
       "      <td>0.0</td>\n",
       "      <td>0.044668</td>\n",
       "      <td>0.756471</td>\n",
       "      <td>0.63093</td>\n",
       "      <td>0.0</td>\n",
       "      <td>0.0</td>\n",
       "      <td>0.646406</td>\n",
       "      <td>0.37826</td>\n",
       "      <td>0.419367</td>\n",
       "      <td>0.0</td>\n",
       "      <td>0.0</td>\n",
       "      <td>0.0</td>\n",
       "      <td>0.460669</td>\n",
       "      <td>0.0</td>\n",
       "      <td>0.374995</td>\n",
       "      <td>0.0</td>\n",
       "      <td>0.0</td>\n",
       "      <td>0.0</td>\n",
       "      <td>0.0</td>\n",
       "      <td>0.387453</td>\n",
       "      <td>0.0</td>\n",
       "      <td>0.435166</td>\n",
       "      <td>0.0</td>\n",
       "      <td>0.0</td>\n",
       "      <td>0.463858</td>\n",
       "      <td>0.457856</td>\n",
       "    </tr>\n",
       "  </tbody>\n",
       "</table>\n",
       "</div>"
      ],
      "text/plain": [
       "      city  homeType  hasSpa  priceRange  garageSpaces_winsor  yearBuilt_winsor  numOfPatioAndPorchFeatures_winsor  lotSizeSqFt_winsor  avgSchoolRating_winsor  numOfBathrooms_winsor  numOfBedrooms_winsor  homeType_count_winsor  latitude_winsor_3  longitude_winsor_3      area  back  backyard  build   ceiling  contain    family  feature  from  great  include     large  living       lot  new  open    update      walk\n",
       "7466     1         0       0           1                  0.0          0.492102                                0.0            0.044668                0.756471                0.63093                   0.0                    0.0           0.646406             0.37826  0.419367   0.0       0.0    0.0  0.460669      0.0  0.374995      0.0   0.0    0.0      0.0  0.387453     0.0  0.435166  0.0   0.0  0.463858  0.457856"
      ]
     },
     "execution_count": 33,
     "metadata": {},
     "output_type": "execute_result"
    }
   ],
   "source": [
    "transformed_train.sample()"
   ]
  },
  {
   "cell_type": "code",
   "execution_count": 34,
   "id": "e06f4a3b-1cc0-45a5-80f0-cad4f5752b9a",
   "metadata": {},
   "outputs": [],
   "source": [
    "transformed_test = classification_pipeline.fit_transform(raw_test)"
   ]
  },
  {
   "cell_type": "code",
   "execution_count": 35,
   "id": "87b5391a-b8bb-4282-907d-467b456437c2",
   "metadata": {},
   "outputs": [
    {
     "data": {
      "text/plain": [
       "((9000, 32), (1000, 32))"
      ]
     },
     "execution_count": 35,
     "metadata": {},
     "output_type": "execute_result"
    }
   ],
   "source": [
    "transformed_train.shape, transformed_test.shape"
   ]
  },
  {
   "cell_type": "code",
   "execution_count": 36,
   "id": "2d3005fd-602f-467f-baf3-dbe899b9c978",
   "metadata": {},
   "outputs": [],
   "source": [
    "list_train = list(transformed_train.columns)\n",
    "list_test = list(transformed_test.columns)"
   ]
  },
  {
   "cell_type": "code",
   "execution_count": 37,
   "id": "86f5e05a-ea35-4c81-bba9-d990c75eb6dc",
   "metadata": {},
   "outputs": [
    {
     "data": {
      "text/plain": [
       "priceRange\n",
       "1    2123\n",
       "2    2076\n",
       "3    2054\n",
       "4    1635\n",
       "0    1112\n",
       "Name: count, dtype: int64"
      ]
     },
     "execution_count": 37,
     "metadata": {},
     "output_type": "execute_result"
    }
   ],
   "source": [
    "transformed_train['priceRange'].value_counts()"
   ]
  },
  {
   "cell_type": "code",
   "execution_count": 28,
   "id": "49a6f5a4-e4fa-495b-a13e-a7c01020bcbe",
   "metadata": {},
   "outputs": [],
   "source": [
    "no_common1 = [element for element in list_train if element not in list_test]\n",
    "no_common2 = [element for element in list_test if element not in list_train]"
   ]
  },
  {
   "cell_type": "code",
   "execution_count": 29,
   "id": "966ebdf8-23ed-4cb4-bd72-3d0b3a61b39f",
   "metadata": {},
   "outputs": [
    {
     "data": {
      "text/plain": [
       "[]"
      ]
     },
     "execution_count": 29,
     "metadata": {},
     "output_type": "execute_result"
    }
   ],
   "source": [
    "no_common1"
   ]
  },
  {
   "cell_type": "code",
   "execution_count": 30,
   "id": "4caec8ef-1faa-4c9e-96df-20be316c972f",
   "metadata": {},
   "outputs": [
    {
     "data": {
      "text/plain": [
       "[]"
      ]
     },
     "execution_count": 30,
     "metadata": {},
     "output_type": "execute_result"
    }
   ],
   "source": [
    "no_common2"
   ]
  },
  {
   "cell_type": "code",
   "execution_count": 19,
   "id": "e7d50371-8c5a-4979-b1d4-6a8a815e9ea2",
   "metadata": {},
   "outputs": [],
   "source": [
    "train_y = transformed_train['priceRange']\n",
    "train_X = transformed_train.drop(['priceRange'], axis=1)"
   ]
  },
  {
   "cell_type": "code",
   "execution_count": 23,
   "id": "9865ccb1-7092-4ffd-b178-7cb16372e28e",
   "metadata": {},
   "outputs": [
    {
     "name": "stdout",
     "output_type": "stream",
     "text": [
      "train data size: (7200, 31)\n",
      "test data size: (1800, 31)\n"
     ]
    }
   ],
   "source": [
    "#Let’s split X and y using Train test split\n",
    "X_train, X_test, y_train, y_test = train_test_split(train_X, train_y, train_size=0.8, random_state= 2022, stratify=train_y)\n",
    "\n",
    "#get shape of train and test data\n",
    "print(\"train data size:\", X_train.shape)\n",
    "print(\"test data size:\", X_test.shape)"
   ]
  },
  {
   "cell_type": "code",
   "execution_count": 25,
   "id": "6c626ca1-1467-4de3-b38b-976379f1387c",
   "metadata": {},
   "outputs": [
    {
     "data": {
      "text/plain": [
       "(priceRange\n",
       " 1    0.235833\n",
       " 2    0.230694\n",
       " 3    0.228194\n",
       " 4    0.181667\n",
       " 0    0.123611\n",
       " Name: proportion, dtype: float64,\n",
       " priceRange\n",
       " 1    0.236111\n",
       " 2    0.230556\n",
       " 3    0.228333\n",
       " 4    0.181667\n",
       " 0    0.123333\n",
       " Name: proportion, dtype: float64)"
      ]
     },
     "execution_count": 25,
     "metadata": {},
     "output_type": "execute_result"
    }
   ],
   "source": [
    "y_train.value_counts(normalize=True), y_test.value_counts(normalize=True)"
   ]
  },
  {
   "cell_type": "code",
   "execution_count": 154,
   "id": "8aae7c62-8345-4ec3-b722-6b202a20a6eb",
   "metadata": {},
   "outputs": [],
   "source": [
    "from sklearn.model_selection import cross_val_score\n",
    "\n",
    "from sklearn.ensemble import RandomForestClassifier\n",
    "from sklearn.tree import DecisionTreeClassifier\n",
    "from sklearn.neighbors import KNeighborsClassifier\n",
    "from sklearn.linear_model import LogisticRegression\n",
    "import xgboost as xgb\n",
    "from xgboost import XGBClassifier\n",
    "from sklearn.svm import SVC\n",
    "\n",
    "from sklearn.metrics import classification_report, accuracy_score"
   ]
  },
  {
   "cell_type": "code",
   "execution_count": 155,
   "id": "0108e405-a749-495d-87cb-8b48f5591dc4",
   "metadata": {},
   "outputs": [],
   "source": [
    "from sklearn.ensemble import StackingClassifier"
   ]
  },
  {
   "cell_type": "code",
   "execution_count": 156,
   "id": "b54eea43-15af-4b9b-ab77-5d1d885343eb",
   "metadata": {},
   "outputs": [],
   "source": [
    "from sklearn.model_selection import KFold"
   ]
  },
  {
   "cell_type": "code",
   "execution_count": null,
   "id": "e6aad13f-ef5a-422b-9700-15dd5edcc0d6",
   "metadata": {},
   "outputs": [],
   "source": [
    "import time"
   ]
  },
  {
   "cell_type": "code",
   "execution_count": 211,
   "id": "2bb94ea2-57e5-49eb-a8d5-3a92ea88f27e",
   "metadata": {},
   "outputs": [],
   "source": [
    "def cv_score(ml_model, rstate=11, cols=None, df=None, df_y=None):\n",
    "    start_time = time.time()\n",
    "\n",
    "    if df is None or df_y is None:\n",
    "        raise ValueError(\"DataFrames df and df_y must be provided\")\n",
    "\n",
    "    if cols is not None:\n",
    "        df1 = df[cols].copy()\n",
    "    else:\n",
    "        df1 = df.copy()\n",
    "\n",
    "    i = 1\n",
    "    cv_scores = []\n",
    "    \n",
    "    kf = KFold(n_splits=5, random_state=rstate, shuffle=True)\n",
    "    \n",
    "    for train_index, test_index in kf.split(df1):\n",
    "        xtr, xvl = df1.iloc[train_index], df1.iloc[test_index]\n",
    "        ytr, yvl = df_y.iloc[train_index], df_y.iloc[test_index]\n",
    "\n",
    "        model = ml_model\n",
    "        model.fit(xtr, ytr)\n",
    "        pred_val = model.predict(xvl)\n",
    "        \n",
    "        # Calculate accuracy\n",
    "        accuracy = accuracy_score(yvl, pred_val)\n",
    "        \n",
    "        # Save scores\n",
    "        cv_scores.append(accuracy)\n",
    "        i += 1\n",
    "    end_time = time.time()\n",
    "    \n",
    "    print(f\"The duration for training the model is: {(end_time - start_time)}\")\n",
    "    return cv_scores"
   ]
  },
  {
   "cell_type": "code",
   "execution_count": 224,
   "id": "ca38a9f1-2a47-4cf7-9718-69b41d4d4b9e",
   "metadata": {},
   "outputs": [
    {
     "name": "stdout",
     "output_type": "stream",
     "text": [
      "The duration for training the model is: 5.619680404663086\n"
     ]
    }
   ],
   "source": [
    "random_forest_classifier = cv_score(RandomForestClassifier(n_estimators=100, random_state=20230916), df = X_train, df_y = y_train)"
   ]
  },
  {
   "cell_type": "code",
   "execution_count": 226,
   "id": "4d30a353-448c-405d-9a99-21182fe749fd",
   "metadata": {},
   "outputs": [
    {
     "name": "stdout",
     "output_type": "stream",
     "text": [
      "The duration for training the model is: 0.4501781463623047\n"
     ]
    }
   ],
   "source": [
    "knn_neighbors_classifier = cv_score(KNeighborsClassifier(n_neighbors=3), df = X_train, df_y = y_train)"
   ]
  },
  {
   "cell_type": "code",
   "execution_count": 227,
   "id": "bb76d026-defd-48b0-8fd5-9c68fab85808",
   "metadata": {},
   "outputs": [
    {
     "name": "stdout",
     "output_type": "stream",
     "text": [
      "The duration for training the model is: 0.4079134464263916\n"
     ]
    }
   ],
   "source": [
    "decision_tree_classifier = cv_score(DecisionTreeClassifier(random_state=20230916), df = X_train, df_y = y_train)"
   ]
  },
  {
   "cell_type": "code",
   "execution_count": 228,
   "id": "925f1dc8-47b7-40b3-8e00-9ad33a59f9d9",
   "metadata": {},
   "outputs": [
    {
     "name": "stdout",
     "output_type": "stream",
     "text": [
      "The duration for training the model is: 5.937894105911255\n"
     ]
    }
   ],
   "source": [
    "xgb_classifier = cv_score(XGBClassifier(random_state=20230916), df = X_train, df_y = y_train)"
   ]
  },
  {
   "cell_type": "code",
   "execution_count": 229,
   "id": "4c65a314-be15-4144-a0a7-ce920eb54ae0",
   "metadata": {},
   "outputs": [],
   "source": [
    "results_df = pd.DataFrame({'RandomForestClassifier':random_forest_classifier, \n",
    "                           'KNeighborsClassifier': knn_neighbors_classifier, \n",
    "                           'DecisionTreeClassifier': decision_tree_classifier, \n",
    "                           'XGBClassifier': xgb_classifier})"
   ]
  },
  {
   "cell_type": "code",
   "execution_count": 230,
   "id": "90162c9a-e3d5-4101-be62-976669bf5a73",
   "metadata": {},
   "outputs": [
    {
     "data": {
      "image/png": "[encoded data removed]",
      "text/plain": [
       "<Figure size 640x480 with 1 Axes>"
      ]
     },
     "metadata": {},
     "output_type": "display_data"
    }
   ],
   "source": [
    "results_df.plot(y=[\"RandomForestClassifier\", \"KNeighborsClassifier\", 'DecisionTreeClassifier', 'XGBClassifier'], kind=\"bar\", legend=False)\n",
    "plt.legend(bbox_to_anchor=(1, 1), loc=2, borderaxespad=0.)\n",
    "plt.show()"
   ]
  },
  {
   "cell_type": "code",
   "execution_count": 231,
   "id": "28c0a749-0009-4efe-a483-d92487ed2ac7",
   "metadata": {},
   "outputs": [],
   "source": [
    "# Base models\n",
    "estimators = [\n",
    "    ('rf', RandomForestClassifier(n_estimators=100, random_state=20230916)),\n",
    "    ('xgb', XGBClassifier(random_state=20230916)),\n",
    "]\n",
    "\n",
    "# Meta-model\n",
    "meta_model = LogisticRegression()\n",
    "\n",
    "# Stacking classifier\n",
    "stacking_clf = StackingClassifier(estimators=estimators, \n",
    "                                  final_estimator=meta_model,\n",
    "                                  cv=5)\n",
    "\n",
    "# Fit the model\n",
    "stacking_clf.fit(X_train, y_train)\n",
    "\n",
    "# Make predictions\n",
    "y_pred = stacking_clf.predict(X_test)"
   ]
  },
  {
   "cell_type": "code",
   "execution_count": 232,
   "id": "290a26d2-fb08-4820-a604-e21cd0805e94",
   "metadata": {},
   "outputs": [
    {
     "name": "stdout",
     "output_type": "stream",
     "text": [
      "Accuracy: 0.6105555555555555\n",
      "\n",
      "Classification Report:\n",
      "               precision    recall  f1-score   support\n",
      "\n",
      "           0       0.77      0.46      0.58       222\n",
      "           1       0.58      0.68      0.62       425\n",
      "           2       0.51      0.49      0.50       415\n",
      "           3       0.57      0.62      0.59       411\n",
      "           4       0.78      0.77      0.77       327\n",
      "\n",
      "    accuracy                           0.61      1800\n",
      "   macro avg       0.64      0.60      0.61      1800\n",
      "weighted avg       0.62      0.61      0.61      1800\n",
      "\n"
     ]
    }
   ],
   "source": [
    "print(\"Accuracy:\", accuracy_score(y_test, y_pred))\n",
    "print(\"\\nClassification Report:\\n\", classification_report(y_test, y_pred))"
   ]
  },
  {
   "cell_type": "code",
   "execution_count": 236,
   "id": "584eaebe-b371-4e76-abeb-cd3d6ce26562",
   "metadata": {},
   "outputs": [],
   "source": [
    "# create the object of the model\n",
    "model_xgb = XGBClassifier(random_state=20230916)"
   ]
  },
  {
   "cell_type": "code",
   "execution_count": 237,
   "id": "7ac82813-eeb5-4262-9f3f-2b3d6fdd9457",
   "metadata": {},
   "outputs": [
    {
     "data": {
      "text/html": [
       "<style>#sk-container-id-5 {\n",
       "  /* Definition of color scheme common for light and dark mode */\n",
       "  --sklearn-color-text: black;\n",
       "  --sklearn-color-line: gray;\n",
       "  /* Definition of color scheme for unfitted estimators */\n",
       "  --sklearn-color-unfitted-level-0: #fff5e6;\n",
       "  --sklearn-color-unfitted-level-1: #f6e4d2;\n",
       "  --sklearn-color-unfitted-level-2: #ffe0b3;\n",
       "  --sklearn-color-unfitted-level-3: chocolate;\n",
       "  /* Definition of color scheme for fitted estimators */\n",
       "  --sklearn-color-fitted-level-0: #f0f8ff;\n",
       "  --sklearn-color-fitted-level-1: #d4ebff;\n",
       "  --sklearn-color-fitted-level-2: #b3dbfd;\n",
       "  --sklearn-color-fitted-level-3: cornflowerblue;\n",
       "\n",
       "  /* Specific color for light theme */\n",
       "  --sklearn-color-text-on-default-background: var(--sg-text-color, var(--theme-code-foreground, var(--jp-content-font-color1, black)));\n",
       "  --sklearn-color-background: var(--sg-background-color, var(--theme-background, var(--jp-layout-color0, white)));\n",
       "  --sklearn-color-border-box: var(--sg-text-color, var(--theme-code-foreground, var(--jp-content-font-color1, black)));\n",
       "  --sklearn-color-icon: #696969;\n",
       "\n",
       "  @media (prefers-color-scheme: dark) {\n",
       "    /* Redefinition of color scheme for dark theme */\n",
       "    --sklearn-color-text-on-default-background: var(--sg-text-color, var(--theme-code-foreground, var(--jp-content-font-color1, white)));\n",
       "    --sklearn-color-background: var(--sg-background-color, var(--theme-background, var(--jp-layout-color0, #111)));\n",
       "    --sklearn-color-border-box: var(--sg-text-color, var(--theme-code-foreground, var(--jp-content-font-color1, white)));\n",
       "    --sklearn-color-icon: #878787;\n",
       "  }\n",
       "}\n",
       "\n",
       "#sk-container-id-5 {\n",
       "  color: var(--sklearn-color-text);\n",
       "}\n",
       "\n",
       "#sk-container-id-5 pre {\n",
       "  padding: 0;\n",
       "}\n",
       "\n",
       "#sk-container-id-5 input.sk-hidden--visually {\n",
       "  border: 0;\n",
       "  clip: rect(1px 1px 1px 1px);\n",
       "  clip: rect(1px, 1px, 1px, 1px);\n",
       "  height: 1px;\n",
       "  margin: -1px;\n",
       "  overflow: hidden;\n",
       "  padding: 0;\n",
       "  position: absolute;\n",
       "  width: 1px;\n",
       "}\n",
       "\n",
       "#sk-container-id-5 div.sk-dashed-wrapped {\n",
       "  border: 1px dashed var(--sklearn-color-line);\n",
       "  margin: 0 0.4em 0.5em 0.4em;\n",
       "  box-sizing: border-box;\n",
       "  padding-bottom: 0.4em;\n",
       "  background-color: var(--sklearn-color-background);\n",
       "}\n",
       "\n",
       "#sk-container-id-5 div.sk-container {\n",
       "  /* jupyter's `normalize.less` sets `[hidden] { display: none; }`\n",
       "     but bootstrap.min.css set `[hidden] { display: none !important; }`\n",
       "     so we also need the `!important` here to be able to override the\n",
       "     default hidden behavior on the sphinx rendered scikit-learn.org.\n",
       "     See: https://github.com/scikit-learn/scikit-learn/issues/21755 */\n",
       "  display: inline-block !important;\n",
       "  position: relative;\n",
       "}\n",
       "\n",
       "#sk-container-id-5 div.sk-text-repr-fallback {\n",
       "  display: none;\n",
       "}\n",
       "\n",
       "div.sk-parallel-item,\n",
       "div.sk-serial,\n",
       "div.sk-item {\n",
       "  /* draw centered vertical line to link estimators */\n",
       "  background-image: linear-gradient(var(--sklearn-color-text-on-default-background), var(--sklearn-color-text-on-default-background));\n",
       "  background-size: 2px 100%;\n",
       "  background-repeat: no-repeat;\n",
       "  background-position: center center;\n",
       "}\n",
       "\n",
       "/* Parallel-specific style estimator block */\n",
       "\n",
       "#sk-container-id-5 div.sk-parallel-item::after {\n",
       "  content: \"\";\n",
       "  width: 100%;\n",
       "  border-bottom: 2px solid var(--sklearn-color-text-on-default-background);\n",
       "  flex-grow: 1;\n",
       "}\n",
       "\n",
       "#sk-container-id-5 div.sk-parallel {\n",
       "  display: flex;\n",
       "  align-items: stretch;\n",
       "  justify-content: center;\n",
       "  background-color: var(--sklearn-color-background);\n",
       "  position: relative;\n",
       "}\n",
       "\n",
       "#sk-container-id-5 div.sk-parallel-item {\n",
       "  display: flex;\n",
       "  flex-direction: column;\n",
       "}\n",
       "\n",
       "#sk-container-id-5 div.sk-parallel-item:first-child::after {\n",
       "  align-self: flex-end;\n",
       "  width: 50%;\n",
       "}\n",
       "\n",
       "#sk-container-id-5 div.sk-parallel-item:last-child::after {\n",
       "  align-self: flex-start;\n",
       "  width: 50%;\n",
       "}\n",
       "\n",
       "#sk-container-id-5 div.sk-parallel-item:only-child::after {\n",
       "  width: 0;\n",
       "}\n",
       "\n",
       "/* Serial-specific style estimator block */\n",
       "\n",
       "#sk-container-id-5 div.sk-serial {\n",
       "  display: flex;\n",
       "  flex-direction: column;\n",
       "  align-items: center;\n",
       "  background-color: var(--sklearn-color-background);\n",
       "  padding-right: 1em;\n",
       "  padding-left: 1em;\n",
       "}\n",
       "\n",
       "\n",
       "/* Toggleable style: style used for estimator/Pipeline/ColumnTransformer box that is\n",
       "clickable and can be expanded/collapsed.\n",
       "- Pipeline and ColumnTransformer use this feature and define the default style\n",
       "- Estimators will overwrite some part of the style using the `sk-estimator` class\n",
       "*/\n",
       "\n",
       "/* Pipeline and ColumnTransformer style (default) */\n",
       "\n",
       "#sk-container-id-5 div.sk-toggleable {\n",
       "  /* Default theme specific background. It is overwritten whether we have a\n",
       "  specific estimator or a Pipeline/ColumnTransformer */\n",
       "  background-color: var(--sklearn-color-background);\n",
       "}\n",
       "\n",
       "/* Toggleable label */\n",
       "#sk-container-id-5 label.sk-toggleable__label {\n",
       "  cursor: pointer;\n",
       "  display: block;\n",
       "  width: 100%;\n",
       "  margin-bottom: 0;\n",
       "  padding: 0.5em;\n",
       "  box-sizing: border-box;\n",
       "  text-align: center;\n",
       "}\n",
       "\n",
       "#sk-container-id-5 label.sk-toggleable__label-arrow:before {\n",
       "  /* Arrow on the left of the label */\n",
       "  content: \"▸\";\n",
       "  float: left;\n",
       "  margin-right: 0.25em;\n",
       "  color: var(--sklearn-color-icon);\n",
       "}\n",
       "\n",
       "#sk-container-id-5 label.sk-toggleable__label-arrow:hover:before {\n",
       "  color: var(--sklearn-color-text);\n",
       "}\n",
       "\n",
       "/* Toggleable content - dropdown */\n",
       "\n",
       "#sk-container-id-5 div.sk-toggleable__content {\n",
       "  max-height: 0;\n",
       "  max-width: 0;\n",
       "  overflow: hidden;\n",
       "  text-align: left;\n",
       "  /* unfitted */\n",
       "  background-color: var(--sklearn-color-unfitted-level-0);\n",
       "}\n",
       "\n",
       "#sk-container-id-5 div.sk-toggleable__content.fitted {\n",
       "  /* fitted */\n",
       "  background-color: var(--sklearn-color-fitted-level-0);\n",
       "}\n",
       "\n",
       "#sk-container-id-5 div.sk-toggleable__content pre {\n",
       "  margin: 0.2em;\n",
       "  border-radius: 0.25em;\n",
       "  color: var(--sklearn-color-text);\n",
       "  /* unfitted */\n",
       "  background-color: var(--sklearn-color-unfitted-level-0);\n",
       "}\n",
       "\n",
       "#sk-container-id-5 div.sk-toggleable__content.fitted pre {\n",
       "  /* unfitted */\n",
       "  background-color: var(--sklearn-color-fitted-level-0);\n",
       "}\n",
       "\n",
       "#sk-container-id-5 input.sk-toggleable__control:checked~div.sk-toggleable__content {\n",
       "  /* Expand drop-down */\n",
       "  max-height: 200px;\n",
       "  max-width: 100%;\n",
       "  overflow: auto;\n",
       "}\n",
       "\n",
       "#sk-container-id-5 input.sk-toggleable__control:checked~label.sk-toggleable__label-arrow:before {\n",
       "  content: \"▾\";\n",
       "}\n",
       "\n",
       "/* Pipeline/ColumnTransformer-specific style */\n",
       "\n",
       "#sk-container-id-5 div.sk-label input.sk-toggleable__control:checked~label.sk-toggleable__label {\n",
       "  color: var(--sklearn-color-text);\n",
       "  background-color: var(--sklearn-color-unfitted-level-2);\n",
       "}\n",
       "\n",
       "#sk-container-id-5 div.sk-label.fitted input.sk-toggleable__control:checked~label.sk-toggleable__label {\n",
       "  background-color: var(--sklearn-color-fitted-level-2);\n",
       "}\n",
       "\n",
       "/* Estimator-specific style */\n",
       "\n",
       "/* Colorize estimator box */\n",
       "#sk-container-id-5 div.sk-estimator input.sk-toggleable__control:checked~label.sk-toggleable__label {\n",
       "  /* unfitted */\n",
       "  background-color: var(--sklearn-color-unfitted-level-2);\n",
       "}\n",
       "\n",
       "#sk-container-id-5 div.sk-estimator.fitted input.sk-toggleable__control:checked~label.sk-toggleable__label {\n",
       "  /* fitted */\n",
       "  background-color: var(--sklearn-color-fitted-level-2);\n",
       "}\n",
       "\n",
       "#sk-container-id-5 div.sk-label label.sk-toggleable__label,\n",
       "#sk-container-id-5 div.sk-label label {\n",
       "  /* The background is the default theme color */\n",
       "  color: var(--sklearn-color-text-on-default-background);\n",
       "}\n",
       "\n",
       "/* On hover, darken the color of the background */\n",
       "#sk-container-id-5 div.sk-label:hover label.sk-toggleable__label {\n",
       "  color: var(--sklearn-color-text);\n",
       "  background-color: var(--sklearn-color-unfitted-level-2);\n",
       "}\n",
       "\n",
       "/* Label box, darken color on hover, fitted */\n",
       "#sk-container-id-5 div.sk-label.fitted:hover label.sk-toggleable__label.fitted {\n",
       "  color: var(--sklearn-color-text);\n",
       "  background-color: var(--sklearn-color-fitted-level-2);\n",
       "}\n",
       "\n",
       "/* Estimator label */\n",
       "\n",
       "#sk-container-id-5 div.sk-label label {\n",
       "  font-family: monospace;\n",
       "  font-weight: bold;\n",
       "  display: inline-block;\n",
       "  line-height: 1.2em;\n",
       "}\n",
       "\n",
       "#sk-container-id-5 div.sk-label-container {\n",
       "  text-align: center;\n",
       "}\n",
       "\n",
       "/* Estimator-specific */\n",
       "#sk-container-id-5 div.sk-estimator {\n",
       "  font-family: monospace;\n",
       "  border: 1px dotted var(--sklearn-color-border-box);\n",
       "  border-radius: 0.25em;\n",
       "  box-sizing: border-box;\n",
       "  margin-bottom: 0.5em;\n",
       "  /* unfitted */\n",
       "  background-color: var(--sklearn-color-unfitted-level-0);\n",
       "}\n",
       "\n",
       "#sk-container-id-5 div.sk-estimator.fitted {\n",
       "  /* fitted */\n",
       "  background-color: var(--sklearn-color-fitted-level-0);\n",
       "}\n",
       "\n",
       "/* on hover */\n",
       "#sk-container-id-5 div.sk-estimator:hover {\n",
       "  /* unfitted */\n",
       "  background-color: var(--sklearn-color-unfitted-level-2);\n",
       "}\n",
       "\n",
       "#sk-container-id-5 div.sk-estimator.fitted:hover {\n",
       "  /* fitted */\n",
       "  background-color: var(--sklearn-color-fitted-level-2);\n",
       "}\n",
       "\n",
       "/* Specification for estimator info (e.g. \"i\" and \"?\") */\n",
       "\n",
       "/* Common style for \"i\" and \"?\" */\n",
       "\n",
       ".sk-estimator-doc-link,\n",
       "a:link.sk-estimator-doc-link,\n",
       "a:visited.sk-estimator-doc-link {\n",
       "  float: right;\n",
       "  font-size: smaller;\n",
       "  line-height: 1em;\n",
       "  font-family: monospace;\n",
       "  background-color: var(--sklearn-color-background);\n",
       "  border-radius: 1em;\n",
       "  height: 1em;\n",
       "  width: 1em;\n",
       "  text-decoration: none !important;\n",
       "  margin-left: 1ex;\n",
       "  /* unfitted */\n",
       "  border: var(--sklearn-color-unfitted-level-1) 1pt solid;\n",
       "  color: var(--sklearn-color-unfitted-level-1);\n",
       "}\n",
       "\n",
       ".sk-estimator-doc-link.fitted,\n",
       "a:link.sk-estimator-doc-link.fitted,\n",
       "a:visited.sk-estimator-doc-link.fitted {\n",
       "  /* fitted */\n",
       "  border: var(--sklearn-color-fitted-level-1) 1pt solid;\n",
       "  color: var(--sklearn-color-fitted-level-1);\n",
       "}\n",
       "\n",
       "/* On hover */\n",
       "div.sk-estimator:hover .sk-estimator-doc-link:hover,\n",
       ".sk-estimator-doc-link:hover,\n",
       "div.sk-label-container:hover .sk-estimator-doc-link:hover,\n",
       ".sk-estimator-doc-link:hover {\n",
       "  /* unfitted */\n",
       "  background-color: var(--sklearn-color-unfitted-level-3);\n",
       "  color: var(--sklearn-color-background);\n",
       "  text-decoration: none;\n",
       "}\n",
       "\n",
       "div.sk-estimator.fitted:hover .sk-estimator-doc-link.fitted:hover,\n",
       ".sk-estimator-doc-link.fitted:hover,\n",
       "div.sk-label-container:hover .sk-estimator-doc-link.fitted:hover,\n",
       ".sk-estimator-doc-link.fitted:hover {\n",
       "  /* fitted */\n",
       "  background-color: var(--sklearn-color-fitted-level-3);\n",
       "  color: var(--sklearn-color-background);\n",
       "  text-decoration: none;\n",
       "}\n",
       "\n",
       "/* Span, style for the box shown on hovering the info icon */\n",
       ".sk-estimator-doc-link span {\n",
       "  display: none;\n",
       "  z-index: 9999;\n",
       "  position: relative;\n",
       "  font-weight: normal;\n",
       "  right: .2ex;\n",
       "  padding: .5ex;\n",
       "  margin: .5ex;\n",
       "  width: min-content;\n",
       "  min-width: 20ex;\n",
       "  max-width: 50ex;\n",
       "  color: var(--sklearn-color-text);\n",
       "  box-shadow: 2pt 2pt 4pt #999;\n",
       "  /* unfitted */\n",
       "  background: var(--sklearn-color-unfitted-level-0);\n",
       "  border: .5pt solid var(--sklearn-color-unfitted-level-3);\n",
       "}\n",
       "\n",
       ".sk-estimator-doc-link.fitted span {\n",
       "  /* fitted */\n",
       "  background: var(--sklearn-color-fitted-level-0);\n",
       "  border: var(--sklearn-color-fitted-level-3);\n",
       "}\n",
       "\n",
       ".sk-estimator-doc-link:hover span {\n",
       "  display: block;\n",
       "}\n",
       "\n",
       "/* \"?\"-specific style due to the `<a>` HTML tag */\n",
       "\n",
       "#sk-container-id-5 a.estimator_doc_link {\n",
       "  float: right;\n",
       "  font-size: 1rem;\n",
       "  line-height: 1em;\n",
       "  font-family: monospace;\n",
       "  background-color: var(--sklearn-color-background);\n",
       "  border-radius: 1rem;\n",
       "  height: 1rem;\n",
       "  width: 1rem;\n",
       "  text-decoration: none;\n",
       "  /* unfitted */\n",
       "  color: var(--sklearn-color-unfitted-level-1);\n",
       "  border: var(--sklearn-color-unfitted-level-1) 1pt solid;\n",
       "}\n",
       "\n",
       "#sk-container-id-5 a.estimator_doc_link.fitted {\n",
       "  /* fitted */\n",
       "  border: var(--sklearn-color-fitted-level-1) 1pt solid;\n",
       "  color: var(--sklearn-color-fitted-level-1);\n",
       "}\n",
       "\n",
       "/* On hover */\n",
       "#sk-container-id-5 a.estimator_doc_link:hover {\n",
       "  /* unfitted */\n",
       "  background-color: var(--sklearn-color-unfitted-level-3);\n",
       "  color: var(--sklearn-color-background);\n",
       "  text-decoration: none;\n",
       "}\n",
       "\n",
       "#sk-container-id-5 a.estimator_doc_link.fitted:hover {\n",
       "  /* fitted */\n",
       "  background-color: var(--sklearn-color-fitted-level-3);\n",
       "}\n",
       "</style><div id=\"sk-container-id-5\" class=\"sk-top-container\"><div class=\"sk-text-repr-fallback\"><pre>XGBClassifier(base_score=None, booster=None, callbacks=None,\n",
       "              colsample_bylevel=None, colsample_bynode=None,\n",
       "              colsample_bytree=None, device=None, early_stopping_rounds=None,\n",
       "              enable_categorical=False, eval_metric=None, feature_types=None,\n",
       "              gamma=None, grow_policy=None, importance_type=None,\n",
       "              interaction_constraints=None, learning_rate=None, max_bin=None,\n",
       "              max_cat_threshold=None, max_cat_to_onehot=None,\n",
       "              max_delta_step=None, max_depth=None, max_leaves=None,\n",
       "              min_child_weight=None, missing=nan, monotone_constraints=None,\n",
       "              multi_strategy=None, n_estimators=None, n_jobs=None,\n",
       "              num_parallel_tree=None, objective=&#x27;multi:softprob&#x27;, ...)</pre><b>In a Jupyter environment, please rerun this cell to show the HTML representation or trust the notebook. <br />On GitHub, the HTML representation is unable to render, please try loading this page with nbviewer.org.</b></div><div class=\"sk-container\" hidden><div class=\"sk-item\"><div class=\"sk-estimator fitted sk-toggleable\"><input class=\"sk-toggleable__control sk-hidden--visually\" id=\"sk-estimator-id-5\" type=\"checkbox\" checked><label for=\"sk-estimator-id-5\" class=\"sk-toggleable__label fitted sk-toggleable__label-arrow fitted\">&nbsp;XGBClassifier<span class=\"sk-estimator-doc-link fitted\">i<span>Fitted</span></span></label><div class=\"sk-toggleable__content fitted\"><pre>XGBClassifier(base_score=None, booster=None, callbacks=None,\n",
       "              colsample_bylevel=None, colsample_bynode=None,\n",
       "              colsample_bytree=None, device=None, early_stopping_rounds=None,\n",
       "              enable_categorical=False, eval_metric=None, feature_types=None,\n",
       "              gamma=None, grow_policy=None, importance_type=None,\n",
       "              interaction_constraints=None, learning_rate=None, max_bin=None,\n",
       "              max_cat_threshold=None, max_cat_to_onehot=None,\n",
       "              max_delta_step=None, max_depth=None, max_leaves=None,\n",
       "              min_child_weight=None, missing=nan, monotone_constraints=None,\n",
       "              multi_strategy=None, n_estimators=None, n_jobs=None,\n",
       "              num_parallel_tree=None, objective=&#x27;multi:softprob&#x27;, ...)</pre></div> </div></div></div></div>"
      ],
      "text/plain": [
       "XGBClassifier(base_score=None, booster=None, callbacks=None,\n",
       "              colsample_bylevel=None, colsample_bynode=None,\n",
       "              colsample_bytree=None, device=None, early_stopping_rounds=None,\n",
       "              enable_categorical=False, eval_metric=None, feature_types=None,\n",
       "              gamma=None, grow_policy=None, importance_type=None,\n",
       "              interaction_constraints=None, learning_rate=None, max_bin=None,\n",
       "              max_cat_threshold=None, max_cat_to_onehot=None,\n",
       "              max_delta_step=None, max_depth=None, max_leaves=None,\n",
       "              min_child_weight=None, missing=nan, monotone_constraints=None,\n",
       "              multi_strategy=None, n_estimators=None, n_jobs=None,\n",
       "              num_parallel_tree=None, objective='multi:softprob', ...)"
      ]
     },
     "execution_count": 237,
     "metadata": {},
     "output_type": "execute_result"
    }
   ],
   "source": [
    "# Fit model \n",
    "model_xgb.fit(X_train, y_train)"
   ]
  },
  {
   "cell_type": "code",
   "execution_count": 245,
   "id": "f9f6c1a4-f3b1-4ed2-bbb2-d38f26f96e0c",
   "metadata": {},
   "outputs": [],
   "source": [
    "feature_names = list(X_train.columns)"
   ]
  },
  {
   "cell_type": "code",
   "execution_count": 247,
   "id": "fa3cb20a-4eb3-481b-a98a-573f9bfc6434",
   "metadata": {},
   "outputs": [
    {
     "data": {
      "image/png": "[encoded data removed]",
      "text/plain": [
       "<Figure size 1000x600 with 1 Axes>"
      ]
     },
     "metadata": {},
     "output_type": "display_data"
    }
   ],
   "source": [
    "importances = model_xgb.feature_importances_\n",
    "\n",
    "# Create a bar chart\n",
    "plt.figure(figsize=(10, 6))\n",
    "plt.barh(feature_names, importances*100, color='skyblue')\n",
    "plt.xlabel('Importance')\n",
    "plt.ylabel('Feature')\n",
    "plt.title('Feature Importances')\n",
    "plt.show()"
   ]
  },
  {
   "cell_type": "code",
   "execution_count": 293,
   "id": "9bd32434-4d84-449d-8ea0-0975081e9d82",
   "metadata": {},
   "outputs": [
    {
     "data": {
      "text/html": [
       "<div>\n",
       "<style scoped>\n",
       "    .dataframe tbody tr th:only-of-type {\n",
       "        vertical-align: middle;\n",
       "    }\n",
       "\n",
       "    .dataframe tbody tr th {\n",
       "        vertical-align: top;\n",
       "    }\n",
       "\n",
       "    .dataframe thead th {\n",
       "        text-align: right;\n",
       "    }\n",
       "</style>\n",
       "<table border=\"1\" class=\"dataframe\">\n",
       "  <thead>\n",
       "    <tr style=\"text-align: right;\">\n",
       "      <th></th>\n",
       "      <th>features</th>\n",
       "      <th>importances</th>\n",
       "    </tr>\n",
       "  </thead>\n",
       "  <tbody>\n",
       "    <tr>\n",
       "      <th>8</th>\n",
       "      <td>numOfBathrooms_winsor</td>\n",
       "      <td>14.309074</td>\n",
       "    </tr>\n",
       "    <tr>\n",
       "      <th>7</th>\n",
       "      <td>avgSchoolRating_winsor</td>\n",
       "      <td>9.902528</td>\n",
       "    </tr>\n",
       "    <tr>\n",
       "      <th>11</th>\n",
       "      <td>latitude_winsor_3</td>\n",
       "      <td>5.493628</td>\n",
       "    </tr>\n",
       "    <tr>\n",
       "      <th>12</th>\n",
       "      <td>longitude_winsor_3</td>\n",
       "      <td>5.361614</td>\n",
       "    </tr>\n",
       "    <tr>\n",
       "      <th>1</th>\n",
       "      <td>homeType</td>\n",
       "      <td>4.085618</td>\n",
       "    </tr>\n",
       "  </tbody>\n",
       "</table>\n",
       "</div>"
      ],
      "text/plain": [
       "                  features  importances\n",
       "8    numOfBathrooms_winsor    14.309074\n",
       "7   avgSchoolRating_winsor     9.902528\n",
       "11       latitude_winsor_3     5.493628\n",
       "12      longitude_winsor_3     5.361614\n",
       "1                 homeType     4.085618"
      ]
     },
     "execution_count": 293,
     "metadata": {},
     "output_type": "execute_result"
    }
   ],
   "source": [
    "feature_importance = pd.DataFrame({\"features\":feature_names, \n",
    "                                             \"importances\": importances*100})\n",
    "\n",
    "feature_importance.sort_values(by='importances', ascending=False).head()"
   ]
  },
  {
   "cell_type": "code",
   "execution_count": 263,
   "id": "eef88677-3d5e-4bcb-8fdb-4b3316551383",
   "metadata": {},
   "outputs": [
    {
     "data": {
      "text/html": [
       "<div>\n",
       "<style scoped>\n",
       "    .dataframe tbody tr th:only-of-type {\n",
       "        vertical-align: middle;\n",
       "    }\n",
       "\n",
       "    .dataframe tbody tr th {\n",
       "        vertical-align: top;\n",
       "    }\n",
       "\n",
       "    .dataframe thead th {\n",
       "        text-align: right;\n",
       "    }\n",
       "</style>\n",
       "<table border=\"1\" class=\"dataframe\">\n",
       "  <thead>\n",
       "    <tr style=\"text-align: right;\">\n",
       "      <th></th>\n",
       "      <th>count</th>\n",
       "      <th>mean</th>\n",
       "      <th>std</th>\n",
       "      <th>min</th>\n",
       "      <th>25%</th>\n",
       "      <th>50%</th>\n",
       "      <th>75%</th>\n",
       "      <th>max</th>\n",
       "    </tr>\n",
       "  </thead>\n",
       "  <tbody>\n",
       "    <tr>\n",
       "      <th>importances</th>\n",
       "      <td>31.0</td>\n",
       "      <td>3.225806</td>\n",
       "      <td>2.66251</td>\n",
       "      <td>0.0</td>\n",
       "      <td>2.10761</td>\n",
       "      <td>2.226877</td>\n",
       "      <td>3.246574</td>\n",
       "      <td>14.309074</td>\n",
       "    </tr>\n",
       "  </tbody>\n",
       "</table>\n",
       "</div>"
      ],
      "text/plain": [
       "             count      mean      std  min      25%       50%       75%        max\n",
       "importances   31.0  3.225806  2.66251  0.0  2.10761  2.226877  3.246574  14.309074"
      ]
     },
     "execution_count": 263,
     "metadata": {},
     "output_type": "execute_result"
    }
   ],
   "source": [
    "feature_importance.describe().T"
   ]
  },
  {
   "cell_type": "code",
   "execution_count": 271,
   "id": "4b38eb2e-5b8f-4652-ba6c-e0a7b345f9df",
   "metadata": {},
   "outputs": [],
   "source": [
    "preds_class = model_xgb.predict(X_test)"
   ]
  },
  {
   "cell_type": "code",
   "execution_count": 284,
   "id": "aa39362a-6490-4715-aadb-94e26f46af36",
   "metadata": {},
   "outputs": [],
   "source": [
    "from sklearn.metrics import accuracy_score\n",
    "from sklearn.metrics import roc_auc_score\n",
    "from sklearn.metrics import precision_score, recall_score, f1_score, classification_report"
   ]
  },
  {
   "cell_type": "code",
   "execution_count": 285,
   "id": "09398a18-be9e-4f63-92ec-33b6dca9eb24",
   "metadata": {},
   "outputs": [
    {
     "data": {
      "image/png": "[encoded data removed]",
      "text/plain": [
       "<Figure size 700x500 with 2 Axes>"
      ]
     },
     "metadata": {},
     "output_type": "display_data"
    }
   ],
   "source": [
    "cm = pd.crosstab(y_test, preds_class, rownames=['Actually'], colnames=['Predicted'])\n",
    "fig, (ax1) = plt.subplots(ncols=1, figsize=(7,5))\n",
    "\n",
    "sns.heatmap(pd.DataFrame(cm), annot=True, cmap=\"Blues\" ,fmt='g',\n",
    "            xticklabels=['Active','Churn'],\n",
    "            yticklabels=['Active','Churn'],)\n",
    "ax1.xaxis.set_label_position(\"top\")\n",
    "plt.tight_layout()\n",
    "plt.title('Confusion Matrix', y=1.1,fontsize=14)\n",
    "plt.show()"
   ]
  },
  {
   "cell_type": "code",
   "execution_count": 286,
   "id": "cdd5b8d2-5cfc-45d3-9145-9cf51b6de817",
   "metadata": {},
   "outputs": [
    {
     "name": "stdout",
     "output_type": "stream",
     "text": [
      "Accuracy = 0.5911111111111111\n"
     ]
    }
   ],
   "source": [
    "acc=accuracy_score(y_test,preds_class)\n",
    "print('Accuracy =' , acc)"
   ]
  },
  {
   "cell_type": "code",
   "execution_count": 287,
   "id": "fd0f17cf-dc6a-4e58-9793-f83cdfd00aaa",
   "metadata": {},
   "outputs": [
    {
     "name": "stdout",
     "output_type": "stream",
     "text": [
      "Recall = 0.5868834340442516\n"
     ]
    }
   ],
   "source": [
    "recall = recall_score(y_test, preds_class, average='macro')\n",
    "print('Recall =' ,recall)"
   ]
  },
  {
   "cell_type": "code",
   "execution_count": 288,
   "id": "48b0262c-272c-4586-a4e9-5fee76c88d71",
   "metadata": {},
   "outputs": [
    {
     "name": "stdout",
     "output_type": "stream",
     "text": [
      "Precision = 0.6060263713683474\n"
     ]
    }
   ],
   "source": [
    "precision = precision_score(y_test, preds_class, average='macro')\n",
    "print('Precision =' ,precision)"
   ]
  },
  {
   "cell_type": "code",
   "execution_count": 568,
   "id": "deadded3-1c7a-4ee9-908a-75df665a6882",
   "metadata": {},
   "outputs": [
    {
     "data": {
      "text/plain": [
       "Código Depósito                                 object\n",
       "Código País Exportador                          object\n",
       "Código Modalidad de Importación                 object\n",
       "Subpartida Arancelaria                          object\n",
       "Nombre Estado Documento                         object\n",
       "Código Modo Transporte                          object\n",
       "Código Tipo Declaración                         object\n",
       "Nombre Tipo Declaración                         object\n",
       "Nombre Modo Transporte                          object\n",
       "Código País Compra                              object\n",
       "Nombre País Compra                              object\n",
       "Nombre País Exportador                          object\n",
       "Código País Origen                              object\n",
       "Nombre País Origen                              object\n",
       "Código País                                     object\n",
       "Nombre País                                     object\n",
       "Nombre Embalaje                                 object\n",
       "Periodo                                         object\n",
       "Tipo Conocimiento                               object\n",
       "Empresa Colombiana Impo/Expo NIT                object\n",
       "Empresa Colombiana Impo/Expo Digito Chequeo     object\n",
       "Empresa Colombiana Impo/Expo                    object\n",
       "Empresa Colombiana Impo/Expo Ciudad             object\n",
       "Empresa Colombiana Impo/Expo Departamento       object\n",
       "Empresa Extranjera                              object\n",
       "Naviera                                         object\n",
       "Agente Naviero                                  object\n",
       "Motonave                                        object\n",
       "Tipo Consolidación                              object\n",
       "Puerto Colombiano                               object\n",
       "Muelle                                          object\n",
       "Puerto Extranjero Países                        object\n",
       "Puerto Extranjero                               object\n",
       "Empresa Notificada Ciudad                       object\n",
       "Empresa Notificada Departamento                 object\n",
       "Descripción BL                                  object\n",
       "SubPartida                                      object\n",
       "Descripción SubPartida                          object\n",
       "Capítulo                                        object\n",
       "Descripción Capítulo                            object\n",
       "Unidad Comercial                                object\n",
       "Tipo Estiba                                     object\n",
       "Empresa Notificada Nombre                       object\n",
       "Tipo Transito                                   object\n",
       "Destino Origen Extranjera Ciudad                object\n",
       "Destino Origen Extranjera Países                object\n",
       "Forma Pago                                      object\n",
       "Ciiu                                            object\n",
       "Cuode                                           object\n",
       "Número Sobordo                                  object\n",
       "Consecutivo Registro                            object\n",
       "Revista Diaria                                  object\n",
       "Revista Semanal                                 object\n",
       "Roro                                            object\n",
       "Motonave Viaje                                  object\n",
       "target                                          object\n",
       "Cantidad Unidad Comercial                      float64\n",
       "final_target                                     int64\n",
       "dtype: object"
      ]
     },
     "execution_count": 568,
     "metadata": {},
     "output_type": "execute_result"
    }
   ],
   "source": [
    "AGP.dtypes"
   ]
  },
  {
   "cell_type": "code",
   "execution_count": 571,
   "id": "b8506566-5cb7-47ff-9f23-47c5fbc40544",
   "metadata": {},
   "outputs": [],
   "source": [
    "final_feat = ['Código Modalidad de Importación', 'Código País Exportador','Subpartida Arancelaria','Cantidad Unidad Comercial','final_target']"
   ]
  },
  {
   "cell_type": "code",
   "execution_count": 572,
   "id": "4917cf61-a034-4038-a9fb-8317d2d0ab70",
   "metadata": {},
   "outputs": [],
   "source": [
    "AGP_final = AGP[final_feat]"
   ]
  },
  {
   "cell_type": "code",
   "execution_count": 573,
   "id": "19613bb0-bfc3-4d9b-bfcc-81a0fbf45b68",
   "metadata": {},
   "outputs": [
    {
     "data": {
      "text/plain": [
       "Código Modalidad de Importación     object\n",
       "Código País Exportador              object\n",
       "Subpartida Arancelaria              object\n",
       "Cantidad Unidad Comercial          float64\n",
       "final_target                         int64\n",
       "dtype: object"
      ]
     },
     "execution_count": 573,
     "metadata": {},
     "output_type": "execute_result"
    }
   ],
   "source": [
    "AGP_final.dtypes"
   ]
  },
  {
   "cell_type": "code",
   "execution_count": 574,
   "id": "9b15d6fb-7da0-45ec-9f53-a23634c67bc0",
   "metadata": {},
   "outputs": [],
   "source": [
    "y = AGP_final['final_target']\n",
    "X = AGP_final.drop(['final_target'], axis=1)"
   ]
  },
  {
   "cell_type": "code",
   "execution_count": 576,
   "id": "3ca991fa-fc27-4e86-ab25-a2eaecbca853",
   "metadata": {},
   "outputs": [
    {
     "data": {
      "text/plain": [
       "(0.8668080006989338, 0.00980423802855647)"
      ]
     },
     "execution_count": 576,
     "metadata": {},
     "output_type": "execute_result"
    }
   ],
   "source": [
    "X['Cantidad Unidad Comercial'].max(), X['Cantidad Unidad Comercial'].min()"
   ]
  },
  {
   "cell_type": "code",
   "execution_count": 575,
   "id": "48c951e0-18ee-492b-a8f2-edcb88a5b7b4",
   "metadata": {},
   "outputs": [
    {
     "data": {
      "text/plain": [
       "Código Modalidad de Importación     object\n",
       "Código País Exportador              object\n",
       "Subpartida Arancelaria              object\n",
       "Cantidad Unidad Comercial          float64\n",
       "dtype: object"
      ]
     },
     "execution_count": 575,
     "metadata": {},
     "output_type": "execute_result"
    }
   ],
   "source": [
    "X.dtypes"
   ]
  },
  {
   "cell_type": "code",
   "execution_count": 577,
   "id": "bac59645-2ba2-4cda-8aeb-d45d2299d9e6",
   "metadata": {},
   "outputs": [
    {
     "name": "stdout",
     "output_type": "stream",
     "text": [
      "train data size: (289821, 4)\n",
      "test data size: (96608, 4)\n"
     ]
    }
   ],
   "source": [
    "#Let’s split X and y using Train test split\n",
    "X_train, X_test, y_train, y_test = train_test_split(X, y, random_state= 2022, stratify=y)\n",
    "\n",
    "#get shape of train and test data\n",
    "print(\"train data size:\", X_train.shape)\n",
    "print(\"test data size:\", X_test.shape)"
   ]
  },
  {
   "cell_type": "code",
   "execution_count": 578,
   "id": "95a07810-440f-483b-a871-367fd600203e",
   "metadata": {},
   "outputs": [
    {
     "name": "stdout",
     "output_type": "stream",
     "text": [
      "Names of categorical columns :  ['Código Modalidad de Importación', 'Código País Exportador', 'Subpartida Arancelaria']\n",
      "Location of categorical columns :  [0, 1, 2]\n"
     ]
    }
   ],
   "source": [
    "#List of categorical columns\n",
    "\n",
    "categoricalcolumns = X.columns[np.where(X.dtypes == object)[0]].values.tolist()\n",
    "\n",
    "print(\"Names of categorical columns : \", categoricalcolumns)\n",
    "\n",
    "#Get location of categorical columns\n",
    "\n",
    "cat_features = [X.columns.get_loc(col) for col in categoricalcolumns]\n",
    "\n",
    "print(\"Location of categorical columns : \",cat_features)"
   ]
  },
  {
   "cell_type": "code",
   "execution_count": 579,
   "id": "8227b97d-6359-4a9e-be2c-e3f2ac6b0f01",
   "metadata": {},
   "outputs": [],
   "source": [
    "# importing Pool\n",
    "from catboost import CatBoostClassifier, Pool"
   ]
  },
  {
   "cell_type": "code",
   "execution_count": 580,
   "id": "cd6570a3-16b9-4e3b-b5a9-d0ceafee08d0",
   "metadata": {},
   "outputs": [],
   "source": [
    "#Creating pool object for train dataset. we give information of categorical fetures to parameter cat_fetaures\n",
    "train_data = Pool(data=X_train, label=y_train, cat_features=categoricalcolumns)\n",
    "\n",
    "#Creating pool object for test dataset\n",
    "test_data = Pool(data=X_test, label=y_test, cat_features=categoricalcolumns)"
   ]
  },
  {
   "cell_type": "code",
   "execution_count": 581,
   "id": "110777c2-6b09-4494-8d3e-8adef522aa51",
   "metadata": {},
   "outputs": [],
   "source": [
    "# create the object of the model\n",
    "model_cat = CatBoostClassifier(random_state = 35)"
   ]
  },
  {
   "cell_type": "raw",
   "id": "e69897e2-bc68-4540-99b0-21870f68e4f1",
   "metadata": {},
   "source": [
    "# Fit model \n",
    "model_cat.fit(X_train, y_train, cat_features=categoricalcolumns, eval_set=(X_test, y_test))"
   ]
  },
  {
   "cell_type": "code",
   "execution_count": 583,
   "id": "6be8e132-685e-4a75-a5a3-82231deafdf5",
   "metadata": {},
   "outputs": [
    {
     "data": {
      "image/png": "[encoded data removed]",
      "text/plain": [
       "<Figure size 1200x600 with 1 Axes>"
      ]
     },
     "metadata": {},
     "output_type": "display_data"
    }
   ],
   "source": [
    "# Create a dataframe of feature importance \n",
    "model_cat_feature_importance = pd.DataFrame(model_cat.get_feature_importance(prettified=True))\n",
    "#plotting feature importance\n",
    "plt.figure(figsize=(12, 6));\n",
    "feature_plot= sns.barplot(x=\"Importances\", y=\"Feature Id\", data=model_cat_feature_importance,palette=\"cool\");\n",
    "plt.title('features importance');"
   ]
  },
  {
   "cell_type": "code",
   "execution_count": 584,
   "id": "4a2f491f-84f9-4c6a-b09f-63ffdca885f0",
   "metadata": {},
   "outputs": [
    {
     "data": {
      "text/html": [
       "<div>\n",
       "<style scoped>\n",
       "    .dataframe tbody tr th:only-of-type {\n",
       "        vertical-align: middle;\n",
       "    }\n",
       "\n",
       "    .dataframe tbody tr th {\n",
       "        vertical-align: top;\n",
       "    }\n",
       "\n",
       "    .dataframe thead th {\n",
       "        text-align: right;\n",
       "    }\n",
       "</style>\n",
       "<table border=\"1\" class=\"dataframe\">\n",
       "  <thead>\n",
       "    <tr style=\"text-align: right;\">\n",
       "      <th></th>\n",
       "      <th>Feature Id</th>\n",
       "      <th>Importances</th>\n",
       "    </tr>\n",
       "  </thead>\n",
       "  <tbody>\n",
       "    <tr>\n",
       "      <th>0</th>\n",
       "      <td>Subpartida Arancelaria</td>\n",
       "      <td>38.070762</td>\n",
       "    </tr>\n",
       "    <tr>\n",
       "      <th>1</th>\n",
       "      <td>Cantidad Unidad Comercial</td>\n",
       "      <td>33.830246</td>\n",
       "    </tr>\n",
       "    <tr>\n",
       "      <th>2</th>\n",
       "      <td>Código País Exportador</td>\n",
       "      <td>18.965225</td>\n",
       "    </tr>\n",
       "    <tr>\n",
       "      <th>3</th>\n",
       "      <td>Código Modalidad de Importación</td>\n",
       "      <td>9.133767</td>\n",
       "    </tr>\n",
       "  </tbody>\n",
       "</table>\n",
       "</div>"
      ],
      "text/plain": [
       "                        Feature Id  Importances\n",
       "0           Subpartida Arancelaria    38.070762\n",
       "1        Cantidad Unidad Comercial    33.830246\n",
       "2           Código País Exportador    18.965225\n",
       "3  Código Modalidad de Importación     9.133767"
      ]
     },
     "execution_count": 584,
     "metadata": {},
     "output_type": "execute_result"
    }
   ],
   "source": [
    "model_cat_feature_importance = pd.DataFrame(model_cat.get_feature_importance(prettified=True))\n",
    "\n",
    "model_cat_feature_importance"
   ]
  },
  {
   "cell_type": "raw",
   "id": "5ea0d5c9-0b61-40f7-817b-6583c4bf70a5",
   "metadata": {},
   "source": [
    "model_cat.fit(train_data,plot = True)"
   ]
  },
  {
   "cell_type": "code",
   "execution_count": 586,
   "id": "ffccfaf3-12f5-44f6-8fe2-546e882f2125",
   "metadata": {},
   "outputs": [],
   "source": [
    "preds_class = model_cat.predict(test_data)"
   ]
  },
  {
   "cell_type": "code",
   "execution_count": 587,
   "id": "80c68288-046c-4d41-bb7c-eda5a491ba39",
   "metadata": {},
   "outputs": [],
   "source": [
    "from sklearn.metrics import accuracy_score\n",
    "from sklearn.metrics import roc_auc_score\n",
    "from sklearn.metrics import precision_score, recall_score,f1_score,classification_report"
   ]
  },
  {
   "cell_type": "code",
   "execution_count": 588,
   "id": "de3ea40e-5de2-4037-9a76-5294b76066b3",
   "metadata": {},
   "outputs": [
    {
     "data": {
      "image/png": "[encoded data removed]",
      "text/plain": [
       "<Figure size 700x500 with 2 Axes>"
      ]
     },
     "metadata": {},
     "output_type": "display_data"
    }
   ],
   "source": [
    "cm = pd.crosstab(y_test, preds_class, rownames=['Actually'], colnames=['Predicted'])\n",
    "fig, (ax1) = plt.subplots(ncols=1, figsize=(7,5))\n",
    "\n",
    "sns.heatmap(pd.DataFrame(cm), annot=True, cmap=\"Blues\" ,fmt='g',\n",
    "            xticklabels=['TEUS','FEUS'],\n",
    "            yticklabels=['TEUS','FEUS'],)\n",
    "ax1.xaxis.set_label_position(\"top\")\n",
    "plt.tight_layout()\n",
    "plt.title('Confusion Matrix', y=1.1,fontsize=14)\n",
    "plt.show()"
   ]
  },
  {
   "cell_type": "code",
   "execution_count": 589,
   "id": "d54b45ac-d776-486f-8268-9a3f3801b4be",
   "metadata": {},
   "outputs": [
    {
     "name": "stdout",
     "output_type": "stream",
     "text": [
      "Accuracy = 0.9331007784034449\n"
     ]
    }
   ],
   "source": [
    "acc=accuracy_score(y_test,preds_class)\n",
    "print('Accuracy =' , acc)"
   ]
  },
  {
   "cell_type": "code",
   "execution_count": 590,
   "id": "97b2eb9c-7311-4d48-afce-36cbc516da01",
   "metadata": {},
   "outputs": [
    {
     "name": "stdout",
     "output_type": "stream",
     "text": [
      "Recall = 0.9729171198607788\n"
     ]
    }
   ],
   "source": [
    "recall = recall_score(y_test, preds_class)\n",
    "print('Recall =' , recall)"
   ]
  },
  {
   "cell_type": "code",
   "execution_count": 591,
   "id": "9e96b41e-921a-493a-8c63-bf04688fb422",
   "metadata": {},
   "outputs": [
    {
     "name": "stdout",
     "output_type": "stream",
     "text": [
      "Precision = 0.9411950388657259\n"
     ]
    }
   ],
   "source": [
    "precision = precision_score(y_test, preds_class)\n",
    "print('Precision =' ,precision)"
   ]
  },
  {
   "cell_type": "code",
   "execution_count": 592,
   "id": "c46edac2-d70e-40e5-9a48-7efe4bf56937",
   "metadata": {},
   "outputs": [
    {
     "name": "stdout",
     "output_type": "stream",
     "text": [
      "AUC = 0.8894989832475303\n"
     ]
    }
   ],
   "source": [
    "auc_score=roc_auc_score(y_test, preds_class)\n",
    "print('AUC =' , auc_score)"
   ]
  },
  {
   "cell_type": "code",
   "execution_count": 593,
   "id": "309399b5-6bff-4afc-a354-b85652dbd54f",
   "metadata": {},
   "outputs": [
    {
     "data": {
      "image/png": "[encoded data removed]",
      "text/plain": [
       "<Figure size 640x480 with 1 Axes>"
      ]
     },
     "metadata": {},
     "output_type": "display_data"
    }
   ],
   "source": [
    "fpr, tpr, threshold = metrics.roc_curve(y_test, preds_class)\n",
    "roc_auc = metrics.auc(fpr, tpr)\n",
    "plt.title('Receiver Operating Characteristic')\n",
    "plt.plot(fpr, tpr, 'b', label = 'AUC = %0.2f' % roc_auc)\n",
    "plt.legend(loc = 'lower right')\n",
    "plt.plot([0, 1], [0, 1],'r--')\n",
    "plt.xlim([0, 1])\n",
    "plt.ylim([0, 1])\n",
    "plt.ylabel('True Positive Rate')\n",
    "plt.xlabel('False Positive Rate')\n",
    "plt.show()"
   ]
  },
  {
   "cell_type": "code",
   "execution_count": 594,
   "id": "24b62303-34c2-4215-a5f4-90e57399aa3b",
   "metadata": {},
   "outputs": [
    {
     "name": "stdout",
     "output_type": "stream",
     "text": [
      "              precision    recall  f1-score   support\n",
      "\n",
      "           0       0.90      0.81      0.85     23056\n",
      "           1       0.94      0.97      0.96     73552\n",
      "\n",
      "    accuracy                           0.93     96608\n",
      "   macro avg       0.92      0.89      0.90     96608\n",
      "weighted avg       0.93      0.93      0.93     96608\n",
      "\n"
     ]
    }
   ],
   "source": [
    "classification_report_score = classification_report(y_test, preds_class)\n",
    "print(classification_report_score)"
   ]
  },
  {
   "cell_type": "markdown",
   "id": "36f71aaf-5127-4dc5-86b8-bf91a35c5e28",
   "metadata": {},
   "source": [
    "# CatBoost Regressor Model"
   ]
  },
  {
   "cell_type": "markdown",
   "id": "bb2dfa61-9c05-4c48-a16f-a8a5ae193064",
   "metadata": {},
   "source": [
    "Consider the following dataset:"
   ]
  },
  {
   "cell_type": "code",
   "execution_count": null,
   "id": "b4c75199-0e54-496c-a1cc-23d42f033689",
   "metadata": {},
   "outputs": [],
   "source": [
    "# Listing the Numerical datatypes\n",
    "numerical_rel = list(new_data.select_dtypes(include=['int64','float64','Int64']).columns)\n",
    "\n",
    "numerical_rel"
   ]
  },
  {
   "cell_type": "code",
   "execution_count": 599,
   "id": "b34fea74-8021-4ecb-a660-469578dbda97",
   "metadata": {},
   "outputs": [],
   "source": [
    "agp_new[variable] = agp_new[variable].applymap(str)"
   ]
  },
  {
   "cell_type": "code",
   "execution_count": 600,
   "id": "38284371-2619-43d3-b565-3ff45066265c",
   "metadata": {},
   "outputs": [
    {
     "data": {
      "text/plain": [
       "Código Depósito                                object\n",
       "Código País Exportador                         object\n",
       "Código Modalidad de Importación                object\n",
       "Subpartida Arancelaria                         object\n",
       "Nombre Estado Documento                        object\n",
       "Código Modo Transporte                         object\n",
       "Código Tipo Declaración                        object\n",
       "Nombre Tipo Declaración                        object\n",
       "Nombre Modo Transporte                         object\n",
       "Código País Compra                             object\n",
       "Nombre País Compra                             object\n",
       "Nombre País Exportador                         object\n",
       "Código País Origen                             object\n",
       "Nombre País Origen                             object\n",
       "Código País                                    object\n",
       "Nombre País                                    object\n",
       "Nombre Embalaje                                object\n",
       "Periodo                                        object\n",
       "Tipo Conocimiento                              object\n",
       "Empresa Colombiana Impo/Expo NIT               object\n",
       "Empresa Colombiana Impo/Expo Digito Chequeo    object\n",
       "Empresa Colombiana Impo/Expo                   object\n",
       "Empresa Colombiana Impo/Expo Ciudad            object\n",
       "Empresa Colombiana Impo/Expo Departamento      object\n",
       "Empresa Extranjera                             object\n",
       "Naviera                                        object\n",
       "Agente Naviero                                 object\n",
       "Motonave                                       object\n",
       "Tipo Consolidación                             object\n",
       "Puerto Colombiano                              object\n",
       "Muelle                                         object\n",
       "Puerto Extranjero Países                       object\n",
       "Puerto Extranjero                              object\n",
       "Empresa Notificada Ciudad                      object\n",
       "Empresa Notificada Departamento                object\n",
       "Descripción BL                                 object\n",
       "SubPartida                                     object\n",
       "Descripción SubPartida                         object\n",
       "Capítulo                                       object\n",
       "Descripción Capítulo                           object\n",
       "Unidad Comercial                               object\n",
       "Tipo Estiba                                    object\n",
       "Empresa Notificada Nombre                      object\n",
       "Tipo Transito                                  object\n",
       "Destino Origen Extranjera Ciudad               object\n",
       "Destino Origen Extranjera Países               object\n",
       "Forma Pago                                     object\n",
       "Ciiu                                           object\n",
       "Cuode                                          object\n",
       "Número Sobordo                                 object\n",
       "Consecutivo Registro                           object\n",
       "Revista Diaria                                 object\n",
       "Revista Semanal                                object\n",
       "Roro                                           object\n",
       "Motonave Viaje                                 object\n",
       "target                                         object\n",
       "dtype: object"
      ]
     },
     "execution_count": 600,
     "metadata": {},
     "output_type": "execute_result"
    }
   ],
   "source": [
    "agp_new[variable].dtypes"
   ]
  },
  {
   "cell_type": "code",
   "execution_count": 661,
   "id": "af57fca9-3e8e-4afc-91eb-c1f9879e88a5",
   "metadata": {},
   "outputs": [],
   "source": [
    "# considering the categorical variables, the numerical ones, and the final target for classification case with the gt20 feature for the regressor case\n",
    "\n",
    "final_regre = final_feat + ['gt20']"
   ]
  },
  {
   "cell_type": "code",
   "execution_count": 662,
   "id": "bb22690f-5f0f-4f50-9748-a9934c75230b",
   "metadata": {},
   "outputs": [],
   "source": [
    "AGP_reg = agp_new[final_regre]"
   ]
  },
  {
   "cell_type": "code",
   "execution_count": 663,
   "id": "fec499af-0e8d-4d96-9f08-337b326d7c43",
   "metadata": {},
   "outputs": [],
   "source": [
    "#AGP['final_target'] = AGP['final_target'].astype('category')"
   ]
  },
  {
   "cell_type": "code",
   "execution_count": 664,
   "id": "2eb7074a-0fdb-4d61-a9de-48cef8f28f56",
   "metadata": {},
   "outputs": [],
   "source": [
    "AGP_reg = AGP_reg.drop('final_target', axis=1)"
   ]
  },
  {
   "cell_type": "code",
   "execution_count": 665,
   "id": "70726646-bff7-4e23-bfad-a9d5ad343ac2",
   "metadata": {},
   "outputs": [
    {
     "data": {
      "text/html": [
       "<div>\n",
       "<style scoped>\n",
       "    .dataframe tbody tr th:only-of-type {\n",
       "        vertical-align: middle;\n",
       "    }\n",
       "\n",
       "    .dataframe tbody tr th {\n",
       "        vertical-align: top;\n",
       "    }\n",
       "\n",
       "    .dataframe thead th {\n",
       "        text-align: right;\n",
       "    }\n",
       "</style>\n",
       "<table border=\"1\" class=\"dataframe\">\n",
       "  <thead>\n",
       "    <tr style=\"text-align: right;\">\n",
       "      <th></th>\n",
       "      <th>Código Modalidad de Importación</th>\n",
       "      <th>Código País Exportador</th>\n",
       "      <th>Subpartida Arancelaria</th>\n",
       "      <th>Cantidad Unidad Comercial</th>\n",
       "      <th>gt20</th>\n",
       "    </tr>\n",
       "  </thead>\n",
       "  <tbody>\n",
       "    <tr>\n",
       "      <th>1</th>\n",
       "      <td>C190</td>\n",
       "      <td>PA</td>\n",
       "      <td>5205120000</td>\n",
       "      <td>0.798008</td>\n",
       "      <td>0.741276</td>\n",
       "    </tr>\n",
       "    <tr>\n",
       "      <th>15</th>\n",
       "      <td>C101</td>\n",
       "      <td>CA</td>\n",
       "      <td>713409000</td>\n",
       "      <td>0.815473</td>\n",
       "      <td>0.959135</td>\n",
       "    </tr>\n",
       "    <tr>\n",
       "      <th>16</th>\n",
       "      <td>C200</td>\n",
       "      <td>CN</td>\n",
       "      <td>8502121000</td>\n",
       "      <td>0.352793</td>\n",
       "      <td>0.741276</td>\n",
       "    </tr>\n",
       "    <tr>\n",
       "      <th>30</th>\n",
       "      <td>C130</td>\n",
       "      <td>CL</td>\n",
       "      <td>303130000</td>\n",
       "      <td>0.796893</td>\n",
       "      <td>0.741276</td>\n",
       "    </tr>\n",
       "    <tr>\n",
       "      <th>31</th>\n",
       "      <td>C100</td>\n",
       "      <td>CL</td>\n",
       "      <td>808100000</td>\n",
       "      <td>0.797814</td>\n",
       "      <td>0.741276</td>\n",
       "    </tr>\n",
       "  </tbody>\n",
       "</table>\n",
       "</div>"
      ],
      "text/plain": [
       "   Código Modalidad de Importación Código País Exportador Subpartida Arancelaria  Cantidad Unidad Comercial      gt20\n",
       "1                             C190                     PA             5205120000                   0.798008  0.741276\n",
       "15                            C101                     CA              713409000                   0.815473  0.959135\n",
       "16                            C200                     CN             8502121000                   0.352793  0.741276\n",
       "30                            C130                     CL              303130000                   0.796893  0.741276\n",
       "31                            C100                     CL              808100000                   0.797814  0.741276"
      ]
     },
     "execution_count": 665,
     "metadata": {},
     "output_type": "execute_result"
    }
   ],
   "source": [
    "AGP_reg.head()"
   ]
  },
  {
   "cell_type": "code",
   "execution_count": 700,
   "id": "3f7442f1-1b31-49f0-a4df-0dc3aa102b2a",
   "metadata": {},
   "outputs": [
    {
     "data": {
      "text/plain": [
       "['Código Modalidad de Importación',\n",
       " 'Código País Exportador',\n",
       " 'Subpartida Arancelaria']"
      ]
     },
     "execution_count": 700,
     "metadata": {},
     "output_type": "execute_result"
    }
   ],
   "source": [
    "# Listing the Numerical datatypes\n",
    "categorical_final = list(AGP_reg.select_dtypes(include=['object']).columns)\n",
    "\n",
    "categorical_final"
   ]
  },
  {
   "cell_type": "code",
   "execution_count": 704,
   "id": "daa15653-6b2c-4cc9-8a38-75b435376bd5",
   "metadata": {},
   "outputs": [],
   "source": [
    "AGP_reg[categorical_final] = AGP_reg[categorical_final].astype('category')"
   ]
  },
  {
   "cell_type": "code",
   "execution_count": 667,
   "id": "8b0ba106-de42-41a9-a8fc-4079d3013696",
   "metadata": {},
   "outputs": [],
   "source": [
    "AGP_reg['gt20'] = np.log(AGP_reg['gt20'] + 1)"
   ]
  },
  {
   "cell_type": "code",
   "execution_count": 668,
   "id": "b29749b2-b9f7-416a-a7b7-1e9897e1993d",
   "metadata": {},
   "outputs": [],
   "source": [
    "from sklearn import preprocessing"
   ]
  },
  {
   "cell_type": "code",
   "execution_count": 669,
   "id": "8f32a5d4-bbea-48f5-b612-61463324bfb2",
   "metadata": {},
   "outputs": [],
   "source": [
    "x = AGP_reg['gt20'].values.reshape(-1, 1) #returns a numpy array"
   ]
  },
  {
   "cell_type": "code",
   "execution_count": 670,
   "id": "78efe8ea-696a-4db6-9e26-9f78dd164ba1",
   "metadata": {},
   "outputs": [],
   "source": [
    "min_max_scaler = preprocessing.MinMaxScaler()"
   ]
  },
  {
   "cell_type": "code",
   "execution_count": 671,
   "id": "17fdf474-7551-4ca7-825f-9e195f162099",
   "metadata": {},
   "outputs": [],
   "source": [
    "x_scaled = min_max_scaler.fit_transform(x)"
   ]
  },
  {
   "cell_type": "code",
   "execution_count": 672,
   "id": "c2dc812a-5f54-4af9-a659-801897aa6d61",
   "metadata": {},
   "outputs": [],
   "source": [
    "AGP_reg['gt20'] = x_scaled"
   ]
  },
  {
   "cell_type": "code",
   "execution_count": 673,
   "id": "b26336d2-45f2-4b18-af55-71aa80eb5d12",
   "metadata": {},
   "outputs": [
    {
     "data": {
      "text/html": [
       "<div>\n",
       "<style scoped>\n",
       "    .dataframe tbody tr th:only-of-type {\n",
       "        vertical-align: middle;\n",
       "    }\n",
       "\n",
       "    .dataframe tbody tr th {\n",
       "        vertical-align: top;\n",
       "    }\n",
       "\n",
       "    .dataframe thead th {\n",
       "        text-align: right;\n",
       "    }\n",
       "</style>\n",
       "<table border=\"1\" class=\"dataframe\">\n",
       "  <thead>\n",
       "    <tr style=\"text-align: right;\">\n",
       "      <th></th>\n",
       "      <th>Código Modalidad de Importación</th>\n",
       "      <th>Código País Exportador</th>\n",
       "      <th>Subpartida Arancelaria</th>\n",
       "      <th>Cantidad Unidad Comercial</th>\n",
       "      <th>gt20</th>\n",
       "    </tr>\n",
       "  </thead>\n",
       "  <tbody>\n",
       "    <tr>\n",
       "      <th>1</th>\n",
       "      <td>C190</td>\n",
       "      <td>PA</td>\n",
       "      <td>5205120000</td>\n",
       "      <td>0.798008</td>\n",
       "      <td>0.214550</td>\n",
       "    </tr>\n",
       "    <tr>\n",
       "      <th>15</th>\n",
       "      <td>C101</td>\n",
       "      <td>CA</td>\n",
       "      <td>713409000</td>\n",
       "      <td>0.815473</td>\n",
       "      <td>0.406766</td>\n",
       "    </tr>\n",
       "    <tr>\n",
       "      <th>16</th>\n",
       "      <td>C200</td>\n",
       "      <td>CN</td>\n",
       "      <td>8502121000</td>\n",
       "      <td>0.352793</td>\n",
       "      <td>0.214550</td>\n",
       "    </tr>\n",
       "    <tr>\n",
       "      <th>30</th>\n",
       "      <td>C130</td>\n",
       "      <td>CL</td>\n",
       "      <td>303130000</td>\n",
       "      <td>0.796893</td>\n",
       "      <td>0.214550</td>\n",
       "    </tr>\n",
       "    <tr>\n",
       "      <th>31</th>\n",
       "      <td>C100</td>\n",
       "      <td>CL</td>\n",
       "      <td>808100000</td>\n",
       "      <td>0.797814</td>\n",
       "      <td>0.214550</td>\n",
       "    </tr>\n",
       "  </tbody>\n",
       "</table>\n",
       "</div>"
      ],
      "text/plain": [
       "   Código Modalidad de Importación Código País Exportador Subpartida Arancelaria  Cantidad Unidad Comercial      gt20\n",
       "1                             C190                     PA             5205120000                   0.798008  0.214550\n",
       "15                            C101                     CA              713409000                   0.815473  0.406766\n",
       "16                            C200                     CN             8502121000                   0.352793  0.214550\n",
       "30                            C130                     CL              303130000                   0.796893  0.214550\n",
       "31                            C100                     CL              808100000                   0.797814  0.214550"
      ]
     },
     "execution_count": 673,
     "metadata": {},
     "output_type": "execute_result"
    }
   ],
   "source": [
    "AGP_reg.head()"
   ]
  },
  {
   "cell_type": "code",
   "execution_count": 674,
   "id": "688b58f6-708f-4a08-ba6b-50f92fe504af",
   "metadata": {},
   "outputs": [
    {
     "data": {
      "text/plain": [
       "(0.9999999999999999, 0.0)"
      ]
     },
     "execution_count": 674,
     "metadata": {},
     "output_type": "execute_result"
    }
   ],
   "source": [
    "# scaling to [0,1] interval\n",
    "\n",
    "AGP_reg['gt20'].max(), AGP_reg['gt20'].min()"
   ]
  },
  {
   "cell_type": "code",
   "execution_count": 675,
   "id": "19fd1ccd-59e8-48af-a4fc-fd5ec165a3ef",
   "metadata": {},
   "outputs": [
    {
     "data": {
      "text/plain": [
       "<AxesSubplot:>"
      ]
     },
     "execution_count": 675,
     "metadata": {},
     "output_type": "execute_result"
    },
    {
     "data": {
      "image/png": "[encoded data removed]",
      "text/plain": [
       "<Figure size 640x480 with 1 Axes>"
      ]
     },
     "metadata": {},
     "output_type": "display_data"
    }
   ],
   "source": [
    "gt40 = AGP_reg['gt20']\n",
    "gt40.hist(bins=100)"
   ]
  },
  {
   "cell_type": "code",
   "execution_count": 705,
   "id": "ddec316b-7a82-4bab-8ec0-c239c68584ef",
   "metadata": {},
   "outputs": [
    {
     "data": {
      "text/plain": [
       "Código Modalidad de Importación    category\n",
       "Código País Exportador             category\n",
       "Subpartida Arancelaria             category\n",
       "Cantidad Unidad Comercial           float64\n",
       "gt20                                float64\n",
       "dtype: object"
      ]
     },
     "execution_count": 705,
     "metadata": {},
     "output_type": "execute_result"
    }
   ],
   "source": [
    "AGP_reg.dtypes"
   ]
  },
  {
   "cell_type": "code",
   "execution_count": 706,
   "id": "7a8d2014-2a62-4d25-9e37-5635bd8f2ab0",
   "metadata": {},
   "outputs": [],
   "source": [
    "y = AGP_reg['gt20']\n",
    "X = AGP_reg.drop('gt20', axis=1)"
   ]
  },
  {
   "cell_type": "code",
   "execution_count": 707,
   "id": "a84f3a6e-dbb5-467c-979c-43054830d1d1",
   "metadata": {},
   "outputs": [
    {
     "data": {
      "text/plain": [
       "Código Modalidad de Importación    category\n",
       "Código País Exportador             category\n",
       "Subpartida Arancelaria             category\n",
       "Cantidad Unidad Comercial           float64\n",
       "dtype: object"
      ]
     },
     "execution_count": 707,
     "metadata": {},
     "output_type": "execute_result"
    }
   ],
   "source": [
    "X.dtypes"
   ]
  },
  {
   "cell_type": "code",
   "execution_count": 708,
   "id": "41dc0115-2ac4-48f0-b98a-7136bdd171b2",
   "metadata": {},
   "outputs": [
    {
     "name": "stdout",
     "output_type": "stream",
     "text": [
      "train data size: (309143, 4)\n",
      "test data size: (77286, 4)\n"
     ]
    }
   ],
   "source": [
    "#Let’s split X and y using Train test split\n",
    "X_train, X_test, y_train, y_test = train_test_split(X, y, train_size=0.8, random_state= 2022)\n",
    "\n",
    "#get shape of train and test data\n",
    "print(\"train data size:\", X_train.shape)\n",
    "print(\"test data size:\", X_test.shape)"
   ]
  },
  {
   "cell_type": "code",
   "execution_count": 720,
   "id": "43d70c8e-d3d3-4ad1-9545-b277d6a51b39",
   "metadata": {},
   "outputs": [
    {
     "name": "stdout",
     "output_type": "stream",
     "text": [
      "Names of categorical columns :  ['Código Modalidad de Importación', 'Código País Exportador', 'Subpartida Arancelaria']\n",
      "Location of categorical columns :  [0, 1, 2]\n"
     ]
    }
   ],
   "source": [
    "#List of categorical columns\n",
    "\n",
    "categoricalcolumns = X.columns[np.where(X.dtypes == 'category')[0]].values.tolist()\n",
    "\n",
    "print(\"Names of categorical columns : \", categoricalcolumns)\n",
    "\n",
    "#Get location of categorical columns\n",
    "\n",
    "cat_features = [X.columns.get_loc(col) for col in categoricalcolumns]\n",
    "\n",
    "print(\"Location of categorical columns : \",cat_features)"
   ]
  },
  {
   "cell_type": "code",
   "execution_count": 710,
   "id": "6b704e80-b97a-44d6-8baf-80df23a8739c",
   "metadata": {},
   "outputs": [],
   "source": [
    "#from imblearn.over_sampling import SMOTE\n",
    "#from imblearn.over_sampling import SMOTENC"
   ]
  },
  {
   "cell_type": "code",
   "execution_count": 711,
   "id": "70380eaf-0250-4666-8d1d-36ede9f91c58",
   "metadata": {},
   "outputs": [],
   "source": [
    "#print(\"Label 1, Before using SMOTE: {} \".format(sum(y_train==1)))\n",
    "#print(\"Label 0, Before using SMOTE: {} \".format(sum(y_train==0)))"
   ]
  },
  {
   "cell_type": "code",
   "execution_count": 712,
   "id": "f6238a7a-0e70-41ea-b6ab-0af394d0eb42",
   "metadata": {},
   "outputs": [],
   "source": [
    "#smote_nc = SMOTENC(categorical_features=[AGP.dtypes=='category'], random_state=0)\n",
    "#X_train_resampled, y_train_resampled = smote_nc.fit_resample(X_train, y_train)"
   ]
  },
  {
   "cell_type": "code",
   "execution_count": 713,
   "id": "9eecf74c-0f9b-4049-82a2-d9fbaca1281c",
   "metadata": {},
   "outputs": [],
   "source": [
    "#print(\"Label 1, After using SMOTE: {}\".format(sum(y_train_resampled==1)))\n",
    "#print(\"Label 0, After using SMOTE: {}\".format(sum(y_train_resampled==0)))"
   ]
  },
  {
   "cell_type": "code",
   "execution_count": 714,
   "id": "b75013d2-1bff-4a9d-8a4f-52c78f130ca3",
   "metadata": {},
   "outputs": [],
   "source": [
    "#pip install --user scikit-learn xgboost pandas"
   ]
  },
  {
   "cell_type": "code",
   "execution_count": 715,
   "id": "4b2f0caf-e35f-46ef-add1-fd570eee63f8",
   "metadata": {},
   "outputs": [],
   "source": [
    "#pip install --user scikit-learn catboost pandas"
   ]
  },
  {
   "cell_type": "code",
   "execution_count": 716,
   "id": "590213b8-db7f-4972-9968-0daa70e0548f",
   "metadata": {},
   "outputs": [],
   "source": [
    "from sklearn.metrics import mean_squared_error, r2_score\n",
    "from catboost import CatBoostRegressor, Pool\n",
    "import math"
   ]
  },
  {
   "cell_type": "code",
   "execution_count": 725,
   "id": "3de029d8-3afd-4083-9312-8888edc5ad2a",
   "metadata": {},
   "outputs": [],
   "source": [
    "#Creating pool object for train dataset. we give information of categorical fetures to parameter cat_fetaures\n",
    "train_data = Pool(data=X_train, label=y_train, cat_features=[0,1,2])\n",
    "\n",
    "#Creating pool object for test dataset\n",
    "test_data = Pool(data=X_test, label=y_test, cat_features=[0,1,2])"
   ]
  },
  {
   "cell_type": "code",
   "execution_count": 730,
   "id": "dcccf8dd-a142-49ea-8ca6-42b6b088b31b",
   "metadata": {},
   "outputs": [],
   "source": [
    "# create the object of the model\n",
    "model_cat = CatBoostRegressor(cat_features = categoricalcolumns,random_state=50)"
   ]
  },
  {
   "cell_type": "code",
   "execution_count": 731,
   "id": "493859bc-3472-46e9-afaf-fc8c426b4fc2",
   "metadata": {},
   "outputs": [],
   "source": [
    "#pip install --user ipywidgets"
   ]
  },
  {
   "cell_type": "raw",
   "id": "4854a740-b398-4a38-9347-2687d0867936",
   "metadata": {},
   "source": [
    "# Fit model \n",
    "model_cat.fit(X_train, y_train, eval_set=(X_test, y_test), plot=True)"
   ]
  },
  {
   "cell_type": "code",
   "execution_count": 734,
   "id": "b9f97ea7-dffa-45c3-bfaf-2ee1bcf50c78",
   "metadata": {},
   "outputs": [
    {
     "data": {
      "image/png": "[encoded data removed]",
      "text/plain": [
       "<Figure size 1200x600 with 1 Axes>"
      ]
     },
     "metadata": {},
     "output_type": "display_data"
    }
   ],
   "source": [
    "# Create a dataframe of feature importance \n",
    "model_cat_feature_importance = pd.DataFrame(model_cat.get_feature_importance(prettified=True))\n",
    "#plotting feature importance\n",
    "plt.figure(figsize=(12, 6));\n",
    "feature_plot= sns.barplot(x=\"Importances\", y=\"Feature Id\", data=model_cat_feature_importance,palette=\"cool\");\n",
    "plt.title('features importance');"
   ]
  },
  {
   "cell_type": "code",
   "execution_count": 735,
   "id": "90ae1b40-5fbc-412e-831b-04bc67c9292a",
   "metadata": {},
   "outputs": [
    {
     "data": {
      "text/html": [
       "<div>\n",
       "<style scoped>\n",
       "    .dataframe tbody tr th:only-of-type {\n",
       "        vertical-align: middle;\n",
       "    }\n",
       "\n",
       "    .dataframe tbody tr th {\n",
       "        vertical-align: top;\n",
       "    }\n",
       "\n",
       "    .dataframe thead th {\n",
       "        text-align: right;\n",
       "    }\n",
       "</style>\n",
       "<table border=\"1\" class=\"dataframe\">\n",
       "  <thead>\n",
       "    <tr style=\"text-align: right;\">\n",
       "      <th></th>\n",
       "      <th>Feature Id</th>\n",
       "      <th>Importances</th>\n",
       "    </tr>\n",
       "  </thead>\n",
       "  <tbody>\n",
       "    <tr>\n",
       "      <th>0</th>\n",
       "      <td>Cantidad Unidad Comercial</td>\n",
       "      <td>41.343027</td>\n",
       "    </tr>\n",
       "    <tr>\n",
       "      <th>1</th>\n",
       "      <td>Subpartida Arancelaria</td>\n",
       "      <td>36.931970</td>\n",
       "    </tr>\n",
       "    <tr>\n",
       "      <th>2</th>\n",
       "      <td>Código País Exportador</td>\n",
       "      <td>15.238569</td>\n",
       "    </tr>\n",
       "    <tr>\n",
       "      <th>3</th>\n",
       "      <td>Código Modalidad de Importación</td>\n",
       "      <td>6.486435</td>\n",
       "    </tr>\n",
       "  </tbody>\n",
       "</table>\n",
       "</div>"
      ],
      "text/plain": [
       "                        Feature Id  Importances\n",
       "0        Cantidad Unidad Comercial    41.343027\n",
       "1           Subpartida Arancelaria    36.931970\n",
       "2           Código País Exportador    15.238569\n",
       "3  Código Modalidad de Importación     6.486435"
      ]
     },
     "execution_count": 735,
     "metadata": {},
     "output_type": "execute_result"
    }
   ],
   "source": [
    "model_cat_feature_importance"
   ]
  },
  {
   "cell_type": "code",
   "execution_count": 736,
   "id": "870dbcd5-1a12-4e51-811b-ca0d3bde7e14",
   "metadata": {},
   "outputs": [
    {
     "name": "stdout",
     "output_type": "stream",
     "text": [
      "Evaluation on test data\n",
      "RMSE: 0.11\n",
      "R2: 0.73\n",
      "Adjusted R2: 0.73\n"
     ]
    }
   ],
   "source": [
    "y_predict= model_cat.predict(X_test)\n",
    "#RMSE\n",
    "Rmse_test = math.sqrt(mean_squared_error(y_test,y_predict))\n",
    "#R2 Score\n",
    "r2_test = r2_score(y_test,y_predict)\n",
    "# Adjusted R2 Score\n",
    "n= X_train.shape[0] # total no of datapoints\n",
    "p= X_train.shape[1] # total no of independent features\n",
    "adj_r2_test = 1-(1-r2_test)*(n-1)/(n-p-1)\n",
    "#print results\n",
    "print(\"Evaluation on test data\")\n",
    "print(\"RMSE: {:.2f}\".format(Rmse_test))\n",
    "print(\"R2: {:.2f}\".format(r2_test))\n",
    "print(\"Adjusted R2: {:.2f}\".format(adj_r2_test))"
   ]
  },
  {
   "cell_type": "code",
   "execution_count": null,
   "id": "418b3a2f-7192-43e1-88d7-3565161fb7ac",
   "metadata": {},
   "outputs": [],
   "source": []
  },
  {
   "cell_type": "code",
   "execution_count": null,
   "id": "0afd38f1-35eb-4935-88ca-1b0762d5c876",
   "metadata": {},
   "outputs": [],
   "source": []
  },
  {
   "cell_type": "code",
   "execution_count": null,
   "id": "0ae9e9a7-cdfd-4491-98d4-f37fb34ce321",
   "metadata": {},
   "outputs": [],
   "source": []
  },
  {
   "cell_type": "code",
   "execution_count": null,
   "id": "95d34ab5-385a-403d-a12d-d14834b907fd",
   "metadata": {},
   "outputs": [],
   "source": [
    "            train_data_x = train.drop(columns= ['WEEK_END_DATE', 'UNITS'])\n",
    "            train_data_y = train['UNITS']\n",
    "\n",
    "            valid_data_x = valid.drop(columns= ['WEEK_END_DATE', 'UNITS'])\n",
    "            valid_data_y = valid['UNITS']\n",
    "\n",
    "            # evaluation sets\n",
    "            # we will evaluate our model on both train and validation data\n",
    "            e_set = [(train_data_x, train_data_y), (valid_data_x, valid_data_y)]\n",
    "            \n",
    "            \n",
    "            # define the XGBRegressor Model \n",
    "            model = xgb.XGBRegressor(n_estimators = n_est,\n",
    "                                     learning_rate = 0.01,\n",
    "                                     n_jobs=4,\n",
    "                                     random_state=0,\n",
    "                                     objective='reg:squarederror')\n",
    "            # fit the model\n",
    "            model.fit(train_data_x, train_data_y, eval_metric= custom_eval ,eval_set= e_set, verbose=False)\n",
    "            \n",
    "            "
   ]
  },
  {
   "cell_type": "markdown",
   "id": "cea6c2a1-5cf7-4631-9df5-555164184d50",
   "metadata": {},
   "source": [
    "## Frequency encoding"
   ]
  },
  {
   "cell_type": "code",
   "execution_count": 434,
   "id": "84a1a5c2-ca07-47d9-9d63-61264813a130",
   "metadata": {},
   "outputs": [],
   "source": [
    "categorical = list(new_data.select_dtypes(include=['category']).columns)"
   ]
  },
  {
   "cell_type": "code",
   "execution_count": 435,
   "id": "e74658f4-93bd-4be4-aed2-60a468bc37bf",
   "metadata": {},
   "outputs": [
    {
     "data": {
      "text/plain": [
       "[]"
      ]
     },
     "execution_count": 435,
     "metadata": {},
     "output_type": "execute_result"
    }
   ],
   "source": [
    "categorical"
   ]
  },
  {
   "cell_type": "code",
   "execution_count": 452,
   "id": "d4d86976-2d11-42f6-81bf-18a5842cb4da",
   "metadata": {},
   "outputs": [
    {
     "data": {
      "text/plain": [
       "['Código Depósito',\n",
       " 'Código País Exportador',\n",
       " 'Código Modalidad de Importación',\n",
       " 'Subpartida Arancelaria',\n",
       " 'Nombre Estado Documento',\n",
       " 'Código Modo Transporte',\n",
       " 'Código Tipo Declaración',\n",
       " 'Nombre Tipo Declaración',\n",
       " 'Nombre Modo Transporte',\n",
       " 'Código País Compra',\n",
       " 'Nombre País Compra',\n",
       " 'Nombre País Exportador',\n",
       " 'Código País Origen',\n",
       " 'Nombre País Origen',\n",
       " 'Código País',\n",
       " 'Nombre País',\n",
       " 'Nombre Embalaje',\n",
       " 'Periodo',\n",
       " 'Tipo Conocimiento',\n",
       " 'Empresa Colombiana Impo/Expo NIT',\n",
       " 'Empresa Colombiana Impo/Expo Digito Chequeo',\n",
       " 'Empresa Colombiana Impo/Expo',\n",
       " 'Empresa Colombiana Impo/Expo Ciudad',\n",
       " 'Empresa Colombiana Impo/Expo Departamento',\n",
       " 'Empresa Extranjera',\n",
       " 'Naviera',\n",
       " 'Agente Naviero',\n",
       " 'Motonave',\n",
       " 'Tipo Consolidación',\n",
       " 'Puerto Colombiano',\n",
       " 'Muelle',\n",
       " 'Puerto Extranjero Países',\n",
       " 'Puerto Extranjero',\n",
       " 'Empresa Notificada Ciudad',\n",
       " 'Empresa Notificada Departamento',\n",
       " 'Descripción BL',\n",
       " 'SubPartida',\n",
       " 'Descripción SubPartida',\n",
       " 'Capítulo',\n",
       " 'Descripción Capítulo',\n",
       " 'Unidad Comercial',\n",
       " 'Tipo Estiba',\n",
       " 'Empresa Notificada Nombre',\n",
       " 'Tipo Transito',\n",
       " 'Destino Origen Extranjera Ciudad',\n",
       " 'Destino Origen Extranjera Países',\n",
       " 'Forma Pago',\n",
       " 'Ciiu',\n",
       " 'Cuode',\n",
       " 'Número Sobordo',\n",
       " 'Consecutivo Registro',\n",
       " 'Revista Diaria',\n",
       " 'Revista Semanal',\n",
       " 'Roro',\n",
       " 'Motonave Viaje',\n",
       " 'target']"
      ]
     },
     "execution_count": 452,
     "metadata": {},
     "output_type": "execute_result"
    }
   ],
   "source": [
    "variable"
   ]
  },
  {
   "cell_type": "code",
   "execution_count": 453,
   "id": "74a746a2-48a1-4ecf-b73b-9889bdde41da",
   "metadata": {},
   "outputs": [
    {
     "data": {
      "text/plain": [
       "56"
      ]
     },
     "execution_count": 453,
     "metadata": {},
     "output_type": "execute_result"
    }
   ],
   "source": [
    "len(variable)"
   ]
  },
  {
   "cell_type": "code",
   "execution_count": null,
   "id": "eecac3e4-11c0-4212-93e0-6dfddada1742",
   "metadata": {},
   "outputs": [],
   "source": [
    "# creating the categorical feature target\n",
    "\n",
    "agp_new['target'] = '' # to create an empty column\n",
    "\n",
    "for i in agp_new[['A','B','C','D']]:\n",
    "    agp_new.loc[agp_new[i]==1,'target']= agp_new['target']+i\n",
    "    \n",
    "agp_new['target'] = agp_new['target'].astype('category')"
   ]
  },
  {
   "cell_type": "code",
   "execution_count": 443,
   "id": "79ea28b2-79be-4469-b524-4ccbefafdc04",
   "metadata": {},
   "outputs": [
    {
     "ename": "TypeError",
     "evalue": "'int' object is not iterable",
     "output_type": "error",
     "traceback": [
      "\u001b[0;31m---------------------------------------------------------------------------\u001b[0m",
      "\u001b[0;31mTypeError\u001b[0m                                 Traceback (most recent call last)",
      "\u001b[0;32m/tmp/ipykernel_1/827858815.py\u001b[0m in \u001b[0;36m<module>\u001b[0;34m\u001b[0m\n\u001b[0;32m----> 1\u001b[0;31m \u001b[0;32mfor\u001b[0m \u001b[0mi\u001b[0m \u001b[0;32min\u001b[0m \u001b[0mlen\u001b[0m\u001b[0;34m(\u001b[0m\u001b[0mvariables\u001b[0m\u001b[0;34m)\u001b[0m\u001b[0;34m:\u001b[0m\u001b[0;34m\u001b[0m\u001b[0;34m\u001b[0m\u001b[0m\n\u001b[0m\u001b[1;32m      2\u001b[0m     \u001b[0mi\u001b[0m\u001b[0;34m\u001b[0m\u001b[0;34m\u001b[0m\u001b[0m\n",
      "\u001b[0;31mTypeError\u001b[0m: 'int' object is not iterable"
     ]
    }
   ],
   "source": [
    "for i in agp_new[variables]:\n",
    "    agp_new.loc[agp_new[i]==1,'target']= agp_new['target']+i\n",
    "    "
   ]
  },
  {
   "cell_type": "code",
   "execution_count": 441,
   "id": "9b8859a3-f75f-403f-b02d-7f7ea9527604",
   "metadata": {},
   "outputs": [
    {
     "data": {
      "text/plain": [
       "7201     115394\n",
       "99900     62600\n",
       "25578     62520\n",
       "20950     56084\n",
       "14004     43890\n",
       "Name: Código Depósito, dtype: int64"
      ]
     },
     "execution_count": 441,
     "metadata": {},
     "output_type": "execute_result"
    }
   ],
   "source": [
    "temp_cd = agp_new['Código Depósito'].value_counts()\n",
    "\n",
    "temp_cd.head()"
   ]
  },
  {
   "cell_type": "code",
   "execution_count": null,
   "id": "2d91abd5-9627-4490-bc6a-02c16ca7c303",
   "metadata": {},
   "outputs": [],
   "source": [
    "bigmart['Item_type_count'] = agp_new[categorical].apply(lambda x: temp[x])\n",
    "bigmart[['Item_Identifier', 'Item_Type', 'Item_type_count']].head()"
   ]
  },
  {
   "cell_type": "code",
   "execution_count": null,
   "id": "eb5bf3a5-2361-427b-8230-84f268054ca7",
   "metadata": {},
   "outputs": [],
   "source": []
  },
  {
   "cell_type": "code",
   "execution_count": null,
   "id": "ccaf2447-2035-4e6f-9d82-830f1c5fe627",
   "metadata": {},
   "outputs": [],
   "source": []
  },
  {
   "cell_type": "code",
   "execution_count": null,
   "id": "9b725afc-dd23-4f4b-9fa8-aeac573e5f3e",
   "metadata": {},
   "outputs": [],
   "source": [
    "# taking log\n",
    "for column in var:\n",
    "    mini=1\n",
    "    if numerical[column].min()<0:\n",
    "        mini = abs(numerical[column].min()) + 1\n",
    "        \n",
    "    numerical[column] = [i + mini for i in numerical[column]]\n",
    "    numerical[column] = numerical[column].map(lambda x: np.log(x))"
   ]
  },
  {
   "cell_type": "code",
   "execution_count": 161,
   "id": "cf50b7ad-9851-4bc3-81c4-6dd609770c5a",
   "metadata": {},
   "outputs": [],
   "source": [
    "sample_agp = agp_new.sample(int(len(agp_new) * 0.1))"
   ]
  },
  {
   "cell_type": "code",
   "execution_count": 162,
   "id": "b23e75c5-0a1b-4f23-9acb-1a93d2b6a2e4",
   "metadata": {},
   "outputs": [
    {
     "data": {
      "text/plain": [
       "((2459858, 132), (245985, 132))"
      ]
     },
     "execution_count": 162,
     "metadata": {},
     "output_type": "execute_result"
    }
   ],
   "source": [
    "agp_new.shape, sample_agp.shape"
   ]
  },
  {
   "cell_type": "code",
   "execution_count": 163,
   "id": "1ac66fb5-5eb5-4b30-a059-47b25a2f2b10",
   "metadata": {},
   "outputs": [],
   "source": [
    "numerical_sample = list(sample_agp.select_dtypes(include=['int64','float64','Int64']).columns)"
   ]
  },
  {
   "cell_type": "code",
   "execution_count": 168,
   "id": "76f451b3-b319-42ec-933a-006bb0777625",
   "metadata": {},
   "outputs": [
    {
     "data": {
      "text/plain": [
       "['Cantidad Unidad Comercial',\n",
       " 'Peso Bruto Kgs',\n",
       " 'Tasa de Cambio',\n",
       " 'Total Arancel Liquidado Pesos',\n",
       " 'year_qh',\n",
       " 'Kilos Unidades Recibidas']"
      ]
     },
     "execution_count": 168,
     "metadata": {},
     "output_type": "execute_result"
    }
   ],
   "source": [
    "numerical_rel"
   ]
  },
  {
   "cell_type": "code",
   "execution_count": 164,
   "id": "b3828e78-7e86-485a-9631-0a8070b744a5",
   "metadata": {},
   "outputs": [],
   "source": [
    "var = []\n",
    "var.extend(numerical_sample)"
   ]
  },
  {
   "cell_type": "raw",
   "id": "c7381d7f-6117-4c7b-86b0-d6635c609ba8",
   "metadata": {},
   "source": [
    "plt.figure(dpi=140)\n",
    "sns.pairplot(sample_agp[numerical_rel],plot_kws={'alpha': 0.1})"
   ]
  },
  {
   "cell_type": "code",
   "execution_count": null,
   "id": "79250e03-154e-44c9-9c5c-615a7f8d668f",
   "metadata": {},
   "outputs": [],
   "source": [
    "# taking log\n",
    "for column in var:\n",
    "    mini=1\n",
    "    if numerical[column].min()<0:\n",
    "        mini = abs(numerical[column].min()) + 1\n",
    "        \n",
    "    numerical[column] = [i + mini for i in numerical[column]]\n",
    "    numerical[column] = numerical[column].map(lambda x: np.log(x))"
   ]
  },
  {
   "cell_type": "code",
   "execution_count": null,
   "id": "6e49192e-d7a6-4702-b9da-47e267f15485",
   "metadata": {},
   "outputs": [],
   "source": [
    "plt.figure(dpi=140)\n",
    "sns.pairplot(numerical[sessions],plot_kws={'alpha':0.3})"
   ]
  },
  {
   "cell_type": "markdown",
   "id": "d600a5b3-8bd5-4afc-8f12-e6e5ff1a1f74",
   "metadata": {},
   "source": [
    "## Bivariate Analysis: Continuous-Categorical variables"
   ]
  },
  {
   "cell_type": "markdown",
   "id": "4508f49f-eaeb-49d2-9d76-81237cc589df",
   "metadata": {},
   "source": [
    "# Applying Factor Analysis"
   ]
  },
  {
   "cell_type": "markdown",
   "id": "aed2a164-4c7b-4a9e-ac3e-3be784043774",
   "metadata": {},
   "source": [
    "## Assumption 1 - Sample Size"
   ]
  },
  {
   "cell_type": "code",
   "execution_count": 289,
   "id": "3363149a-a1e8-4dea-9923-cac44dfbaeae",
   "metadata": {},
   "outputs": [
    {
     "data": {
      "text/plain": [
       "(2304920, 134)"
      ]
     },
     "execution_count": 289,
     "metadata": {},
     "output_type": "execute_result"
    }
   ],
   "source": [
    "agp_new.shape"
   ]
  },
  {
   "cell_type": "markdown",
   "id": "3620faea-dbe7-4f0c-8691-f1480ff99f99",
   "metadata": {},
   "source": [
    "## Assumption 2 - Sample Variable ratio"
   ]
  },
  {
   "cell_type": "code",
   "execution_count": 290,
   "id": "b2c25455-2f3f-4431-9fd9-8eeeaec95129",
   "metadata": {},
   "outputs": [
    {
     "data": {
      "text/plain": [
       "17200.89552238806"
      ]
     },
     "execution_count": 290,
     "metadata": {},
     "output_type": "execute_result"
    }
   ],
   "source": [
    "agp_new.shape[0]/agp_new.shape[1]"
   ]
  },
  {
   "cell_type": "code",
   "execution_count": null,
   "id": "92ce5056-a255-434c-b956-4318cfdda85e",
   "metadata": {},
   "outputs": [],
   "source": []
  },
  {
   "cell_type": "code",
   "execution_count": 551,
   "id": "e54e5a53-6e15-4f14-adb8-7bef51c8ad6f",
   "metadata": {},
   "outputs": [],
   "source": [
    "# importing Pool\n",
    "from catboost import CatBoostClassifier, Pool"
   ]
  }
 ],
 "metadata": {
  "kernelspec": {
   "display_name": "fullstack",
   "language": "python",
   "name": "fullstack"
  },
  "language_info": {
   "codemirror_mode": {
    "name": "ipython",
    "version": 3
   },
   "file_extension": ".py",
   "mimetype": "text/x-python",
   "name": "python",
   "nbconvert_exporter": "python",
   "pygments_lexer": "ipython3",
   "version": "3.9.19"
  }
 },
 "nbformat": 4,
 "nbformat_minor": 5
}
