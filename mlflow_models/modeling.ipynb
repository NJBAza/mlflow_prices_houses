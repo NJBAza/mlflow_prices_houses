{
 "cells": [
  {
   "cell_type": "code",
   "execution_count": 1,
   "id": "50006af1-d355-485d-90e2-9174ae05e7ec",
   "metadata": {},
   "outputs": [
    {
     "name": "stderr",
     "output_type": "stream",
     "text": [
      "[nltk_data] Downloading package wordnet to /home/javier/nltk_data...\n",
      "[nltk_data]   Package wordnet is already up-to-date!\n"
     ]
    }
   ],
   "source": [
    "import datetime as dt\n",
    "import glob\n",
    "import os\n",
    "import pickle\n",
    "import re\n",
    "import string\n",
    "import sys\n",
    "import time\n",
    "import warnings\n",
    "from datetime import datetime\n",
    "from pathlib import Path\n",
    "\n",
    "import featuretools as ft\n",
    "import matplotlib.pyplot as plt\n",
    "import nltk\n",
    "import numpy as np\n",
    "import pandas as pd\n",
    "import seaborn as sns\n",
    "from nltk import word_tokenize\n",
    "from nltk.corpus import (\n",
    "    stopwords,\n",
    "    wordnet,\n",
    ")\n",
    "from nltk.stem import (\n",
    "    PorterStemmer,\n",
    "    WordNetLemmatizer,\n",
    ")\n",
    "from scipy.stats.mstats import winsorize\n",
    "from sklearn.base import (\n",
    "    BaseEstimator,\n",
    "    TransformerMixin,\n",
    ")\n",
    "from sklearn.feature_extraction.text import TfidfVectorizer\n",
    "from sklearn.impute import SimpleImputer\n",
    "from sklearn.model_selection import train_test_split\n",
    "from sklearn.pipeline import Pipeline\n",
    "from sklearn.preprocessing import (\n",
    "    LabelEncoder,\n",
    "    MinMaxScaler,\n",
    "    StandardScaler,\n",
    "    normalize,\n",
    ")\n",
    "from tqdm import tqdm\n",
    "\n",
    "nltk.download(\"wordnet\")\n",
    "warnings.filterwarnings(\"ignore\")\n",
    "warnings.filterwarnings(\"ignore\", category=DeprecationWarning)\n",
    "\n",
    "pd.set_option(\"display.max_rows\", 500)\n",
    "pd.set_option(\"display.max_columns\", 500)\n",
    "pd.set_option(\"display.width\", 1000)"
   ]
  },
  {
   "cell_type": "code",
   "execution_count": 2,
   "id": "81a4338d-a1de-4073-80b4-8579defc21eb",
   "metadata": {},
   "outputs": [],
   "source": [
    "tqdm.pandas()"
   ]
  },
  {
   "cell_type": "code",
   "execution_count": 3,
   "id": "9d19b7ca-2485-46d8-a4c4-d84a96ed92ce",
   "metadata": {},
   "outputs": [],
   "source": [
    "PACKAGE_ROOT = Path(os.getcwd()).parent.parent\n",
    "sys.path.append(str(PACKAGE_ROOT.parent))"
   ]
  },
  {
   "cell_type": "code",
   "execution_count": 4,
   "id": "1b759fb2-366c-4084-ae71-4084ea1b0446",
   "metadata": {},
   "outputs": [
    {
     "data": {
      "text/plain": [
       "PosixPath('/home/javier/repos/mle_challenge/model')"
      ]
     },
     "execution_count": 4,
     "metadata": {},
     "output_type": "execute_result"
    }
   ],
   "source": [
    "PACKAGE_ROOT"
   ]
  },
  {
   "cell_type": "code",
   "execution_count": 5,
   "id": "1a72c00b-6894-48dd-a167-66218641cbf4",
   "metadata": {},
   "outputs": [],
   "source": [
    "DATAPATH = os.path.join(PACKAGE_ROOT, \"experiments/data\")"
   ]
  },
  {
   "cell_type": "code",
   "execution_count": 6,
   "id": "f76a6a82-460b-4ab3-b393-8368019fe305",
   "metadata": {},
   "outputs": [
    {
     "data": {
      "text/plain": [
       "'/home/javier/repos/mle_challenge/model/experiments/data'"
      ]
     },
     "execution_count": 6,
     "metadata": {},
     "output_type": "execute_result"
    }
   ],
   "source": [
    "DATAPATH"
   ]
  },
  {
   "cell_type": "code",
   "execution_count": 7,
   "id": "53a788a7-54f3-4b3e-8ae8-fc084e4c7ce8",
   "metadata": {},
   "outputs": [],
   "source": [
    "raw_train = pd.read_csv(os.path.join(DATAPATH, \"train.csv\"))\n",
    "raw_test = pd.read_csv(os.path.join(DATAPATH, \"test.csv\"))"
   ]
  },
  {
   "cell_type": "code",
   "execution_count": 8,
   "id": "4a5aeb58-8e1c-4e19-9fb3-fe9e463605e3",
   "metadata": {},
   "outputs": [
    {
     "data": {
      "text/html": [
       "<div>\n",
       "<style scoped>\n",
       "    .dataframe tbody tr th:only-of-type {\n",
       "        vertical-align: middle;\n",
       "    }\n",
       "\n",
       "    .dataframe tbody tr th {\n",
       "        vertical-align: top;\n",
       "    }\n",
       "\n",
       "    .dataframe thead th {\n",
       "        text-align: right;\n",
       "    }\n",
       "</style>\n",
       "<table border=\"1\" class=\"dataframe\">\n",
       "  <thead>\n",
       "    <tr style=\"text-align: right;\">\n",
       "      <th></th>\n",
       "      <th>uid</th>\n",
       "      <th>city</th>\n",
       "      <th>description</th>\n",
       "      <th>homeType</th>\n",
       "      <th>latitude</th>\n",
       "      <th>longitude</th>\n",
       "      <th>garageSpaces</th>\n",
       "      <th>hasSpa</th>\n",
       "      <th>yearBuilt</th>\n",
       "      <th>numOfPatioAndPorchFeatures</th>\n",
       "      <th>lotSizeSqFt</th>\n",
       "      <th>avgSchoolRating</th>\n",
       "      <th>MedianStudentsPerTeacher</th>\n",
       "      <th>numOfBathrooms</th>\n",
       "      <th>numOfBedrooms</th>\n",
       "      <th>priceRange</th>\n",
       "    </tr>\n",
       "  </thead>\n",
       "  <tbody>\n",
       "    <tr>\n",
       "      <th>401</th>\n",
       "      <td>13491</td>\n",
       "      <td>austin</td>\n",
       "      <td>NaN</td>\n",
       "      <td>Single Family</td>\n",
       "      <td>30.189535</td>\n",
       "      <td>-97.897896</td>\n",
       "      <td>2</td>\n",
       "      <td>False</td>\n",
       "      <td>2002</td>\n",
       "      <td>1</td>\n",
       "      <td>10890.0</td>\n",
       "      <td>8.666667</td>\n",
       "      <td>18</td>\n",
       "      <td>3.0</td>\n",
       "      <td>4</td>\n",
       "      <td>450000-650000</td>\n",
       "    </tr>\n",
       "  </tbody>\n",
       "</table>\n",
       "</div>"
      ],
      "text/plain": [
       "       uid    city description       homeType   latitude  longitude  garageSpaces  hasSpa  yearBuilt  numOfPatioAndPorchFeatures  lotSizeSqFt  avgSchoolRating  MedianStudentsPerTeacher  numOfBathrooms  numOfBedrooms     priceRange\n",
       "401  13491  austin         NaN  Single Family  30.189535 -97.897896             2   False       2002                           1      10890.0         8.666667                        18             3.0              4  450000-650000"
      ]
     },
     "execution_count": 8,
     "metadata": {},
     "output_type": "execute_result"
    }
   ],
   "source": [
    "raw_test[raw_test['description'].isnull()]"
   ]
  },
  {
   "cell_type": "markdown",
   "id": "d702d486-229a-43b2-8425-0f0159748e91",
   "metadata": {},
   "source": [
    "---\n",
    "\n",
    "<center><h1>💻💻 Data Preparation 💻 💻</h1></center>\n",
    "\n",
    "---"
   ]
  },
  {
   "cell_type": "code",
   "execution_count": 9,
   "id": "ca691e6b-93bc-4810-9d07-43d5bd171dc9",
   "metadata": {},
   "outputs": [
    {
     "data": {
      "text/html": [
       "<div>\n",
       "<style scoped>\n",
       "    .dataframe tbody tr th:only-of-type {\n",
       "        vertical-align: middle;\n",
       "    }\n",
       "\n",
       "    .dataframe tbody tr th {\n",
       "        vertical-align: top;\n",
       "    }\n",
       "\n",
       "    .dataframe thead th {\n",
       "        text-align: right;\n",
       "    }\n",
       "</style>\n",
       "<table border=\"1\" class=\"dataframe\">\n",
       "  <thead>\n",
       "    <tr style=\"text-align: right;\">\n",
       "      <th></th>\n",
       "      <th>uid</th>\n",
       "      <th>city</th>\n",
       "      <th>description</th>\n",
       "      <th>homeType</th>\n",
       "      <th>latitude</th>\n",
       "      <th>longitude</th>\n",
       "      <th>garageSpaces</th>\n",
       "      <th>hasSpa</th>\n",
       "      <th>yearBuilt</th>\n",
       "      <th>numOfPatioAndPorchFeatures</th>\n",
       "      <th>lotSizeSqFt</th>\n",
       "      <th>avgSchoolRating</th>\n",
       "      <th>MedianStudentsPerTeacher</th>\n",
       "      <th>numOfBathrooms</th>\n",
       "      <th>numOfBedrooms</th>\n",
       "      <th>priceRange</th>\n",
       "    </tr>\n",
       "  </thead>\n",
       "  <tbody>\n",
       "    <tr>\n",
       "      <th>7056</th>\n",
       "      <td>8016</td>\n",
       "      <td>austin</td>\n",
       "      <td>3304 Mcelroy Dr #A, Austin, TX 78757 is a cond...</td>\n",
       "      <td>Condo</td>\n",
       "      <td>30.357960</td>\n",
       "      <td>-97.743401</td>\n",
       "      <td>2</td>\n",
       "      <td>False</td>\n",
       "      <td>1966</td>\n",
       "      <td>2</td>\n",
       "      <td>8712.0</td>\n",
       "      <td>6.666667</td>\n",
       "      <td>16</td>\n",
       "      <td>2.0</td>\n",
       "      <td>3</td>\n",
       "      <td>350000-450000</td>\n",
       "    </tr>\n",
       "    <tr>\n",
       "      <th>1382</th>\n",
       "      <td>2197</td>\n",
       "      <td>austin</td>\n",
       "      <td>Vista Point 1792 1-story plan has 4-Sides maso...</td>\n",
       "      <td>Single Family</td>\n",
       "      <td>30.163876</td>\n",
       "      <td>-97.732552</td>\n",
       "      <td>2</td>\n",
       "      <td>False</td>\n",
       "      <td>2015</td>\n",
       "      <td>1</td>\n",
       "      <td>6054.0</td>\n",
       "      <td>3.666667</td>\n",
       "      <td>12</td>\n",
       "      <td>2.0</td>\n",
       "      <td>3</td>\n",
       "      <td>250000-350000</td>\n",
       "    </tr>\n",
       "    <tr>\n",
       "      <th>6278</th>\n",
       "      <td>7246</td>\n",
       "      <td>austin</td>\n",
       "      <td>8300 Belclaire Cir, Austin, TX 78748 is a sing...</td>\n",
       "      <td>Single Family</td>\n",
       "      <td>30.179314</td>\n",
       "      <td>-97.792999</td>\n",
       "      <td>0</td>\n",
       "      <td>False</td>\n",
       "      <td>1977</td>\n",
       "      <td>1</td>\n",
       "      <td>11325.6</td>\n",
       "      <td>3.333333</td>\n",
       "      <td>13</td>\n",
       "      <td>2.0</td>\n",
       "      <td>4</td>\n",
       "      <td>250000-350000</td>\n",
       "    </tr>\n",
       "  </tbody>\n",
       "</table>\n",
       "</div>"
      ],
      "text/plain": [
       "       uid    city                                        description       homeType   latitude  longitude  garageSpaces  hasSpa  yearBuilt  numOfPatioAndPorchFeatures  lotSizeSqFt  avgSchoolRating  MedianStudentsPerTeacher  numOfBathrooms  numOfBedrooms     priceRange\n",
       "7056  8016  austin  3304 Mcelroy Dr #A, Austin, TX 78757 is a cond...          Condo  30.357960 -97.743401             2   False       1966                           2       8712.0         6.666667                        16             2.0              3  350000-450000\n",
       "1382  2197  austin  Vista Point 1792 1-story plan has 4-Sides maso...  Single Family  30.163876 -97.732552             2   False       2015                           1       6054.0         3.666667                        12             2.0              3  250000-350000\n",
       "6278  7246  austin  8300 Belclaire Cir, Austin, TX 78748 is a sing...  Single Family  30.179314 -97.792999             0   False       1977                           1      11325.6         3.333333                        13             2.0              4  250000-350000"
      ]
     },
     "execution_count": 9,
     "metadata": {},
     "output_type": "execute_result"
    }
   ],
   "source": [
    "raw_train.sample(3)"
   ]
  },
  {
   "cell_type": "code",
   "execution_count": 10,
   "id": "942164de-3172-4a5f-82f0-f00adc5760a1",
   "metadata": {},
   "outputs": [
    {
     "data": {
      "text/plain": [
       "uid                             int64\n",
       "city                           object\n",
       "description                    object\n",
       "homeType                       object\n",
       "latitude                      float64\n",
       "longitude                     float64\n",
       "garageSpaces                    int64\n",
       "hasSpa                           bool\n",
       "yearBuilt                       int64\n",
       "numOfPatioAndPorchFeatures      int64\n",
       "lotSizeSqFt                   float64\n",
       "avgSchoolRating               float64\n",
       "MedianStudentsPerTeacher        int64\n",
       "numOfBathrooms                float64\n",
       "numOfBedrooms                   int64\n",
       "priceRange                     object\n",
       "dtype: object"
      ]
     },
     "execution_count": 10,
     "metadata": {},
     "output_type": "execute_result"
    }
   ],
   "source": [
    "raw_test.dtypes"
   ]
  },
  {
   "cell_type": "code",
   "execution_count": 29,
   "id": "bcab3121-8be2-455a-84af-0c7150bf331c",
   "metadata": {},
   "outputs": [
    {
     "data": {
      "text/plain": [
       "((9000, 16), (1000, 16))"
      ]
     },
     "execution_count": 29,
     "metadata": {},
     "output_type": "execute_result"
    }
   ],
   "source": [
    "raw_train.shape, raw_test.shape"
   ]
  },
  {
   "cell_type": "code",
   "execution_count": 12,
   "id": "ca98e687-4c0d-4439-bf86-4cc6bab5b023",
   "metadata": {},
   "outputs": [
    {
     "data": {
      "text/plain": [
       "PosixPath('/home/javier/repos/mle_challenge/model')"
      ]
     },
     "execution_count": 12,
     "metadata": {},
     "output_type": "execute_result"
    }
   ],
   "source": [
    "PACKAGE_ROOT"
   ]
  },
  {
   "cell_type": "code",
   "execution_count": 17,
   "id": "e3d6bcdd-23f3-4575-9232-14b8e71ec131",
   "metadata": {},
   "outputs": [],
   "source": [
    "import packaging_ml_model.prediction_model.processing.preprocessing as pp\n",
    "from packaging_ml_model.prediction_model.config import config"
   ]
  },
  {
   "cell_type": "code",
   "execution_count": 18,
   "id": "d60a6c85-06e6-4975-a774-6f1996203c0f",
   "metadata": {},
   "outputs": [],
   "source": [
    "pipeline = Pipeline(\n",
    "    [\n",
    "        (\n",
    "            \"DataFrameTypeConverter\",\n",
    "            pp.DataFrameTypeConverter(conversion_dict=config.CONVERSION_DICT),\n",
    "        ),\n",
    "        (\n",
    "            \"DropColumns\",\n",
    "            pp.DropColumns(variables_to_drop=config.VARIABLES_TO_DROP),\n",
    "        ),\n",
    "        (\n",
    "            \"ModeImputer\",\n",
    "            pp.ModeImputer(variables=config.CATEGORICAL_FEATURES),\n",
    "        ),\n",
    "        (\n",
    "            \"DataFrameProcessor\",\n",
    "            pp.DataFrameProcessor(features=config.FEATURES_MODIFY, quantile_threshold=0.1),\n",
    "        ),\n",
    "        (\n",
    "            \"MedianImputer\",\n",
    "            pp.MedianImputer(variables=config.NUMERICAL_FEATURES),\n",
    "        ),\n",
    "        (\n",
    "            \"Winsorizer\",\n",
    "            pp.Winsorizer(numerical_features=config.NUMERICAL_FEATURES, limits=[0.025, 0.025]),\n",
    "        ),\n",
    "        (\n",
    "            \"DropColumns2\",\n",
    "            pp.DropColumns(variables_to_drop=config.NUMERICAL_FEATURES),\n",
    "        ),\n",
    "        (\n",
    "            \"CoordinateBinner\",\n",
    "            pp.CoordinateBinner(columns=config.GEOLOCATION, decimal_places=3),\n",
    "        ),\n",
    "        (\n",
    "            \"DropColumns3\",\n",
    "            pp.DropColumns(variables_to_drop=config.GEOLOCATION),\n",
    "        ),\n",
    "        (\n",
    "            \"TextProcessor\",\n",
    "            pp.TextProcessor(column=config.DESCRIPTION_FEATURE, blacklist=config.BLACK_LIST),\n",
    "        ),\n",
    "        (\n",
    "            \"TFIDFTransformer\",\n",
    "            pp.TFIDFTransformer(column=config.DESCRIPTION_FEATURE, max_features=20),\n",
    "        ),\n",
    "        (\n",
    "            \"NumericalFeatureSelector\",\n",
    "            pp.NumericalFeatureSelector(remove_columns=config.TO_REMOVE),\n",
    "        ),\n",
    "        (\n",
    "            \"LogTransforms\",\n",
    "            pp.LogTransforms(),\n",
    "        ),\n",
    "        (\n",
    "            \"DataScaler\",\n",
    "            pp.DataScaler(),\n",
    "        ),\n",
    "        (\n",
    "            \"CorrelationMatrixProcessor\",\n",
    "            pp.CorrelationMatrixProcessor(threshold=0.7),\n",
    "        ),\n",
    "        (\n",
    "            \"FeatureVariance\",\n",
    "            pp.FeatureVariance(threshold=0.001),\n",
    "        ),\n",
    "        (\n",
    "            \"DropColumns4\",\n",
    "            pp.DropColumns(variables_to_drop=config.DESCRIPTION_FEATURE),\n",
    "        ),\n",
    "        (\n",
    "            \"LabelEncoderProcessor\",\n",
    "            pp.LabelEncoderProcessor(),\n",
    "        ),\n",
    "        (\n",
    "            \"DataFrameTypeConverter2\",\n",
    "            pp.DataFrameTypeConverter(conversion_dict=config.CONVERSION_DICT2),\n",
    "        ),\n",
    "    ]\n",
    ")"
   ]
  },
  {
   "cell_type": "code",
   "execution_count": 19,
   "id": "86010fd7-d727-45be-9b2b-b23ce73daf69",
   "metadata": {},
   "outputs": [],
   "source": [
    "transformed_train = pipeline.fit_transform(raw_train)"
   ]
  },
  {
   "cell_type": "code",
   "execution_count": 20,
   "id": "91612f36-af71-47ce-9743-3d46d5302f5c",
   "metadata": {},
   "outputs": [
    {
     "data": {
      "text/html": [
       "<div>\n",
       "<style scoped>\n",
       "    .dataframe tbody tr th:only-of-type {\n",
       "        vertical-align: middle;\n",
       "    }\n",
       "\n",
       "    .dataframe tbody tr th {\n",
       "        vertical-align: top;\n",
       "    }\n",
       "\n",
       "    .dataframe thead th {\n",
       "        text-align: right;\n",
       "    }\n",
       "</style>\n",
       "<table border=\"1\" class=\"dataframe\">\n",
       "  <thead>\n",
       "    <tr style=\"text-align: right;\">\n",
       "      <th></th>\n",
       "      <th>city</th>\n",
       "      <th>homeType</th>\n",
       "      <th>hasSpa</th>\n",
       "      <th>priceRange</th>\n",
       "      <th>garageSpaces_winsor</th>\n",
       "      <th>yearBuilt_winsor</th>\n",
       "      <th>numOfPatioAndPorchFeatures_winsor</th>\n",
       "      <th>lotSizeSqFt_winsor</th>\n",
       "      <th>avgSchoolRating_winsor</th>\n",
       "      <th>numOfBathrooms_winsor</th>\n",
       "      <th>numOfBedrooms_winsor</th>\n",
       "      <th>homeType_count_winsor</th>\n",
       "      <th>latitude_winsor_3</th>\n",
       "      <th>longitude_winsor_3</th>\n",
       "      <th>area</th>\n",
       "      <th>back</th>\n",
       "      <th>backyard</th>\n",
       "      <th>build</th>\n",
       "      <th>ceiling</th>\n",
       "      <th>contain</th>\n",
       "      <th>family</th>\n",
       "      <th>feature</th>\n",
       "      <th>from</th>\n",
       "      <th>great</th>\n",
       "      <th>include</th>\n",
       "      <th>large</th>\n",
       "      <th>living</th>\n",
       "      <th>lot</th>\n",
       "      <th>new</th>\n",
       "      <th>open</th>\n",
       "      <th>update</th>\n",
       "      <th>walk</th>\n",
       "    </tr>\n",
       "  </thead>\n",
       "  <tbody>\n",
       "    <tr>\n",
       "      <th>6436</th>\n",
       "      <td>1.0</td>\n",
       "      <td>1.0</td>\n",
       "      <td>0.0</td>\n",
       "      <td>2</td>\n",
       "      <td>0.682606</td>\n",
       "      <td>0.734621</td>\n",
       "      <td>0.5</td>\n",
       "      <td>0.235674</td>\n",
       "      <td>0.710023</td>\n",
       "      <td>0.63093</td>\n",
       "      <td>0.415037</td>\n",
       "      <td>1.0</td>\n",
       "      <td>0.813145</td>\n",
       "      <td>0.258864</td>\n",
       "      <td>0.0</td>\n",
       "      <td>0.392376</td>\n",
       "      <td>0.366115</td>\n",
       "      <td>0.0</td>\n",
       "      <td>0.390182</td>\n",
       "      <td>0.0</td>\n",
       "      <td>0.0</td>\n",
       "      <td>0.0</td>\n",
       "      <td>0.0</td>\n",
       "      <td>0.383926</td>\n",
       "      <td>0.0</td>\n",
       "      <td>0.326928</td>\n",
       "      <td>0.333059</td>\n",
       "      <td>0.661114</td>\n",
       "      <td>0.0</td>\n",
       "      <td>0.326144</td>\n",
       "      <td>0.0</td>\n",
       "      <td>0.387745</td>\n",
       "    </tr>\n",
       "  </tbody>\n",
       "</table>\n",
       "</div>"
      ],
      "text/plain": [
       "      city  homeType  hasSpa  priceRange  garageSpaces_winsor  yearBuilt_winsor  numOfPatioAndPorchFeatures_winsor  lotSizeSqFt_winsor  avgSchoolRating_winsor  numOfBathrooms_winsor  numOfBedrooms_winsor  homeType_count_winsor  latitude_winsor_3  longitude_winsor_3  area      back  backyard  build   ceiling  contain  family  feature  from     great  include     large    living       lot  new      open  update      walk\n",
       "6436   1.0       1.0     0.0           2             0.682606          0.734621                                0.5            0.235674                0.710023                0.63093              0.415037                    1.0           0.813145            0.258864   0.0  0.392376  0.366115    0.0  0.390182      0.0     0.0      0.0   0.0  0.383926      0.0  0.326928  0.333059  0.661114  0.0  0.326144     0.0  0.387745"
      ]
     },
     "execution_count": 20,
     "metadata": {},
     "output_type": "execute_result"
    }
   ],
   "source": [
    "transformed_train.sample()"
   ]
  },
  {
   "cell_type": "code",
   "execution_count": 21,
   "id": "28ec4943-4e1a-4d96-b0a5-1dda77de34db",
   "metadata": {},
   "outputs": [
    {
     "data": {
      "text/html": [
       "<div>\n",
       "<style scoped>\n",
       "    .dataframe tbody tr th:only-of-type {\n",
       "        vertical-align: middle;\n",
       "    }\n",
       "\n",
       "    .dataframe tbody tr th {\n",
       "        vertical-align: top;\n",
       "    }\n",
       "\n",
       "    .dataframe thead th {\n",
       "        text-align: right;\n",
       "    }\n",
       "</style>\n",
       "<table border=\"1\" class=\"dataframe\">\n",
       "  <thead>\n",
       "    <tr style=\"text-align: right;\">\n",
       "      <th></th>\n",
       "      <th>uid</th>\n",
       "      <th>city</th>\n",
       "      <th>description</th>\n",
       "      <th>homeType</th>\n",
       "      <th>latitude</th>\n",
       "      <th>longitude</th>\n",
       "      <th>garageSpaces</th>\n",
       "      <th>hasSpa</th>\n",
       "      <th>yearBuilt</th>\n",
       "      <th>numOfPatioAndPorchFeatures</th>\n",
       "      <th>lotSizeSqFt</th>\n",
       "      <th>avgSchoolRating</th>\n",
       "      <th>MedianStudentsPerTeacher</th>\n",
       "      <th>numOfBathrooms</th>\n",
       "      <th>numOfBedrooms</th>\n",
       "      <th>priceRange</th>\n",
       "    </tr>\n",
       "  </thead>\n",
       "  <tbody>\n",
       "    <tr>\n",
       "      <th>18</th>\n",
       "      <td>9914</td>\n",
       "      <td>austin</td>\n",
       "      <td>Recently remodeled 3 Bedroom 2 Bath house. All...</td>\n",
       "      <td>Single Family</td>\n",
       "      <td>30.291206</td>\n",
       "      <td>-97.677483</td>\n",
       "      <td>1</td>\n",
       "      <td>False</td>\n",
       "      <td>1999</td>\n",
       "      <td>0</td>\n",
       "      <td>7666.0</td>\n",
       "      <td>3.0</td>\n",
       "      <td>15</td>\n",
       "      <td>2.0</td>\n",
       "      <td>3</td>\n",
       "      <td>0-250000</td>\n",
       "    </tr>\n",
       "  </tbody>\n",
       "</table>\n",
       "</div>"
      ],
      "text/plain": [
       "     uid    city                                        description       homeType   latitude  longitude  garageSpaces  hasSpa  yearBuilt  numOfPatioAndPorchFeatures  lotSizeSqFt  avgSchoolRating  MedianStudentsPerTeacher  numOfBathrooms  numOfBedrooms priceRange\n",
       "18  9914  austin  Recently remodeled 3 Bedroom 2 Bath house. All...  Single Family  30.291206 -97.677483             1   False       1999                           0       7666.0              3.0                        15             2.0              3   0-250000"
      ]
     },
     "execution_count": 21,
     "metadata": {},
     "output_type": "execute_result"
    }
   ],
   "source": [
    "raw_train.sample()"
   ]
  },
  {
   "cell_type": "code",
   "execution_count": 22,
   "id": "e06f4a3b-1cc0-45a5-80f0-cad4f5752b9a",
   "metadata": {},
   "outputs": [],
   "source": [
    "transformed_test = pipeline.fit_transform(raw_test)"
   ]
  },
  {
   "cell_type": "code",
   "execution_count": 23,
   "id": "87b5391a-b8bb-4282-907d-467b456437c2",
   "metadata": {},
   "outputs": [
    {
     "data": {
      "text/plain": [
       "((9000, 32), (1000, 32))"
      ]
     },
     "execution_count": 23,
     "metadata": {},
     "output_type": "execute_result"
    }
   ],
   "source": [
    "transformed_train.shape, transformed_test.shape"
   ]
  },
  {
   "cell_type": "code",
   "execution_count": 24,
   "id": "47ea0746-676f-4614-8533-0c1cdb10bc52",
   "metadata": {},
   "outputs": [
    {
     "data": {
      "text/plain": [
       "(0, 0)"
      ]
     },
     "execution_count": 24,
     "metadata": {},
     "output_type": "execute_result"
    }
   ],
   "source": [
    "transformed_train.isnull().sum().sum(), transformed_test.isnull().sum().sum()"
   ]
  },
  {
   "cell_type": "code",
   "execution_count": 25,
   "id": "2d3005fd-602f-467f-baf3-dbe899b9c978",
   "metadata": {},
   "outputs": [],
   "source": [
    "list_train = list(transformed_train.columns)\n",
    "list_test = list(transformed_test.columns)"
   ]
  },
  {
   "cell_type": "code",
   "execution_count": 26,
   "id": "49a6f5a4-e4fa-495b-a13e-a7c01020bcbe",
   "metadata": {},
   "outputs": [],
   "source": [
    "no_common1 = [element for element in list_train if element not in list_test]\n",
    "no_common2 = [element for element in list_test if element not in list_train]"
   ]
  },
  {
   "cell_type": "code",
   "execution_count": 27,
   "id": "a24621dd-9971-44b0-8a2a-32b271edb9e4",
   "metadata": {},
   "outputs": [
    {
     "data": {
      "text/plain": [
       "([], [])"
      ]
     },
     "execution_count": 27,
     "metadata": {},
     "output_type": "execute_result"
    }
   ],
   "source": [
    "no_common1, no_common2"
   ]
  },
  {
   "cell_type": "code",
   "execution_count": 30,
   "id": "e7d50371-8c5a-4979-b1d4-6a8a815e9ea2",
   "metadata": {},
   "outputs": [],
   "source": [
    "train_y = transformed_train['priceRange']\n",
    "train_X = transformed_train.drop(['priceRange'], axis=1)"
   ]
  },
  {
   "cell_type": "code",
   "execution_count": 32,
   "id": "9865ccb1-7092-4ffd-b178-7cb16372e28e",
   "metadata": {},
   "outputs": [
    {
     "name": "stdout",
     "output_type": "stream",
     "text": [
      "train data size: (7200, 31)\n",
      "test data size: (1800, 31)\n"
     ]
    }
   ],
   "source": [
    "#Let’s split X and y using Train validation split\n",
    "X_train, X_validation, y_train, y_validation = train_test_split(train_X, train_y, train_size=0.8, random_state= 2022, stratify=train_y)\n",
    "\n",
    "#get shape of train and test data\n",
    "print(\"train data size:\", X_train.shape)\n",
    "print(\"test data size:\", X_validation.shape)"
   ]
  },
  {
   "cell_type": "code",
   "execution_count": 34,
   "id": "6c626ca1-1467-4de3-b38b-976379f1387c",
   "metadata": {},
   "outputs": [
    {
     "data": {
      "text/plain": [
       "(priceRange\n",
       " 1    0.235833\n",
       " 2    0.230694\n",
       " 3    0.228194\n",
       " 4    0.181667\n",
       " 0    0.123611\n",
       " Name: proportion, dtype: float64,\n",
       " priceRange\n",
       " 1    0.236111\n",
       " 2    0.230556\n",
       " 3    0.228333\n",
       " 4    0.181667\n",
       " 0    0.123333\n",
       " Name: proportion, dtype: float64)"
      ]
     },
     "execution_count": 34,
     "metadata": {},
     "output_type": "execute_result"
    }
   ],
   "source": [
    "y_train.value_counts(normalize=True), y_validation.value_counts(normalize=True)"
   ]
  },
  {
   "cell_type": "code",
   "execution_count": 35,
   "id": "8aae7c62-8345-4ec3-b722-6b202a20a6eb",
   "metadata": {},
   "outputs": [],
   "source": [
    "from sklearn.model_selection import cross_val_score\n",
    "\n",
    "from sklearn.ensemble import RandomForestClassifier\n",
    "from sklearn.tree import DecisionTreeClassifier\n",
    "from sklearn.neighbors import KNeighborsClassifier\n",
    "from sklearn.linear_model import LogisticRegression\n",
    "import xgboost as xgb\n",
    "from xgboost import XGBClassifier\n",
    "from sklearn.svm import SVC\n",
    "\n",
    "from sklearn.metrics import classification_report, accuracy_score"
   ]
  },
  {
   "cell_type": "code",
   "execution_count": 36,
   "id": "0108e405-a749-495d-87cb-8b48f5591dc4",
   "metadata": {},
   "outputs": [],
   "source": [
    "from sklearn.ensemble import StackingClassifier"
   ]
  },
  {
   "cell_type": "code",
   "execution_count": 37,
   "id": "b54eea43-15af-4b9b-ab77-5d1d885343eb",
   "metadata": {},
   "outputs": [],
   "source": [
    "from sklearn.model_selection import KFold"
   ]
  },
  {
   "cell_type": "code",
   "execution_count": 38,
   "id": "e6aad13f-ef5a-422b-9700-15dd5edcc0d6",
   "metadata": {},
   "outputs": [],
   "source": [
    "import time"
   ]
  },
  {
   "cell_type": "code",
   "execution_count": 39,
   "id": "2bb94ea2-57e5-49eb-a8d5-3a92ea88f27e",
   "metadata": {},
   "outputs": [],
   "source": [
    "def cv_score(ml_model, rstate=11, cols=None, df=None, df_y=None):\n",
    "    start_time = time.time()\n",
    "\n",
    "    if df is None or df_y is None:\n",
    "        raise ValueError(\"DataFrames df and df_y must be provided\")\n",
    "\n",
    "    if cols is not None:\n",
    "        df1 = df[cols].copy()\n",
    "    else:\n",
    "        df1 = df.copy()\n",
    "\n",
    "    i = 1\n",
    "    cv_scores = []\n",
    "    \n",
    "    kf = KFold(n_splits=5, random_state=rstate, shuffle=True)\n",
    "    \n",
    "    for train_index, test_index in kf.split(df1):\n",
    "        xtr, xvl = df1.iloc[train_index], df1.iloc[test_index]\n",
    "        ytr, yvl = df_y.iloc[train_index], df_y.iloc[test_index]\n",
    "\n",
    "        model = ml_model\n",
    "        model.fit(xtr, ytr)\n",
    "        pred_val = model.predict(xvl)\n",
    "        \n",
    "        # Calculate accuracy\n",
    "        accuracy = accuracy_score(yvl, pred_val)\n",
    "        \n",
    "        # Save scores\n",
    "        cv_scores.append(accuracy)\n",
    "        i += 1\n",
    "    end_time = time.time()\n",
    "    \n",
    "    print(f\"The duration for training the model is: {(end_time - start_time)}. The scores are given by {np.mean(cv_scores)}\")\n",
    "    return cv_scores"
   ]
  },
  {
   "cell_type": "code",
   "execution_count": 40,
   "id": "ca38a9f1-2a47-4cf7-9718-69b41d4d4b9e",
   "metadata": {},
   "outputs": [
    {
     "name": "stdout",
     "output_type": "stream",
     "text": [
      "The duration for training the model is: 5.460996627807617. The scores are given by 0.5955555555555556\n"
     ]
    }
   ],
   "source": [
    "random_forest_classifier = cv_score(RandomForestClassifier(n_estimators=100, random_state=20230916), df = X_train, df_y = y_train)"
   ]
  },
  {
   "cell_type": "code",
   "execution_count": 41,
   "id": "4d30a353-448c-405d-9a99-21182fe749fd",
   "metadata": {},
   "outputs": [
    {
     "name": "stdout",
     "output_type": "stream",
     "text": [
      "The duration for training the model is: 0.43598484992980957. The scores are given by 0.3675\n"
     ]
    }
   ],
   "source": [
    "knn_neighbors_classifier = cv_score(KNeighborsClassifier(n_neighbors=3), df = X_train, df_y = y_train)"
   ]
  },
  {
   "cell_type": "code",
   "execution_count": 42,
   "id": "bb76d026-defd-48b0-8fd5-9c68fab85808",
   "metadata": {},
   "outputs": [
    {
     "name": "stdout",
     "output_type": "stream",
     "text": [
      "The duration for training the model is: 0.3497886657714844. The scores are given by 0.49777777777777776\n"
     ]
    }
   ],
   "source": [
    "decision_tree_classifier = cv_score(DecisionTreeClassifier(random_state=20230916), df = X_train, df_y = y_train)"
   ]
  },
  {
   "cell_type": "code",
   "execution_count": 43,
   "id": "925f1dc8-47b7-40b3-8e00-9ad33a59f9d9",
   "metadata": {},
   "outputs": [
    {
     "name": "stdout",
     "output_type": "stream",
     "text": [
      "The duration for training the model is: 4.647068738937378. The scores are given by 0.5877777777777778\n"
     ]
    }
   ],
   "source": [
    "xgb_classifier = cv_score(XGBClassifier(random_state=20230916), df = X_train, df_y = y_train)"
   ]
  },
  {
   "cell_type": "code",
   "execution_count": 44,
   "id": "4c65a314-be15-4144-a0a7-ce920eb54ae0",
   "metadata": {},
   "outputs": [],
   "source": [
    "results_df = pd.DataFrame({'RandomForestClassifier':random_forest_classifier, \n",
    "                           'KNeighborsClassifier': knn_neighbors_classifier, \n",
    "                           'DecisionTreeClassifier': decision_tree_classifier, \n",
    "                           'XGBClassifier': xgb_classifier})"
   ]
  },
  {
   "cell_type": "code",
   "execution_count": 45,
   "id": "90162c9a-e3d5-4101-be62-976669bf5a73",
   "metadata": {},
   "outputs": [
    {
     "data": {
      "image/png": "[encoded data removed]",
      "text/plain": [
       "<Figure size 640x480 with 1 Axes>"
      ]
     },
     "metadata": {},
     "output_type": "display_data"
    }
   ],
   "source": [
    "results_df.plot(y=[\"RandomForestClassifier\", \"KNeighborsClassifier\", 'DecisionTreeClassifier', 'XGBClassifier'], kind=\"bar\", legend=False)\n",
    "plt.legend(bbox_to_anchor=(1, 1), loc=2, borderaxespad=0.)\n",
    "plt.show()"
   ]
  },
  {
   "cell_type": "code",
   "execution_count": 47,
   "id": "28c0a749-0009-4efe-a483-d92487ed2ac7",
   "metadata": {},
   "outputs": [],
   "source": [
    "# Base models\n",
    "estimators = [\n",
    "    ('rf', RandomForestClassifier(n_estimators=100, random_state=20230916)),\n",
    "    ('xgb', XGBClassifier(random_state=20230916)),\n",
    "]\n",
    "\n",
    "# Meta-model\n",
    "meta_model = LogisticRegression()\n",
    "\n",
    "# Stacking classifier\n",
    "stacking_clf = StackingClassifier(estimators=estimators, \n",
    "                                  final_estimator=meta_model,\n",
    "                                  cv=5)\n",
    "\n",
    "# Fit the model\n",
    "stacking_clf.fit(X_train, y_train)\n",
    "\n",
    "# Make predictions\n",
    "y_pred = stacking_clf.predict(X_validation)"
   ]
  },
  {
   "cell_type": "code",
   "execution_count": 49,
   "id": "290a26d2-fb08-4820-a604-e21cd0805e94",
   "metadata": {},
   "outputs": [
    {
     "name": "stdout",
     "output_type": "stream",
     "text": [
      "Accuracy: 0.6094444444444445\n",
      "\n",
      "Classification Report:\n",
      "               precision    recall  f1-score   support\n",
      "\n",
      "           0       0.77      0.46      0.58       222\n",
      "           1       0.58      0.68      0.62       425\n",
      "           2       0.51      0.49      0.50       415\n",
      "           3       0.57      0.61      0.59       411\n",
      "           4       0.78      0.77      0.77       327\n",
      "\n",
      "    accuracy                           0.61      1800\n",
      "   macro avg       0.64      0.60      0.61      1800\n",
      "weighted avg       0.62      0.61      0.61      1800\n",
      "\n"
     ]
    }
   ],
   "source": [
    "print(\"Accuracy:\", accuracy_score(y_validation, y_pred))\n",
    "print(\"\\nClassification Report:\\n\", classification_report(y_validation, y_pred))"
   ]
  },
  {
   "cell_type": "markdown",
   "id": "9d57fafe-60a1-4d07-bc99-80d3ebb122af",
   "metadata": {},
   "source": [
    "# BEST MODEL FROM MLFLOW"
   ]
  },
  {
   "cell_type": "code",
   "execution_count": 116,
   "id": "7f0f07ff-63ff-442e-a655-809999251915",
   "metadata": {},
   "outputs": [],
   "source": [
    "modex_xgboost_best = XGBClassifier(learning_rate= 0.1,\n",
    "                                   max_depth= 5,\n",
    "                                   n_estimators= 300,\n",
    "                                   reg_alpha= 0.01,\n",
    "                                   reg_lambda= 0.1,\n",
    "                                   random_state=20230916)"
   ]
  },
  {
   "cell_type": "code",
   "execution_count": 117,
   "id": "5ccd7498-f500-492b-8aa5-5b5d83c2f1b0",
   "metadata": {},
   "outputs": [
    {
     "data": {
      "text/html": [
       "<style>#sk-container-id-5 {color: black;}#sk-container-id-5 pre{padding: 0;}#sk-container-id-5 div.sk-toggleable {background-color: white;}#sk-container-id-5 label.sk-toggleable__label {cursor: pointer;display: block;width: 100%;margin-bottom: 0;padding: 0.3em;box-sizing: border-box;text-align: center;}#sk-container-id-5 label.sk-toggleable__label-arrow:before {content: \"▸\";float: left;margin-right: 0.25em;color: #696969;}#sk-container-id-5 label.sk-toggleable__label-arrow:hover:before {color: black;}#sk-container-id-5 div.sk-estimator:hover label.sk-toggleable__label-arrow:before {color: black;}#sk-container-id-5 div.sk-toggleable__content {max-height: 0;max-width: 0;overflow: hidden;text-align: left;background-color: #f0f8ff;}#sk-container-id-5 div.sk-toggleable__content pre {margin: 0.2em;color: black;border-radius: 0.25em;background-color: #f0f8ff;}#sk-container-id-5 input.sk-toggleable__control:checked~div.sk-toggleable__content {max-height: 200px;max-width: 100%;overflow: auto;}#sk-container-id-5 input.sk-toggleable__control:checked~label.sk-toggleable__label-arrow:before {content: \"▾\";}#sk-container-id-5 div.sk-estimator input.sk-toggleable__control:checked~label.sk-toggleable__label {background-color: #d4ebff;}#sk-container-id-5 div.sk-label input.sk-toggleable__control:checked~label.sk-toggleable__label {background-color: #d4ebff;}#sk-container-id-5 input.sk-hidden--visually {border: 0;clip: rect(1px 1px 1px 1px);clip: rect(1px, 1px, 1px, 1px);height: 1px;margin: -1px;overflow: hidden;padding: 0;position: absolute;width: 1px;}#sk-container-id-5 div.sk-estimator {font-family: monospace;background-color: #f0f8ff;border: 1px dotted black;border-radius: 0.25em;box-sizing: border-box;margin-bottom: 0.5em;}#sk-container-id-5 div.sk-estimator:hover {background-color: #d4ebff;}#sk-container-id-5 div.sk-parallel-item::after {content: \"\";width: 100%;border-bottom: 1px solid gray;flex-grow: 1;}#sk-container-id-5 div.sk-label:hover label.sk-toggleable__label {background-color: #d4ebff;}#sk-container-id-5 div.sk-serial::before {content: \"\";position: absolute;border-left: 1px solid gray;box-sizing: border-box;top: 0;bottom: 0;left: 50%;z-index: 0;}#sk-container-id-5 div.sk-serial {display: flex;flex-direction: column;align-items: center;background-color: white;padding-right: 0.2em;padding-left: 0.2em;position: relative;}#sk-container-id-5 div.sk-item {position: relative;z-index: 1;}#sk-container-id-5 div.sk-parallel {display: flex;align-items: stretch;justify-content: center;background-color: white;position: relative;}#sk-container-id-5 div.sk-item::before, #sk-container-id-5 div.sk-parallel-item::before {content: \"\";position: absolute;border-left: 1px solid gray;box-sizing: border-box;top: 0;bottom: 0;left: 50%;z-index: -1;}#sk-container-id-5 div.sk-parallel-item {display: flex;flex-direction: column;z-index: 1;position: relative;background-color: white;}#sk-container-id-5 div.sk-parallel-item:first-child::after {align-self: flex-end;width: 50%;}#sk-container-id-5 div.sk-parallel-item:last-child::after {align-self: flex-start;width: 50%;}#sk-container-id-5 div.sk-parallel-item:only-child::after {width: 0;}#sk-container-id-5 div.sk-dashed-wrapped {border: 1px dashed gray;margin: 0 0.4em 0.5em 0.4em;box-sizing: border-box;padding-bottom: 0.4em;background-color: white;}#sk-container-id-5 div.sk-label label {font-family: monospace;font-weight: bold;display: inline-block;line-height: 1.2em;}#sk-container-id-5 div.sk-label-container {text-align: center;}#sk-container-id-5 div.sk-container {/* jupyter's `normalize.less` sets `[hidden] { display: none; }` but bootstrap.min.css set `[hidden] { display: none !important; }` so we also need the `!important` here to be able to override the default hidden behavior on the sphinx rendered scikit-learn.org. See: https://github.com/scikit-learn/scikit-learn/issues/21755 */display: inline-block !important;position: relative;}#sk-container-id-5 div.sk-text-repr-fallback {display: none;}</style><div id=\"sk-container-id-5\" class=\"sk-top-container\"><div class=\"sk-text-repr-fallback\"><pre>XGBClassifier(base_score=None, booster=None, callbacks=None,\n",
       "              colsample_bylevel=None, colsample_bynode=None,\n",
       "              colsample_bytree=None, device=None, early_stopping_rounds=None,\n",
       "              enable_categorical=False, eval_metric=None, feature_types=None,\n",
       "              gamma=None, grow_policy=None, importance_type=None,\n",
       "              interaction_constraints=None, learning_rate=0.1, max_bin=None,\n",
       "              max_cat_threshold=None, max_cat_to_onehot=None,\n",
       "              max_delta_step=None, max_depth=5, max_leaves=None,\n",
       "              min_child_weight=None, missing=nan, monotone_constraints=None,\n",
       "              multi_strategy=None, n_estimators=300, n_jobs=None,\n",
       "              num_parallel_tree=None, objective=&#x27;multi:softprob&#x27;, ...)</pre><b>In a Jupyter environment, please rerun this cell to show the HTML representation or trust the notebook. <br />On GitHub, the HTML representation is unable to render, please try loading this page with nbviewer.org.</b></div><div class=\"sk-container\" hidden><div class=\"sk-item\"><div class=\"sk-estimator sk-toggleable\"><input class=\"sk-toggleable__control sk-hidden--visually\" id=\"sk-estimator-id-5\" type=\"checkbox\" checked><label for=\"sk-estimator-id-5\" class=\"sk-toggleable__label sk-toggleable__label-arrow\">XGBClassifier</label><div class=\"sk-toggleable__content\"><pre>XGBClassifier(base_score=None, booster=None, callbacks=None,\n",
       "              colsample_bylevel=None, colsample_bynode=None,\n",
       "              colsample_bytree=None, device=None, early_stopping_rounds=None,\n",
       "              enable_categorical=False, eval_metric=None, feature_types=None,\n",
       "              gamma=None, grow_policy=None, importance_type=None,\n",
       "              interaction_constraints=None, learning_rate=0.1, max_bin=None,\n",
       "              max_cat_threshold=None, max_cat_to_onehot=None,\n",
       "              max_delta_step=None, max_depth=5, max_leaves=None,\n",
       "              min_child_weight=None, missing=nan, monotone_constraints=None,\n",
       "              multi_strategy=None, n_estimators=300, n_jobs=None,\n",
       "              num_parallel_tree=None, objective=&#x27;multi:softprob&#x27;, ...)</pre></div></div></div></div></div>"
      ],
      "text/plain": [
       "XGBClassifier(base_score=None, booster=None, callbacks=None,\n",
       "              colsample_bylevel=None, colsample_bynode=None,\n",
       "              colsample_bytree=None, device=None, early_stopping_rounds=None,\n",
       "              enable_categorical=False, eval_metric=None, feature_types=None,\n",
       "              gamma=None, grow_policy=None, importance_type=None,\n",
       "              interaction_constraints=None, learning_rate=0.1, max_bin=None,\n",
       "              max_cat_threshold=None, max_cat_to_onehot=None,\n",
       "              max_delta_step=None, max_depth=5, max_leaves=None,\n",
       "              min_child_weight=None, missing=nan, monotone_constraints=None,\n",
       "              multi_strategy=None, n_estimators=300, n_jobs=None,\n",
       "              num_parallel_tree=None, objective='multi:softprob', ...)"
      ]
     },
     "execution_count": 117,
     "metadata": {},
     "output_type": "execute_result"
    }
   ],
   "source": [
    "# Fit model \n",
    "modex_xgboost_best.fit(X_train, y_train)"
   ]
  },
  {
   "cell_type": "code",
   "execution_count": 118,
   "id": "c7991616-6441-4ab0-8460-eee090ebf699",
   "metadata": {},
   "outputs": [],
   "source": [
    "feature_names = list(X_train.columns)"
   ]
  },
  {
   "cell_type": "code",
   "execution_count": 119,
   "id": "cd0e5bca-e6e6-4eb0-96ca-5c8d566d2f8c",
   "metadata": {},
   "outputs": [
    {
     "data": {
      "image/png": "[encoded data removed]",
      "text/plain": [
       "<Figure size 1000x600 with 1 Axes>"
      ]
     },
     "metadata": {},
     "output_type": "display_data"
    }
   ],
   "source": [
    "importances = modex_xgboost_best.feature_importances_\n",
    "\n",
    "# Create a bar chart\n",
    "plt.figure(figsize=(10, 6))\n",
    "plt.barh(feature_names, importances*100, color='skyblue')\n",
    "plt.xlabel('Importance')\n",
    "plt.ylabel('Feature')\n",
    "plt.title('Feature Importances')\n",
    "plt.show()"
   ]
  },
  {
   "cell_type": "code",
   "execution_count": 120,
   "id": "855e6681-ea0d-4fe6-ac2d-d6cb60f98da3",
   "metadata": {},
   "outputs": [
    {
     "data": {
      "text/html": [
       "<div>\n",
       "<style scoped>\n",
       "    .dataframe tbody tr th:only-of-type {\n",
       "        vertical-align: middle;\n",
       "    }\n",
       "\n",
       "    .dataframe tbody tr th {\n",
       "        vertical-align: top;\n",
       "    }\n",
       "\n",
       "    .dataframe thead th {\n",
       "        text-align: right;\n",
       "    }\n",
       "</style>\n",
       "<table border=\"1\" class=\"dataframe\">\n",
       "  <thead>\n",
       "    <tr style=\"text-align: right;\">\n",
       "      <th></th>\n",
       "      <th>features</th>\n",
       "      <th>importances</th>\n",
       "    </tr>\n",
       "  </thead>\n",
       "  <tbody>\n",
       "    <tr>\n",
       "      <th>8</th>\n",
       "      <td>numOfBathrooms_winsor</td>\n",
       "      <td>13.467466</td>\n",
       "    </tr>\n",
       "    <tr>\n",
       "      <th>7</th>\n",
       "      <td>avgSchoolRating_winsor</td>\n",
       "      <td>10.251681</td>\n",
       "    </tr>\n",
       "    <tr>\n",
       "      <th>11</th>\n",
       "      <td>latitude_winsor_3</td>\n",
       "      <td>6.010605</td>\n",
       "    </tr>\n",
       "    <tr>\n",
       "      <th>12</th>\n",
       "      <td>longitude_winsor_3</td>\n",
       "      <td>5.778440</td>\n",
       "    </tr>\n",
       "    <tr>\n",
       "      <th>6</th>\n",
       "      <td>lotSizeSqFt_winsor</td>\n",
       "      <td>4.202297</td>\n",
       "    </tr>\n",
       "  </tbody>\n",
       "</table>\n",
       "</div>"
      ],
      "text/plain": [
       "                  features  importances\n",
       "8    numOfBathrooms_winsor    13.467466\n",
       "7   avgSchoolRating_winsor    10.251681\n",
       "11       latitude_winsor_3     6.010605\n",
       "12      longitude_winsor_3     5.778440\n",
       "6       lotSizeSqFt_winsor     4.202297"
      ]
     },
     "execution_count": 120,
     "metadata": {},
     "output_type": "execute_result"
    }
   ],
   "source": [
    "feature_importance = pd.DataFrame({\"features\":feature_names, \n",
    "                                             \"importances\": importances*100})\n",
    "\n",
    "feature_importance.sort_values(by='importances', ascending=False).head()"
   ]
  },
  {
   "cell_type": "code",
   "execution_count": 121,
   "id": "b15e1d86-ce1a-4522-9312-9bde81ba2150",
   "metadata": {},
   "outputs": [
    {
     "data": {
      "text/html": [
       "<div>\n",
       "<style scoped>\n",
       "    .dataframe tbody tr th:only-of-type {\n",
       "        vertical-align: middle;\n",
       "    }\n",
       "\n",
       "    .dataframe tbody tr th {\n",
       "        vertical-align: top;\n",
       "    }\n",
       "\n",
       "    .dataframe thead th {\n",
       "        text-align: right;\n",
       "    }\n",
       "</style>\n",
       "<table border=\"1\" class=\"dataframe\">\n",
       "  <thead>\n",
       "    <tr style=\"text-align: right;\">\n",
       "      <th></th>\n",
       "      <th>count</th>\n",
       "      <th>mean</th>\n",
       "      <th>std</th>\n",
       "      <th>min</th>\n",
       "      <th>25%</th>\n",
       "      <th>50%</th>\n",
       "      <th>75%</th>\n",
       "      <th>max</th>\n",
       "    </tr>\n",
       "  </thead>\n",
       "  <tbody>\n",
       "    <tr>\n",
       "      <th>importances</th>\n",
       "      <td>31.0</td>\n",
       "      <td>3.225806</td>\n",
       "      <td>2.605793</td>\n",
       "      <td>0.0</td>\n",
       "      <td>2.114195</td>\n",
       "      <td>2.296929</td>\n",
       "      <td>3.252571</td>\n",
       "      <td>13.467466</td>\n",
       "    </tr>\n",
       "  </tbody>\n",
       "</table>\n",
       "</div>"
      ],
      "text/plain": [
       "             count      mean       std  min       25%       50%       75%        max\n",
       "importances   31.0  3.225806  2.605793  0.0  2.114195  2.296929  3.252571  13.467466"
      ]
     },
     "execution_count": 121,
     "metadata": {},
     "output_type": "execute_result"
    }
   ],
   "source": [
    "feature_importance.describe().T"
   ]
  },
  {
   "cell_type": "markdown",
   "id": "20fee059-36b7-4308-b2eb-3f83e4738b86",
   "metadata": {},
   "source": [
    "## FOR VALIDATION SET"
   ]
  },
  {
   "cell_type": "code",
   "execution_count": 122,
   "id": "dbf89c6f-6b01-4be4-9b7b-27b5a3479478",
   "metadata": {},
   "outputs": [],
   "source": [
    "preds_class = modex_xgboost_best.predict(X_validation)"
   ]
  },
  {
   "cell_type": "code",
   "execution_count": 123,
   "id": "136ca05d-c0a1-47ec-9d44-f72600134d8e",
   "metadata": {},
   "outputs": [],
   "source": [
    "from sklearn.metrics import accuracy_score\n",
    "from sklearn.metrics import roc_auc_score\n",
    "from sklearn.metrics import precision_score, recall_score, f1_score, classification_report"
   ]
  },
  {
   "cell_type": "code",
   "execution_count": 124,
   "id": "70a7dcfe-7dac-422e-99fc-c1daf4886091",
   "metadata": {},
   "outputs": [
    {
     "data": {
      "image/png": "[encoded data removed]",
      "text/plain": [
       "<Figure size 700x500 with 2 Axes>"
      ]
     },
     "metadata": {},
     "output_type": "display_data"
    }
   ],
   "source": [
    "cm = pd.crosstab(y_validation, preds_class, rownames=['Actually'], colnames=['Predicted'])\n",
    "fig, (ax1) = plt.subplots(ncols=1, figsize=(7,5))\n",
    "\n",
    "sns.heatmap(pd.DataFrame(cm), annot=True, cmap=\"Blues\" ,fmt='g',)\n",
    "ax1.xaxis.set_label_position(\"top\")\n",
    "plt.tight_layout()\n",
    "plt.title('Confusion Matrix', y=1.1,fontsize=14)\n",
    "plt.show()"
   ]
  },
  {
   "cell_type": "code",
   "execution_count": 125,
   "id": "be401baa-bbbf-429b-afe0-4e0176f9b321",
   "metadata": {},
   "outputs": [
    {
     "name": "stdout",
     "output_type": "stream",
     "text": [
      "Accuracy = 0.5911111111111111\n"
     ]
    }
   ],
   "source": [
    "acc=accuracy_score(y_validation,preds_class)\n",
    "print('Accuracy =' , acc)"
   ]
  },
  {
   "cell_type": "code",
   "execution_count": 126,
   "id": "91e09f33-dce6-4689-8537-0b1a3aeae5da",
   "metadata": {},
   "outputs": [
    {
     "name": "stdout",
     "output_type": "stream",
     "text": [
      "Recall = 0.5903854259981964\n"
     ]
    }
   ],
   "source": [
    "recall = recall_score(y_validation, preds_class, average='macro')\n",
    "print('Recall =' ,recall)"
   ]
  },
  {
   "cell_type": "code",
   "execution_count": 127,
   "id": "6671717d-3a52-43f3-9144-b0fcc310f70d",
   "metadata": {},
   "outputs": [
    {
     "name": "stdout",
     "output_type": "stream",
     "text": [
      "Precision = 0.6024370654170099\n"
     ]
    }
   ],
   "source": [
    "precision = precision_score(y_validation, preds_class, average='macro')\n",
    "print('Precision =' ,precision)"
   ]
  },
  {
   "cell_type": "code",
   "execution_count": 128,
   "id": "64e82c1a-e918-4888-aad8-d1b546e45196",
   "metadata": {},
   "outputs": [
    {
     "name": "stdout",
     "output_type": "stream",
     "text": [
      "\n",
      "Classification Report:\n",
      "               precision    recall  f1-score   support\n",
      "\n",
      "           0       0.77      0.46      0.58       222\n",
      "           1       0.58      0.68      0.62       425\n",
      "           2       0.51      0.49      0.50       415\n",
      "           3       0.57      0.61      0.59       411\n",
      "           4       0.78      0.77      0.77       327\n",
      "\n",
      "    accuracy                           0.61      1800\n",
      "   macro avg       0.64      0.60      0.61      1800\n",
      "weighted avg       0.62      0.61      0.61      1800\n",
      "\n"
     ]
    }
   ],
   "source": [
    "print(\"\\nClassification Report:\\n\", classification_report(y_validation, y_pred))"
   ]
  },
  {
   "cell_type": "markdown",
   "id": "854eea26-20b7-45be-9e0d-dfa132f53d25",
   "metadata": {},
   "source": [
    "## FOR TEST SET"
   ]
  },
  {
   "cell_type": "code",
   "execution_count": 129,
   "id": "8bb8df29-0ba5-4994-b8fb-5e1a697334ab",
   "metadata": {},
   "outputs": [],
   "source": [
    "y_test = transformed_test['priceRange']\n",
    "X_test = transformed_test.drop(['priceRange'], axis=1)"
   ]
  },
  {
   "cell_type": "code",
   "execution_count": 130,
   "id": "230b6ad5-d095-44e6-8b43-32c2d1858f17",
   "metadata": {},
   "outputs": [],
   "source": [
    "preds_class_test = modex_xgboost_best.predict(X_test)"
   ]
  },
  {
   "cell_type": "code",
   "execution_count": 131,
   "id": "f1206d0b-6909-4c26-896b-b1a5a23249b2",
   "metadata": {},
   "outputs": [],
   "source": [
    "from sklearn.metrics import accuracy_score\n",
    "from sklearn.metrics import roc_auc_score\n",
    "from sklearn.metrics import precision_score, recall_score, f1_score, classification_report"
   ]
  },
  {
   "cell_type": "code",
   "execution_count": 132,
   "id": "7a1f57fc-a911-497d-ba87-b80e0379d596",
   "metadata": {},
   "outputs": [
    {
     "data": {
      "image/png": "[encoded data removed]",
      "text/plain": [
       "<Figure size 700x500 with 2 Axes>"
      ]
     },
     "metadata": {},
     "output_type": "display_data"
    }
   ],
   "source": [
    "cm = pd.crosstab(y_test, preds_class_test, rownames=['Actually'], colnames=['Predicted'])\n",
    "fig, (ax1) = plt.subplots(ncols=1, figsize=(7,5))\n",
    "\n",
    "sns.heatmap(pd.DataFrame(cm), annot=True, cmap=\"Blues\" ,fmt='g',)\n",
    "ax1.xaxis.set_label_position(\"top\")\n",
    "plt.tight_layout()\n",
    "plt.title('Confusion Matrix', y=1.1,fontsize=14)\n",
    "plt.show()"
   ]
  },
  {
   "cell_type": "code",
   "execution_count": 133,
   "id": "787a880c-d28f-418f-8672-704fd63a03b6",
   "metadata": {},
   "outputs": [
    {
     "name": "stdout",
     "output_type": "stream",
     "text": [
      "Accuracy = 0.595\n"
     ]
    }
   ],
   "source": [
    "acc=accuracy_score(y_test,preds_class_test)\n",
    "print('Accuracy =' , acc)"
   ]
  },
  {
   "cell_type": "code",
   "execution_count": 134,
   "id": "f5f7d41f-e2c7-47f9-91e2-c4c01e193ee6",
   "metadata": {},
   "outputs": [
    {
     "name": "stdout",
     "output_type": "stream",
     "text": [
      "Recall = 0.593657519063027\n"
     ]
    }
   ],
   "source": [
    "recall = recall_score(y_test,preds_class_test, average='macro')\n",
    "print('Recall =' ,recall)"
   ]
  },
  {
   "cell_type": "code",
   "execution_count": 135,
   "id": "15e969cf-7562-4899-a111-58713f07d2e1",
   "metadata": {},
   "outputs": [
    {
     "name": "stdout",
     "output_type": "stream",
     "text": [
      "Precision = 0.6131530046895941\n"
     ]
    }
   ],
   "source": [
    "precision = precision_score(y_test,preds_class_test, average='macro')\n",
    "print('Precision =' ,precision)"
   ]
  },
  {
   "cell_type": "code",
   "execution_count": 136,
   "id": "d62dc276-ef8f-445b-95cb-8dc10e0c1eea",
   "metadata": {},
   "outputs": [
    {
     "name": "stdout",
     "output_type": "stream",
     "text": [
      "\n",
      "Classification Report:\n",
      "               precision    recall  f1-score   support\n",
      "\n",
      "           0       0.72      0.47      0.57       137\n",
      "           1       0.56      0.56      0.56       233\n",
      "           2       0.49      0.47      0.48       225\n",
      "           3       0.56      0.65      0.60       221\n",
      "           4       0.74      0.82      0.78       184\n",
      "\n",
      "    accuracy                           0.59      1000\n",
      "   macro avg       0.61      0.59      0.60      1000\n",
      "weighted avg       0.60      0.59      0.59      1000\n",
      "\n"
     ]
    }
   ],
   "source": [
    "print(\"\\nClassification Report:\\n\", classification_report(y_test,preds_class_test))"
   ]
  },
  {
   "cell_type": "markdown",
   "id": "133d470e-7b2d-4932-93f7-11d9c6284c1a",
   "metadata": {},
   "source": [
    "# Verifying in the APP some data"
   ]
  },
  {
   "cell_type": "code",
   "execution_count": 147,
   "id": "82bef3c5-b789-4b70-87d9-9110674983d8",
   "metadata": {},
   "outputs": [
    {
     "data": {
      "text/plain": [
       "uid                                                                        6236\n",
       "city                                                            west lake hills\n",
       "description                   TREMENDOUS OPPORTUNITY in Eanes ISD! Built by ...\n",
       "homeType                                                          Single Family\n",
       "latitude                                                              30.273518\n",
       "longitude                                                            -97.822334\n",
       "garageSpaces                                                                  3\n",
       "hasSpa                                                                     True\n",
       "yearBuilt                                                                  1998\n",
       "numOfPatioAndPorchFeatures                                                    2\n",
       "lotSizeSqFt                                                             14810.4\n",
       "avgSchoolRating                                                             9.5\n",
       "MedianStudentsPerTeacher                                                     14\n",
       "numOfBathrooms                                                              4.0\n",
       "numOfBedrooms                                                                 6\n",
       "priceRange                                                              650000+\n",
       "Name: 247, dtype: object"
      ]
     },
     "execution_count": 147,
     "metadata": {},
     "output_type": "execute_result"
    }
   ],
   "source": [
    "raw_test[raw_test['city']!='austin'].loc[247]"
   ]
  },
  {
   "cell_type": "code",
   "execution_count": 148,
   "id": "bc8d5c4e-4c9c-4773-bed7-bd5cb3015f37",
   "metadata": {},
   "outputs": [
    {
     "data": {
      "text/plain": [
       "\"TREMENDOUS OPPORTUNITY in Eanes ISD! Built by Brighton Homes in '98. Master on main with spacious bathroom and walk-in closet. There are 5 bedrooms and a flex space upstairs. An office, formal dining, 2 living areas, a powder bath, an open kitchen to a breakfast area great room, walk-in pantry and laundry room are also on the main. Pool, hottub and new cedar deck in fenced in backyard. The private location is close to shopping, schools, hiking, restaurants and one mile from Westlake HS. BEST BUY in 78746!\""
      ]
     },
     "execution_count": 148,
     "metadata": {},
     "output_type": "execute_result"
    }
   ],
   "source": [
    "raw_test[raw_test['city']!='austin']['description'].loc[247]"
   ]
  },
  {
   "cell_type": "code",
   "execution_count": 151,
   "id": "73b4224a-311f-43fe-bf8d-764a473e5031",
   "metadata": {},
   "outputs": [
    {
     "data": {
      "text/plain": [
       "uid                                                                        2720\n",
       "city                                                                     austin\n",
       "description                   11417 Dona Villa Dr, Austin, TX 78726 is a sin...\n",
       "homeType                                                          Single Family\n",
       "latitude                                                              30.429384\n",
       "longitude                                                            -97.836029\n",
       "garageSpaces                                                                  0\n",
       "hasSpa                                                                    False\n",
       "yearBuilt                                                                  2006\n",
       "numOfPatioAndPorchFeatures                                                    2\n",
       "lotSizeSqFt                                                             13068.0\n",
       "avgSchoolRating                                                             7.0\n",
       "MedianStudentsPerTeacher                                                     16\n",
       "numOfBathrooms                                                              3.0\n",
       "numOfBedrooms                                                                 3\n",
       "priceRange                                                        450000-650000\n",
       "Name: 953, dtype: object"
      ]
     },
     "execution_count": 151,
     "metadata": {},
     "output_type": "execute_result"
    }
   ],
   "source": [
    "raw_test.loc[953]"
   ]
  },
  {
   "cell_type": "code",
   "execution_count": 150,
   "id": "8367f085-bb1b-4fa6-b098-869fc5501429",
   "metadata": {},
   "outputs": [
    {
     "data": {
      "text/plain": [
       "'11417 Dona Villa Dr, Austin, TX 78726 is a single family home that contains 2,866 sq ft and was built in 2006. It contains 3 bedrooms and 3 bathrooms. \\r\\n \\r\\n'"
      ]
     },
     "execution_count": 150,
     "metadata": {},
     "output_type": "execute_result"
    }
   ],
   "source": [
    "raw_test['description'].loc[953]"
   ]
  },
  {
   "cell_type": "code",
   "execution_count": 154,
   "id": "34da9521-2798-41f1-920e-1298ae58e856",
   "metadata": {},
   "outputs": [
    {
     "data": {
      "text/plain": [
       "uid                                                                        1893\n",
       "city                                                                     austin\n",
       "description                   Spectacular Renovation 60's Ranch. All stone e...\n",
       "homeType                                                          Single Family\n",
       "latitude                                                              30.380096\n",
       "longitude                                                            -97.678513\n",
       "garageSpaces                                                                  0\n",
       "hasSpa                                                                    False\n",
       "yearBuilt                                                                  1964\n",
       "numOfPatioAndPorchFeatures                                                    0\n",
       "lotSizeSqFt                                                             13068.0\n",
       "avgSchoolRating                                                        3.333333\n",
       "MedianStudentsPerTeacher                                                     14\n",
       "numOfBathrooms                                                              2.0\n",
       "numOfBedrooms                                                                 3\n",
       "priceRange                                                             0-250000\n",
       "Name: 216, dtype: object"
      ]
     },
     "execution_count": 154,
     "metadata": {},
     "output_type": "execute_result"
    }
   ],
   "source": [
    "raw_test.iloc[216]"
   ]
  },
  {
   "cell_type": "code",
   "execution_count": 156,
   "id": "ddea6db0-beec-4f36-9bc5-e495b222a633",
   "metadata": {},
   "outputs": [
    {
     "data": {
      "text/plain": [
       "\"Spectacular Renovation 60's Ranch. All stone exterior on private lot with Old-Growth trees. Updates include Architectural Roof, paint inside & out, textured walls & ceilings, Designer lights, all solid surface flooring, flat trim & 5 Panel Doors.  Contemporary Baldwin Door Hardware.Fabulous Kitchen w/upgraded appliances, stone counters. Tiled Hotel style baths, Master w/ walk-in shower. Blown insulation walls & ceiling, double pane lowE windows. Double Entry Solid Mahogany Front Doors w/ Emtek Entry Handles. Beautiful n'hood just min from I-35, Mopac & The Domain.\""
      ]
     },
     "execution_count": 156,
     "metadata": {},
     "output_type": "execute_result"
    }
   ],
   "source": [
    "raw_test['description'].loc[216]"
   ]
  },
  {
   "cell_type": "code",
   "execution_count": 61,
   "id": "60ae89ee-f568-4dea-85f2-2afe2eb61a48",
   "metadata": {},
   "outputs": [],
   "source": [
    "# create the object of the model\n",
    "xgb_classifier = XGBClassifier(reg_lambda=0.01,\n",
    "                                        reg_alpha=0.1,\n",
    "                                        n_estimators=300,\n",
    "                                        max_depth=5,\n",
    "                                        learning_rate=0.1,\n",
    "                                        random_state=20230916)"
   ]
  },
  {
   "cell_type": "code",
   "execution_count": 62,
   "id": "1bad46c6-6963-4068-9138-bb08c34363db",
   "metadata": {},
   "outputs": [
    {
     "data": {
      "text/html": [
       "<style>#sk-container-id-1 {color: black;}#sk-container-id-1 pre{padding: 0;}#sk-container-id-1 div.sk-toggleable {background-color: white;}#sk-container-id-1 label.sk-toggleable__label {cursor: pointer;display: block;width: 100%;margin-bottom: 0;padding: 0.3em;box-sizing: border-box;text-align: center;}#sk-container-id-1 label.sk-toggleable__label-arrow:before {content: \"▸\";float: left;margin-right: 0.25em;color: #696969;}#sk-container-id-1 label.sk-toggleable__label-arrow:hover:before {color: black;}#sk-container-id-1 div.sk-estimator:hover label.sk-toggleable__label-arrow:before {color: black;}#sk-container-id-1 div.sk-toggleable__content {max-height: 0;max-width: 0;overflow: hidden;text-align: left;background-color: #f0f8ff;}#sk-container-id-1 div.sk-toggleable__content pre {margin: 0.2em;color: black;border-radius: 0.25em;background-color: #f0f8ff;}#sk-container-id-1 input.sk-toggleable__control:checked~div.sk-toggleable__content {max-height: 200px;max-width: 100%;overflow: auto;}#sk-container-id-1 input.sk-toggleable__control:checked~label.sk-toggleable__label-arrow:before {content: \"▾\";}#sk-container-id-1 div.sk-estimator input.sk-toggleable__control:checked~label.sk-toggleable__label {background-color: #d4ebff;}#sk-container-id-1 div.sk-label input.sk-toggleable__control:checked~label.sk-toggleable__label {background-color: #d4ebff;}#sk-container-id-1 input.sk-hidden--visually {border: 0;clip: rect(1px 1px 1px 1px);clip: rect(1px, 1px, 1px, 1px);height: 1px;margin: -1px;overflow: hidden;padding: 0;position: absolute;width: 1px;}#sk-container-id-1 div.sk-estimator {font-family: monospace;background-color: #f0f8ff;border: 1px dotted black;border-radius: 0.25em;box-sizing: border-box;margin-bottom: 0.5em;}#sk-container-id-1 div.sk-estimator:hover {background-color: #d4ebff;}#sk-container-id-1 div.sk-parallel-item::after {content: \"\";width: 100%;border-bottom: 1px solid gray;flex-grow: 1;}#sk-container-id-1 div.sk-label:hover label.sk-toggleable__label {background-color: #d4ebff;}#sk-container-id-1 div.sk-serial::before {content: \"\";position: absolute;border-left: 1px solid gray;box-sizing: border-box;top: 0;bottom: 0;left: 50%;z-index: 0;}#sk-container-id-1 div.sk-serial {display: flex;flex-direction: column;align-items: center;background-color: white;padding-right: 0.2em;padding-left: 0.2em;position: relative;}#sk-container-id-1 div.sk-item {position: relative;z-index: 1;}#sk-container-id-1 div.sk-parallel {display: flex;align-items: stretch;justify-content: center;background-color: white;position: relative;}#sk-container-id-1 div.sk-item::before, #sk-container-id-1 div.sk-parallel-item::before {content: \"\";position: absolute;border-left: 1px solid gray;box-sizing: border-box;top: 0;bottom: 0;left: 50%;z-index: -1;}#sk-container-id-1 div.sk-parallel-item {display: flex;flex-direction: column;z-index: 1;position: relative;background-color: white;}#sk-container-id-1 div.sk-parallel-item:first-child::after {align-self: flex-end;width: 50%;}#sk-container-id-1 div.sk-parallel-item:last-child::after {align-self: flex-start;width: 50%;}#sk-container-id-1 div.sk-parallel-item:only-child::after {width: 0;}#sk-container-id-1 div.sk-dashed-wrapped {border: 1px dashed gray;margin: 0 0.4em 0.5em 0.4em;box-sizing: border-box;padding-bottom: 0.4em;background-color: white;}#sk-container-id-1 div.sk-label label {font-family: monospace;font-weight: bold;display: inline-block;line-height: 1.2em;}#sk-container-id-1 div.sk-label-container {text-align: center;}#sk-container-id-1 div.sk-container {/* jupyter's `normalize.less` sets `[hidden] { display: none; }` but bootstrap.min.css set `[hidden] { display: none !important; }` so we also need the `!important` here to be able to override the default hidden behavior on the sphinx rendered scikit-learn.org. See: https://github.com/scikit-learn/scikit-learn/issues/21755 */display: inline-block !important;position: relative;}#sk-container-id-1 div.sk-text-repr-fallback {display: none;}</style><div id=\"sk-container-id-1\" class=\"sk-top-container\"><div class=\"sk-text-repr-fallback\"><pre>XGBClassifier(base_score=None, booster=None, callbacks=None,\n",
       "              colsample_bylevel=None, colsample_bynode=None,\n",
       "              colsample_bytree=None, device=None, early_stopping_rounds=None,\n",
       "              enable_categorical=False, eval_metric=None, feature_types=None,\n",
       "              gamma=None, grow_policy=None, importance_type=None,\n",
       "              interaction_constraints=None, learning_rate=0.1, max_bin=None,\n",
       "              max_cat_threshold=None, max_cat_to_onehot=None,\n",
       "              max_delta_step=None, max_depth=5, max_leaves=None,\n",
       "              min_child_weight=None, missing=nan, monotone_constraints=None,\n",
       "              multi_strategy=None, n_estimators=300, n_jobs=None,\n",
       "              num_parallel_tree=None, objective=&#x27;multi:softprob&#x27;, ...)</pre><b>In a Jupyter environment, please rerun this cell to show the HTML representation or trust the notebook. <br />On GitHub, the HTML representation is unable to render, please try loading this page with nbviewer.org.</b></div><div class=\"sk-container\" hidden><div class=\"sk-item\"><div class=\"sk-estimator sk-toggleable\"><input class=\"sk-toggleable__control sk-hidden--visually\" id=\"sk-estimator-id-1\" type=\"checkbox\" checked><label for=\"sk-estimator-id-1\" class=\"sk-toggleable__label sk-toggleable__label-arrow\">XGBClassifier</label><div class=\"sk-toggleable__content\"><pre>XGBClassifier(base_score=None, booster=None, callbacks=None,\n",
       "              colsample_bylevel=None, colsample_bynode=None,\n",
       "              colsample_bytree=None, device=None, early_stopping_rounds=None,\n",
       "              enable_categorical=False, eval_metric=None, feature_types=None,\n",
       "              gamma=None, grow_policy=None, importance_type=None,\n",
       "              interaction_constraints=None, learning_rate=0.1, max_bin=None,\n",
       "              max_cat_threshold=None, max_cat_to_onehot=None,\n",
       "              max_delta_step=None, max_depth=5, max_leaves=None,\n",
       "              min_child_weight=None, missing=nan, monotone_constraints=None,\n",
       "              multi_strategy=None, n_estimators=300, n_jobs=None,\n",
       "              num_parallel_tree=None, objective=&#x27;multi:softprob&#x27;, ...)</pre></div></div></div></div></div>"
      ],
      "text/plain": [
       "XGBClassifier(base_score=None, booster=None, callbacks=None,\n",
       "              colsample_bylevel=None, colsample_bynode=None,\n",
       "              colsample_bytree=None, device=None, early_stopping_rounds=None,\n",
       "              enable_categorical=False, eval_metric=None, feature_types=None,\n",
       "              gamma=None, grow_policy=None, importance_type=None,\n",
       "              interaction_constraints=None, learning_rate=0.1, max_bin=None,\n",
       "              max_cat_threshold=None, max_cat_to_onehot=None,\n",
       "              max_delta_step=None, max_depth=5, max_leaves=None,\n",
       "              min_child_weight=None, missing=nan, monotone_constraints=None,\n",
       "              multi_strategy=None, n_estimators=300, n_jobs=None,\n",
       "              num_parallel_tree=None, objective='multi:softprob', ...)"
      ]
     },
     "execution_count": 62,
     "metadata": {},
     "output_type": "execute_result"
    }
   ],
   "source": [
    "# Fit model \n",
    "xgb_classifier.fit(X_train, y_train)"
   ]
  },
  {
   "cell_type": "raw",
   "id": "03c51a20-8933-4bfe-9629-fded7118f46d",
   "metadata": {},
   "source": [
    "feature_importance = pd.DataFrame({\"features\":list_features, \n",
    "                                   \"importances\": importances*100})\n",
    "\n",
    "feature_importance.sort_values(by='importances', ascending=False)"
   ]
  },
  {
   "cell_type": "raw",
   "id": "351a7cc9-a26f-4203-9ac6-faaf141d0c2d",
   "metadata": {},
   "source": [
    "feature_importance.describe().T"
   ]
  },
  {
   "cell_type": "code",
   "execution_count": null,
   "id": "4b38eb2e-5b8f-4652-ba6c-e0a7b345f9df",
   "metadata": {},
   "outputs": [],
   "source": [
    "preds_class = model_xgb.predict(X_test[feat_names])"
   ]
  },
  {
   "cell_type": "code",
   "execution_count": null,
   "id": "aa39362a-6490-4715-aadb-94e26f46af36",
   "metadata": {},
   "outputs": [],
   "source": [
    "from sklearn.metrics import accuracy_score\n",
    "from sklearn.metrics import roc_auc_score\n",
    "from sklearn.metrics import precision_score, recall_score, f1_score, classification_report"
   ]
  },
  {
   "cell_type": "raw",
   "id": "eed2f1ab-b00b-4ef2-bd17-5349447847cd",
   "metadata": {},
   "source": [
    "cm = pd.crosstab(y_test, preds_class, rownames=['Actually'], colnames=['Predicted'])\n",
    "fig, (ax1) = plt.subplots(ncols=1, figsize=(7,5))\n",
    "\n",
    "sns.heatmap(pd.DataFrame(cm), annot=True, cmap=\"Blues\" ,fmt='g',)\n",
    "ax1.xaxis.set_label_position(\"top\")\n",
    "plt.tight_layout()\n",
    "plt.title('Confusion Matrix', y=1.1,fontsize=14)\n",
    "plt.show()"
   ]
  },
  {
   "cell_type": "raw",
   "id": "00c07b00-8792-4fcd-8e3e-760d2e683542",
   "metadata": {},
   "source": [
    "acc=accuracy_score(y_test,preds_class)\n",
    "print('Accuracy =' , acc)"
   ]
  },
  {
   "cell_type": "raw",
   "id": "d728d4d8-07c2-4700-be38-90f12087eaba",
   "metadata": {},
   "source": [
    "recall = recall_score(y_test, preds_class, average='macro')\n",
    "print('Recall =' ,recall)"
   ]
  },
  {
   "cell_type": "raw",
   "id": "6191b03e-c14a-4516-af6b-1ab73fd3329b",
   "metadata": {},
   "source": [
    "precision = precision_score(y_test, preds_class, average='macro')\n",
    "print('Precision =' ,precision)"
   ]
  },
  {
   "cell_type": "raw",
   "id": "57e6478d-86f5-42c2-bfef-12d1d69fecc7",
   "metadata": {},
   "source": [
    "print(\"Accuracy:\", accuracy_score(y_test, y_pred))\n",
    "print(\"\\nClassification Report:\\n\", classification_report(y_test, y_pred))"
   ]
  },
  {
   "cell_type": "markdown",
   "id": "a259c15b-9505-47dc-b73f-0e1c59d555d4",
   "metadata": {},
   "source": [
    "# Hyperparameter Tunning"
   ]
  },
  {
   "cell_type": "code",
   "execution_count": null,
   "id": "deadded3-1c7a-4ee9-908a-75df665a6882",
   "metadata": {},
   "outputs": [],
   "source": [
    "from sklearn.model_selection import GridSearchCV"
   ]
  },
  {
   "cell_type": "code",
   "execution_count": null,
   "id": "3e004f61-5db1-4ae3-8242-3c706bb741c1",
   "metadata": {},
   "outputs": [],
   "source": [
    "RANDOM_SEED = 20230916"
   ]
  },
  {
   "cell_type": "code",
   "execution_count": null,
   "id": "b8506566-5cb7-47ff-9f23-47c5fbc40544",
   "metadata": {},
   "outputs": [],
   "source": [
    "# RandomForest\n",
    "rf = RandomForestClassifier(random_state=RANDOM_SEED)\n",
    "param_grid_forest = {\n",
    "    \"n_estimators\": [100, 200, 300],\n",
    "    \"max_depth\": [5, 10, 15],\n",
    "    \"criterion\": [\"gini\", \"entropy\"],\n",
    "    \"max_leaf_nodes\": [50, 100],\n",
    "}\n",
    "\n",
    "grid_forest = GridSearchCV(\n",
    "    estimator=rf, param_grid=param_grid_forest, cv=5, n_jobs=-1, scoring=\"accuracy\", verbose=0\n",
    ")\n",
    "\n",
    "model_forest = grid_forest.fit(X_train[list_features], y_train)"
   ]
  },
  {
   "cell_type": "code",
   "execution_count": null,
   "id": "b259ca19-07c9-47c6-b774-f367ac8f2d66",
   "metadata": {},
   "outputs": [],
   "source": [
    "best_params_forest = grid_forest.best_params_"
   ]
  },
  {
   "cell_type": "code",
   "execution_count": null,
   "id": "0d27d78a-c5ac-4764-9930-1ae8dd9e51dc",
   "metadata": {},
   "outputs": [],
   "source": [
    "best_params_forest"
   ]
  },
  {
   "cell_type": "code",
   "execution_count": null,
   "id": "f2c7cfac-a44e-4893-9c6c-12f607ba14ac",
   "metadata": {},
   "outputs": [],
   "source": [
    "best_model = grid_forest.best_estimator_"
   ]
  },
  {
   "cell_type": "code",
   "execution_count": null,
   "id": "b3cdc5ba-eb16-46c3-8570-fd6a7c947cad",
   "metadata": {},
   "outputs": [],
   "source": [
    "predictions_forest = best_model.predict(X_test[list_features])"
   ]
  },
  {
   "cell_type": "code",
   "execution_count": null,
   "id": "ceaa5372-5aa9-400b-95c1-a1ba1ea0ee53",
   "metadata": {},
   "outputs": [],
   "source": [
    "accuracy_forest = accuracy_score(y_test, predictions_forest)\n",
    "print(\"Test accuracy:\", accuracy_forest)"
   ]
  },
  {
   "cell_type": "code",
   "execution_count": null,
   "id": "bc353e85-437a-433f-b5b1-7fa1e4330f70",
   "metadata": {},
   "outputs": [],
   "source": [
    "print(\"\\nClassification Report:\\n\", classification_report(y_test, predictions_forest))"
   ]
  },
  {
   "cell_type": "markdown",
   "id": "4696b6f4-e8fe-4937-95cd-c333c93c0676",
   "metadata": {},
   "source": [
    "## XGBClassifier"
   ]
  },
  {
   "cell_type": "code",
   "execution_count": null,
   "id": "4917cf61-a034-4038-a9fb-8317d2d0ab70",
   "metadata": {},
   "outputs": [],
   "source": [
    "# XGBoost Classifier\n",
    "xgb_classifier = XGBClassifier(random_state=RANDOM_SEED)\n",
    "param_grid_xgboost = {\n",
    "    \"n_estimators\": [100, 200, 300],\n",
    "    \"learning_rate\": [0.01, 0.1, 0.5],\n",
    "    \"max_depth\": [5, 10],\n",
    "    \"reg_alpha\": [0.01, 0.1],\n",
    "    \"reg_lambda\": [0.01, 0.1],\n",
    "}\n",
    "\n",
    "grid_xgboost = GridSearchCV(\n",
    "    estimator=xgb_classifier,\n",
    "    param_grid=param_grid_xgboost,\n",
    "    cv=5,\n",
    "    n_jobs=-1,\n",
    "    scoring=\"accuracy\",\n",
    "    verbose=0,\n",
    ")\n",
    "model_xgboost = grid_xgboost.fit(X_train[list_features], y_train)"
   ]
  },
  {
   "cell_type": "code",
   "execution_count": null,
   "id": "f864a135-ebdd-4493-b444-1ea1fa84fbf6",
   "metadata": {},
   "outputs": [],
   "source": [
    "best_params_xgboost = grid_xgboost.best_params_"
   ]
  },
  {
   "cell_type": "code",
   "execution_count": null,
   "id": "54b72667-3dce-4ad8-b249-b261e2880bbd",
   "metadata": {},
   "outputs": [],
   "source": [
    "best_model_xgboost = grid_xgboost.best_estimator_"
   ]
  },
  {
   "cell_type": "code",
   "execution_count": null,
   "id": "7d33cba3-76a5-4b8f-b6d0-953f58d2f015",
   "metadata": {},
   "outputs": [],
   "source": [
    "best_params_xgboost"
   ]
  },
  {
   "cell_type": "code",
   "execution_count": null,
   "id": "e8b70946-c005-4f44-b78e-5b715c6386d2",
   "metadata": {},
   "outputs": [],
   "source": [
    "predictions_xgboost = best_model_xgboost.predict(X_test[list_features])"
   ]
  },
  {
   "cell_type": "code",
   "execution_count": null,
   "id": "33d40aa7-df3b-4029-a76c-7e412e408c68",
   "metadata": {},
   "outputs": [],
   "source": [
    "accuracy_xgboost = accuracy_score(y_test, predictions_xgboost)\n",
    "print(\"Test accuracy:\", accuracy_xgboost)"
   ]
  },
  {
   "cell_type": "code",
   "execution_count": null,
   "id": "19613bb0-bfc3-4d9b-bfcc-81a0fbf45b68",
   "metadata": {},
   "outputs": [],
   "source": [
    "print(\"Accuracy:\", accuracy_score(y_test, predictions_xgboost))\n",
    "print(\"\\nClassification Report:\\n\", classification_report(y_test, predictions_xgboost))"
   ]
  },
  {
   "cell_type": "markdown",
   "id": "f1854f7b-647f-45b3-99ae-a7824d5bdfd1",
   "metadata": {},
   "source": [
    "## Comparing both models"
   ]
  },
  {
   "cell_type": "code",
   "execution_count": null,
   "id": "2a07aff6-c5c8-4bb9-8cd6-cab2dffb77c2",
   "metadata": {},
   "outputs": [],
   "source": [
    "random_forest_classifier = cv_score(RandomForestClassifier(criterion='entropy',\n",
    "                                                           max_depth= 15,\n",
    "                                                           max_leaf_nodes= 100,\n",
    "                                                           n_estimators= 200,\n",
    "                                                           random_state=20230916), \n",
    "                                    df = X_train, df_y = y_train)"
   ]
  },
  {
   "cell_type": "code",
   "execution_count": 251,
   "id": "4e2d58fa-7006-4574-9c9a-15c41a33d00d",
   "metadata": {},
   "outputs": [
    {
     "name": "stdout",
     "output_type": "stream",
     "text": [
      "The duration for training the model is: 0.7300071716308594\n"
     ]
    }
   ],
   "source": [
    "xgb_classifier = cv_score(XGBClassifier(reg_lambda=0.01,\n",
    "                                        reg_alpha=0.1,\n",
    "                                        n_estimators=300,\n",
    "                                        max_depth=5,\n",
    "                                        learning_rate=0.1,\n",
    "                                        random_state=20230916), \n",
    "                          df = X_train[features], df_y = y_train)"
   ]
  },
  {
   "cell_type": "code",
   "execution_count": 252,
   "id": "470f64ce-de18-4b6c-8577-b96e6d05c14c",
   "metadata": {},
   "outputs": [],
   "source": [
    "results_df = pd.DataFrame({'RandomForestClassifier':random_forest_classifier, \n",
    "                           'XGBClassifier': xgb_classifier})"
   ]
  },
  {
   "cell_type": "code",
   "execution_count": 253,
   "id": "212f0927-2692-40b6-af47-580c734b9d51",
   "metadata": {},
   "outputs": [
    {
     "data": {
      "image/png": "[encoded data removed]",
      "text/plain": [
       "<Figure size 640x480 with 1 Axes>"
      ]
     },
     "metadata": {},
     "output_type": "display_data"
    }
   ],
   "source": [
    "results_df.plot(y=[\"RandomForestClassifier\", 'XGBClassifier'], kind=\"bar\", legend=False)\n",
    "plt.legend(bbox_to_anchor=(1, 1), loc=2, borderaxespad=0.)\n",
    "plt.show()"
   ]
  },
  {
   "cell_type": "markdown",
   "id": "a05cca52-df9c-4be0-96cc-28f3b0e49852",
   "metadata": {},
   "source": [
    "## Stacking both models"
   ]
  },
  {
   "cell_type": "code",
   "execution_count": 84,
   "id": "38e08f65-a51a-471a-be0d-a10b60d267c3",
   "metadata": {},
   "outputs": [],
   "source": [
    "# Base models\n",
    "estimators = [\n",
    "    ('rf', RandomForestClassifier(criterion='entropy',\n",
    "                                  max_depth= 15,\n",
    "                                  max_leaf_nodes= 100,\n",
    "                                  n_estimators= 200,\n",
    "                                  random_state=20230916)),\n",
    "    ('xgb', XGBClassifier(learning_rate= 0.1,\n",
    "                                  max_depth= 10,\n",
    "                                  n_estimators= 300,\n",
    "                                  reg_alpha= 0.01,\n",
    "                                  reg_lambda= 0.1, \n",
    "                                  random_state=20230916)),\n",
    "]\n",
    "\n",
    "# Meta-model\n",
    "meta_model = LogisticRegression()\n",
    "\n",
    "# Stacking classifier\n",
    "stacking_clf = StackingClassifier(estimators=estimators, \n",
    "                                  final_estimator=meta_model,\n",
    "                                  cv=5)\n",
    "\n",
    "# Fit the model\n",
    "stacking_clf.fit(X_train, y_train)\n",
    "\n",
    "# Make predictions\n",
    "y_pred = stacking_clf.predict(X_test)"
   ]
  },
  {
   "cell_type": "code",
   "execution_count": 85,
   "id": "479f4226-f7c8-48cf-879a-9077b78b21c6",
   "metadata": {},
   "outputs": [
    {
     "name": "stdout",
     "output_type": "stream",
     "text": [
      "Accuracy: 0.6172222222222222\n",
      "\n",
      "Classification Report:\n",
      "               precision    recall  f1-score   support\n",
      "\n",
      "           0       0.75      0.50      0.60       222\n",
      "           1       0.60      0.68      0.64       425\n",
      "           2       0.53      0.49      0.51       415\n",
      "           3       0.57      0.61      0.59       411\n",
      "           4       0.76      0.79      0.77       327\n",
      "\n",
      "    accuracy                           0.62      1800\n",
      "   macro avg       0.64      0.61      0.62      1800\n",
      "weighted avg       0.62      0.62      0.62      1800\n",
      "\n"
     ]
    }
   ],
   "source": [
    "print(\"Accuracy:\", accuracy_score(y_test, y_pred))\n",
    "print(\"\\nClassification Report:\\n\", classification_report(y_test, y_pred))"
   ]
  },
  {
   "cell_type": "code",
   "execution_count": null,
   "id": "bc704d2b-484d-4516-845c-a6209733b3be",
   "metadata": {},
   "outputs": [],
   "source": []
  }
 ],
 "metadata": {
  "kernelspec": {
   "display_name": "fullstack",
   "language": "python",
   "name": "fullstack"
  },
  "language_info": {
   "codemirror_mode": {
    "name": "ipython",
    "version": 3
   },
   "file_extension": ".py",
   "mimetype": "text/x-python",
   "name": "python",
   "nbconvert_exporter": "python",
   "pygments_lexer": "ipython3",
   "version": "3.9.19"
  }
 },
 "nbformat": 4,
 "nbformat_minor": 5
}
