{
 "cells": [
  {
   "cell_type": "code",
   "execution_count": 1,
   "id": "50006af1-d355-485d-90e2-9174ae05e7ec",
   "metadata": {},
   "outputs": [
    {
     "name": "stderr",
     "output_type": "stream",
     "text": [
      "[nltk_data] Downloading package wordnet to /home/javier/nltk_data...\n",
      "[nltk_data]   Package wordnet is already up-to-date!\n"
     ]
    }
   ],
   "source": [
    "import datetime as dt\n",
    "import glob\n",
    "import os\n",
    "import pickle\n",
    "import re\n",
    "import string\n",
    "import sys\n",
    "import time\n",
    "import warnings\n",
    "from datetime import datetime\n",
    "from pathlib import Path\n",
    "\n",
    "import featuretools as ft\n",
    "import matplotlib.pyplot as plt\n",
    "import nltk\n",
    "import numpy as np\n",
    "import pandas as pd\n",
    "import seaborn as sns\n",
    "from nltk import word_tokenize\n",
    "from nltk.corpus import (\n",
    "    stopwords,\n",
    "    wordnet,\n",
    ")\n",
    "from nltk.stem import (\n",
    "    PorterStemmer,\n",
    "    WordNetLemmatizer,\n",
    ")\n",
    "from scipy.stats.mstats import winsorize\n",
    "from sklearn.base import (\n",
    "    BaseEstimator,\n",
    "    TransformerMixin,\n",
    ")\n",
    "from sklearn.feature_extraction.text import TfidfVectorizer\n",
    "from sklearn.impute import SimpleImputer\n",
    "from sklearn.model_selection import train_test_split\n",
    "from sklearn.pipeline import Pipeline\n",
    "from sklearn.preprocessing import (\n",
    "    LabelEncoder,\n",
    "    MinMaxScaler,\n",
    "    StandardScaler,\n",
    "    normalize,\n",
    ")\n",
    "from tqdm import tqdm\n",
    "\n",
    "nltk.download(\"wordnet\")\n",
    "warnings.filterwarnings(\"ignore\")\n",
    "warnings.filterwarnings(\"ignore\", category=DeprecationWarning)\n",
    "\n",
    "pd.set_option(\"display.max_rows\", 500)\n",
    "pd.set_option(\"display.max_columns\", 500)\n",
    "pd.set_option(\"display.width\", 1000)"
   ]
  },
  {
   "cell_type": "code",
   "execution_count": 2,
   "id": "81a4338d-a1de-4073-80b4-8579defc21eb",
   "metadata": {},
   "outputs": [],
   "source": [
    "tqdm.pandas()"
   ]
  },
  {
   "cell_type": "code",
   "execution_count": 3,
   "id": "9d19b7ca-2485-46d8-a4c4-d84a96ed92ce",
   "metadata": {},
   "outputs": [],
   "source": [
    "PACKAGE_ROOT = Path(os.getcwd()).parent.parent\n",
    "sys.path.append(str(PACKAGE_ROOT.parent))"
   ]
  },
  {
   "cell_type": "code",
   "execution_count": 4,
   "id": "1b759fb2-366c-4084-ae71-4084ea1b0446",
   "metadata": {},
   "outputs": [
    {
     "data": {
      "text/plain": [
       "PosixPath('/home/javier/repos/mle_challenge/model')"
      ]
     },
     "execution_count": 4,
     "metadata": {},
     "output_type": "execute_result"
    }
   ],
   "source": [
    "PACKAGE_ROOT"
   ]
  },
  {
   "cell_type": "code",
   "execution_count": 5,
   "id": "1a72c00b-6894-48dd-a167-66218641cbf4",
   "metadata": {},
   "outputs": [],
   "source": [
    "DATAPATH = os.path.join(PACKAGE_ROOT, \"experiments/data\")"
   ]
  },
  {
   "cell_type": "code",
   "execution_count": 6,
   "id": "f76a6a82-460b-4ab3-b393-8368019fe305",
   "metadata": {},
   "outputs": [
    {
     "data": {
      "text/plain": [
       "'/home/javier/repos/mle_challenge/model/experiments/data'"
      ]
     },
     "execution_count": 6,
     "metadata": {},
     "output_type": "execute_result"
    }
   ],
   "source": [
    "DATAPATH"
   ]
  },
  {
   "cell_type": "code",
   "execution_count": 7,
   "id": "53a788a7-54f3-4b3e-8ae8-fc084e4c7ce8",
   "metadata": {},
   "outputs": [],
   "source": [
    "raw_train = pd.read_csv(os.path.join(DATAPATH, \"train.csv\"))\n",
    "raw_test = pd.read_csv(os.path.join(DATAPATH, \"test.csv\"))"
   ]
  },
  {
   "cell_type": "code",
   "execution_count": 8,
   "id": "4a5aeb58-8e1c-4e19-9fb3-fe9e463605e3",
   "metadata": {},
   "outputs": [
    {
     "data": {
      "text/html": [
       "<div>\n",
       "<style scoped>\n",
       "    .dataframe tbody tr th:only-of-type {\n",
       "        vertical-align: middle;\n",
       "    }\n",
       "\n",
       "    .dataframe tbody tr th {\n",
       "        vertical-align: top;\n",
       "    }\n",
       "\n",
       "    .dataframe thead th {\n",
       "        text-align: right;\n",
       "    }\n",
       "</style>\n",
       "<table border=\"1\" class=\"dataframe\">\n",
       "  <thead>\n",
       "    <tr style=\"text-align: right;\">\n",
       "      <th></th>\n",
       "      <th>uid</th>\n",
       "      <th>city</th>\n",
       "      <th>description</th>\n",
       "      <th>homeType</th>\n",
       "      <th>latitude</th>\n",
       "      <th>longitude</th>\n",
       "      <th>garageSpaces</th>\n",
       "      <th>hasSpa</th>\n",
       "      <th>yearBuilt</th>\n",
       "      <th>numOfPatioAndPorchFeatures</th>\n",
       "      <th>lotSizeSqFt</th>\n",
       "      <th>avgSchoolRating</th>\n",
       "      <th>MedianStudentsPerTeacher</th>\n",
       "      <th>numOfBathrooms</th>\n",
       "      <th>numOfBedrooms</th>\n",
       "      <th>priceRange</th>\n",
       "    </tr>\n",
       "  </thead>\n",
       "  <tbody>\n",
       "    <tr>\n",
       "      <th>401</th>\n",
       "      <td>13491</td>\n",
       "      <td>austin</td>\n",
       "      <td>NaN</td>\n",
       "      <td>Single Family</td>\n",
       "      <td>30.189535</td>\n",
       "      <td>-97.897896</td>\n",
       "      <td>2</td>\n",
       "      <td>False</td>\n",
       "      <td>2002</td>\n",
       "      <td>1</td>\n",
       "      <td>10890.0</td>\n",
       "      <td>8.666667</td>\n",
       "      <td>18</td>\n",
       "      <td>3.0</td>\n",
       "      <td>4</td>\n",
       "      <td>450000-650000</td>\n",
       "    </tr>\n",
       "  </tbody>\n",
       "</table>\n",
       "</div>"
      ],
      "text/plain": [
       "       uid    city description       homeType   latitude  longitude  garageSpaces  hasSpa  yearBuilt  numOfPatioAndPorchFeatures  lotSizeSqFt  avgSchoolRating  MedianStudentsPerTeacher  numOfBathrooms  numOfBedrooms     priceRange\n",
       "401  13491  austin         NaN  Single Family  30.189535 -97.897896             2   False       2002                           1      10890.0         8.666667                        18             3.0              4  450000-650000"
      ]
     },
     "execution_count": 8,
     "metadata": {},
     "output_type": "execute_result"
    }
   ],
   "source": [
    "raw_test[raw_test['description'].isnull()]"
   ]
  },
  {
   "cell_type": "markdown",
   "id": "d702d486-229a-43b2-8425-0f0159748e91",
   "metadata": {},
   "source": [
    "---\n",
    "\n",
    "<center><h1>💻💻 Data Preparation 💻 💻</h1></center>\n",
    "\n",
    "---"
   ]
  },
  {
   "cell_type": "code",
   "execution_count": 9,
   "id": "ca691e6b-93bc-4810-9d07-43d5bd171dc9",
   "metadata": {},
   "outputs": [
    {
     "data": {
      "text/html": [
       "<div>\n",
       "<style scoped>\n",
       "    .dataframe tbody tr th:only-of-type {\n",
       "        vertical-align: middle;\n",
       "    }\n",
       "\n",
       "    .dataframe tbody tr th {\n",
       "        vertical-align: top;\n",
       "    }\n",
       "\n",
       "    .dataframe thead th {\n",
       "        text-align: right;\n",
       "    }\n",
       "</style>\n",
       "<table border=\"1\" class=\"dataframe\">\n",
       "  <thead>\n",
       "    <tr style=\"text-align: right;\">\n",
       "      <th></th>\n",
       "      <th>uid</th>\n",
       "      <th>city</th>\n",
       "      <th>description</th>\n",
       "      <th>homeType</th>\n",
       "      <th>latitude</th>\n",
       "      <th>longitude</th>\n",
       "      <th>garageSpaces</th>\n",
       "      <th>hasSpa</th>\n",
       "      <th>yearBuilt</th>\n",
       "      <th>numOfPatioAndPorchFeatures</th>\n",
       "      <th>lotSizeSqFt</th>\n",
       "      <th>avgSchoolRating</th>\n",
       "      <th>MedianStudentsPerTeacher</th>\n",
       "      <th>numOfBathrooms</th>\n",
       "      <th>numOfBedrooms</th>\n",
       "      <th>priceRange</th>\n",
       "    </tr>\n",
       "  </thead>\n",
       "  <tbody>\n",
       "    <tr>\n",
       "      <th>4005</th>\n",
       "      <td>15121</td>\n",
       "      <td>austin</td>\n",
       "      <td>This home will be live on the market soon! Cal...</td>\n",
       "      <td>Single Family</td>\n",
       "      <td>30.332850</td>\n",
       "      <td>-97.737434</td>\n",
       "      <td>1</td>\n",
       "      <td>False</td>\n",
       "      <td>1953</td>\n",
       "      <td>0</td>\n",
       "      <td>9975.0</td>\n",
       "      <td>7.000000</td>\n",
       "      <td>16</td>\n",
       "      <td>2.0</td>\n",
       "      <td>2</td>\n",
       "      <td>450000-650000</td>\n",
       "    </tr>\n",
       "    <tr>\n",
       "      <th>7527</th>\n",
       "      <td>9476</td>\n",
       "      <td>austin</td>\n",
       "      <td>1310 Newning Ave APT C, Austin, TX 78704 is a ...</td>\n",
       "      <td>Condo</td>\n",
       "      <td>30.249729</td>\n",
       "      <td>-97.744560</td>\n",
       "      <td>0</td>\n",
       "      <td>False</td>\n",
       "      <td>2005</td>\n",
       "      <td>0</td>\n",
       "      <td>1698.0</td>\n",
       "      <td>4.333333</td>\n",
       "      <td>14</td>\n",
       "      <td>3.0</td>\n",
       "      <td>2</td>\n",
       "      <td>450000-650000</td>\n",
       "    </tr>\n",
       "    <tr>\n",
       "      <th>2332</th>\n",
       "      <td>4135</td>\n",
       "      <td>austin</td>\n",
       "      <td>Gorgeous move in-ready home in a gated communi...</td>\n",
       "      <td>Single Family</td>\n",
       "      <td>30.219824</td>\n",
       "      <td>-97.698441</td>\n",
       "      <td>2</td>\n",
       "      <td>False</td>\n",
       "      <td>2014</td>\n",
       "      <td>1</td>\n",
       "      <td>6751.0</td>\n",
       "      <td>4.333333</td>\n",
       "      <td>14</td>\n",
       "      <td>3.0</td>\n",
       "      <td>3</td>\n",
       "      <td>350000-450000</td>\n",
       "    </tr>\n",
       "  </tbody>\n",
       "</table>\n",
       "</div>"
      ],
      "text/plain": [
       "        uid    city                                        description       homeType   latitude  longitude  garageSpaces  hasSpa  yearBuilt  numOfPatioAndPorchFeatures  lotSizeSqFt  avgSchoolRating  MedianStudentsPerTeacher  numOfBathrooms  numOfBedrooms     priceRange\n",
       "4005  15121  austin  This home will be live on the market soon! Cal...  Single Family  30.332850 -97.737434             1   False       1953                           0       9975.0         7.000000                        16             2.0              2  450000-650000\n",
       "7527   9476  austin  1310 Newning Ave APT C, Austin, TX 78704 is a ...          Condo  30.249729 -97.744560             0   False       2005                           0       1698.0         4.333333                        14             3.0              2  450000-650000\n",
       "2332   4135  austin  Gorgeous move in-ready home in a gated communi...  Single Family  30.219824 -97.698441             2   False       2014                           1       6751.0         4.333333                        14             3.0              3  350000-450000"
      ]
     },
     "execution_count": 9,
     "metadata": {},
     "output_type": "execute_result"
    }
   ],
   "source": [
    "raw_train.sample(3)"
   ]
  },
  {
   "cell_type": "code",
   "execution_count": 10,
   "id": "942164de-3172-4a5f-82f0-f00adc5760a1",
   "metadata": {},
   "outputs": [
    {
     "data": {
      "text/plain": [
       "uid                             int64\n",
       "city                           object\n",
       "description                    object\n",
       "homeType                       object\n",
       "latitude                      float64\n",
       "longitude                     float64\n",
       "garageSpaces                    int64\n",
       "hasSpa                           bool\n",
       "yearBuilt                       int64\n",
       "numOfPatioAndPorchFeatures      int64\n",
       "lotSizeSqFt                   float64\n",
       "avgSchoolRating               float64\n",
       "MedianStudentsPerTeacher        int64\n",
       "numOfBathrooms                float64\n",
       "numOfBedrooms                   int64\n",
       "priceRange                     object\n",
       "dtype: object"
      ]
     },
     "execution_count": 10,
     "metadata": {},
     "output_type": "execute_result"
    }
   ],
   "source": [
    "raw_test.dtypes"
   ]
  },
  {
   "cell_type": "code",
   "execution_count": 11,
   "id": "bcab3121-8be2-455a-84af-0c7150bf331c",
   "metadata": {},
   "outputs": [
    {
     "data": {
      "text/plain": [
       "((9000, 16), (1000, 16))"
      ]
     },
     "execution_count": 11,
     "metadata": {},
     "output_type": "execute_result"
    }
   ],
   "source": [
    "raw_train.shape, raw_test.shape"
   ]
  },
  {
   "cell_type": "code",
   "execution_count": 12,
   "id": "ca98e687-4c0d-4439-bf86-4cc6bab5b023",
   "metadata": {},
   "outputs": [
    {
     "data": {
      "text/plain": [
       "PosixPath('/home/javier/repos/mle_challenge/model')"
      ]
     },
     "execution_count": 12,
     "metadata": {},
     "output_type": "execute_result"
    }
   ],
   "source": [
    "PACKAGE_ROOT"
   ]
  },
  {
   "cell_type": "code",
   "execution_count": 13,
   "id": "e3d6bcdd-23f3-4575-9232-14b8e71ec131",
   "metadata": {},
   "outputs": [],
   "source": [
    "import model.packaging_ml_model.prediction_model.processing.preprocessing as pp\n",
    "from model.packaging_ml_model.prediction_model.config import config"
   ]
  },
  {
   "cell_type": "code",
   "execution_count": 16,
   "id": "d60a6c85-06e6-4975-a774-6f1996203c0f",
   "metadata": {},
   "outputs": [],
   "source": [
    "pipeline = Pipeline(\n",
    "    [\n",
    "        (\n",
    "            \"DataFrameTypeConverter\",\n",
    "            pp.DataFrameTypeConverter(conversion_dict=config.CONVERSION_DICT),\n",
    "        ),\n",
    "        (\n",
    "            \"DropColumns\",\n",
    "            pp.DropColumns(variables_to_drop=config.VARIABLES_TO_DROP),\n",
    "        ),\n",
    "        (\n",
    "            \"ModeImputer\",\n",
    "            pp.ModeImputer(variables=config.CATEGORICAL_FEATURES),\n",
    "        ),\n",
    "        (\n",
    "            \"DataFrameProcessor\",\n",
    "            pp.DataFrameProcessor(features=config.FEATURES_MODIFY, quantile_threshold=0.1),\n",
    "        ),\n",
    "        (\n",
    "            \"MedianImputer\",\n",
    "            pp.MedianImputer(variables=config.NUMERICAL_FEATURES),\n",
    "        ),\n",
    "        (\n",
    "            \"Winsorizer\",\n",
    "            pp.Winsorizer(numerical_features=config.NUMERICAL_FEATURES, limits=[0.025, 0.025]),\n",
    "        ),\n",
    "        (\n",
    "            \"DropColumns2\",\n",
    "            pp.DropColumns(variables_to_drop=config.NUMERICAL_FEATURES),\n",
    "        ),\n",
    "        (\n",
    "            \"CoordinateBinner\",\n",
    "            pp.CoordinateBinner(columns=config.GEOLOCATION, decimal_places=3),\n",
    "        ),\n",
    "        (\n",
    "            \"DropColumns3\",\n",
    "            pp.DropColumns(variables_to_drop=config.GEOLOCATION),\n",
    "        ),\n",
    "        (\n",
    "            \"TextProcessor\",\n",
    "            pp.TextProcessor(column=config.DESCRIPTION_FEATURE, blacklist=config.BLACK_LIST),\n",
    "        ),\n",
    "        (\n",
    "            \"TFIDFTransformer\",\n",
    "            pp.TFIDFTransformer(column=config.DESCRIPTION_FEATURE, max_features=20),\n",
    "        ),\n",
    "        (\n",
    "            \"NumericalFeatureSelector\",\n",
    "            pp.NumericalFeatureSelector(remove_columns=config.TO_REMOVE),\n",
    "        ),\n",
    "        (\n",
    "            \"LogTransforms\",\n",
    "            pp.LogTransforms(),\n",
    "        ),\n",
    "        (\n",
    "            \"DataScaler\",\n",
    "            pp.DataScaler(),\n",
    "        ),\n",
    "        (\n",
    "            \"CorrelationMatrixProcessor\",\n",
    "            pp.CorrelationMatrixProcessor(threshold=0.7),\n",
    "        ),\n",
    "        (\n",
    "            \"FeatureVariance\",\n",
    "            pp.FeatureVariance(threshold=0.001),\n",
    "        ),\n",
    "        (\n",
    "            \"DropColumns4\",\n",
    "            pp.DropColumns(variables_to_drop=config.DESCRIPTION_FEATURE),\n",
    "        ),\n",
    "        (\n",
    "            \"LabelEncoderProcessor\",\n",
    "            pp.LabelEncoderProcessor(),\n",
    "        ),\n",
    "    ]\n",
    ")"
   ]
  },
  {
   "cell_type": "code",
   "execution_count": 17,
   "id": "86010fd7-d727-45be-9b2b-b23ce73daf69",
   "metadata": {},
   "outputs": [],
   "source": [
    "transformed_train = pipeline.fit_transform(raw_train)"
   ]
  },
  {
   "cell_type": "code",
   "execution_count": 18,
   "id": "91612f36-af71-47ce-9743-3d46d5302f5c",
   "metadata": {},
   "outputs": [
    {
     "data": {
      "text/html": [
       "<div>\n",
       "<style scoped>\n",
       "    .dataframe tbody tr th:only-of-type {\n",
       "        vertical-align: middle;\n",
       "    }\n",
       "\n",
       "    .dataframe tbody tr th {\n",
       "        vertical-align: top;\n",
       "    }\n",
       "\n",
       "    .dataframe thead th {\n",
       "        text-align: right;\n",
       "    }\n",
       "</style>\n",
       "<table border=\"1\" class=\"dataframe\">\n",
       "  <thead>\n",
       "    <tr style=\"text-align: right;\">\n",
       "      <th></th>\n",
       "      <th>city</th>\n",
       "      <th>homeType</th>\n",
       "      <th>hasSpa</th>\n",
       "      <th>priceRange</th>\n",
       "      <th>garageSpaces_winsor</th>\n",
       "      <th>yearBuilt_winsor</th>\n",
       "      <th>numOfPatioAndPorchFeatures_winsor</th>\n",
       "      <th>lotSizeSqFt_winsor</th>\n",
       "      <th>avgSchoolRating_winsor</th>\n",
       "      <th>numOfBathrooms_winsor</th>\n",
       "      <th>numOfBedrooms_winsor</th>\n",
       "      <th>homeType_count_winsor</th>\n",
       "      <th>latitude_winsor_3</th>\n",
       "      <th>longitude_winsor_3</th>\n",
       "      <th>area</th>\n",
       "      <th>back</th>\n",
       "      <th>backyard</th>\n",
       "      <th>build</th>\n",
       "      <th>ceiling</th>\n",
       "      <th>contain</th>\n",
       "      <th>family</th>\n",
       "      <th>feature</th>\n",
       "      <th>from</th>\n",
       "      <th>great</th>\n",
       "      <th>include</th>\n",
       "      <th>large</th>\n",
       "      <th>living</th>\n",
       "      <th>lot</th>\n",
       "      <th>new</th>\n",
       "      <th>open</th>\n",
       "      <th>update</th>\n",
       "      <th>walk</th>\n",
       "    </tr>\n",
       "  </thead>\n",
       "  <tbody>\n",
       "    <tr>\n",
       "      <th>5890</th>\n",
       "      <td>1</td>\n",
       "      <td>1</td>\n",
       "      <td>0</td>\n",
       "      <td>0</td>\n",
       "      <td>0.0</td>\n",
       "      <td>0.530549</td>\n",
       "      <td>0.0</td>\n",
       "      <td>0.333728</td>\n",
       "      <td>1.0</td>\n",
       "      <td>0.36907</td>\n",
       "      <td>0.736966</td>\n",
       "      <td>1.0</td>\n",
       "      <td>0.816067</td>\n",
       "      <td>0.429414</td>\n",
       "      <td>0.775702</td>\n",
       "      <td>0.0</td>\n",
       "      <td>0.0</td>\n",
       "      <td>0.0</td>\n",
       "      <td>0.0</td>\n",
       "      <td>0.0</td>\n",
       "      <td>0.0</td>\n",
       "      <td>0.0</td>\n",
       "      <td>0.0</td>\n",
       "      <td>0.0</td>\n",
       "      <td>0.0</td>\n",
       "      <td>0.406138</td>\n",
       "      <td>0.413553</td>\n",
       "      <td>0.0</td>\n",
       "      <td>0.0</td>\n",
       "      <td>0.405189</td>\n",
       "      <td>0.0</td>\n",
       "      <td>0.0</td>\n",
       "    </tr>\n",
       "  </tbody>\n",
       "</table>\n",
       "</div>"
      ],
      "text/plain": [
       "      city  homeType  hasSpa  priceRange  garageSpaces_winsor  yearBuilt_winsor  numOfPatioAndPorchFeatures_winsor  lotSizeSqFt_winsor  avgSchoolRating_winsor  numOfBathrooms_winsor  numOfBedrooms_winsor  homeType_count_winsor  latitude_winsor_3  longitude_winsor_3      area  back  backyard  build  ceiling  contain  family  feature  from  great  include     large    living  lot  new      open  update  walk\n",
       "5890     1         1       0           0                  0.0          0.530549                                0.0            0.333728                     1.0                0.36907              0.736966                    1.0           0.816067            0.429414  0.775702   0.0       0.0    0.0      0.0      0.0     0.0      0.0   0.0    0.0      0.0  0.406138  0.413553  0.0  0.0  0.405189     0.0   0.0"
      ]
     },
     "execution_count": 18,
     "metadata": {},
     "output_type": "execute_result"
    }
   ],
   "source": [
    "transformed_train.sample()"
   ]
  },
  {
   "cell_type": "code",
   "execution_count": 19,
   "id": "28ec4943-4e1a-4d96-b0a5-1dda77de34db",
   "metadata": {},
   "outputs": [
    {
     "data": {
      "text/html": [
       "<div>\n",
       "<style scoped>\n",
       "    .dataframe tbody tr th:only-of-type {\n",
       "        vertical-align: middle;\n",
       "    }\n",
       "\n",
       "    .dataframe tbody tr th {\n",
       "        vertical-align: top;\n",
       "    }\n",
       "\n",
       "    .dataframe thead th {\n",
       "        text-align: right;\n",
       "    }\n",
       "</style>\n",
       "<table border=\"1\" class=\"dataframe\">\n",
       "  <thead>\n",
       "    <tr style=\"text-align: right;\">\n",
       "      <th></th>\n",
       "      <th>uid</th>\n",
       "      <th>city</th>\n",
       "      <th>description</th>\n",
       "      <th>homeType</th>\n",
       "      <th>latitude</th>\n",
       "      <th>longitude</th>\n",
       "      <th>garageSpaces</th>\n",
       "      <th>hasSpa</th>\n",
       "      <th>yearBuilt</th>\n",
       "      <th>numOfPatioAndPorchFeatures</th>\n",
       "      <th>lotSizeSqFt</th>\n",
       "      <th>avgSchoolRating</th>\n",
       "      <th>MedianStudentsPerTeacher</th>\n",
       "      <th>numOfBathrooms</th>\n",
       "      <th>numOfBedrooms</th>\n",
       "      <th>priceRange</th>\n",
       "    </tr>\n",
       "  </thead>\n",
       "  <tbody>\n",
       "    <tr>\n",
       "      <th>4736</th>\n",
       "      <td>645</td>\n",
       "      <td>austin</td>\n",
       "      <td>4517 Whitehall Cove, Austin, TX 78730</td>\n",
       "      <td>Single Family</td>\n",
       "      <td>30.366768</td>\n",
       "      <td>-97.84613</td>\n",
       "      <td>3</td>\n",
       "      <td>False</td>\n",
       "      <td>2000</td>\n",
       "      <td>2</td>\n",
       "      <td>63597.6</td>\n",
       "      <td>7.0</td>\n",
       "      <td>16</td>\n",
       "      <td>6.0</td>\n",
       "      <td>4</td>\n",
       "      <td>650000+</td>\n",
       "    </tr>\n",
       "  </tbody>\n",
       "</table>\n",
       "</div>"
      ],
      "text/plain": [
       "      uid    city                            description       homeType   latitude  longitude  garageSpaces  hasSpa  yearBuilt  numOfPatioAndPorchFeatures  lotSizeSqFt  avgSchoolRating  MedianStudentsPerTeacher  numOfBathrooms  numOfBedrooms priceRange\n",
       "4736  645  austin  4517 Whitehall Cove, Austin, TX 78730  Single Family  30.366768  -97.84613             3   False       2000                           2      63597.6              7.0                        16             6.0              4    650000+"
      ]
     },
     "execution_count": 19,
     "metadata": {},
     "output_type": "execute_result"
    }
   ],
   "source": [
    "raw_train.sample()"
   ]
  },
  {
   "cell_type": "code",
   "execution_count": 20,
   "id": "e06f4a3b-1cc0-45a5-80f0-cad4f5752b9a",
   "metadata": {},
   "outputs": [],
   "source": [
    "transformed_test = pipeline.fit_transform(raw_test)"
   ]
  },
  {
   "cell_type": "code",
   "execution_count": 21,
   "id": "87b5391a-b8bb-4282-907d-467b456437c2",
   "metadata": {},
   "outputs": [
    {
     "data": {
      "text/plain": [
       "((9000, 32), (1000, 32))"
      ]
     },
     "execution_count": 21,
     "metadata": {},
     "output_type": "execute_result"
    }
   ],
   "source": [
    "transformed_train.shape, transformed_test.shape"
   ]
  },
  {
   "cell_type": "code",
   "execution_count": 22,
   "id": "47ea0746-676f-4614-8533-0c1cdb10bc52",
   "metadata": {},
   "outputs": [
    {
     "data": {
      "text/plain": [
       "(0, 0)"
      ]
     },
     "execution_count": 22,
     "metadata": {},
     "output_type": "execute_result"
    }
   ],
   "source": [
    "transformed_train.isnull().sum().sum(), transformed_test.isnull().sum().sum()"
   ]
  },
  {
   "cell_type": "code",
   "execution_count": 23,
   "id": "2d3005fd-602f-467f-baf3-dbe899b9c978",
   "metadata": {},
   "outputs": [],
   "source": [
    "list_train = list(transformed_train.columns)\n",
    "list_test = list(transformed_test.columns)"
   ]
  },
  {
   "cell_type": "code",
   "execution_count": 24,
   "id": "49a6f5a4-e4fa-495b-a13e-a7c01020bcbe",
   "metadata": {},
   "outputs": [],
   "source": [
    "no_common1 = [element for element in list_train if element not in list_test]\n",
    "no_common2 = [element for element in list_test if element not in list_train]"
   ]
  },
  {
   "cell_type": "code",
   "execution_count": 25,
   "id": "a24621dd-9971-44b0-8a2a-32b271edb9e4",
   "metadata": {},
   "outputs": [
    {
     "data": {
      "text/plain": [
       "([], [])"
      ]
     },
     "execution_count": 25,
     "metadata": {},
     "output_type": "execute_result"
    }
   ],
   "source": [
    "no_common1, no_common2"
   ]
  },
  {
   "cell_type": "code",
   "execution_count": 26,
   "id": "e7d50371-8c5a-4979-b1d4-6a8a815e9ea2",
   "metadata": {},
   "outputs": [],
   "source": [
    "train_y = transformed_train['priceRange']\n",
    "train_X = transformed_train.drop(['priceRange'], axis=1)"
   ]
  },
  {
   "cell_type": "code",
   "execution_count": 27,
   "id": "9865ccb1-7092-4ffd-b178-7cb16372e28e",
   "metadata": {},
   "outputs": [
    {
     "name": "stdout",
     "output_type": "stream",
     "text": [
      "train data size: (7200, 31)\n",
      "test data size: (1800, 31)\n"
     ]
    }
   ],
   "source": [
    "#Let’s split X and y using Train test split\n",
    "X_train, X_test, y_train, y_test = train_test_split(train_X, train_y, train_size=0.8, random_state= 2022, stratify=train_y)\n",
    "\n",
    "#get shape of train and test data\n",
    "print(\"train data size:\", X_train.shape)\n",
    "print(\"test data size:\", X_test.shape)"
   ]
  },
  {
   "cell_type": "code",
   "execution_count": 28,
   "id": "6c626ca1-1467-4de3-b38b-976379f1387c",
   "metadata": {},
   "outputs": [
    {
     "data": {
      "text/plain": [
       "(priceRange\n",
       " 1    0.235833\n",
       " 2    0.230694\n",
       " 3    0.228194\n",
       " 4    0.181667\n",
       " 0    0.123611\n",
       " Name: proportion, dtype: float64,\n",
       " priceRange\n",
       " 1    0.236111\n",
       " 2    0.230556\n",
       " 3    0.228333\n",
       " 4    0.181667\n",
       " 0    0.123333\n",
       " Name: proportion, dtype: float64)"
      ]
     },
     "execution_count": 28,
     "metadata": {},
     "output_type": "execute_result"
    }
   ],
   "source": [
    "y_train.value_counts(normalize=True), y_test.value_counts(normalize=True)"
   ]
  },
  {
   "cell_type": "code",
   "execution_count": 29,
   "id": "8aae7c62-8345-4ec3-b722-6b202a20a6eb",
   "metadata": {},
   "outputs": [],
   "source": [
    "from sklearn.model_selection import cross_val_score\n",
    "\n",
    "from sklearn.ensemble import RandomForestClassifier\n",
    "from sklearn.tree import DecisionTreeClassifier\n",
    "from sklearn.neighbors import KNeighborsClassifier\n",
    "from sklearn.linear_model import LogisticRegression\n",
    "import xgboost as xgb\n",
    "from xgboost import XGBClassifier\n",
    "from sklearn.svm import SVC\n",
    "\n",
    "from sklearn.metrics import classification_report, accuracy_score"
   ]
  },
  {
   "cell_type": "code",
   "execution_count": 30,
   "id": "0108e405-a749-495d-87cb-8b48f5591dc4",
   "metadata": {},
   "outputs": [],
   "source": [
    "from sklearn.ensemble import StackingClassifier"
   ]
  },
  {
   "cell_type": "code",
   "execution_count": 413,
   "id": "b54eea43-15af-4b9b-ab77-5d1d885343eb",
   "metadata": {},
   "outputs": [],
   "source": [
    "from sklearn.model_selection import KFold"
   ]
  },
  {
   "cell_type": "code",
   "execution_count": 414,
   "id": "e6aad13f-ef5a-422b-9700-15dd5edcc0d6",
   "metadata": {},
   "outputs": [],
   "source": [
    "import time"
   ]
  },
  {
   "cell_type": "code",
   "execution_count": 415,
   "id": "2bb94ea2-57e5-49eb-a8d5-3a92ea88f27e",
   "metadata": {},
   "outputs": [],
   "source": [
    "def cv_score(ml_model, rstate=11, cols=None, df=None, df_y=None):\n",
    "    start_time = time.time()\n",
    "\n",
    "    if df is None or df_y is None:\n",
    "        raise ValueError(\"DataFrames df and df_y must be provided\")\n",
    "\n",
    "    if cols is not None:\n",
    "        df1 = df[cols].copy()\n",
    "    else:\n",
    "        df1 = df.copy()\n",
    "\n",
    "    i = 1\n",
    "    cv_scores = []\n",
    "    \n",
    "    kf = KFold(n_splits=5, random_state=rstate, shuffle=True)\n",
    "    \n",
    "    for train_index, test_index in kf.split(df1):\n",
    "        xtr, xvl = df1.iloc[train_index], df1.iloc[test_index]\n",
    "        ytr, yvl = df_y.iloc[train_index], df_y.iloc[test_index]\n",
    "\n",
    "        model = ml_model\n",
    "        model.fit(xtr, ytr)\n",
    "        pred_val = model.predict(xvl)\n",
    "        \n",
    "        # Calculate accuracy\n",
    "        accuracy = accuracy_score(yvl, pred_val)\n",
    "        \n",
    "        # Save scores\n",
    "        cv_scores.append(accuracy)\n",
    "        i += 1\n",
    "    end_time = time.time()\n",
    "    \n",
    "    print(f\"The duration for training the model is: {(end_time - start_time)}. The scores are given by {np.mean(cv_scores)}\")\n",
    "    return cv_scores"
   ]
  },
  {
   "cell_type": "code",
   "execution_count": 416,
   "id": "ca38a9f1-2a47-4cf7-9718-69b41d4d4b9e",
   "metadata": {},
   "outputs": [
    {
     "name": "stdout",
     "output_type": "stream",
     "text": [
      "The duration for training the model is: 5.014626741409302. The scores are given by 0.5955555555555556\n"
     ]
    }
   ],
   "source": [
    "random_forest_classifier = cv_score(RandomForestClassifier(n_estimators=100, random_state=20230916), df = X_train, df_y = y_train)"
   ]
  },
  {
   "cell_type": "code",
   "execution_count": 417,
   "id": "4d30a353-448c-405d-9a99-21182fe749fd",
   "metadata": {},
   "outputs": [
    {
     "name": "stdout",
     "output_type": "stream",
     "text": [
      "The duration for training the model is: 0.5318834781646729. The scores are given by 0.3675\n"
     ]
    }
   ],
   "source": [
    "knn_neighbors_classifier = cv_score(KNeighborsClassifier(n_neighbors=3), df = X_train, df_y = y_train)"
   ]
  },
  {
   "cell_type": "code",
   "execution_count": 418,
   "id": "bb76d026-defd-48b0-8fd5-9c68fab85808",
   "metadata": {},
   "outputs": [
    {
     "name": "stdout",
     "output_type": "stream",
     "text": [
      "The duration for training the model is: 0.3206310272216797. The scores are given by 0.49777777777777776\n"
     ]
    }
   ],
   "source": [
    "decision_tree_classifier = cv_score(DecisionTreeClassifier(random_state=20230916), df = X_train, df_y = y_train)"
   ]
  },
  {
   "cell_type": "code",
   "execution_count": 419,
   "id": "925f1dc8-47b7-40b3-8e00-9ad33a59f9d9",
   "metadata": {},
   "outputs": [
    {
     "name": "stdout",
     "output_type": "stream",
     "text": [
      "The duration for training the model is: 4.5221266746521. The scores are given by 0.5877777777777778\n"
     ]
    }
   ],
   "source": [
    "xgb_classifier = cv_score(XGBClassifier(random_state=20230916), df = X_train, df_y = y_train)"
   ]
  },
  {
   "cell_type": "code",
   "execution_count": 420,
   "id": "4c65a314-be15-4144-a0a7-ce920eb54ae0",
   "metadata": {},
   "outputs": [],
   "source": [
    "results_df = pd.DataFrame({'RandomForestClassifier':random_forest_classifier, \n",
    "                           'KNeighborsClassifier': knn_neighbors_classifier, \n",
    "                           'DecisionTreeClassifier': decision_tree_classifier, \n",
    "                           'XGBClassifier': xgb_classifier})"
   ]
  },
  {
   "cell_type": "code",
   "execution_count": 421,
   "id": "90162c9a-e3d5-4101-be62-976669bf5a73",
   "metadata": {},
   "outputs": [
    {
     "data": {
      "image/png": "[encoded data removed]",
      "text/plain": [
       "<Figure size 640x480 with 1 Axes>"
      ]
     },
     "metadata": {},
     "output_type": "display_data"
    }
   ],
   "source": [
    "results_df.plot(y=[\"RandomForestClassifier\", \"KNeighborsClassifier\", 'DecisionTreeClassifier', 'XGBClassifier'], kind=\"bar\", legend=False)\n",
    "plt.legend(bbox_to_anchor=(1, 1), loc=2, borderaxespad=0.)\n",
    "plt.show()"
   ]
  },
  {
   "cell_type": "code",
   "execution_count": 422,
   "id": "28c0a749-0009-4efe-a483-d92487ed2ac7",
   "metadata": {},
   "outputs": [],
   "source": [
    "# Base models\n",
    "estimators = [\n",
    "    ('rf', RandomForestClassifier(n_estimators=100, random_state=20230916)),\n",
    "    ('xgb', XGBClassifier(random_state=20230916)),\n",
    "]\n",
    "\n",
    "# Meta-model\n",
    "meta_model = LogisticRegression()\n",
    "\n",
    "# Stacking classifier\n",
    "stacking_clf = StackingClassifier(estimators=estimators, \n",
    "                                  final_estimator=meta_model,\n",
    "                                  cv=5)\n",
    "\n",
    "# Fit the model\n",
    "stacking_clf.fit(X_train, y_train)\n",
    "\n",
    "# Make predictions\n",
    "y_pred = stacking_clf.predict(X_test)"
   ]
  },
  {
   "cell_type": "code",
   "execution_count": 423,
   "id": "290a26d2-fb08-4820-a604-e21cd0805e94",
   "metadata": {},
   "outputs": [
    {
     "name": "stdout",
     "output_type": "stream",
     "text": [
      "Accuracy: 0.6105555555555555\n",
      "\n",
      "Classification Report:\n",
      "               precision    recall  f1-score   support\n",
      "\n",
      "           0       0.77      0.46      0.58       222\n",
      "           1       0.58      0.68      0.62       425\n",
      "           2       0.51      0.49      0.50       415\n",
      "           3       0.57      0.62      0.59       411\n",
      "           4       0.78      0.77      0.77       327\n",
      "\n",
      "    accuracy                           0.61      1800\n",
      "   macro avg       0.64      0.60      0.61      1800\n",
      "weighted avg       0.62      0.61      0.61      1800\n",
      "\n"
     ]
    }
   ],
   "source": [
    "print(\"Accuracy:\", accuracy_score(y_test, y_pred))\n",
    "print(\"\\nClassification Report:\\n\", classification_report(y_test, y_pred))"
   ]
  },
  {
   "cell_type": "code",
   "execution_count": 511,
   "id": "bc5de564-d08e-49bb-8479-76d612947a8a",
   "metadata": {},
   "outputs": [],
   "source": [
    "from mlxtend.feature_selection import SequentialFeatureSelector as SFS\n",
    "from mlxtend.plotting import plot_sequential_feature_selection as plot_sfs"
   ]
  },
  {
   "cell_type": "code",
   "execution_count": 485,
   "id": "584eaebe-b371-4e76-abeb-cd3d6ce26562",
   "metadata": {},
   "outputs": [],
   "source": [
    "# create the object of the model\n",
    "model_xgb = XGBClassifier(random_state=20230916)"
   ]
  },
  {
   "cell_type": "code",
   "execution_count": 512,
   "id": "d5a211c3-3ce2-4ca0-a0a5-c58e35d2f882",
   "metadata": {},
   "outputs": [],
   "source": [
    "sfs1 = SFS(model, k_features=15, forward=True, verbose=2, scoring='accuracy', cv=5)"
   ]
  },
  {
   "cell_type": "code",
   "execution_count": 513,
   "id": "b2d31fb2-d870-4f9e-b012-dddf62ce2972",
   "metadata": {},
   "outputs": [
    {
     "name": "stderr",
     "output_type": "stream",
     "text": [
      "\n",
      "[2024-08-09 02:36:00] Features: 1/15 -- score: 0.3716666666666667\n",
      "[2024-08-09 02:40:36] Features: 2/15 -- score: 0.46736111111111117\n",
      "[2024-08-09 02:45:52] Features: 3/15 -- score: 0.5191666666666667\n",
      "[2024-08-09 02:50:09] Features: 4/15 -- score: 0.5475\n",
      "[2024-08-09 02:55:39] Features: 5/15 -- score: 0.5606944444444444\n",
      "[2024-08-09 03:02:00] Features: 6/15 -- score: 0.5741666666666666\n",
      "[2024-08-09 03:08:04] Features: 7/15 -- score: 0.5868055555555556\n",
      "[2024-08-09 03:14:55] Features: 8/15 -- score: 0.5905555555555556\n",
      "[2024-08-09 03:21:30] Features: 9/15 -- score: 0.5909722222222222\n",
      "[2024-08-09 03:27:45] Features: 10/15 -- score: 0.5943055555555556\n",
      "[2024-08-09 03:38:07] Features: 11/15 -- score: 0.5976388888888889\n",
      "[2024-08-09 03:47:38] Features: 12/15 -- score: 0.5991666666666667\n",
      "[2024-08-09 03:56:19] Features: 13/15 -- score: 0.595\n",
      "[2024-08-09 04:02:22] Features: 14/15 -- score: 0.5972222222222222\n",
      "[2024-08-09 04:11:06] Features: 15/15 -- score: 0.5972222222222222"
     ]
    }
   ],
   "source": [
    "sfs1 = sfs1.fit(X_train, y_train)"
   ]
  },
  {
   "cell_type": "code",
   "execution_count": 514,
   "id": "5dd8385c-1cef-4029-8681-b03c11b54e53",
   "metadata": {},
   "outputs": [
    {
     "name": "stdout",
     "output_type": "stream",
     "text": [
      "['city', 'hasSpa', 'yearBuilt_winsor', 'numOfPatioAndPorchFeatures_winsor', 'lotSizeSqFt_winsor', 'avgSchoolRating_winsor', 'numOfBathrooms_winsor', 'numOfBedrooms_winsor', 'homeType_count_winsor', 'latitude_winsor_3', 'longitude_winsor_3', 'back', 'backyard', 'build', 'open']\n"
     ]
    }
   ],
   "source": [
    "feat_names = list(sfs1.k_feature_names_)\n",
    "print(feat_names)"
   ]
  },
  {
   "cell_type": "code",
   "execution_count": 515,
   "id": "b4e33698-dda7-4b19-9ade-a11591f232bf",
   "metadata": {},
   "outputs": [
    {
     "data": {
      "text/html": [
       "<div>\n",
       "<style scoped>\n",
       "    .dataframe tbody tr th:only-of-type {\n",
       "        vertical-align: middle;\n",
       "    }\n",
       "\n",
       "    .dataframe tbody tr th {\n",
       "        vertical-align: top;\n",
       "    }\n",
       "\n",
       "    .dataframe thead th {\n",
       "        text-align: right;\n",
       "    }\n",
       "</style>\n",
       "<table border=\"1\" class=\"dataframe\">\n",
       "  <thead>\n",
       "    <tr style=\"text-align: right;\">\n",
       "      <th></th>\n",
       "      <th>city</th>\n",
       "      <th>hasSpa</th>\n",
       "      <th>yearBuilt_winsor</th>\n",
       "      <th>numOfPatioAndPorchFeatures_winsor</th>\n",
       "      <th>lotSizeSqFt_winsor</th>\n",
       "      <th>avgSchoolRating_winsor</th>\n",
       "      <th>numOfBathrooms_winsor</th>\n",
       "      <th>numOfBedrooms_winsor</th>\n",
       "      <th>homeType_count_winsor</th>\n",
       "      <th>latitude_winsor_3</th>\n",
       "      <th>longitude_winsor_3</th>\n",
       "      <th>back</th>\n",
       "      <th>backyard</th>\n",
       "      <th>build</th>\n",
       "      <th>open</th>\n",
       "    </tr>\n",
       "  </thead>\n",
       "  <tbody>\n",
       "    <tr>\n",
       "      <th>7392</th>\n",
       "      <td>1</td>\n",
       "      <td>0</td>\n",
       "      <td>0.504925</td>\n",
       "      <td>0.792481</td>\n",
       "      <td>0.816455</td>\n",
       "      <td>0.710023</td>\n",
       "      <td>0.369070</td>\n",
       "      <td>0.415037</td>\n",
       "      <td>1.0</td>\n",
       "      <td>0.772219</td>\n",
       "      <td>0.247491</td>\n",
       "      <td>0.629339</td>\n",
       "      <td>0.000000</td>\n",
       "      <td>0.000000</td>\n",
       "      <td>0.000000</td>\n",
       "    </tr>\n",
       "    <tr>\n",
       "      <th>7160</th>\n",
       "      <td>1</td>\n",
       "      <td>0</td>\n",
       "      <td>0.415034</td>\n",
       "      <td>0.500000</td>\n",
       "      <td>0.421014</td>\n",
       "      <td>0.313964</td>\n",
       "      <td>0.369070</td>\n",
       "      <td>0.415037</td>\n",
       "      <td>1.0</td>\n",
       "      <td>0.658117</td>\n",
       "      <td>0.201992</td>\n",
       "      <td>0.000000</td>\n",
       "      <td>0.440765</td>\n",
       "      <td>0.000000</td>\n",
       "      <td>0.393702</td>\n",
       "    </tr>\n",
       "    <tr>\n",
       "      <th>6295</th>\n",
       "      <td>1</td>\n",
       "      <td>0</td>\n",
       "      <td>0.311910</td>\n",
       "      <td>0.000000</td>\n",
       "      <td>0.282975</td>\n",
       "      <td>0.000000</td>\n",
       "      <td>0.000000</td>\n",
       "      <td>0.415037</td>\n",
       "      <td>1.0</td>\n",
       "      <td>0.611265</td>\n",
       "      <td>0.199148</td>\n",
       "      <td>0.314501</td>\n",
       "      <td>0.000000</td>\n",
       "      <td>0.000000</td>\n",
       "      <td>0.000000</td>\n",
       "    </tr>\n",
       "    <tr>\n",
       "      <th>3437</th>\n",
       "      <td>1</td>\n",
       "      <td>0</td>\n",
       "      <td>0.962258</td>\n",
       "      <td>0.000000</td>\n",
       "      <td>0.548283</td>\n",
       "      <td>0.087355</td>\n",
       "      <td>0.630930</td>\n",
       "      <td>0.736966</td>\n",
       "      <td>1.0</td>\n",
       "      <td>0.129646</td>\n",
       "      <td>0.483399</td>\n",
       "      <td>0.000000</td>\n",
       "      <td>0.000000</td>\n",
       "      <td>0.000000</td>\n",
       "      <td>0.000000</td>\n",
       "    </tr>\n",
       "    <tr>\n",
       "      <th>1766</th>\n",
       "      <td>1</td>\n",
       "      <td>0</td>\n",
       "      <td>0.594498</td>\n",
       "      <td>0.500000</td>\n",
       "      <td>0.195497</td>\n",
       "      <td>0.168233</td>\n",
       "      <td>0.369070</td>\n",
       "      <td>0.415037</td>\n",
       "      <td>1.0</td>\n",
       "      <td>0.129646</td>\n",
       "      <td>0.315726</td>\n",
       "      <td>0.269435</td>\n",
       "      <td>0.250697</td>\n",
       "      <td>0.000000</td>\n",
       "      <td>0.222365</td>\n",
       "    </tr>\n",
       "    <tr>\n",
       "      <th>...</th>\n",
       "      <td>...</td>\n",
       "      <td>...</td>\n",
       "      <td>...</td>\n",
       "      <td>...</td>\n",
       "      <td>...</td>\n",
       "      <td>...</td>\n",
       "      <td>...</td>\n",
       "      <td>...</td>\n",
       "      <td>...</td>\n",
       "      <td>...</td>\n",
       "      <td>...</td>\n",
       "      <td>...</td>\n",
       "      <td>...</td>\n",
       "      <td>...</td>\n",
       "      <td>...</td>\n",
       "    </tr>\n",
       "    <tr>\n",
       "      <th>592</th>\n",
       "      <td>1</td>\n",
       "      <td>0</td>\n",
       "      <td>0.949665</td>\n",
       "      <td>0.500000</td>\n",
       "      <td>0.175164</td>\n",
       "      <td>0.501514</td>\n",
       "      <td>0.630930</td>\n",
       "      <td>0.415037</td>\n",
       "      <td>1.0</td>\n",
       "      <td>0.000000</td>\n",
       "      <td>0.332782</td>\n",
       "      <td>0.457527</td>\n",
       "      <td>0.427517</td>\n",
       "      <td>0.000000</td>\n",
       "      <td>0.381689</td>\n",
       "    </tr>\n",
       "    <tr>\n",
       "      <th>3533</th>\n",
       "      <td>1</td>\n",
       "      <td>0</td>\n",
       "      <td>0.466439</td>\n",
       "      <td>0.500000</td>\n",
       "      <td>0.381591</td>\n",
       "      <td>0.000000</td>\n",
       "      <td>0.369070</td>\n",
       "      <td>0.415037</td>\n",
       "      <td>1.0</td>\n",
       "      <td>0.114922</td>\n",
       "      <td>0.366891</td>\n",
       "      <td>0.704052</td>\n",
       "      <td>0.000000</td>\n",
       "      <td>0.000000</td>\n",
       "      <td>0.000000</td>\n",
       "    </tr>\n",
       "    <tr>\n",
       "      <th>5660</th>\n",
       "      <td>1</td>\n",
       "      <td>0</td>\n",
       "      <td>0.974845</td>\n",
       "      <td>0.000000</td>\n",
       "      <td>0.327778</td>\n",
       "      <td>0.610740</td>\n",
       "      <td>0.630930</td>\n",
       "      <td>0.415037</td>\n",
       "      <td>1.0</td>\n",
       "      <td>0.094306</td>\n",
       "      <td>1.000000</td>\n",
       "      <td>0.000000</td>\n",
       "      <td>0.000000</td>\n",
       "      <td>0.729507</td>\n",
       "      <td>0.000000</td>\n",
       "    </tr>\n",
       "    <tr>\n",
       "      <th>3141</th>\n",
       "      <td>1</td>\n",
       "      <td>0</td>\n",
       "      <td>0.568938</td>\n",
       "      <td>0.000000</td>\n",
       "      <td>0.262653</td>\n",
       "      <td>0.168233</td>\n",
       "      <td>0.630930</td>\n",
       "      <td>0.415037</td>\n",
       "      <td>1.0</td>\n",
       "      <td>0.678607</td>\n",
       "      <td>0.099591</td>\n",
       "      <td>0.513059</td>\n",
       "      <td>0.000000</td>\n",
       "      <td>0.000000</td>\n",
       "      <td>0.000000</td>\n",
       "    </tr>\n",
       "    <tr>\n",
       "      <th>507</th>\n",
       "      <td>0</td>\n",
       "      <td>0</td>\n",
       "      <td>1.000000</td>\n",
       "      <td>0.500000</td>\n",
       "      <td>1.000000</td>\n",
       "      <td>0.885014</td>\n",
       "      <td>0.834044</td>\n",
       "      <td>1.000000</td>\n",
       "      <td>1.0</td>\n",
       "      <td>0.000000</td>\n",
       "      <td>0.994328</td>\n",
       "      <td>0.000000</td>\n",
       "      <td>0.000000</td>\n",
       "      <td>0.406097</td>\n",
       "      <td>0.000000</td>\n",
       "    </tr>\n",
       "  </tbody>\n",
       "</table>\n",
       "<p>7200 rows × 15 columns</p>\n",
       "</div>"
      ],
      "text/plain": [
       "      city  hasSpa  yearBuilt_winsor  numOfPatioAndPorchFeatures_winsor  lotSizeSqFt_winsor  avgSchoolRating_winsor  numOfBathrooms_winsor  numOfBedrooms_winsor  homeType_count_winsor  latitude_winsor_3  longitude_winsor_3      back  backyard     build      open\n",
       "7392     1       0          0.504925                           0.792481            0.816455                0.710023               0.369070              0.415037                    1.0           0.772219            0.247491  0.629339  0.000000  0.000000  0.000000\n",
       "7160     1       0          0.415034                           0.500000            0.421014                0.313964               0.369070              0.415037                    1.0           0.658117            0.201992  0.000000  0.440765  0.000000  0.393702\n",
       "6295     1       0          0.311910                           0.000000            0.282975                0.000000               0.000000              0.415037                    1.0           0.611265            0.199148  0.314501  0.000000  0.000000  0.000000\n",
       "3437     1       0          0.962258                           0.000000            0.548283                0.087355               0.630930              0.736966                    1.0           0.129646            0.483399  0.000000  0.000000  0.000000  0.000000\n",
       "1766     1       0          0.594498                           0.500000            0.195497                0.168233               0.369070              0.415037                    1.0           0.129646            0.315726  0.269435  0.250697  0.000000  0.222365\n",
       "...    ...     ...               ...                                ...                 ...                     ...                    ...                   ...                    ...                ...                 ...       ...       ...       ...       ...\n",
       "592      1       0          0.949665                           0.500000            0.175164                0.501514               0.630930              0.415037                    1.0           0.000000            0.332782  0.457527  0.427517  0.000000  0.381689\n",
       "3533     1       0          0.466439                           0.500000            0.381591                0.000000               0.369070              0.415037                    1.0           0.114922            0.366891  0.704052  0.000000  0.000000  0.000000\n",
       "5660     1       0          0.974845                           0.000000            0.327778                0.610740               0.630930              0.415037                    1.0           0.094306            1.000000  0.000000  0.000000  0.729507  0.000000\n",
       "3141     1       0          0.568938                           0.000000            0.262653                0.168233               0.630930              0.415037                    1.0           0.678607            0.099591  0.513059  0.000000  0.000000  0.000000\n",
       "507      0       0          1.000000                           0.500000            1.000000                0.885014               0.834044              1.000000                    1.0           0.000000            0.994328  0.000000  0.000000  0.406097  0.000000\n",
       "\n",
       "[7200 rows x 15 columns]"
      ]
     },
     "execution_count": 515,
     "metadata": {},
     "output_type": "execute_result"
    }
   ],
   "source": [
    "X_train[feat_names]"
   ]
  },
  {
   "cell_type": "code",
   "execution_count": 516,
   "id": "7ac82813-eeb5-4262-9f3f-2b3d6fdd9457",
   "metadata": {},
   "outputs": [
    {
     "data": {
      "text/html": [
       "<style>#sk-container-id-12 {\n",
       "  /* Definition of color scheme common for light and dark mode */\n",
       "  --sklearn-color-text: black;\n",
       "  --sklearn-color-line: gray;\n",
       "  /* Definition of color scheme for unfitted estimators */\n",
       "  --sklearn-color-unfitted-level-0: #fff5e6;\n",
       "  --sklearn-color-unfitted-level-1: #f6e4d2;\n",
       "  --sklearn-color-unfitted-level-2: #ffe0b3;\n",
       "  --sklearn-color-unfitted-level-3: chocolate;\n",
       "  /* Definition of color scheme for fitted estimators */\n",
       "  --sklearn-color-fitted-level-0: #f0f8ff;\n",
       "  --sklearn-color-fitted-level-1: #d4ebff;\n",
       "  --sklearn-color-fitted-level-2: #b3dbfd;\n",
       "  --sklearn-color-fitted-level-3: cornflowerblue;\n",
       "\n",
       "  /* Specific color for light theme */\n",
       "  --sklearn-color-text-on-default-background: var(--sg-text-color, var(--theme-code-foreground, var(--jp-content-font-color1, black)));\n",
       "  --sklearn-color-background: var(--sg-background-color, var(--theme-background, var(--jp-layout-color0, white)));\n",
       "  --sklearn-color-border-box: var(--sg-text-color, var(--theme-code-foreground, var(--jp-content-font-color1, black)));\n",
       "  --sklearn-color-icon: #696969;\n",
       "\n",
       "  @media (prefers-color-scheme: dark) {\n",
       "    /* Redefinition of color scheme for dark theme */\n",
       "    --sklearn-color-text-on-default-background: var(--sg-text-color, var(--theme-code-foreground, var(--jp-content-font-color1, white)));\n",
       "    --sklearn-color-background: var(--sg-background-color, var(--theme-background, var(--jp-layout-color0, #111)));\n",
       "    --sklearn-color-border-box: var(--sg-text-color, var(--theme-code-foreground, var(--jp-content-font-color1, white)));\n",
       "    --sklearn-color-icon: #878787;\n",
       "  }\n",
       "}\n",
       "\n",
       "#sk-container-id-12 {\n",
       "  color: var(--sklearn-color-text);\n",
       "}\n",
       "\n",
       "#sk-container-id-12 pre {\n",
       "  padding: 0;\n",
       "}\n",
       "\n",
       "#sk-container-id-12 input.sk-hidden--visually {\n",
       "  border: 0;\n",
       "  clip: rect(1px 1px 1px 1px);\n",
       "  clip: rect(1px, 1px, 1px, 1px);\n",
       "  height: 1px;\n",
       "  margin: -1px;\n",
       "  overflow: hidden;\n",
       "  padding: 0;\n",
       "  position: absolute;\n",
       "  width: 1px;\n",
       "}\n",
       "\n",
       "#sk-container-id-12 div.sk-dashed-wrapped {\n",
       "  border: 1px dashed var(--sklearn-color-line);\n",
       "  margin: 0 0.4em 0.5em 0.4em;\n",
       "  box-sizing: border-box;\n",
       "  padding-bottom: 0.4em;\n",
       "  background-color: var(--sklearn-color-background);\n",
       "}\n",
       "\n",
       "#sk-container-id-12 div.sk-container {\n",
       "  /* jupyter's `normalize.less` sets `[hidden] { display: none; }`\n",
       "     but bootstrap.min.css set `[hidden] { display: none !important; }`\n",
       "     so we also need the `!important` here to be able to override the\n",
       "     default hidden behavior on the sphinx rendered scikit-learn.org.\n",
       "     See: https://github.com/scikit-learn/scikit-learn/issues/21755 */\n",
       "  display: inline-block !important;\n",
       "  position: relative;\n",
       "}\n",
       "\n",
       "#sk-container-id-12 div.sk-text-repr-fallback {\n",
       "  display: none;\n",
       "}\n",
       "\n",
       "div.sk-parallel-item,\n",
       "div.sk-serial,\n",
       "div.sk-item {\n",
       "  /* draw centered vertical line to link estimators */\n",
       "  background-image: linear-gradient(var(--sklearn-color-text-on-default-background), var(--sklearn-color-text-on-default-background));\n",
       "  background-size: 2px 100%;\n",
       "  background-repeat: no-repeat;\n",
       "  background-position: center center;\n",
       "}\n",
       "\n",
       "/* Parallel-specific style estimator block */\n",
       "\n",
       "#sk-container-id-12 div.sk-parallel-item::after {\n",
       "  content: \"\";\n",
       "  width: 100%;\n",
       "  border-bottom: 2px solid var(--sklearn-color-text-on-default-background);\n",
       "  flex-grow: 1;\n",
       "}\n",
       "\n",
       "#sk-container-id-12 div.sk-parallel {\n",
       "  display: flex;\n",
       "  align-items: stretch;\n",
       "  justify-content: center;\n",
       "  background-color: var(--sklearn-color-background);\n",
       "  position: relative;\n",
       "}\n",
       "\n",
       "#sk-container-id-12 div.sk-parallel-item {\n",
       "  display: flex;\n",
       "  flex-direction: column;\n",
       "}\n",
       "\n",
       "#sk-container-id-12 div.sk-parallel-item:first-child::after {\n",
       "  align-self: flex-end;\n",
       "  width: 50%;\n",
       "}\n",
       "\n",
       "#sk-container-id-12 div.sk-parallel-item:last-child::after {\n",
       "  align-self: flex-start;\n",
       "  width: 50%;\n",
       "}\n",
       "\n",
       "#sk-container-id-12 div.sk-parallel-item:only-child::after {\n",
       "  width: 0;\n",
       "}\n",
       "\n",
       "/* Serial-specific style estimator block */\n",
       "\n",
       "#sk-container-id-12 div.sk-serial {\n",
       "  display: flex;\n",
       "  flex-direction: column;\n",
       "  align-items: center;\n",
       "  background-color: var(--sklearn-color-background);\n",
       "  padding-right: 1em;\n",
       "  padding-left: 1em;\n",
       "}\n",
       "\n",
       "\n",
       "/* Toggleable style: style used for estimator/Pipeline/ColumnTransformer box that is\n",
       "clickable and can be expanded/collapsed.\n",
       "- Pipeline and ColumnTransformer use this feature and define the default style\n",
       "- Estimators will overwrite some part of the style using the `sk-estimator` class\n",
       "*/\n",
       "\n",
       "/* Pipeline and ColumnTransformer style (default) */\n",
       "\n",
       "#sk-container-id-12 div.sk-toggleable {\n",
       "  /* Default theme specific background. It is overwritten whether we have a\n",
       "  specific estimator or a Pipeline/ColumnTransformer */\n",
       "  background-color: var(--sklearn-color-background);\n",
       "}\n",
       "\n",
       "/* Toggleable label */\n",
       "#sk-container-id-12 label.sk-toggleable__label {\n",
       "  cursor: pointer;\n",
       "  display: block;\n",
       "  width: 100%;\n",
       "  margin-bottom: 0;\n",
       "  padding: 0.5em;\n",
       "  box-sizing: border-box;\n",
       "  text-align: center;\n",
       "}\n",
       "\n",
       "#sk-container-id-12 label.sk-toggleable__label-arrow:before {\n",
       "  /* Arrow on the left of the label */\n",
       "  content: \"▸\";\n",
       "  float: left;\n",
       "  margin-right: 0.25em;\n",
       "  color: var(--sklearn-color-icon);\n",
       "}\n",
       "\n",
       "#sk-container-id-12 label.sk-toggleable__label-arrow:hover:before {\n",
       "  color: var(--sklearn-color-text);\n",
       "}\n",
       "\n",
       "/* Toggleable content - dropdown */\n",
       "\n",
       "#sk-container-id-12 div.sk-toggleable__content {\n",
       "  max-height: 0;\n",
       "  max-width: 0;\n",
       "  overflow: hidden;\n",
       "  text-align: left;\n",
       "  /* unfitted */\n",
       "  background-color: var(--sklearn-color-unfitted-level-0);\n",
       "}\n",
       "\n",
       "#sk-container-id-12 div.sk-toggleable__content.fitted {\n",
       "  /* fitted */\n",
       "  background-color: var(--sklearn-color-fitted-level-0);\n",
       "}\n",
       "\n",
       "#sk-container-id-12 div.sk-toggleable__content pre {\n",
       "  margin: 0.2em;\n",
       "  border-radius: 0.25em;\n",
       "  color: var(--sklearn-color-text);\n",
       "  /* unfitted */\n",
       "  background-color: var(--sklearn-color-unfitted-level-0);\n",
       "}\n",
       "\n",
       "#sk-container-id-12 div.sk-toggleable__content.fitted pre {\n",
       "  /* unfitted */\n",
       "  background-color: var(--sklearn-color-fitted-level-0);\n",
       "}\n",
       "\n",
       "#sk-container-id-12 input.sk-toggleable__control:checked~div.sk-toggleable__content {\n",
       "  /* Expand drop-down */\n",
       "  max-height: 200px;\n",
       "  max-width: 100%;\n",
       "  overflow: auto;\n",
       "}\n",
       "\n",
       "#sk-container-id-12 input.sk-toggleable__control:checked~label.sk-toggleable__label-arrow:before {\n",
       "  content: \"▾\";\n",
       "}\n",
       "\n",
       "/* Pipeline/ColumnTransformer-specific style */\n",
       "\n",
       "#sk-container-id-12 div.sk-label input.sk-toggleable__control:checked~label.sk-toggleable__label {\n",
       "  color: var(--sklearn-color-text);\n",
       "  background-color: var(--sklearn-color-unfitted-level-2);\n",
       "}\n",
       "\n",
       "#sk-container-id-12 div.sk-label.fitted input.sk-toggleable__control:checked~label.sk-toggleable__label {\n",
       "  background-color: var(--sklearn-color-fitted-level-2);\n",
       "}\n",
       "\n",
       "/* Estimator-specific style */\n",
       "\n",
       "/* Colorize estimator box */\n",
       "#sk-container-id-12 div.sk-estimator input.sk-toggleable__control:checked~label.sk-toggleable__label {\n",
       "  /* unfitted */\n",
       "  background-color: var(--sklearn-color-unfitted-level-2);\n",
       "}\n",
       "\n",
       "#sk-container-id-12 div.sk-estimator.fitted input.sk-toggleable__control:checked~label.sk-toggleable__label {\n",
       "  /* fitted */\n",
       "  background-color: var(--sklearn-color-fitted-level-2);\n",
       "}\n",
       "\n",
       "#sk-container-id-12 div.sk-label label.sk-toggleable__label,\n",
       "#sk-container-id-12 div.sk-label label {\n",
       "  /* The background is the default theme color */\n",
       "  color: var(--sklearn-color-text-on-default-background);\n",
       "}\n",
       "\n",
       "/* On hover, darken the color of the background */\n",
       "#sk-container-id-12 div.sk-label:hover label.sk-toggleable__label {\n",
       "  color: var(--sklearn-color-text);\n",
       "  background-color: var(--sklearn-color-unfitted-level-2);\n",
       "}\n",
       "\n",
       "/* Label box, darken color on hover, fitted */\n",
       "#sk-container-id-12 div.sk-label.fitted:hover label.sk-toggleable__label.fitted {\n",
       "  color: var(--sklearn-color-text);\n",
       "  background-color: var(--sklearn-color-fitted-level-2);\n",
       "}\n",
       "\n",
       "/* Estimator label */\n",
       "\n",
       "#sk-container-id-12 div.sk-label label {\n",
       "  font-family: monospace;\n",
       "  font-weight: bold;\n",
       "  display: inline-block;\n",
       "  line-height: 1.2em;\n",
       "}\n",
       "\n",
       "#sk-container-id-12 div.sk-label-container {\n",
       "  text-align: center;\n",
       "}\n",
       "\n",
       "/* Estimator-specific */\n",
       "#sk-container-id-12 div.sk-estimator {\n",
       "  font-family: monospace;\n",
       "  border: 1px dotted var(--sklearn-color-border-box);\n",
       "  border-radius: 0.25em;\n",
       "  box-sizing: border-box;\n",
       "  margin-bottom: 0.5em;\n",
       "  /* unfitted */\n",
       "  background-color: var(--sklearn-color-unfitted-level-0);\n",
       "}\n",
       "\n",
       "#sk-container-id-12 div.sk-estimator.fitted {\n",
       "  /* fitted */\n",
       "  background-color: var(--sklearn-color-fitted-level-0);\n",
       "}\n",
       "\n",
       "/* on hover */\n",
       "#sk-container-id-12 div.sk-estimator:hover {\n",
       "  /* unfitted */\n",
       "  background-color: var(--sklearn-color-unfitted-level-2);\n",
       "}\n",
       "\n",
       "#sk-container-id-12 div.sk-estimator.fitted:hover {\n",
       "  /* fitted */\n",
       "  background-color: var(--sklearn-color-fitted-level-2);\n",
       "}\n",
       "\n",
       "/* Specification for estimator info (e.g. \"i\" and \"?\") */\n",
       "\n",
       "/* Common style for \"i\" and \"?\" */\n",
       "\n",
       ".sk-estimator-doc-link,\n",
       "a:link.sk-estimator-doc-link,\n",
       "a:visited.sk-estimator-doc-link {\n",
       "  float: right;\n",
       "  font-size: smaller;\n",
       "  line-height: 1em;\n",
       "  font-family: monospace;\n",
       "  background-color: var(--sklearn-color-background);\n",
       "  border-radius: 1em;\n",
       "  height: 1em;\n",
       "  width: 1em;\n",
       "  text-decoration: none !important;\n",
       "  margin-left: 1ex;\n",
       "  /* unfitted */\n",
       "  border: var(--sklearn-color-unfitted-level-1) 1pt solid;\n",
       "  color: var(--sklearn-color-unfitted-level-1);\n",
       "}\n",
       "\n",
       ".sk-estimator-doc-link.fitted,\n",
       "a:link.sk-estimator-doc-link.fitted,\n",
       "a:visited.sk-estimator-doc-link.fitted {\n",
       "  /* fitted */\n",
       "  border: var(--sklearn-color-fitted-level-1) 1pt solid;\n",
       "  color: var(--sklearn-color-fitted-level-1);\n",
       "}\n",
       "\n",
       "/* On hover */\n",
       "div.sk-estimator:hover .sk-estimator-doc-link:hover,\n",
       ".sk-estimator-doc-link:hover,\n",
       "div.sk-label-container:hover .sk-estimator-doc-link:hover,\n",
       ".sk-estimator-doc-link:hover {\n",
       "  /* unfitted */\n",
       "  background-color: var(--sklearn-color-unfitted-level-3);\n",
       "  color: var(--sklearn-color-background);\n",
       "  text-decoration: none;\n",
       "}\n",
       "\n",
       "div.sk-estimator.fitted:hover .sk-estimator-doc-link.fitted:hover,\n",
       ".sk-estimator-doc-link.fitted:hover,\n",
       "div.sk-label-container:hover .sk-estimator-doc-link.fitted:hover,\n",
       ".sk-estimator-doc-link.fitted:hover {\n",
       "  /* fitted */\n",
       "  background-color: var(--sklearn-color-fitted-level-3);\n",
       "  color: var(--sklearn-color-background);\n",
       "  text-decoration: none;\n",
       "}\n",
       "\n",
       "/* Span, style for the box shown on hovering the info icon */\n",
       ".sk-estimator-doc-link span {\n",
       "  display: none;\n",
       "  z-index: 9999;\n",
       "  position: relative;\n",
       "  font-weight: normal;\n",
       "  right: .2ex;\n",
       "  padding: .5ex;\n",
       "  margin: .5ex;\n",
       "  width: min-content;\n",
       "  min-width: 20ex;\n",
       "  max-width: 50ex;\n",
       "  color: var(--sklearn-color-text);\n",
       "  box-shadow: 2pt 2pt 4pt #999;\n",
       "  /* unfitted */\n",
       "  background: var(--sklearn-color-unfitted-level-0);\n",
       "  border: .5pt solid var(--sklearn-color-unfitted-level-3);\n",
       "}\n",
       "\n",
       ".sk-estimator-doc-link.fitted span {\n",
       "  /* fitted */\n",
       "  background: var(--sklearn-color-fitted-level-0);\n",
       "  border: var(--sklearn-color-fitted-level-3);\n",
       "}\n",
       "\n",
       ".sk-estimator-doc-link:hover span {\n",
       "  display: block;\n",
       "}\n",
       "\n",
       "/* \"?\"-specific style due to the `<a>` HTML tag */\n",
       "\n",
       "#sk-container-id-12 a.estimator_doc_link {\n",
       "  float: right;\n",
       "  font-size: 1rem;\n",
       "  line-height: 1em;\n",
       "  font-family: monospace;\n",
       "  background-color: var(--sklearn-color-background);\n",
       "  border-radius: 1rem;\n",
       "  height: 1rem;\n",
       "  width: 1rem;\n",
       "  text-decoration: none;\n",
       "  /* unfitted */\n",
       "  color: var(--sklearn-color-unfitted-level-1);\n",
       "  border: var(--sklearn-color-unfitted-level-1) 1pt solid;\n",
       "}\n",
       "\n",
       "#sk-container-id-12 a.estimator_doc_link.fitted {\n",
       "  /* fitted */\n",
       "  border: var(--sklearn-color-fitted-level-1) 1pt solid;\n",
       "  color: var(--sklearn-color-fitted-level-1);\n",
       "}\n",
       "\n",
       "/* On hover */\n",
       "#sk-container-id-12 a.estimator_doc_link:hover {\n",
       "  /* unfitted */\n",
       "  background-color: var(--sklearn-color-unfitted-level-3);\n",
       "  color: var(--sklearn-color-background);\n",
       "  text-decoration: none;\n",
       "}\n",
       "\n",
       "#sk-container-id-12 a.estimator_doc_link.fitted:hover {\n",
       "  /* fitted */\n",
       "  background-color: var(--sklearn-color-fitted-level-3);\n",
       "}\n",
       "</style><div id=\"sk-container-id-12\" class=\"sk-top-container\"><div class=\"sk-text-repr-fallback\"><pre>XGBClassifier(base_score=None, booster=None, callbacks=None,\n",
       "              colsample_bylevel=None, colsample_bynode=None,\n",
       "              colsample_bytree=None, device=None, early_stopping_rounds=None,\n",
       "              enable_categorical=False, eval_metric=None, feature_types=None,\n",
       "              gamma=None, grow_policy=None, importance_type=None,\n",
       "              interaction_constraints=None, learning_rate=None, max_bin=None,\n",
       "              max_cat_threshold=None, max_cat_to_onehot=None,\n",
       "              max_delta_step=None, max_depth=None, max_leaves=None,\n",
       "              min_child_weight=None, missing=nan, monotone_constraints=None,\n",
       "              multi_strategy=None, n_estimators=None, n_jobs=None,\n",
       "              num_parallel_tree=None, objective=&#x27;multi:softprob&#x27;, ...)</pre><b>In a Jupyter environment, please rerun this cell to show the HTML representation or trust the notebook. <br />On GitHub, the HTML representation is unable to render, please try loading this page with nbviewer.org.</b></div><div class=\"sk-container\" hidden><div class=\"sk-item\"><div class=\"sk-estimator fitted sk-toggleable\"><input class=\"sk-toggleable__control sk-hidden--visually\" id=\"sk-estimator-id-12\" type=\"checkbox\" checked><label for=\"sk-estimator-id-12\" class=\"sk-toggleable__label fitted sk-toggleable__label-arrow fitted\">&nbsp;XGBClassifier<span class=\"sk-estimator-doc-link fitted\">i<span>Fitted</span></span></label><div class=\"sk-toggleable__content fitted\"><pre>XGBClassifier(base_score=None, booster=None, callbacks=None,\n",
       "              colsample_bylevel=None, colsample_bynode=None,\n",
       "              colsample_bytree=None, device=None, early_stopping_rounds=None,\n",
       "              enable_categorical=False, eval_metric=None, feature_types=None,\n",
       "              gamma=None, grow_policy=None, importance_type=None,\n",
       "              interaction_constraints=None, learning_rate=None, max_bin=None,\n",
       "              max_cat_threshold=None, max_cat_to_onehot=None,\n",
       "              max_delta_step=None, max_depth=None, max_leaves=None,\n",
       "              min_child_weight=None, missing=nan, monotone_constraints=None,\n",
       "              multi_strategy=None, n_estimators=None, n_jobs=None,\n",
       "              num_parallel_tree=None, objective=&#x27;multi:softprob&#x27;, ...)</pre></div> </div></div></div></div>"
      ],
      "text/plain": [
       "XGBClassifier(base_score=None, booster=None, callbacks=None,\n",
       "              colsample_bylevel=None, colsample_bynode=None,\n",
       "              colsample_bytree=None, device=None, early_stopping_rounds=None,\n",
       "              enable_categorical=False, eval_metric=None, feature_types=None,\n",
       "              gamma=None, grow_policy=None, importance_type=None,\n",
       "              interaction_constraints=None, learning_rate=None, max_bin=None,\n",
       "              max_cat_threshold=None, max_cat_to_onehot=None,\n",
       "              max_delta_step=None, max_depth=None, max_leaves=None,\n",
       "              min_child_weight=None, missing=nan, monotone_constraints=None,\n",
       "              multi_strategy=None, n_estimators=None, n_jobs=None,\n",
       "              num_parallel_tree=None, objective='multi:softprob', ...)"
      ]
     },
     "execution_count": 516,
     "metadata": {},
     "output_type": "execute_result"
    }
   ],
   "source": [
    "# Fit model \n",
    "model_xgb.fit(X_train[feat_names], y_train)"
   ]
  },
  {
   "cell_type": "code",
   "execution_count": 518,
   "id": "f9f6c1a4-f3b1-4ed2-bbb2-d38f26f96e0c",
   "metadata": {},
   "outputs": [],
   "source": [
    "feature_names = list(X_train[feat_names].columns)"
   ]
  },
  {
   "cell_type": "code",
   "execution_count": 519,
   "id": "fa3cb20a-4eb3-481b-a98a-573f9bfc6434",
   "metadata": {},
   "outputs": [
    {
     "data": {
      "image/png": "[encoded data removed]",
      "text/plain": [
       "<Figure size 1000x600 with 1 Axes>"
      ]
     },
     "metadata": {},
     "output_type": "display_data"
    }
   ],
   "source": [
    "importances = model_xgb.feature_importances_\n",
    "\n",
    "# Create a bar chart\n",
    "plt.figure(figsize=(10, 6))\n",
    "plt.barh(feature_names, importances*100, color='skyblue')\n",
    "plt.xlabel('Importance')\n",
    "plt.ylabel('Feature')\n",
    "plt.title('Feature Importances')\n",
    "plt.show()"
   ]
  },
  {
   "cell_type": "code",
   "execution_count": 520,
   "id": "9bd32434-4d84-449d-8ea0-0975081e9d82",
   "metadata": {},
   "outputs": [
    {
     "data": {
      "text/html": [
       "<div>\n",
       "<style scoped>\n",
       "    .dataframe tbody tr th:only-of-type {\n",
       "        vertical-align: middle;\n",
       "    }\n",
       "\n",
       "    .dataframe tbody tr th {\n",
       "        vertical-align: top;\n",
       "    }\n",
       "\n",
       "    .dataframe thead th {\n",
       "        text-align: right;\n",
       "    }\n",
       "</style>\n",
       "<table border=\"1\" class=\"dataframe\">\n",
       "  <thead>\n",
       "    <tr style=\"text-align: right;\">\n",
       "      <th></th>\n",
       "      <th>features</th>\n",
       "      <th>importances</th>\n",
       "    </tr>\n",
       "  </thead>\n",
       "  <tbody>\n",
       "    <tr>\n",
       "      <th>6</th>\n",
       "      <td>numOfBathrooms_winsor</td>\n",
       "      <td>19.287054</td>\n",
       "    </tr>\n",
       "    <tr>\n",
       "      <th>5</th>\n",
       "      <td>avgSchoolRating_winsor</td>\n",
       "      <td>14.094938</td>\n",
       "    </tr>\n",
       "    <tr>\n",
       "      <th>9</th>\n",
       "      <td>latitude_winsor_3</td>\n",
       "      <td>7.998726</td>\n",
       "    </tr>\n",
       "    <tr>\n",
       "      <th>10</th>\n",
       "      <td>longitude_winsor_3</td>\n",
       "      <td>7.905646</td>\n",
       "    </tr>\n",
       "    <tr>\n",
       "      <th>8</th>\n",
       "      <td>homeType_count_winsor</td>\n",
       "      <td>6.576481</td>\n",
       "    </tr>\n",
       "  </tbody>\n",
       "</table>\n",
       "</div>"
      ],
      "text/plain": [
       "                  features  importances\n",
       "6    numOfBathrooms_winsor    19.287054\n",
       "5   avgSchoolRating_winsor    14.094938\n",
       "9        latitude_winsor_3     7.998726\n",
       "10      longitude_winsor_3     7.905646\n",
       "8    homeType_count_winsor     6.576481"
      ]
     },
     "execution_count": 520,
     "metadata": {},
     "output_type": "execute_result"
    }
   ],
   "source": [
    "feature_importance = pd.DataFrame({\"features\":feature_names, \n",
    "                                   \"importances\": importances*100})\n",
    "\n",
    "feature_importance.sort_values(by='importances', ascending=False).head()"
   ]
  },
  {
   "cell_type": "code",
   "execution_count": 521,
   "id": "554036d3-14d4-416b-adb2-062ec7dea716",
   "metadata": {},
   "outputs": [
    {
     "data": {
      "text/html": [
       "<div>\n",
       "<style scoped>\n",
       "    .dataframe tbody tr th:only-of-type {\n",
       "        vertical-align: middle;\n",
       "    }\n",
       "\n",
       "    .dataframe tbody tr th {\n",
       "        vertical-align: top;\n",
       "    }\n",
       "\n",
       "    .dataframe thead th {\n",
       "        text-align: right;\n",
       "    }\n",
       "</style>\n",
       "<table border=\"1\" class=\"dataframe\">\n",
       "  <thead>\n",
       "    <tr style=\"text-align: right;\">\n",
       "      <th></th>\n",
       "      <th>count</th>\n",
       "      <th>mean</th>\n",
       "      <th>std</th>\n",
       "      <th>min</th>\n",
       "      <th>25%</th>\n",
       "      <th>50%</th>\n",
       "      <th>75%</th>\n",
       "      <th>max</th>\n",
       "    </tr>\n",
       "  </thead>\n",
       "  <tbody>\n",
       "    <tr>\n",
       "      <th>importances</th>\n",
       "      <td>15.0</td>\n",
       "      <td>6.666667</td>\n",
       "      <td>4.443891</td>\n",
       "      <td>3.386021</td>\n",
       "      <td>3.993942</td>\n",
       "      <td>5.19646</td>\n",
       "      <td>7.241064</td>\n",
       "      <td>19.287054</td>\n",
       "    </tr>\n",
       "  </tbody>\n",
       "</table>\n",
       "</div>"
      ],
      "text/plain": [
       "             count      mean       std       min       25%      50%       75%        max\n",
       "importances   15.0  6.666667  4.443891  3.386021  3.993942  5.19646  7.241064  19.287054"
      ]
     },
     "execution_count": 521,
     "metadata": {},
     "output_type": "execute_result"
    }
   ],
   "source": [
    "feature_importance.describe().T"
   ]
  },
  {
   "cell_type": "code",
   "execution_count": 522,
   "id": "c17ed2a2-38c8-4fff-a852-eee774ce2cc4",
   "metadata": {},
   "outputs": [
    {
     "data": {
      "text/plain": [
       "3.9939416646957397"
      ]
     },
     "execution_count": 522,
     "metadata": {},
     "output_type": "execute_result"
    }
   ],
   "source": [
    "feature_importance['importances'].quantile(0.25)"
   ]
  },
  {
   "cell_type": "code",
   "execution_count": 523,
   "id": "f10dc1ae-e4c2-486f-a407-2107e713ceae",
   "metadata": {},
   "outputs": [],
   "source": [
    "filtered_df =feature_importance[feature_importance['importances'] > feature_importance['importances'].quantile(0.5)]"
   ]
  },
  {
   "cell_type": "code",
   "execution_count": 494,
   "id": "31c35c95-fdd9-48c2-b6bb-812e3a3be851",
   "metadata": {},
   "outputs": [
    {
     "data": {
      "text/html": [
       "<div>\n",
       "<style scoped>\n",
       "    .dataframe tbody tr th:only-of-type {\n",
       "        vertical-align: middle;\n",
       "    }\n",
       "\n",
       "    .dataframe tbody tr th {\n",
       "        vertical-align: top;\n",
       "    }\n",
       "\n",
       "    .dataframe thead th {\n",
       "        text-align: right;\n",
       "    }\n",
       "</style>\n",
       "<table border=\"1\" class=\"dataframe\">\n",
       "  <thead>\n",
       "    <tr style=\"text-align: right;\">\n",
       "      <th></th>\n",
       "      <th>features</th>\n",
       "      <th>importances</th>\n",
       "    </tr>\n",
       "  </thead>\n",
       "  <tbody>\n",
       "    <tr>\n",
       "      <th>8</th>\n",
       "      <td>numOfBathrooms_winsor</td>\n",
       "      <td>14.309074</td>\n",
       "    </tr>\n",
       "    <tr>\n",
       "      <th>7</th>\n",
       "      <td>avgSchoolRating_winsor</td>\n",
       "      <td>9.902528</td>\n",
       "    </tr>\n",
       "    <tr>\n",
       "      <th>11</th>\n",
       "      <td>latitude_winsor_3</td>\n",
       "      <td>5.493628</td>\n",
       "    </tr>\n",
       "    <tr>\n",
       "      <th>12</th>\n",
       "      <td>longitude_winsor_3</td>\n",
       "      <td>5.361614</td>\n",
       "    </tr>\n",
       "    <tr>\n",
       "      <th>1</th>\n",
       "      <td>homeType</td>\n",
       "      <td>4.085618</td>\n",
       "    </tr>\n",
       "    <tr>\n",
       "      <th>9</th>\n",
       "      <td>numOfBedrooms_winsor</td>\n",
       "      <td>4.041375</td>\n",
       "    </tr>\n",
       "    <tr>\n",
       "      <th>6</th>\n",
       "      <td>lotSizeSqFt_winsor</td>\n",
       "      <td>3.687072</td>\n",
       "    </tr>\n",
       "    <tr>\n",
       "      <th>0</th>\n",
       "      <td>city</td>\n",
       "      <td>3.306704</td>\n",
       "    </tr>\n",
       "    <tr>\n",
       "      <th>5</th>\n",
       "      <td>numOfPatioAndPorchFeatures_winsor</td>\n",
       "      <td>3.186444</td>\n",
       "    </tr>\n",
       "    <tr>\n",
       "      <th>4</th>\n",
       "      <td>yearBuilt_winsor</td>\n",
       "      <td>3.144432</td>\n",
       "    </tr>\n",
       "    <tr>\n",
       "      <th>2</th>\n",
       "      <td>hasSpa</td>\n",
       "      <td>3.004090</td>\n",
       "    </tr>\n",
       "    <tr>\n",
       "      <th>3</th>\n",
       "      <td>garageSpaces_winsor</td>\n",
       "      <td>2.460874</td>\n",
       "    </tr>\n",
       "    <tr>\n",
       "      <th>22</th>\n",
       "      <td>great</td>\n",
       "      <td>2.405921</td>\n",
       "    </tr>\n",
       "    <tr>\n",
       "      <th>28</th>\n",
       "      <td>open</td>\n",
       "      <td>2.324422</td>\n",
       "    </tr>\n",
       "    <tr>\n",
       "      <th>19</th>\n",
       "      <td>family</td>\n",
       "      <td>2.306495</td>\n",
       "    </tr>\n",
       "  </tbody>\n",
       "</table>\n",
       "</div>"
      ],
      "text/plain": [
       "                             features  importances\n",
       "8               numOfBathrooms_winsor    14.309074\n",
       "7              avgSchoolRating_winsor     9.902528\n",
       "11                  latitude_winsor_3     5.493628\n",
       "12                 longitude_winsor_3     5.361614\n",
       "1                            homeType     4.085618\n",
       "9                numOfBedrooms_winsor     4.041375\n",
       "6                  lotSizeSqFt_winsor     3.687072\n",
       "0                                city     3.306704\n",
       "5   numOfPatioAndPorchFeatures_winsor     3.186444\n",
       "4                    yearBuilt_winsor     3.144432\n",
       "2                              hasSpa     3.004090\n",
       "3                 garageSpaces_winsor     2.460874\n",
       "22                              great     2.405921\n",
       "28                               open     2.324422\n",
       "19                             family     2.306495"
      ]
     },
     "execution_count": 494,
     "metadata": {},
     "output_type": "execute_result"
    }
   ],
   "source": [
    "filtered_df.sort_values(by='importances', ascending=False)"
   ]
  },
  {
   "cell_type": "code",
   "execution_count": 495,
   "id": "2109b094-5190-41cb-94b7-5230a6949f6a",
   "metadata": {},
   "outputs": [],
   "source": [
    "list_features = list(filtered_df['features'].reset_index().features)"
   ]
  },
  {
   "cell_type": "code",
   "execution_count": 496,
   "id": "82236db4-67bc-4b90-9182-415fa270867f",
   "metadata": {},
   "outputs": [
    {
     "data": {
      "text/plain": [
       "((31, 2), (15, 2))"
      ]
     },
     "execution_count": 496,
     "metadata": {},
     "output_type": "execute_result"
    }
   ],
   "source": [
    "feature_importance.shape, filtered_df.shape"
   ]
  },
  {
   "cell_type": "code",
   "execution_count": 497,
   "id": "95cb4aa8-ab68-4137-9e2b-054ca465234c",
   "metadata": {},
   "outputs": [],
   "source": [
    "features = list(filtered_df['features'])"
   ]
  },
  {
   "cell_type": "code",
   "execution_count": 498,
   "id": "54cf2fb5-2a8e-493c-9048-08f5361de992",
   "metadata": {},
   "outputs": [
    {
     "data": {
      "text/plain": [
       "15"
      ]
     },
     "execution_count": 498,
     "metadata": {},
     "output_type": "execute_result"
    }
   ],
   "source": [
    "len(features)"
   ]
  },
  {
   "cell_type": "code",
   "execution_count": 525,
   "id": "546658b3-25c0-4723-900b-cc97677d944b",
   "metadata": {},
   "outputs": [],
   "source": [
    "# create the object of the model\n",
    "model_xgb = XGBClassifier(random_state=20230916)"
   ]
  },
  {
   "cell_type": "code",
   "execution_count": 526,
   "id": "144bb9b1-df58-48b3-80ec-8b6ab863f741",
   "metadata": {},
   "outputs": [
    {
     "data": {
      "text/html": [
       "<style>#sk-container-id-14 {\n",
       "  /* Definition of color scheme common for light and dark mode */\n",
       "  --sklearn-color-text: black;\n",
       "  --sklearn-color-line: gray;\n",
       "  /* Definition of color scheme for unfitted estimators */\n",
       "  --sklearn-color-unfitted-level-0: #fff5e6;\n",
       "  --sklearn-color-unfitted-level-1: #f6e4d2;\n",
       "  --sklearn-color-unfitted-level-2: #ffe0b3;\n",
       "  --sklearn-color-unfitted-level-3: chocolate;\n",
       "  /* Definition of color scheme for fitted estimators */\n",
       "  --sklearn-color-fitted-level-0: #f0f8ff;\n",
       "  --sklearn-color-fitted-level-1: #d4ebff;\n",
       "  --sklearn-color-fitted-level-2: #b3dbfd;\n",
       "  --sklearn-color-fitted-level-3: cornflowerblue;\n",
       "\n",
       "  /* Specific color for light theme */\n",
       "  --sklearn-color-text-on-default-background: var(--sg-text-color, var(--theme-code-foreground, var(--jp-content-font-color1, black)));\n",
       "  --sklearn-color-background: var(--sg-background-color, var(--theme-background, var(--jp-layout-color0, white)));\n",
       "  --sklearn-color-border-box: var(--sg-text-color, var(--theme-code-foreground, var(--jp-content-font-color1, black)));\n",
       "  --sklearn-color-icon: #696969;\n",
       "\n",
       "  @media (prefers-color-scheme: dark) {\n",
       "    /* Redefinition of color scheme for dark theme */\n",
       "    --sklearn-color-text-on-default-background: var(--sg-text-color, var(--theme-code-foreground, var(--jp-content-font-color1, white)));\n",
       "    --sklearn-color-background: var(--sg-background-color, var(--theme-background, var(--jp-layout-color0, #111)));\n",
       "    --sklearn-color-border-box: var(--sg-text-color, var(--theme-code-foreground, var(--jp-content-font-color1, white)));\n",
       "    --sklearn-color-icon: #878787;\n",
       "  }\n",
       "}\n",
       "\n",
       "#sk-container-id-14 {\n",
       "  color: var(--sklearn-color-text);\n",
       "}\n",
       "\n",
       "#sk-container-id-14 pre {\n",
       "  padding: 0;\n",
       "}\n",
       "\n",
       "#sk-container-id-14 input.sk-hidden--visually {\n",
       "  border: 0;\n",
       "  clip: rect(1px 1px 1px 1px);\n",
       "  clip: rect(1px, 1px, 1px, 1px);\n",
       "  height: 1px;\n",
       "  margin: -1px;\n",
       "  overflow: hidden;\n",
       "  padding: 0;\n",
       "  position: absolute;\n",
       "  width: 1px;\n",
       "}\n",
       "\n",
       "#sk-container-id-14 div.sk-dashed-wrapped {\n",
       "  border: 1px dashed var(--sklearn-color-line);\n",
       "  margin: 0 0.4em 0.5em 0.4em;\n",
       "  box-sizing: border-box;\n",
       "  padding-bottom: 0.4em;\n",
       "  background-color: var(--sklearn-color-background);\n",
       "}\n",
       "\n",
       "#sk-container-id-14 div.sk-container {\n",
       "  /* jupyter's `normalize.less` sets `[hidden] { display: none; }`\n",
       "     but bootstrap.min.css set `[hidden] { display: none !important; }`\n",
       "     so we also need the `!important` here to be able to override the\n",
       "     default hidden behavior on the sphinx rendered scikit-learn.org.\n",
       "     See: https://github.com/scikit-learn/scikit-learn/issues/21755 */\n",
       "  display: inline-block !important;\n",
       "  position: relative;\n",
       "}\n",
       "\n",
       "#sk-container-id-14 div.sk-text-repr-fallback {\n",
       "  display: none;\n",
       "}\n",
       "\n",
       "div.sk-parallel-item,\n",
       "div.sk-serial,\n",
       "div.sk-item {\n",
       "  /* draw centered vertical line to link estimators */\n",
       "  background-image: linear-gradient(var(--sklearn-color-text-on-default-background), var(--sklearn-color-text-on-default-background));\n",
       "  background-size: 2px 100%;\n",
       "  background-repeat: no-repeat;\n",
       "  background-position: center center;\n",
       "}\n",
       "\n",
       "/* Parallel-specific style estimator block */\n",
       "\n",
       "#sk-container-id-14 div.sk-parallel-item::after {\n",
       "  content: \"\";\n",
       "  width: 100%;\n",
       "  border-bottom: 2px solid var(--sklearn-color-text-on-default-background);\n",
       "  flex-grow: 1;\n",
       "}\n",
       "\n",
       "#sk-container-id-14 div.sk-parallel {\n",
       "  display: flex;\n",
       "  align-items: stretch;\n",
       "  justify-content: center;\n",
       "  background-color: var(--sklearn-color-background);\n",
       "  position: relative;\n",
       "}\n",
       "\n",
       "#sk-container-id-14 div.sk-parallel-item {\n",
       "  display: flex;\n",
       "  flex-direction: column;\n",
       "}\n",
       "\n",
       "#sk-container-id-14 div.sk-parallel-item:first-child::after {\n",
       "  align-self: flex-end;\n",
       "  width: 50%;\n",
       "}\n",
       "\n",
       "#sk-container-id-14 div.sk-parallel-item:last-child::after {\n",
       "  align-self: flex-start;\n",
       "  width: 50%;\n",
       "}\n",
       "\n",
       "#sk-container-id-14 div.sk-parallel-item:only-child::after {\n",
       "  width: 0;\n",
       "}\n",
       "\n",
       "/* Serial-specific style estimator block */\n",
       "\n",
       "#sk-container-id-14 div.sk-serial {\n",
       "  display: flex;\n",
       "  flex-direction: column;\n",
       "  align-items: center;\n",
       "  background-color: var(--sklearn-color-background);\n",
       "  padding-right: 1em;\n",
       "  padding-left: 1em;\n",
       "}\n",
       "\n",
       "\n",
       "/* Toggleable style: style used for estimator/Pipeline/ColumnTransformer box that is\n",
       "clickable and can be expanded/collapsed.\n",
       "- Pipeline and ColumnTransformer use this feature and define the default style\n",
       "- Estimators will overwrite some part of the style using the `sk-estimator` class\n",
       "*/\n",
       "\n",
       "/* Pipeline and ColumnTransformer style (default) */\n",
       "\n",
       "#sk-container-id-14 div.sk-toggleable {\n",
       "  /* Default theme specific background. It is overwritten whether we have a\n",
       "  specific estimator or a Pipeline/ColumnTransformer */\n",
       "  background-color: var(--sklearn-color-background);\n",
       "}\n",
       "\n",
       "/* Toggleable label */\n",
       "#sk-container-id-14 label.sk-toggleable__label {\n",
       "  cursor: pointer;\n",
       "  display: block;\n",
       "  width: 100%;\n",
       "  margin-bottom: 0;\n",
       "  padding: 0.5em;\n",
       "  box-sizing: border-box;\n",
       "  text-align: center;\n",
       "}\n",
       "\n",
       "#sk-container-id-14 label.sk-toggleable__label-arrow:before {\n",
       "  /* Arrow on the left of the label */\n",
       "  content: \"▸\";\n",
       "  float: left;\n",
       "  margin-right: 0.25em;\n",
       "  color: var(--sklearn-color-icon);\n",
       "}\n",
       "\n",
       "#sk-container-id-14 label.sk-toggleable__label-arrow:hover:before {\n",
       "  color: var(--sklearn-color-text);\n",
       "}\n",
       "\n",
       "/* Toggleable content - dropdown */\n",
       "\n",
       "#sk-container-id-14 div.sk-toggleable__content {\n",
       "  max-height: 0;\n",
       "  max-width: 0;\n",
       "  overflow: hidden;\n",
       "  text-align: left;\n",
       "  /* unfitted */\n",
       "  background-color: var(--sklearn-color-unfitted-level-0);\n",
       "}\n",
       "\n",
       "#sk-container-id-14 div.sk-toggleable__content.fitted {\n",
       "  /* fitted */\n",
       "  background-color: var(--sklearn-color-fitted-level-0);\n",
       "}\n",
       "\n",
       "#sk-container-id-14 div.sk-toggleable__content pre {\n",
       "  margin: 0.2em;\n",
       "  border-radius: 0.25em;\n",
       "  color: var(--sklearn-color-text);\n",
       "  /* unfitted */\n",
       "  background-color: var(--sklearn-color-unfitted-level-0);\n",
       "}\n",
       "\n",
       "#sk-container-id-14 div.sk-toggleable__content.fitted pre {\n",
       "  /* unfitted */\n",
       "  background-color: var(--sklearn-color-fitted-level-0);\n",
       "}\n",
       "\n",
       "#sk-container-id-14 input.sk-toggleable__control:checked~div.sk-toggleable__content {\n",
       "  /* Expand drop-down */\n",
       "  max-height: 200px;\n",
       "  max-width: 100%;\n",
       "  overflow: auto;\n",
       "}\n",
       "\n",
       "#sk-container-id-14 input.sk-toggleable__control:checked~label.sk-toggleable__label-arrow:before {\n",
       "  content: \"▾\";\n",
       "}\n",
       "\n",
       "/* Pipeline/ColumnTransformer-specific style */\n",
       "\n",
       "#sk-container-id-14 div.sk-label input.sk-toggleable__control:checked~label.sk-toggleable__label {\n",
       "  color: var(--sklearn-color-text);\n",
       "  background-color: var(--sklearn-color-unfitted-level-2);\n",
       "}\n",
       "\n",
       "#sk-container-id-14 div.sk-label.fitted input.sk-toggleable__control:checked~label.sk-toggleable__label {\n",
       "  background-color: var(--sklearn-color-fitted-level-2);\n",
       "}\n",
       "\n",
       "/* Estimator-specific style */\n",
       "\n",
       "/* Colorize estimator box */\n",
       "#sk-container-id-14 div.sk-estimator input.sk-toggleable__control:checked~label.sk-toggleable__label {\n",
       "  /* unfitted */\n",
       "  background-color: var(--sklearn-color-unfitted-level-2);\n",
       "}\n",
       "\n",
       "#sk-container-id-14 div.sk-estimator.fitted input.sk-toggleable__control:checked~label.sk-toggleable__label {\n",
       "  /* fitted */\n",
       "  background-color: var(--sklearn-color-fitted-level-2);\n",
       "}\n",
       "\n",
       "#sk-container-id-14 div.sk-label label.sk-toggleable__label,\n",
       "#sk-container-id-14 div.sk-label label {\n",
       "  /* The background is the default theme color */\n",
       "  color: var(--sklearn-color-text-on-default-background);\n",
       "}\n",
       "\n",
       "/* On hover, darken the color of the background */\n",
       "#sk-container-id-14 div.sk-label:hover label.sk-toggleable__label {\n",
       "  color: var(--sklearn-color-text);\n",
       "  background-color: var(--sklearn-color-unfitted-level-2);\n",
       "}\n",
       "\n",
       "/* Label box, darken color on hover, fitted */\n",
       "#sk-container-id-14 div.sk-label.fitted:hover label.sk-toggleable__label.fitted {\n",
       "  color: var(--sklearn-color-text);\n",
       "  background-color: var(--sklearn-color-fitted-level-2);\n",
       "}\n",
       "\n",
       "/* Estimator label */\n",
       "\n",
       "#sk-container-id-14 div.sk-label label {\n",
       "  font-family: monospace;\n",
       "  font-weight: bold;\n",
       "  display: inline-block;\n",
       "  line-height: 1.2em;\n",
       "}\n",
       "\n",
       "#sk-container-id-14 div.sk-label-container {\n",
       "  text-align: center;\n",
       "}\n",
       "\n",
       "/* Estimator-specific */\n",
       "#sk-container-id-14 div.sk-estimator {\n",
       "  font-family: monospace;\n",
       "  border: 1px dotted var(--sklearn-color-border-box);\n",
       "  border-radius: 0.25em;\n",
       "  box-sizing: border-box;\n",
       "  margin-bottom: 0.5em;\n",
       "  /* unfitted */\n",
       "  background-color: var(--sklearn-color-unfitted-level-0);\n",
       "}\n",
       "\n",
       "#sk-container-id-14 div.sk-estimator.fitted {\n",
       "  /* fitted */\n",
       "  background-color: var(--sklearn-color-fitted-level-0);\n",
       "}\n",
       "\n",
       "/* on hover */\n",
       "#sk-container-id-14 div.sk-estimator:hover {\n",
       "  /* unfitted */\n",
       "  background-color: var(--sklearn-color-unfitted-level-2);\n",
       "}\n",
       "\n",
       "#sk-container-id-14 div.sk-estimator.fitted:hover {\n",
       "  /* fitted */\n",
       "  background-color: var(--sklearn-color-fitted-level-2);\n",
       "}\n",
       "\n",
       "/* Specification for estimator info (e.g. \"i\" and \"?\") */\n",
       "\n",
       "/* Common style for \"i\" and \"?\" */\n",
       "\n",
       ".sk-estimator-doc-link,\n",
       "a:link.sk-estimator-doc-link,\n",
       "a:visited.sk-estimator-doc-link {\n",
       "  float: right;\n",
       "  font-size: smaller;\n",
       "  line-height: 1em;\n",
       "  font-family: monospace;\n",
       "  background-color: var(--sklearn-color-background);\n",
       "  border-radius: 1em;\n",
       "  height: 1em;\n",
       "  width: 1em;\n",
       "  text-decoration: none !important;\n",
       "  margin-left: 1ex;\n",
       "  /* unfitted */\n",
       "  border: var(--sklearn-color-unfitted-level-1) 1pt solid;\n",
       "  color: var(--sklearn-color-unfitted-level-1);\n",
       "}\n",
       "\n",
       ".sk-estimator-doc-link.fitted,\n",
       "a:link.sk-estimator-doc-link.fitted,\n",
       "a:visited.sk-estimator-doc-link.fitted {\n",
       "  /* fitted */\n",
       "  border: var(--sklearn-color-fitted-level-1) 1pt solid;\n",
       "  color: var(--sklearn-color-fitted-level-1);\n",
       "}\n",
       "\n",
       "/* On hover */\n",
       "div.sk-estimator:hover .sk-estimator-doc-link:hover,\n",
       ".sk-estimator-doc-link:hover,\n",
       "div.sk-label-container:hover .sk-estimator-doc-link:hover,\n",
       ".sk-estimator-doc-link:hover {\n",
       "  /* unfitted */\n",
       "  background-color: var(--sklearn-color-unfitted-level-3);\n",
       "  color: var(--sklearn-color-background);\n",
       "  text-decoration: none;\n",
       "}\n",
       "\n",
       "div.sk-estimator.fitted:hover .sk-estimator-doc-link.fitted:hover,\n",
       ".sk-estimator-doc-link.fitted:hover,\n",
       "div.sk-label-container:hover .sk-estimator-doc-link.fitted:hover,\n",
       ".sk-estimator-doc-link.fitted:hover {\n",
       "  /* fitted */\n",
       "  background-color: var(--sklearn-color-fitted-level-3);\n",
       "  color: var(--sklearn-color-background);\n",
       "  text-decoration: none;\n",
       "}\n",
       "\n",
       "/* Span, style for the box shown on hovering the info icon */\n",
       ".sk-estimator-doc-link span {\n",
       "  display: none;\n",
       "  z-index: 9999;\n",
       "  position: relative;\n",
       "  font-weight: normal;\n",
       "  right: .2ex;\n",
       "  padding: .5ex;\n",
       "  margin: .5ex;\n",
       "  width: min-content;\n",
       "  min-width: 20ex;\n",
       "  max-width: 50ex;\n",
       "  color: var(--sklearn-color-text);\n",
       "  box-shadow: 2pt 2pt 4pt #999;\n",
       "  /* unfitted */\n",
       "  background: var(--sklearn-color-unfitted-level-0);\n",
       "  border: .5pt solid var(--sklearn-color-unfitted-level-3);\n",
       "}\n",
       "\n",
       ".sk-estimator-doc-link.fitted span {\n",
       "  /* fitted */\n",
       "  background: var(--sklearn-color-fitted-level-0);\n",
       "  border: var(--sklearn-color-fitted-level-3);\n",
       "}\n",
       "\n",
       ".sk-estimator-doc-link:hover span {\n",
       "  display: block;\n",
       "}\n",
       "\n",
       "/* \"?\"-specific style due to the `<a>` HTML tag */\n",
       "\n",
       "#sk-container-id-14 a.estimator_doc_link {\n",
       "  float: right;\n",
       "  font-size: 1rem;\n",
       "  line-height: 1em;\n",
       "  font-family: monospace;\n",
       "  background-color: var(--sklearn-color-background);\n",
       "  border-radius: 1rem;\n",
       "  height: 1rem;\n",
       "  width: 1rem;\n",
       "  text-decoration: none;\n",
       "  /* unfitted */\n",
       "  color: var(--sklearn-color-unfitted-level-1);\n",
       "  border: var(--sklearn-color-unfitted-level-1) 1pt solid;\n",
       "}\n",
       "\n",
       "#sk-container-id-14 a.estimator_doc_link.fitted {\n",
       "  /* fitted */\n",
       "  border: var(--sklearn-color-fitted-level-1) 1pt solid;\n",
       "  color: var(--sklearn-color-fitted-level-1);\n",
       "}\n",
       "\n",
       "/* On hover */\n",
       "#sk-container-id-14 a.estimator_doc_link:hover {\n",
       "  /* unfitted */\n",
       "  background-color: var(--sklearn-color-unfitted-level-3);\n",
       "  color: var(--sklearn-color-background);\n",
       "  text-decoration: none;\n",
       "}\n",
       "\n",
       "#sk-container-id-14 a.estimator_doc_link.fitted:hover {\n",
       "  /* fitted */\n",
       "  background-color: var(--sklearn-color-fitted-level-3);\n",
       "}\n",
       "</style><div id=\"sk-container-id-14\" class=\"sk-top-container\"><div class=\"sk-text-repr-fallback\"><pre>XGBClassifier(base_score=None, booster=None, callbacks=None,\n",
       "              colsample_bylevel=None, colsample_bynode=None,\n",
       "              colsample_bytree=None, device=None, early_stopping_rounds=None,\n",
       "              enable_categorical=False, eval_metric=None, feature_types=None,\n",
       "              gamma=None, grow_policy=None, importance_type=None,\n",
       "              interaction_constraints=None, learning_rate=None, max_bin=None,\n",
       "              max_cat_threshold=None, max_cat_to_onehot=None,\n",
       "              max_delta_step=None, max_depth=None, max_leaves=None,\n",
       "              min_child_weight=None, missing=nan, monotone_constraints=None,\n",
       "              multi_strategy=None, n_estimators=None, n_jobs=None,\n",
       "              num_parallel_tree=None, objective=&#x27;multi:softprob&#x27;, ...)</pre><b>In a Jupyter environment, please rerun this cell to show the HTML representation or trust the notebook. <br />On GitHub, the HTML representation is unable to render, please try loading this page with nbviewer.org.</b></div><div class=\"sk-container\" hidden><div class=\"sk-item\"><div class=\"sk-estimator fitted sk-toggleable\"><input class=\"sk-toggleable__control sk-hidden--visually\" id=\"sk-estimator-id-14\" type=\"checkbox\" checked><label for=\"sk-estimator-id-14\" class=\"sk-toggleable__label fitted sk-toggleable__label-arrow fitted\">&nbsp;XGBClassifier<span class=\"sk-estimator-doc-link fitted\">i<span>Fitted</span></span></label><div class=\"sk-toggleable__content fitted\"><pre>XGBClassifier(base_score=None, booster=None, callbacks=None,\n",
       "              colsample_bylevel=None, colsample_bynode=None,\n",
       "              colsample_bytree=None, device=None, early_stopping_rounds=None,\n",
       "              enable_categorical=False, eval_metric=None, feature_types=None,\n",
       "              gamma=None, grow_policy=None, importance_type=None,\n",
       "              interaction_constraints=None, learning_rate=None, max_bin=None,\n",
       "              max_cat_threshold=None, max_cat_to_onehot=None,\n",
       "              max_delta_step=None, max_depth=None, max_leaves=None,\n",
       "              min_child_weight=None, missing=nan, monotone_constraints=None,\n",
       "              multi_strategy=None, n_estimators=None, n_jobs=None,\n",
       "              num_parallel_tree=None, objective=&#x27;multi:softprob&#x27;, ...)</pre></div> </div></div></div></div>"
      ],
      "text/plain": [
       "XGBClassifier(base_score=None, booster=None, callbacks=None,\n",
       "              colsample_bylevel=None, colsample_bynode=None,\n",
       "              colsample_bytree=None, device=None, early_stopping_rounds=None,\n",
       "              enable_categorical=False, eval_metric=None, feature_types=None,\n",
       "              gamma=None, grow_policy=None, importance_type=None,\n",
       "              interaction_constraints=None, learning_rate=None, max_bin=None,\n",
       "              max_cat_threshold=None, max_cat_to_onehot=None,\n",
       "              max_delta_step=None, max_depth=None, max_leaves=None,\n",
       "              min_child_weight=None, missing=nan, monotone_constraints=None,\n",
       "              multi_strategy=None, n_estimators=None, n_jobs=None,\n",
       "              num_parallel_tree=None, objective='multi:softprob', ...)"
      ]
     },
     "execution_count": 526,
     "metadata": {},
     "output_type": "execute_result"
    }
   ],
   "source": [
    "# Fit model \n",
    "model_xgb.fit(X_train[feat_names], y_train)"
   ]
  },
  {
   "cell_type": "code",
   "execution_count": 527,
   "id": "e4efc73e-881d-40c5-bacd-fea197a6a537",
   "metadata": {},
   "outputs": [
    {
     "data": {
      "image/png": "[encoded data removed]",
      "text/plain": [
       "<Figure size 1000x600 with 1 Axes>"
      ]
     },
     "metadata": {},
     "output_type": "display_data"
    }
   ],
   "source": [
    "importances = model_xgb.feature_importances_\n",
    "\n",
    "# Create a bar chart\n",
    "plt.figure(figsize=(10, 6))\n",
    "plt.barh(list_features, importances*100, color='skyblue')\n",
    "plt.xlabel('Importance')\n",
    "plt.ylabel('Feature')\n",
    "plt.title('Feature Importances')\n",
    "plt.show()"
   ]
  },
  {
   "cell_type": "code",
   "execution_count": 528,
   "id": "7079c62d-ac86-442d-9506-01273ddc6432",
   "metadata": {},
   "outputs": [
    {
     "data": {
      "text/html": [
       "<div>\n",
       "<style scoped>\n",
       "    .dataframe tbody tr th:only-of-type {\n",
       "        vertical-align: middle;\n",
       "    }\n",
       "\n",
       "    .dataframe tbody tr th {\n",
       "        vertical-align: top;\n",
       "    }\n",
       "\n",
       "    .dataframe thead th {\n",
       "        text-align: right;\n",
       "    }\n",
       "</style>\n",
       "<table border=\"1\" class=\"dataframe\">\n",
       "  <thead>\n",
       "    <tr style=\"text-align: right;\">\n",
       "      <th></th>\n",
       "      <th>features</th>\n",
       "      <th>importances</th>\n",
       "    </tr>\n",
       "  </thead>\n",
       "  <tbody>\n",
       "    <tr>\n",
       "      <th>6</th>\n",
       "      <td>lotSizeSqFt_winsor</td>\n",
       "      <td>19.287054</td>\n",
       "    </tr>\n",
       "    <tr>\n",
       "      <th>5</th>\n",
       "      <td>numOfPatioAndPorchFeatures_winsor</td>\n",
       "      <td>14.094938</td>\n",
       "    </tr>\n",
       "    <tr>\n",
       "      <th>9</th>\n",
       "      <td>numOfBedrooms_winsor</td>\n",
       "      <td>7.998726</td>\n",
       "    </tr>\n",
       "    <tr>\n",
       "      <th>10</th>\n",
       "      <td>latitude_winsor_3</td>\n",
       "      <td>7.905646</td>\n",
       "    </tr>\n",
       "    <tr>\n",
       "      <th>8</th>\n",
       "      <td>numOfBathrooms_winsor</td>\n",
       "      <td>6.576481</td>\n",
       "    </tr>\n",
       "    <tr>\n",
       "      <th>7</th>\n",
       "      <td>avgSchoolRating_winsor</td>\n",
       "      <td>5.851816</td>\n",
       "    </tr>\n",
       "    <tr>\n",
       "      <th>4</th>\n",
       "      <td>yearBuilt_winsor</td>\n",
       "      <td>5.564681</td>\n",
       "    </tr>\n",
       "    <tr>\n",
       "      <th>0</th>\n",
       "      <td>city</td>\n",
       "      <td>5.196460</td>\n",
       "    </tr>\n",
       "    <tr>\n",
       "      <th>2</th>\n",
       "      <td>hasSpa</td>\n",
       "      <td>4.762243</td>\n",
       "    </tr>\n",
       "    <tr>\n",
       "      <th>3</th>\n",
       "      <td>garageSpaces_winsor</td>\n",
       "      <td>4.511468</td>\n",
       "    </tr>\n",
       "    <tr>\n",
       "      <th>1</th>\n",
       "      <td>homeType</td>\n",
       "      <td>4.492043</td>\n",
       "    </tr>\n",
       "    <tr>\n",
       "      <th>11</th>\n",
       "      <td>longitude_winsor_3</td>\n",
       "      <td>3.495840</td>\n",
       "    </tr>\n",
       "    <tr>\n",
       "      <th>12</th>\n",
       "      <td>family</td>\n",
       "      <td>3.462609</td>\n",
       "    </tr>\n",
       "    <tr>\n",
       "      <th>13</th>\n",
       "      <td>great</td>\n",
       "      <td>3.413979</td>\n",
       "    </tr>\n",
       "    <tr>\n",
       "      <th>14</th>\n",
       "      <td>open</td>\n",
       "      <td>3.386021</td>\n",
       "    </tr>\n",
       "  </tbody>\n",
       "</table>\n",
       "</div>"
      ],
      "text/plain": [
       "                             features  importances\n",
       "6                  lotSizeSqFt_winsor    19.287054\n",
       "5   numOfPatioAndPorchFeatures_winsor    14.094938\n",
       "9                numOfBedrooms_winsor     7.998726\n",
       "10                  latitude_winsor_3     7.905646\n",
       "8               numOfBathrooms_winsor     6.576481\n",
       "7              avgSchoolRating_winsor     5.851816\n",
       "4                    yearBuilt_winsor     5.564681\n",
       "0                                city     5.196460\n",
       "2                              hasSpa     4.762243\n",
       "3                 garageSpaces_winsor     4.511468\n",
       "1                            homeType     4.492043\n",
       "11                 longitude_winsor_3     3.495840\n",
       "12                             family     3.462609\n",
       "13                              great     3.413979\n",
       "14                               open     3.386021"
      ]
     },
     "execution_count": 528,
     "metadata": {},
     "output_type": "execute_result"
    }
   ],
   "source": [
    "feature_importance = pd.DataFrame({\"features\":list_features, \n",
    "                                   \"importances\": importances*100})\n",
    "\n",
    "feature_importance.sort_values(by='importances', ascending=False)"
   ]
  },
  {
   "cell_type": "code",
   "execution_count": 529,
   "id": "35e96898-9044-40f2-9135-61e54b4c2093",
   "metadata": {},
   "outputs": [
    {
     "data": {
      "text/html": [
       "<div>\n",
       "<style scoped>\n",
       "    .dataframe tbody tr th:only-of-type {\n",
       "        vertical-align: middle;\n",
       "    }\n",
       "\n",
       "    .dataframe tbody tr th {\n",
       "        vertical-align: top;\n",
       "    }\n",
       "\n",
       "    .dataframe thead th {\n",
       "        text-align: right;\n",
       "    }\n",
       "</style>\n",
       "<table border=\"1\" class=\"dataframe\">\n",
       "  <thead>\n",
       "    <tr style=\"text-align: right;\">\n",
       "      <th></th>\n",
       "      <th>count</th>\n",
       "      <th>mean</th>\n",
       "      <th>std</th>\n",
       "      <th>min</th>\n",
       "      <th>25%</th>\n",
       "      <th>50%</th>\n",
       "      <th>75%</th>\n",
       "      <th>max</th>\n",
       "    </tr>\n",
       "  </thead>\n",
       "  <tbody>\n",
       "    <tr>\n",
       "      <th>importances</th>\n",
       "      <td>15.0</td>\n",
       "      <td>6.666667</td>\n",
       "      <td>4.443891</td>\n",
       "      <td>3.386021</td>\n",
       "      <td>3.993942</td>\n",
       "      <td>5.19646</td>\n",
       "      <td>7.241064</td>\n",
       "      <td>19.287054</td>\n",
       "    </tr>\n",
       "  </tbody>\n",
       "</table>\n",
       "</div>"
      ],
      "text/plain": [
       "             count      mean       std       min       25%      50%       75%        max\n",
       "importances   15.0  6.666667  4.443891  3.386021  3.993942  5.19646  7.241064  19.287054"
      ]
     },
     "execution_count": 529,
     "metadata": {},
     "output_type": "execute_result"
    }
   ],
   "source": [
    "feature_importance.describe().T"
   ]
  },
  {
   "cell_type": "code",
   "execution_count": 532,
   "id": "4b38eb2e-5b8f-4652-ba6c-e0a7b345f9df",
   "metadata": {},
   "outputs": [],
   "source": [
    "preds_class = model_xgb.predict(X_test[feat_names])"
   ]
  },
  {
   "cell_type": "code",
   "execution_count": 533,
   "id": "aa39362a-6490-4715-aadb-94e26f46af36",
   "metadata": {},
   "outputs": [],
   "source": [
    "from sklearn.metrics import accuracy_score\n",
    "from sklearn.metrics import roc_auc_score\n",
    "from sklearn.metrics import precision_score, recall_score, f1_score, classification_report"
   ]
  },
  {
   "cell_type": "code",
   "execution_count": 534,
   "id": "09398a18-be9e-4f63-92ec-33b6dca9eb24",
   "metadata": {},
   "outputs": [
    {
     "data": {
      "image/png": "[encoded data removed]",
      "text/plain": [
       "<Figure size 700x500 with 2 Axes>"
      ]
     },
     "metadata": {},
     "output_type": "display_data"
    }
   ],
   "source": [
    "cm = pd.crosstab(y_test, preds_class, rownames=['Actually'], colnames=['Predicted'])\n",
    "fig, (ax1) = plt.subplots(ncols=1, figsize=(7,5))\n",
    "\n",
    "sns.heatmap(pd.DataFrame(cm), annot=True, cmap=\"Blues\" ,fmt='g',)\n",
    "ax1.xaxis.set_label_position(\"top\")\n",
    "plt.tight_layout()\n",
    "plt.title('Confusion Matrix', y=1.1,fontsize=14)\n",
    "plt.show()"
   ]
  },
  {
   "cell_type": "code",
   "execution_count": 535,
   "id": "cdd5b8d2-5cfc-45d3-9145-9cf51b6de817",
   "metadata": {},
   "outputs": [
    {
     "name": "stdout",
     "output_type": "stream",
     "text": [
      "Accuracy = 0.5983333333333334\n"
     ]
    }
   ],
   "source": [
    "acc=accuracy_score(y_test,preds_class)\n",
    "print('Accuracy =' , acc)"
   ]
  },
  {
   "cell_type": "code",
   "execution_count": null,
   "id": "fd0f17cf-dc6a-4e58-9793-f83cdfd00aaa",
   "metadata": {},
   "outputs": [],
   "source": [
    "recall = recall_score(y_test, preds_class, average='macro')\n",
    "print('Recall =' ,recall)"
   ]
  },
  {
   "cell_type": "code",
   "execution_count": 509,
   "id": "48b0262c-272c-4586-a4e9-5fee76c88d71",
   "metadata": {},
   "outputs": [
    {
     "name": "stdout",
     "output_type": "stream",
     "text": [
      "Precision = 0.6267729427472188\n"
     ]
    }
   ],
   "source": [
    "precision = precision_score(y_test, preds_class, average='macro')\n",
    "print('Precision =' ,precision)"
   ]
  },
  {
   "cell_type": "code",
   "execution_count": 510,
   "id": "eaccf0c0-b250-429d-8ec9-c88a9124fc45",
   "metadata": {},
   "outputs": [
    {
     "name": "stdout",
     "output_type": "stream",
     "text": [
      "Accuracy: 0.6105555555555555\n",
      "\n",
      "Classification Report:\n",
      "               precision    recall  f1-score   support\n",
      "\n",
      "           0       0.77      0.46      0.58       222\n",
      "           1       0.58      0.68      0.62       425\n",
      "           2       0.51      0.49      0.50       415\n",
      "           3       0.57      0.62      0.59       411\n",
      "           4       0.78      0.77      0.77       327\n",
      "\n",
      "    accuracy                           0.61      1800\n",
      "   macro avg       0.64      0.60      0.61      1800\n",
      "weighted avg       0.62      0.61      0.61      1800\n",
      "\n"
     ]
    }
   ],
   "source": [
    "print(\"Accuracy:\", accuracy_score(y_test, y_pred))\n",
    "print(\"\\nClassification Report:\\n\", classification_report(y_test, y_pred))"
   ]
  },
  {
   "cell_type": "markdown",
   "id": "a259c15b-9505-47dc-b73f-0e1c59d555d4",
   "metadata": {},
   "source": [
    "# Hyperparameter Tunning"
   ]
  },
  {
   "cell_type": "code",
   "execution_count": 450,
   "id": "deadded3-1c7a-4ee9-908a-75df665a6882",
   "metadata": {},
   "outputs": [],
   "source": [
    "from sklearn.model_selection import GridSearchCV"
   ]
  },
  {
   "cell_type": "code",
   "execution_count": 373,
   "id": "3e004f61-5db1-4ae3-8242-3c706bb741c1",
   "metadata": {},
   "outputs": [],
   "source": [
    "RANDOM_SEED = 20230916"
   ]
  },
  {
   "cell_type": "code",
   "execution_count": 374,
   "id": "b8506566-5cb7-47ff-9f23-47c5fbc40544",
   "metadata": {},
   "outputs": [],
   "source": [
    "# RandomForest\n",
    "rf = RandomForestClassifier(random_state=RANDOM_SEED)\n",
    "param_grid_forest = {\n",
    "    \"n_estimators\": [100, 200, 300],\n",
    "    \"max_depth\": [5, 10, 15],\n",
    "    \"criterion\": [\"gini\", \"entropy\"],\n",
    "    \"max_leaf_nodes\": [50, 100],\n",
    "}\n",
    "\n",
    "grid_forest = GridSearchCV(\n",
    "    estimator=rf, param_grid=param_grid_forest, cv=5, n_jobs=-1, scoring=\"accuracy\", verbose=0\n",
    ")\n",
    "\n",
    "model_forest = grid_forest.fit(X_train[list_features], y_train)"
   ]
  },
  {
   "cell_type": "code",
   "execution_count": 375,
   "id": "b259ca19-07c9-47c6-b774-f367ac8f2d66",
   "metadata": {},
   "outputs": [],
   "source": [
    "best_params_forest = grid_forest.best_params_"
   ]
  },
  {
   "cell_type": "code",
   "execution_count": 376,
   "id": "0d27d78a-c5ac-4764-9930-1ae8dd9e51dc",
   "metadata": {},
   "outputs": [
    {
     "data": {
      "text/plain": [
       "{'criterion': 'entropy',\n",
       " 'max_depth': 15,\n",
       " 'max_leaf_nodes': 100,\n",
       " 'n_estimators': 300}"
      ]
     },
     "execution_count": 376,
     "metadata": {},
     "output_type": "execute_result"
    }
   ],
   "source": [
    "best_params_forest"
   ]
  },
  {
   "cell_type": "code",
   "execution_count": 377,
   "id": "f2c7cfac-a44e-4893-9c6c-12f607ba14ac",
   "metadata": {},
   "outputs": [],
   "source": [
    "best_model = grid_forest.best_estimator_"
   ]
  },
  {
   "cell_type": "code",
   "execution_count": 378,
   "id": "b3cdc5ba-eb16-46c3-8570-fd6a7c947cad",
   "metadata": {},
   "outputs": [],
   "source": [
    "predictions_forest = best_model.predict(X_test[list_features])"
   ]
  },
  {
   "cell_type": "code",
   "execution_count": 379,
   "id": "ceaa5372-5aa9-400b-95c1-a1ba1ea0ee53",
   "metadata": {},
   "outputs": [
    {
     "name": "stdout",
     "output_type": "stream",
     "text": [
      "Test accuracy: 0.5366666666666666\n"
     ]
    }
   ],
   "source": [
    "accuracy_forest = accuracy_score(y_test, predictions_forest)\n",
    "print(\"Test accuracy:\", accuracy_forest)"
   ]
  },
  {
   "cell_type": "code",
   "execution_count": 380,
   "id": "bc353e85-437a-433f-b5b1-7fa1e4330f70",
   "metadata": {},
   "outputs": [
    {
     "name": "stdout",
     "output_type": "stream",
     "text": [
      "\n",
      "Classification Report:\n",
      "               precision    recall  f1-score   support\n",
      "\n",
      "           0       0.73      0.31      0.43       222\n",
      "           1       0.49      0.72      0.58       425\n",
      "           2       0.46      0.33      0.38       415\n",
      "           3       0.50      0.56      0.53       411\n",
      "           4       0.68      0.70      0.69       327\n",
      "\n",
      "    accuracy                           0.54      1800\n",
      "   macro avg       0.57      0.52      0.52      1800\n",
      "weighted avg       0.55      0.54      0.53      1800\n",
      "\n"
     ]
    }
   ],
   "source": [
    "print(\"\\nClassification Report:\\n\", classification_report(y_test, predictions_forest))"
   ]
  },
  {
   "cell_type": "markdown",
   "id": "4696b6f4-e8fe-4937-95cd-c333c93c0676",
   "metadata": {},
   "source": [
    "## XGBClassifier"
   ]
  },
  {
   "cell_type": "code",
   "execution_count": 381,
   "id": "4917cf61-a034-4038-a9fb-8317d2d0ab70",
   "metadata": {},
   "outputs": [],
   "source": [
    "# XGBoost Classifier\n",
    "xgb_classifier = XGBClassifier(random_state=RANDOM_SEED)\n",
    "param_grid_xgboost = {\n",
    "    \"n_estimators\": [100, 200, 300],\n",
    "    \"learning_rate\": [0.01, 0.1, 0.5],\n",
    "    \"max_depth\": [5, 10],\n",
    "    \"reg_alpha\": [0.01, 0.1],\n",
    "    \"reg_lambda\": [0.01, 0.1],\n",
    "}\n",
    "\n",
    "grid_xgboost = GridSearchCV(\n",
    "    estimator=xgb_classifier,\n",
    "    param_grid=param_grid_xgboost,\n",
    "    cv=5,\n",
    "    n_jobs=-1,\n",
    "    scoring=\"accuracy\",\n",
    "    verbose=0,\n",
    ")\n",
    "model_xgboost = grid_xgboost.fit(X_train[list_features], y_train)"
   ]
  },
  {
   "cell_type": "code",
   "execution_count": 382,
   "id": "f864a135-ebdd-4493-b444-1ea1fa84fbf6",
   "metadata": {},
   "outputs": [],
   "source": [
    "best_params_xgboost = grid_xgboost.best_params_"
   ]
  },
  {
   "cell_type": "code",
   "execution_count": 383,
   "id": "54b72667-3dce-4ad8-b249-b261e2880bbd",
   "metadata": {},
   "outputs": [],
   "source": [
    "best_model_xgboost = grid_xgboost.best_estimator_"
   ]
  },
  {
   "cell_type": "code",
   "execution_count": 384,
   "id": "7d33cba3-76a5-4b8f-b6d0-953f58d2f015",
   "metadata": {},
   "outputs": [
    {
     "data": {
      "text/plain": [
       "{'learning_rate': 0.1,\n",
       " 'max_depth': 10,\n",
       " 'n_estimators': 300,\n",
       " 'reg_alpha': 0.1,\n",
       " 'reg_lambda': 0.01}"
      ]
     },
     "execution_count": 384,
     "metadata": {},
     "output_type": "execute_result"
    }
   ],
   "source": [
    "best_params_xgboost"
   ]
  },
  {
   "cell_type": "code",
   "execution_count": 385,
   "id": "e8b70946-c005-4f44-b78e-5b715c6386d2",
   "metadata": {},
   "outputs": [],
   "source": [
    "predictions_xgboost = best_model_xgboost.predict(X_test[list_features])"
   ]
  },
  {
   "cell_type": "code",
   "execution_count": 386,
   "id": "33d40aa7-df3b-4029-a76c-7e412e408c68",
   "metadata": {},
   "outputs": [
    {
     "name": "stdout",
     "output_type": "stream",
     "text": [
      "Test accuracy: 0.6072222222222222\n"
     ]
    }
   ],
   "source": [
    "accuracy_xgboost = accuracy_score(y_test, predictions_xgboost)\n",
    "print(\"Test accuracy:\", accuracy_xgboost)"
   ]
  },
  {
   "cell_type": "code",
   "execution_count": 387,
   "id": "19613bb0-bfc3-4d9b-bfcc-81a0fbf45b68",
   "metadata": {},
   "outputs": [
    {
     "name": "stdout",
     "output_type": "stream",
     "text": [
      "Accuracy: 0.6072222222222222\n",
      "\n",
      "Classification Report:\n",
      "               precision    recall  f1-score   support\n",
      "\n",
      "           0       0.67      0.50      0.57       222\n",
      "           1       0.58      0.61      0.59       425\n",
      "           2       0.51      0.52      0.51       415\n",
      "           3       0.59      0.61      0.60       411\n",
      "           4       0.76      0.80      0.78       327\n",
      "\n",
      "    accuracy                           0.61      1800\n",
      "   macro avg       0.62      0.60      0.61      1800\n",
      "weighted avg       0.61      0.61      0.61      1800\n",
      "\n"
     ]
    }
   ],
   "source": [
    "print(\"Accuracy:\", accuracy_score(y_test, predictions_xgboost))\n",
    "print(\"\\nClassification Report:\\n\", classification_report(y_test, predictions_xgboost))"
   ]
  },
  {
   "cell_type": "markdown",
   "id": "f1854f7b-647f-45b3-99ae-a7824d5bdfd1",
   "metadata": {},
   "source": [
    "## Comparing both models"
   ]
  },
  {
   "cell_type": "code",
   "execution_count": 250,
   "id": "2a07aff6-c5c8-4bb9-8cd6-cab2dffb77c2",
   "metadata": {},
   "outputs": [
    {
     "name": "stdout",
     "output_type": "stream",
     "text": [
      "The duration for training the model is: 0.8944368362426758\n"
     ]
    }
   ],
   "source": [
    "random_forest_classifier = cv_score(RandomForestClassifier(criterion='entropy',\n",
    "                                                           max_depth= 15,\n",
    "                                                           max_leaf_nodes= 100,\n",
    "                                                           n_estimators= 200,\n",
    "                                                           random_state=20230916), \n",
    "                                    df = X_train, df_y = y_train)"
   ]
  },
  {
   "cell_type": "code",
   "execution_count": 251,
   "id": "4e2d58fa-7006-4574-9c9a-15c41a33d00d",
   "metadata": {},
   "outputs": [
    {
     "name": "stdout",
     "output_type": "stream",
     "text": [
      "The duration for training the model is: 0.7300071716308594\n"
     ]
    }
   ],
   "source": [
    "xgb_classifier = cv_score(XGBClassifier(learning_rate= 0.1,\n",
    "                                        max_depth= 10,\n",
    "                                        n_estimators= 300,\n",
    "                                        reg_alpha= 0.01,\n",
    "                                        reg_lambda= 0.1, \n",
    "                                        random_state=20230916), \n",
    "                          df = X_train[features], df_y = y_train)"
   ]
  },
  {
   "cell_type": "code",
   "execution_count": 252,
   "id": "470f64ce-de18-4b6c-8577-b96e6d05c14c",
   "metadata": {},
   "outputs": [],
   "source": [
    "results_df = pd.DataFrame({'RandomForestClassifier':random_forest_classifier, \n",
    "                           'XGBClassifier': xgb_classifier})"
   ]
  },
  {
   "cell_type": "code",
   "execution_count": 253,
   "id": "212f0927-2692-40b6-af47-580c734b9d51",
   "metadata": {},
   "outputs": [
    {
     "data": {
      "image/png": "[encoded data removed]",
      "text/plain": [
       "<Figure size 640x480 with 1 Axes>"
      ]
     },
     "metadata": {},
     "output_type": "display_data"
    }
   ],
   "source": [
    "results_df.plot(y=[\"RandomForestClassifier\", 'XGBClassifier'], kind=\"bar\", legend=False)\n",
    "plt.legend(bbox_to_anchor=(1, 1), loc=2, borderaxespad=0.)\n",
    "plt.show()"
   ]
  },
  {
   "cell_type": "markdown",
   "id": "a05cca52-df9c-4be0-96cc-28f3b0e49852",
   "metadata": {},
   "source": [
    "## Stacking both models"
   ]
  },
  {
   "cell_type": "code",
   "execution_count": 84,
   "id": "38e08f65-a51a-471a-be0d-a10b60d267c3",
   "metadata": {},
   "outputs": [],
   "source": [
    "# Base models\n",
    "estimators = [\n",
    "    ('rf', RandomForestClassifier(criterion='entropy',\n",
    "                                  max_depth= 15,\n",
    "                                  max_leaf_nodes= 100,\n",
    "                                  n_estimators= 200,\n",
    "                                  random_state=20230916)),\n",
    "    ('xgb', XGBClassifier(learning_rate= 0.1,\n",
    "                                  max_depth= 10,\n",
    "                                  n_estimators= 300,\n",
    "                                  reg_alpha= 0.01,\n",
    "                                  reg_lambda= 0.1, \n",
    "                                  random_state=20230916)),\n",
    "]\n",
    "\n",
    "# Meta-model\n",
    "meta_model = LogisticRegression()\n",
    "\n",
    "# Stacking classifier\n",
    "stacking_clf = StackingClassifier(estimators=estimators, \n",
    "                                  final_estimator=meta_model,\n",
    "                                  cv=5)\n",
    "\n",
    "# Fit the model\n",
    "stacking_clf.fit(X_train, y_train)\n",
    "\n",
    "# Make predictions\n",
    "y_pred = stacking_clf.predict(X_test)"
   ]
  },
  {
   "cell_type": "code",
   "execution_count": 85,
   "id": "479f4226-f7c8-48cf-879a-9077b78b21c6",
   "metadata": {},
   "outputs": [
    {
     "name": "stdout",
     "output_type": "stream",
     "text": [
      "Accuracy: 0.6172222222222222\n",
      "\n",
      "Classification Report:\n",
      "               precision    recall  f1-score   support\n",
      "\n",
      "           0       0.75      0.50      0.60       222\n",
      "           1       0.60      0.68      0.64       425\n",
      "           2       0.53      0.49      0.51       415\n",
      "           3       0.57      0.61      0.59       411\n",
      "           4       0.76      0.79      0.77       327\n",
      "\n",
      "    accuracy                           0.62      1800\n",
      "   macro avg       0.64      0.61      0.62      1800\n",
      "weighted avg       0.62      0.62      0.62      1800\n",
      "\n"
     ]
    }
   ],
   "source": [
    "print(\"Accuracy:\", accuracy_score(y_test, y_pred))\n",
    "print(\"\\nClassification Report:\\n\", classification_report(y_test, y_pred))"
   ]
  },
  {
   "cell_type": "code",
   "execution_count": 104,
   "id": "7f0f07ff-63ff-442e-a655-809999251915",
   "metadata": {},
   "outputs": [],
   "source": [
    "modex_xgboost_best = XGBClassifier(learning_rate= 0.1,\n",
    "                                   max_depth= 10,\n",
    "                                   n_estimators= 300,\n",
    "                                   reg_alpha= 0.01,\n",
    "                                   reg_lambda= 0.1, \n",
    "                                   random_state=20230916)"
   ]
  },
  {
   "cell_type": "code",
   "execution_count": 105,
   "id": "5ccd7498-f500-492b-8aa5-5b5d83c2f1b0",
   "metadata": {},
   "outputs": [
    {
     "data": {
      "text/html": [
       "<style>#sk-container-id-4 {\n",
       "  /* Definition of color scheme common for light and dark mode */\n",
       "  --sklearn-color-text: black;\n",
       "  --sklearn-color-line: gray;\n",
       "  /* Definition of color scheme for unfitted estimators */\n",
       "  --sklearn-color-unfitted-level-0: #fff5e6;\n",
       "  --sklearn-color-unfitted-level-1: #f6e4d2;\n",
       "  --sklearn-color-unfitted-level-2: #ffe0b3;\n",
       "  --sklearn-color-unfitted-level-3: chocolate;\n",
       "  /* Definition of color scheme for fitted estimators */\n",
       "  --sklearn-color-fitted-level-0: #f0f8ff;\n",
       "  --sklearn-color-fitted-level-1: #d4ebff;\n",
       "  --sklearn-color-fitted-level-2: #b3dbfd;\n",
       "  --sklearn-color-fitted-level-3: cornflowerblue;\n",
       "\n",
       "  /* Specific color for light theme */\n",
       "  --sklearn-color-text-on-default-background: var(--sg-text-color, var(--theme-code-foreground, var(--jp-content-font-color1, black)));\n",
       "  --sklearn-color-background: var(--sg-background-color, var(--theme-background, var(--jp-layout-color0, white)));\n",
       "  --sklearn-color-border-box: var(--sg-text-color, var(--theme-code-foreground, var(--jp-content-font-color1, black)));\n",
       "  --sklearn-color-icon: #696969;\n",
       "\n",
       "  @media (prefers-color-scheme: dark) {\n",
       "    /* Redefinition of color scheme for dark theme */\n",
       "    --sklearn-color-text-on-default-background: var(--sg-text-color, var(--theme-code-foreground, var(--jp-content-font-color1, white)));\n",
       "    --sklearn-color-background: var(--sg-background-color, var(--theme-background, var(--jp-layout-color0, #111)));\n",
       "    --sklearn-color-border-box: var(--sg-text-color, var(--theme-code-foreground, var(--jp-content-font-color1, white)));\n",
       "    --sklearn-color-icon: #878787;\n",
       "  }\n",
       "}\n",
       "\n",
       "#sk-container-id-4 {\n",
       "  color: var(--sklearn-color-text);\n",
       "}\n",
       "\n",
       "#sk-container-id-4 pre {\n",
       "  padding: 0;\n",
       "}\n",
       "\n",
       "#sk-container-id-4 input.sk-hidden--visually {\n",
       "  border: 0;\n",
       "  clip: rect(1px 1px 1px 1px);\n",
       "  clip: rect(1px, 1px, 1px, 1px);\n",
       "  height: 1px;\n",
       "  margin: -1px;\n",
       "  overflow: hidden;\n",
       "  padding: 0;\n",
       "  position: absolute;\n",
       "  width: 1px;\n",
       "}\n",
       "\n",
       "#sk-container-id-4 div.sk-dashed-wrapped {\n",
       "  border: 1px dashed var(--sklearn-color-line);\n",
       "  margin: 0 0.4em 0.5em 0.4em;\n",
       "  box-sizing: border-box;\n",
       "  padding-bottom: 0.4em;\n",
       "  background-color: var(--sklearn-color-background);\n",
       "}\n",
       "\n",
       "#sk-container-id-4 div.sk-container {\n",
       "  /* jupyter's `normalize.less` sets `[hidden] { display: none; }`\n",
       "     but bootstrap.min.css set `[hidden] { display: none !important; }`\n",
       "     so we also need the `!important` here to be able to override the\n",
       "     default hidden behavior on the sphinx rendered scikit-learn.org.\n",
       "     See: https://github.com/scikit-learn/scikit-learn/issues/21755 */\n",
       "  display: inline-block !important;\n",
       "  position: relative;\n",
       "}\n",
       "\n",
       "#sk-container-id-4 div.sk-text-repr-fallback {\n",
       "  display: none;\n",
       "}\n",
       "\n",
       "div.sk-parallel-item,\n",
       "div.sk-serial,\n",
       "div.sk-item {\n",
       "  /* draw centered vertical line to link estimators */\n",
       "  background-image: linear-gradient(var(--sklearn-color-text-on-default-background), var(--sklearn-color-text-on-default-background));\n",
       "  background-size: 2px 100%;\n",
       "  background-repeat: no-repeat;\n",
       "  background-position: center center;\n",
       "}\n",
       "\n",
       "/* Parallel-specific style estimator block */\n",
       "\n",
       "#sk-container-id-4 div.sk-parallel-item::after {\n",
       "  content: \"\";\n",
       "  width: 100%;\n",
       "  border-bottom: 2px solid var(--sklearn-color-text-on-default-background);\n",
       "  flex-grow: 1;\n",
       "}\n",
       "\n",
       "#sk-container-id-4 div.sk-parallel {\n",
       "  display: flex;\n",
       "  align-items: stretch;\n",
       "  justify-content: center;\n",
       "  background-color: var(--sklearn-color-background);\n",
       "  position: relative;\n",
       "}\n",
       "\n",
       "#sk-container-id-4 div.sk-parallel-item {\n",
       "  display: flex;\n",
       "  flex-direction: column;\n",
       "}\n",
       "\n",
       "#sk-container-id-4 div.sk-parallel-item:first-child::after {\n",
       "  align-self: flex-end;\n",
       "  width: 50%;\n",
       "}\n",
       "\n",
       "#sk-container-id-4 div.sk-parallel-item:last-child::after {\n",
       "  align-self: flex-start;\n",
       "  width: 50%;\n",
       "}\n",
       "\n",
       "#sk-container-id-4 div.sk-parallel-item:only-child::after {\n",
       "  width: 0;\n",
       "}\n",
       "\n",
       "/* Serial-specific style estimator block */\n",
       "\n",
       "#sk-container-id-4 div.sk-serial {\n",
       "  display: flex;\n",
       "  flex-direction: column;\n",
       "  align-items: center;\n",
       "  background-color: var(--sklearn-color-background);\n",
       "  padding-right: 1em;\n",
       "  padding-left: 1em;\n",
       "}\n",
       "\n",
       "\n",
       "/* Toggleable style: style used for estimator/Pipeline/ColumnTransformer box that is\n",
       "clickable and can be expanded/collapsed.\n",
       "- Pipeline and ColumnTransformer use this feature and define the default style\n",
       "- Estimators will overwrite some part of the style using the `sk-estimator` class\n",
       "*/\n",
       "\n",
       "/* Pipeline and ColumnTransformer style (default) */\n",
       "\n",
       "#sk-container-id-4 div.sk-toggleable {\n",
       "  /* Default theme specific background. It is overwritten whether we have a\n",
       "  specific estimator or a Pipeline/ColumnTransformer */\n",
       "  background-color: var(--sklearn-color-background);\n",
       "}\n",
       "\n",
       "/* Toggleable label */\n",
       "#sk-container-id-4 label.sk-toggleable__label {\n",
       "  cursor: pointer;\n",
       "  display: block;\n",
       "  width: 100%;\n",
       "  margin-bottom: 0;\n",
       "  padding: 0.5em;\n",
       "  box-sizing: border-box;\n",
       "  text-align: center;\n",
       "}\n",
       "\n",
       "#sk-container-id-4 label.sk-toggleable__label-arrow:before {\n",
       "  /* Arrow on the left of the label */\n",
       "  content: \"▸\";\n",
       "  float: left;\n",
       "  margin-right: 0.25em;\n",
       "  color: var(--sklearn-color-icon);\n",
       "}\n",
       "\n",
       "#sk-container-id-4 label.sk-toggleable__label-arrow:hover:before {\n",
       "  color: var(--sklearn-color-text);\n",
       "}\n",
       "\n",
       "/* Toggleable content - dropdown */\n",
       "\n",
       "#sk-container-id-4 div.sk-toggleable__content {\n",
       "  max-height: 0;\n",
       "  max-width: 0;\n",
       "  overflow: hidden;\n",
       "  text-align: left;\n",
       "  /* unfitted */\n",
       "  background-color: var(--sklearn-color-unfitted-level-0);\n",
       "}\n",
       "\n",
       "#sk-container-id-4 div.sk-toggleable__content.fitted {\n",
       "  /* fitted */\n",
       "  background-color: var(--sklearn-color-fitted-level-0);\n",
       "}\n",
       "\n",
       "#sk-container-id-4 div.sk-toggleable__content pre {\n",
       "  margin: 0.2em;\n",
       "  border-radius: 0.25em;\n",
       "  color: var(--sklearn-color-text);\n",
       "  /* unfitted */\n",
       "  background-color: var(--sklearn-color-unfitted-level-0);\n",
       "}\n",
       "\n",
       "#sk-container-id-4 div.sk-toggleable__content.fitted pre {\n",
       "  /* unfitted */\n",
       "  background-color: var(--sklearn-color-fitted-level-0);\n",
       "}\n",
       "\n",
       "#sk-container-id-4 input.sk-toggleable__control:checked~div.sk-toggleable__content {\n",
       "  /* Expand drop-down */\n",
       "  max-height: 200px;\n",
       "  max-width: 100%;\n",
       "  overflow: auto;\n",
       "}\n",
       "\n",
       "#sk-container-id-4 input.sk-toggleable__control:checked~label.sk-toggleable__label-arrow:before {\n",
       "  content: \"▾\";\n",
       "}\n",
       "\n",
       "/* Pipeline/ColumnTransformer-specific style */\n",
       "\n",
       "#sk-container-id-4 div.sk-label input.sk-toggleable__control:checked~label.sk-toggleable__label {\n",
       "  color: var(--sklearn-color-text);\n",
       "  background-color: var(--sklearn-color-unfitted-level-2);\n",
       "}\n",
       "\n",
       "#sk-container-id-4 div.sk-label.fitted input.sk-toggleable__control:checked~label.sk-toggleable__label {\n",
       "  background-color: var(--sklearn-color-fitted-level-2);\n",
       "}\n",
       "\n",
       "/* Estimator-specific style */\n",
       "\n",
       "/* Colorize estimator box */\n",
       "#sk-container-id-4 div.sk-estimator input.sk-toggleable__control:checked~label.sk-toggleable__label {\n",
       "  /* unfitted */\n",
       "  background-color: var(--sklearn-color-unfitted-level-2);\n",
       "}\n",
       "\n",
       "#sk-container-id-4 div.sk-estimator.fitted input.sk-toggleable__control:checked~label.sk-toggleable__label {\n",
       "  /* fitted */\n",
       "  background-color: var(--sklearn-color-fitted-level-2);\n",
       "}\n",
       "\n",
       "#sk-container-id-4 div.sk-label label.sk-toggleable__label,\n",
       "#sk-container-id-4 div.sk-label label {\n",
       "  /* The background is the default theme color */\n",
       "  color: var(--sklearn-color-text-on-default-background);\n",
       "}\n",
       "\n",
       "/* On hover, darken the color of the background */\n",
       "#sk-container-id-4 div.sk-label:hover label.sk-toggleable__label {\n",
       "  color: var(--sklearn-color-text);\n",
       "  background-color: var(--sklearn-color-unfitted-level-2);\n",
       "}\n",
       "\n",
       "/* Label box, darken color on hover, fitted */\n",
       "#sk-container-id-4 div.sk-label.fitted:hover label.sk-toggleable__label.fitted {\n",
       "  color: var(--sklearn-color-text);\n",
       "  background-color: var(--sklearn-color-fitted-level-2);\n",
       "}\n",
       "\n",
       "/* Estimator label */\n",
       "\n",
       "#sk-container-id-4 div.sk-label label {\n",
       "  font-family: monospace;\n",
       "  font-weight: bold;\n",
       "  display: inline-block;\n",
       "  line-height: 1.2em;\n",
       "}\n",
       "\n",
       "#sk-container-id-4 div.sk-label-container {\n",
       "  text-align: center;\n",
       "}\n",
       "\n",
       "/* Estimator-specific */\n",
       "#sk-container-id-4 div.sk-estimator {\n",
       "  font-family: monospace;\n",
       "  border: 1px dotted var(--sklearn-color-border-box);\n",
       "  border-radius: 0.25em;\n",
       "  box-sizing: border-box;\n",
       "  margin-bottom: 0.5em;\n",
       "  /* unfitted */\n",
       "  background-color: var(--sklearn-color-unfitted-level-0);\n",
       "}\n",
       "\n",
       "#sk-container-id-4 div.sk-estimator.fitted {\n",
       "  /* fitted */\n",
       "  background-color: var(--sklearn-color-fitted-level-0);\n",
       "}\n",
       "\n",
       "/* on hover */\n",
       "#sk-container-id-4 div.sk-estimator:hover {\n",
       "  /* unfitted */\n",
       "  background-color: var(--sklearn-color-unfitted-level-2);\n",
       "}\n",
       "\n",
       "#sk-container-id-4 div.sk-estimator.fitted:hover {\n",
       "  /* fitted */\n",
       "  background-color: var(--sklearn-color-fitted-level-2);\n",
       "}\n",
       "\n",
       "/* Specification for estimator info (e.g. \"i\" and \"?\") */\n",
       "\n",
       "/* Common style for \"i\" and \"?\" */\n",
       "\n",
       ".sk-estimator-doc-link,\n",
       "a:link.sk-estimator-doc-link,\n",
       "a:visited.sk-estimator-doc-link {\n",
       "  float: right;\n",
       "  font-size: smaller;\n",
       "  line-height: 1em;\n",
       "  font-family: monospace;\n",
       "  background-color: var(--sklearn-color-background);\n",
       "  border-radius: 1em;\n",
       "  height: 1em;\n",
       "  width: 1em;\n",
       "  text-decoration: none !important;\n",
       "  margin-left: 1ex;\n",
       "  /* unfitted */\n",
       "  border: var(--sklearn-color-unfitted-level-1) 1pt solid;\n",
       "  color: var(--sklearn-color-unfitted-level-1);\n",
       "}\n",
       "\n",
       ".sk-estimator-doc-link.fitted,\n",
       "a:link.sk-estimator-doc-link.fitted,\n",
       "a:visited.sk-estimator-doc-link.fitted {\n",
       "  /* fitted */\n",
       "  border: var(--sklearn-color-fitted-level-1) 1pt solid;\n",
       "  color: var(--sklearn-color-fitted-level-1);\n",
       "}\n",
       "\n",
       "/* On hover */\n",
       "div.sk-estimator:hover .sk-estimator-doc-link:hover,\n",
       ".sk-estimator-doc-link:hover,\n",
       "div.sk-label-container:hover .sk-estimator-doc-link:hover,\n",
       ".sk-estimator-doc-link:hover {\n",
       "  /* unfitted */\n",
       "  background-color: var(--sklearn-color-unfitted-level-3);\n",
       "  color: var(--sklearn-color-background);\n",
       "  text-decoration: none;\n",
       "}\n",
       "\n",
       "div.sk-estimator.fitted:hover .sk-estimator-doc-link.fitted:hover,\n",
       ".sk-estimator-doc-link.fitted:hover,\n",
       "div.sk-label-container:hover .sk-estimator-doc-link.fitted:hover,\n",
       ".sk-estimator-doc-link.fitted:hover {\n",
       "  /* fitted */\n",
       "  background-color: var(--sklearn-color-fitted-level-3);\n",
       "  color: var(--sklearn-color-background);\n",
       "  text-decoration: none;\n",
       "}\n",
       "\n",
       "/* Span, style for the box shown on hovering the info icon */\n",
       ".sk-estimator-doc-link span {\n",
       "  display: none;\n",
       "  z-index: 9999;\n",
       "  position: relative;\n",
       "  font-weight: normal;\n",
       "  right: .2ex;\n",
       "  padding: .5ex;\n",
       "  margin: .5ex;\n",
       "  width: min-content;\n",
       "  min-width: 20ex;\n",
       "  max-width: 50ex;\n",
       "  color: var(--sklearn-color-text);\n",
       "  box-shadow: 2pt 2pt 4pt #999;\n",
       "  /* unfitted */\n",
       "  background: var(--sklearn-color-unfitted-level-0);\n",
       "  border: .5pt solid var(--sklearn-color-unfitted-level-3);\n",
       "}\n",
       "\n",
       ".sk-estimator-doc-link.fitted span {\n",
       "  /* fitted */\n",
       "  background: var(--sklearn-color-fitted-level-0);\n",
       "  border: var(--sklearn-color-fitted-level-3);\n",
       "}\n",
       "\n",
       ".sk-estimator-doc-link:hover span {\n",
       "  display: block;\n",
       "}\n",
       "\n",
       "/* \"?\"-specific style due to the `<a>` HTML tag */\n",
       "\n",
       "#sk-container-id-4 a.estimator_doc_link {\n",
       "  float: right;\n",
       "  font-size: 1rem;\n",
       "  line-height: 1em;\n",
       "  font-family: monospace;\n",
       "  background-color: var(--sklearn-color-background);\n",
       "  border-radius: 1rem;\n",
       "  height: 1rem;\n",
       "  width: 1rem;\n",
       "  text-decoration: none;\n",
       "  /* unfitted */\n",
       "  color: var(--sklearn-color-unfitted-level-1);\n",
       "  border: var(--sklearn-color-unfitted-level-1) 1pt solid;\n",
       "}\n",
       "\n",
       "#sk-container-id-4 a.estimator_doc_link.fitted {\n",
       "  /* fitted */\n",
       "  border: var(--sklearn-color-fitted-level-1) 1pt solid;\n",
       "  color: var(--sklearn-color-fitted-level-1);\n",
       "}\n",
       "\n",
       "/* On hover */\n",
       "#sk-container-id-4 a.estimator_doc_link:hover {\n",
       "  /* unfitted */\n",
       "  background-color: var(--sklearn-color-unfitted-level-3);\n",
       "  color: var(--sklearn-color-background);\n",
       "  text-decoration: none;\n",
       "}\n",
       "\n",
       "#sk-container-id-4 a.estimator_doc_link.fitted:hover {\n",
       "  /* fitted */\n",
       "  background-color: var(--sklearn-color-fitted-level-3);\n",
       "}\n",
       "</style><div id=\"sk-container-id-4\" class=\"sk-top-container\"><div class=\"sk-text-repr-fallback\"><pre>XGBClassifier(base_score=None, booster=None, callbacks=None,\n",
       "              colsample_bylevel=None, colsample_bynode=None,\n",
       "              colsample_bytree=None, device=None, early_stopping_rounds=None,\n",
       "              enable_categorical=False, eval_metric=None, feature_types=None,\n",
       "              gamma=None, grow_policy=None, importance_type=None,\n",
       "              interaction_constraints=None, learning_rate=0.1, max_bin=None,\n",
       "              max_cat_threshold=None, max_cat_to_onehot=None,\n",
       "              max_delta_step=None, max_depth=10, max_leaves=None,\n",
       "              min_child_weight=None, missing=nan, monotone_constraints=None,\n",
       "              multi_strategy=None, n_estimators=300, n_jobs=None,\n",
       "              num_parallel_tree=None, objective=&#x27;multi:softprob&#x27;, ...)</pre><b>In a Jupyter environment, please rerun this cell to show the HTML representation or trust the notebook. <br />On GitHub, the HTML representation is unable to render, please try loading this page with nbviewer.org.</b></div><div class=\"sk-container\" hidden><div class=\"sk-item\"><div class=\"sk-estimator fitted sk-toggleable\"><input class=\"sk-toggleable__control sk-hidden--visually\" id=\"sk-estimator-id-4\" type=\"checkbox\" checked><label for=\"sk-estimator-id-4\" class=\"sk-toggleable__label fitted sk-toggleable__label-arrow fitted\">&nbsp;XGBClassifier<span class=\"sk-estimator-doc-link fitted\">i<span>Fitted</span></span></label><div class=\"sk-toggleable__content fitted\"><pre>XGBClassifier(base_score=None, booster=None, callbacks=None,\n",
       "              colsample_bylevel=None, colsample_bynode=None,\n",
       "              colsample_bytree=None, device=None, early_stopping_rounds=None,\n",
       "              enable_categorical=False, eval_metric=None, feature_types=None,\n",
       "              gamma=None, grow_policy=None, importance_type=None,\n",
       "              interaction_constraints=None, learning_rate=0.1, max_bin=None,\n",
       "              max_cat_threshold=None, max_cat_to_onehot=None,\n",
       "              max_delta_step=None, max_depth=10, max_leaves=None,\n",
       "              min_child_weight=None, missing=nan, monotone_constraints=None,\n",
       "              multi_strategy=None, n_estimators=300, n_jobs=None,\n",
       "              num_parallel_tree=None, objective=&#x27;multi:softprob&#x27;, ...)</pre></div> </div></div></div></div>"
      ],
      "text/plain": [
       "XGBClassifier(base_score=None, booster=None, callbacks=None,\n",
       "              colsample_bylevel=None, colsample_bynode=None,\n",
       "              colsample_bytree=None, device=None, early_stopping_rounds=None,\n",
       "              enable_categorical=False, eval_metric=None, feature_types=None,\n",
       "              gamma=None, grow_policy=None, importance_type=None,\n",
       "              interaction_constraints=None, learning_rate=0.1, max_bin=None,\n",
       "              max_cat_threshold=None, max_cat_to_onehot=None,\n",
       "              max_delta_step=None, max_depth=10, max_leaves=None,\n",
       "              min_child_weight=None, missing=nan, monotone_constraints=None,\n",
       "              multi_strategy=None, n_estimators=300, n_jobs=None,\n",
       "              num_parallel_tree=None, objective='multi:softprob', ...)"
      ]
     },
     "execution_count": 105,
     "metadata": {},
     "output_type": "execute_result"
    }
   ],
   "source": [
    "# Fit model \n",
    "modex_xgboost_best.fit(X_train, y_train)"
   ]
  },
  {
   "cell_type": "code",
   "execution_count": 106,
   "id": "c7991616-6441-4ab0-8460-eee090ebf699",
   "metadata": {},
   "outputs": [],
   "source": [
    "feature_names = list(X_train.columns)"
   ]
  },
  {
   "cell_type": "code",
   "execution_count": 107,
   "id": "cd0e5bca-e6e6-4eb0-96ca-5c8d566d2f8c",
   "metadata": {},
   "outputs": [
    {
     "data": {
      "image/png": "[encoded data removed]",
      "text/plain": [
       "<Figure size 1000x600 with 1 Axes>"
      ]
     },
     "metadata": {},
     "output_type": "display_data"
    }
   ],
   "source": [
    "importances = modex_xgboost_best.feature_importances_\n",
    "\n",
    "# Create a bar chart\n",
    "plt.figure(figsize=(10, 6))\n",
    "plt.barh(feature_names, importances*100, color='skyblue')\n",
    "plt.xlabel('Importance')\n",
    "plt.ylabel('Feature')\n",
    "plt.title('Feature Importances')\n",
    "plt.show()"
   ]
  },
  {
   "cell_type": "code",
   "execution_count": 43,
   "id": "855e6681-ea0d-4fe6-ac2d-d6cb60f98da3",
   "metadata": {},
   "outputs": [
    {
     "data": {
      "text/html": [
       "<div>\n",
       "<style scoped>\n",
       "    .dataframe tbody tr th:only-of-type {\n",
       "        vertical-align: middle;\n",
       "    }\n",
       "\n",
       "    .dataframe tbody tr th {\n",
       "        vertical-align: top;\n",
       "    }\n",
       "\n",
       "    .dataframe thead th {\n",
       "        text-align: right;\n",
       "    }\n",
       "</style>\n",
       "<table border=\"1\" class=\"dataframe\">\n",
       "  <thead>\n",
       "    <tr style=\"text-align: right;\">\n",
       "      <th></th>\n",
       "      <th>features</th>\n",
       "      <th>importances</th>\n",
       "    </tr>\n",
       "  </thead>\n",
       "  <tbody>\n",
       "    <tr>\n",
       "      <th>8</th>\n",
       "      <td>numOfBathrooms_winsor</td>\n",
       "      <td>14.309074</td>\n",
       "    </tr>\n",
       "    <tr>\n",
       "      <th>7</th>\n",
       "      <td>avgSchoolRating_winsor</td>\n",
       "      <td>9.902528</td>\n",
       "    </tr>\n",
       "    <tr>\n",
       "      <th>11</th>\n",
       "      <td>latitude_winsor_3</td>\n",
       "      <td>5.493628</td>\n",
       "    </tr>\n",
       "    <tr>\n",
       "      <th>12</th>\n",
       "      <td>longitude_winsor_3</td>\n",
       "      <td>5.361614</td>\n",
       "    </tr>\n",
       "    <tr>\n",
       "      <th>1</th>\n",
       "      <td>homeType</td>\n",
       "      <td>4.085618</td>\n",
       "    </tr>\n",
       "  </tbody>\n",
       "</table>\n",
       "</div>"
      ],
      "text/plain": [
       "                  features  importances\n",
       "8    numOfBathrooms_winsor    14.309074\n",
       "7   avgSchoolRating_winsor     9.902528\n",
       "11       latitude_winsor_3     5.493628\n",
       "12      longitude_winsor_3     5.361614\n",
       "1                 homeType     4.085618"
      ]
     },
     "execution_count": 43,
     "metadata": {},
     "output_type": "execute_result"
    }
   ],
   "source": [
    "feature_importance = pd.DataFrame({\"features\":feature_names, \n",
    "                                             \"importances\": importances*100})\n",
    "\n",
    "feature_importance.sort_values(by='importances', ascending=False).head()"
   ]
  },
  {
   "cell_type": "code",
   "execution_count": 44,
   "id": "b15e1d86-ce1a-4522-9312-9bde81ba2150",
   "metadata": {},
   "outputs": [
    {
     "data": {
      "text/html": [
       "<div>\n",
       "<style scoped>\n",
       "    .dataframe tbody tr th:only-of-type {\n",
       "        vertical-align: middle;\n",
       "    }\n",
       "\n",
       "    .dataframe tbody tr th {\n",
       "        vertical-align: top;\n",
       "    }\n",
       "\n",
       "    .dataframe thead th {\n",
       "        text-align: right;\n",
       "    }\n",
       "</style>\n",
       "<table border=\"1\" class=\"dataframe\">\n",
       "  <thead>\n",
       "    <tr style=\"text-align: right;\">\n",
       "      <th></th>\n",
       "      <th>count</th>\n",
       "      <th>mean</th>\n",
       "      <th>std</th>\n",
       "      <th>min</th>\n",
       "      <th>25%</th>\n",
       "      <th>50%</th>\n",
       "      <th>75%</th>\n",
       "      <th>max</th>\n",
       "    </tr>\n",
       "  </thead>\n",
       "  <tbody>\n",
       "    <tr>\n",
       "      <th>importances</th>\n",
       "      <td>31.0</td>\n",
       "      <td>3.225806</td>\n",
       "      <td>2.66251</td>\n",
       "      <td>0.0</td>\n",
       "      <td>2.10761</td>\n",
       "      <td>2.226877</td>\n",
       "      <td>3.246574</td>\n",
       "      <td>14.309074</td>\n",
       "    </tr>\n",
       "  </tbody>\n",
       "</table>\n",
       "</div>"
      ],
      "text/plain": [
       "             count      mean      std  min      25%       50%       75%        max\n",
       "importances   31.0  3.225806  2.66251  0.0  2.10761  2.226877  3.246574  14.309074"
      ]
     },
     "execution_count": 44,
     "metadata": {},
     "output_type": "execute_result"
    }
   ],
   "source": [
    "feature_importance.describe().T"
   ]
  },
  {
   "cell_type": "code",
   "execution_count": 45,
   "id": "dbf89c6f-6b01-4be4-9b7b-27b5a3479478",
   "metadata": {},
   "outputs": [],
   "source": [
    "preds_class = model_xgb.predict(X_test)"
   ]
  },
  {
   "cell_type": "code",
   "execution_count": 46,
   "id": "136ca05d-c0a1-47ec-9d44-f72600134d8e",
   "metadata": {},
   "outputs": [],
   "source": [
    "from sklearn.metrics import accuracy_score\n",
    "from sklearn.metrics import roc_auc_score\n",
    "from sklearn.metrics import precision_score, recall_score, f1_score, classification_report"
   ]
  },
  {
   "cell_type": "code",
   "execution_count": 51,
   "id": "70a7dcfe-7dac-422e-99fc-c1daf4886091",
   "metadata": {},
   "outputs": [
    {
     "data": {
      "image/png": "[encoded data removed]",
      "text/plain": [
       "<Figure size 700x500 with 2 Axes>"
      ]
     },
     "metadata": {},
     "output_type": "display_data"
    }
   ],
   "source": [
    "cm = pd.crosstab(y_test, preds_class, rownames=['Actually'], colnames=['Predicted'])\n",
    "fig, (ax1) = plt.subplots(ncols=1, figsize=(7,5))\n",
    "\n",
    "sns.heatmap(pd.DataFrame(cm), annot=True, cmap=\"Blues\" ,fmt='g',)\n",
    "ax1.xaxis.set_label_position(\"top\")\n",
    "plt.tight_layout()\n",
    "plt.title('Confusion Matrix', y=1.1,fontsize=14)\n",
    "plt.show()"
   ]
  },
  {
   "cell_type": "code",
   "execution_count": 48,
   "id": "be401baa-bbbf-429b-afe0-4e0176f9b321",
   "metadata": {},
   "outputs": [
    {
     "name": "stdout",
     "output_type": "stream",
     "text": [
      "Accuracy = 0.5911111111111111\n"
     ]
    }
   ],
   "source": [
    "acc=accuracy_score(y_test,preds_class)\n",
    "print('Accuracy =' , acc)"
   ]
  },
  {
   "cell_type": "code",
   "execution_count": 49,
   "id": "91e09f33-dce6-4689-8537-0b1a3aeae5da",
   "metadata": {},
   "outputs": [
    {
     "name": "stdout",
     "output_type": "stream",
     "text": [
      "Recall = 0.5868834340442516\n"
     ]
    }
   ],
   "source": [
    "recall = recall_score(y_test, preds_class, average='macro')\n",
    "print('Recall =' ,recall)"
   ]
  },
  {
   "cell_type": "code",
   "execution_count": 50,
   "id": "6671717d-3a52-43f3-9144-b0fcc310f70d",
   "metadata": {},
   "outputs": [
    {
     "name": "stdout",
     "output_type": "stream",
     "text": [
      "Precision = 0.6060263713683474\n"
     ]
    }
   ],
   "source": [
    "precision = precision_score(y_test, preds_class, average='macro')\n",
    "print('Precision =' ,precision)"
   ]
  },
  {
   "cell_type": "code",
   "execution_count": 103,
   "id": "83a7ae52-62f8-4804-b93d-80017566d361",
   "metadata": {},
   "outputs": [
    {
     "ename": "AttributeError",
     "evalue": "'GridSearchCV' object has no attribute 'feature_importances_'",
     "output_type": "error",
     "traceback": [
      "\u001b[0;31m---------------------------------------------------------------------------\u001b[0m",
      "\u001b[0;31mAttributeError\u001b[0m                            Traceback (most recent call last)",
      "Cell \u001b[0;32mIn[103], line 1\u001b[0m\n\u001b[0;32m----> 1\u001b[0m importances \u001b[38;5;241m=\u001b[39m \u001b[43mmodel_xgboost\u001b[49m\u001b[38;5;241;43m.\u001b[39;49m\u001b[43mfeature_importances_\u001b[49m\n\u001b[1;32m      3\u001b[0m \u001b[38;5;66;03m# Create a bar chart\u001b[39;00m\n\u001b[1;32m      4\u001b[0m plt\u001b[38;5;241m.\u001b[39mfigure(figsize\u001b[38;5;241m=\u001b[39m(\u001b[38;5;241m10\u001b[39m, \u001b[38;5;241m6\u001b[39m))\n",
      "\u001b[0;31mAttributeError\u001b[0m: 'GridSearchCV' object has no attribute 'feature_importances_'"
     ]
    }
   ],
   "source": [
    "importances = model_xgboost.feature_importances_\n",
    "\n",
    "# Create a bar chart\n",
    "plt.figure(figsize=(10, 6))\n",
    "plt.barh(feature_names, importances*100, color='skyblue')\n",
    "plt.xlabel('Importance')\n",
    "plt.ylabel('Feature')\n",
    "plt.title('Feature Importances')\n",
    "plt.show()"
   ]
  },
  {
   "cell_type": "code",
   "execution_count": 43,
   "id": "d39290c1-fcf1-4b4a-989b-f5e0c9f48d4f",
   "metadata": {},
   "outputs": [
    {
     "data": {
      "text/html": [
       "<div>\n",
       "<style scoped>\n",
       "    .dataframe tbody tr th:only-of-type {\n",
       "        vertical-align: middle;\n",
       "    }\n",
       "\n",
       "    .dataframe tbody tr th {\n",
       "        vertical-align: top;\n",
       "    }\n",
       "\n",
       "    .dataframe thead th {\n",
       "        text-align: right;\n",
       "    }\n",
       "</style>\n",
       "<table border=\"1\" class=\"dataframe\">\n",
       "  <thead>\n",
       "    <tr style=\"text-align: right;\">\n",
       "      <th></th>\n",
       "      <th>features</th>\n",
       "      <th>importances</th>\n",
       "    </tr>\n",
       "  </thead>\n",
       "  <tbody>\n",
       "    <tr>\n",
       "      <th>8</th>\n",
       "      <td>numOfBathrooms_winsor</td>\n",
       "      <td>14.309074</td>\n",
       "    </tr>\n",
       "    <tr>\n",
       "      <th>7</th>\n",
       "      <td>avgSchoolRating_winsor</td>\n",
       "      <td>9.902528</td>\n",
       "    </tr>\n",
       "    <tr>\n",
       "      <th>11</th>\n",
       "      <td>latitude_winsor_3</td>\n",
       "      <td>5.493628</td>\n",
       "    </tr>\n",
       "    <tr>\n",
       "      <th>12</th>\n",
       "      <td>longitude_winsor_3</td>\n",
       "      <td>5.361614</td>\n",
       "    </tr>\n",
       "    <tr>\n",
       "      <th>1</th>\n",
       "      <td>homeType</td>\n",
       "      <td>4.085618</td>\n",
       "    </tr>\n",
       "  </tbody>\n",
       "</table>\n",
       "</div>"
      ],
      "text/plain": [
       "                  features  importances\n",
       "8    numOfBathrooms_winsor    14.309074\n",
       "7   avgSchoolRating_winsor     9.902528\n",
       "11       latitude_winsor_3     5.493628\n",
       "12      longitude_winsor_3     5.361614\n",
       "1                 homeType     4.085618"
      ]
     },
     "execution_count": 43,
     "metadata": {},
     "output_type": "execute_result"
    }
   ],
   "source": [
    "feature_importance = pd.DataFrame({\"features\":feature_names, \n",
    "                                             \"importances\": importances*100})\n",
    "\n",
    "feature_importance.sort_values(by='importances', ascending=False).head()"
   ]
  },
  {
   "cell_type": "raw",
   "id": "e69897e2-bc68-4540-99b0-21870f68e4f1",
   "metadata": {},
   "source": [
    "# Fit model \n",
    "model_cat.fit(X_train, y_train, cat_features=categoricalcolumns, eval_set=(X_test, y_test))"
   ]
  },
  {
   "cell_type": "code",
   "execution_count": 583,
   "id": "6be8e132-685e-4a75-a5a3-82231deafdf5",
   "metadata": {},
   "outputs": [
    {
     "data": {
      "image/png": "[encoded data removed]",
      "text/plain": [
       "<Figure size 1200x600 with 1 Axes>"
      ]
     },
     "metadata": {},
     "output_type": "display_data"
    }
   ],
   "source": [
    "# Create a dataframe of feature importance \n",
    "model_cat_feature_importance = pd.DataFrame(model_cat.get_feature_importance(prettified=True))\n",
    "#plotting feature importance\n",
    "plt.figure(figsize=(12, 6));\n",
    "feature_plot= sns.barplot(x=\"Importances\", y=\"Feature Id\", data=model_cat_feature_importance,palette=\"cool\");\n",
    "plt.title('features importance');"
   ]
  },
  {
   "cell_type": "code",
   "execution_count": 584,
   "id": "4a2f491f-84f9-4c6a-b09f-63ffdca885f0",
   "metadata": {},
   "outputs": [
    {
     "data": {
      "text/html": [
       "<div>\n",
       "<style scoped>\n",
       "    .dataframe tbody tr th:only-of-type {\n",
       "        vertical-align: middle;\n",
       "    }\n",
       "\n",
       "    .dataframe tbody tr th {\n",
       "        vertical-align: top;\n",
       "    }\n",
       "\n",
       "    .dataframe thead th {\n",
       "        text-align: right;\n",
       "    }\n",
       "</style>\n",
       "<table border=\"1\" class=\"dataframe\">\n",
       "  <thead>\n",
       "    <tr style=\"text-align: right;\">\n",
       "      <th></th>\n",
       "      <th>Feature Id</th>\n",
       "      <th>Importances</th>\n",
       "    </tr>\n",
       "  </thead>\n",
       "  <tbody>\n",
       "    <tr>\n",
       "      <th>0</th>\n",
       "      <td>Subpartida Arancelaria</td>\n",
       "      <td>38.070762</td>\n",
       "    </tr>\n",
       "    <tr>\n",
       "      <th>1</th>\n",
       "      <td>Cantidad Unidad Comercial</td>\n",
       "      <td>33.830246</td>\n",
       "    </tr>\n",
       "    <tr>\n",
       "      <th>2</th>\n",
       "      <td>Código País Exportador</td>\n",
       "      <td>18.965225</td>\n",
       "    </tr>\n",
       "    <tr>\n",
       "      <th>3</th>\n",
       "      <td>Código Modalidad de Importación</td>\n",
       "      <td>9.133767</td>\n",
       "    </tr>\n",
       "  </tbody>\n",
       "</table>\n",
       "</div>"
      ],
      "text/plain": [
       "                        Feature Id  Importances\n",
       "0           Subpartida Arancelaria    38.070762\n",
       "1        Cantidad Unidad Comercial    33.830246\n",
       "2           Código País Exportador    18.965225\n",
       "3  Código Modalidad de Importación     9.133767"
      ]
     },
     "execution_count": 584,
     "metadata": {},
     "output_type": "execute_result"
    }
   ],
   "source": [
    "model_cat_feature_importance = pd.DataFrame(model_cat.get_feature_importance(prettified=True))\n",
    "\n",
    "model_cat_feature_importance"
   ]
  },
  {
   "cell_type": "raw",
   "id": "5ea0d5c9-0b61-40f7-817b-6583c4bf70a5",
   "metadata": {},
   "source": [
    "model_cat.fit(train_data,plot = True)"
   ]
  },
  {
   "cell_type": "code",
   "execution_count": 586,
   "id": "ffccfaf3-12f5-44f6-8fe2-546e882f2125",
   "metadata": {},
   "outputs": [],
   "source": [
    "preds_class = model_cat.predict(test_data)"
   ]
  },
  {
   "cell_type": "code",
   "execution_count": 587,
   "id": "80c68288-046c-4d41-bb7c-eda5a491ba39",
   "metadata": {},
   "outputs": [],
   "source": [
    "from sklearn.metrics import accuracy_score\n",
    "from sklearn.metrics import roc_auc_score\n",
    "from sklearn.metrics import precision_score, recall_score,f1_score,classification_report"
   ]
  },
  {
   "cell_type": "code",
   "execution_count": 588,
   "id": "de3ea40e-5de2-4037-9a76-5294b76066b3",
   "metadata": {},
   "outputs": [
    {
     "data": {
      "image/png": "[encoded data removed]",
      "text/plain": [
       "<Figure size 700x500 with 2 Axes>"
      ]
     },
     "metadata": {},
     "output_type": "display_data"
    }
   ],
   "source": [
    "cm = pd.crosstab(y_test, preds_class, rownames=['Actually'], colnames=['Predicted'])\n",
    "fig, (ax1) = plt.subplots(ncols=1, figsize=(7,5))\n",
    "\n",
    "sns.heatmap(pd.DataFrame(cm), annot=True, cmap=\"Blues\" ,fmt='g',\n",
    "            xticklabels=['TEUS','FEUS'],\n",
    "            yticklabels=['TEUS','FEUS'],)\n",
    "ax1.xaxis.set_label_position(\"top\")\n",
    "plt.tight_layout()\n",
    "plt.title('Confusion Matrix', y=1.1,fontsize=14)\n",
    "plt.show()"
   ]
  },
  {
   "cell_type": "code",
   "execution_count": 589,
   "id": "d54b45ac-d776-486f-8268-9a3f3801b4be",
   "metadata": {},
   "outputs": [
    {
     "name": "stdout",
     "output_type": "stream",
     "text": [
      "Accuracy = 0.9331007784034449\n"
     ]
    }
   ],
   "source": [
    "acc=accuracy_score(y_test,preds_class)\n",
    "print('Accuracy =' , acc)"
   ]
  },
  {
   "cell_type": "code",
   "execution_count": 590,
   "id": "97b2eb9c-7311-4d48-afce-36cbc516da01",
   "metadata": {},
   "outputs": [
    {
     "name": "stdout",
     "output_type": "stream",
     "text": [
      "Recall = 0.9729171198607788\n"
     ]
    }
   ],
   "source": [
    "recall = recall_score(y_test, preds_class)\n",
    "print('Recall =' , recall)"
   ]
  },
  {
   "cell_type": "code",
   "execution_count": 591,
   "id": "9e96b41e-921a-493a-8c63-bf04688fb422",
   "metadata": {},
   "outputs": [
    {
     "name": "stdout",
     "output_type": "stream",
     "text": [
      "Precision = 0.9411950388657259\n"
     ]
    }
   ],
   "source": [
    "precision = precision_score(y_test, preds_class)\n",
    "print('Precision =' ,precision)"
   ]
  },
  {
   "cell_type": "code",
   "execution_count": 592,
   "id": "c46edac2-d70e-40e5-9a48-7efe4bf56937",
   "metadata": {},
   "outputs": [
    {
     "name": "stdout",
     "output_type": "stream",
     "text": [
      "AUC = 0.8894989832475303\n"
     ]
    }
   ],
   "source": [
    "auc_score=roc_auc_score(y_test, preds_class)\n",
    "print('AUC =' , auc_score)"
   ]
  },
  {
   "cell_type": "code",
   "execution_count": 593,
   "id": "309399b5-6bff-4afc-a354-b85652dbd54f",
   "metadata": {},
   "outputs": [
    {
     "data": {
      "image/png": "[encoded data removed]",
      "text/plain": [
       "<Figure size 640x480 with 1 Axes>"
      ]
     },
     "metadata": {},
     "output_type": "display_data"
    }
   ],
   "source": [
    "fpr, tpr, threshold = metrics.roc_curve(y_test, preds_class)\n",
    "roc_auc = metrics.auc(fpr, tpr)\n",
    "plt.title('Receiver Operating Characteristic')\n",
    "plt.plot(fpr, tpr, 'b', label = 'AUC = %0.2f' % roc_auc)\n",
    "plt.legend(loc = 'lower right')\n",
    "plt.plot([0, 1], [0, 1],'r--')\n",
    "plt.xlim([0, 1])\n",
    "plt.ylim([0, 1])\n",
    "plt.ylabel('True Positive Rate')\n",
    "plt.xlabel('False Positive Rate')\n",
    "plt.show()"
   ]
  },
  {
   "cell_type": "code",
   "execution_count": 594,
   "id": "24b62303-34c2-4215-a5f4-90e57399aa3b",
   "metadata": {},
   "outputs": [
    {
     "name": "stdout",
     "output_type": "stream",
     "text": [
      "              precision    recall  f1-score   support\n",
      "\n",
      "           0       0.90      0.81      0.85     23056\n",
      "           1       0.94      0.97      0.96     73552\n",
      "\n",
      "    accuracy                           0.93     96608\n",
      "   macro avg       0.92      0.89      0.90     96608\n",
      "weighted avg       0.93      0.93      0.93     96608\n",
      "\n"
     ]
    }
   ],
   "source": [
    "classification_report_score = classification_report(y_test, preds_class)\n",
    "print(classification_report_score)"
   ]
  },
  {
   "cell_type": "markdown",
   "id": "36f71aaf-5127-4dc5-86b8-bf91a35c5e28",
   "metadata": {},
   "source": [
    "# CatBoost Regressor Model"
   ]
  },
  {
   "cell_type": "markdown",
   "id": "bb2dfa61-9c05-4c48-a16f-a8a5ae193064",
   "metadata": {},
   "source": [
    "Consider the following dataset:"
   ]
  },
  {
   "cell_type": "code",
   "execution_count": null,
   "id": "b4c75199-0e54-496c-a1cc-23d42f033689",
   "metadata": {},
   "outputs": [],
   "source": [
    "# Listing the Numerical datatypes\n",
    "numerical_rel = list(new_data.select_dtypes(include=['int64','float64','Int64']).columns)\n",
    "\n",
    "numerical_rel"
   ]
  },
  {
   "cell_type": "code",
   "execution_count": 599,
   "id": "b34fea74-8021-4ecb-a660-469578dbda97",
   "metadata": {},
   "outputs": [],
   "source": [
    "agp_new[variable] = agp_new[variable].applymap(str)"
   ]
  },
  {
   "cell_type": "code",
   "execution_count": 600,
   "id": "38284371-2619-43d3-b565-3ff45066265c",
   "metadata": {},
   "outputs": [
    {
     "data": {
      "text/plain": [
       "Código Depósito                                object\n",
       "Código País Exportador                         object\n",
       "Código Modalidad de Importación                object\n",
       "Subpartida Arancelaria                         object\n",
       "Nombre Estado Documento                        object\n",
       "Código Modo Transporte                         object\n",
       "Código Tipo Declaración                        object\n",
       "Nombre Tipo Declaración                        object\n",
       "Nombre Modo Transporte                         object\n",
       "Código País Compra                             object\n",
       "Nombre País Compra                             object\n",
       "Nombre País Exportador                         object\n",
       "Código País Origen                             object\n",
       "Nombre País Origen                             object\n",
       "Código País                                    object\n",
       "Nombre País                                    object\n",
       "Nombre Embalaje                                object\n",
       "Periodo                                        object\n",
       "Tipo Conocimiento                              object\n",
       "Empresa Colombiana Impo/Expo NIT               object\n",
       "Empresa Colombiana Impo/Expo Digito Chequeo    object\n",
       "Empresa Colombiana Impo/Expo                   object\n",
       "Empresa Colombiana Impo/Expo Ciudad            object\n",
       "Empresa Colombiana Impo/Expo Departamento      object\n",
       "Empresa Extranjera                             object\n",
       "Naviera                                        object\n",
       "Agente Naviero                                 object\n",
       "Motonave                                       object\n",
       "Tipo Consolidación                             object\n",
       "Puerto Colombiano                              object\n",
       "Muelle                                         object\n",
       "Puerto Extranjero Países                       object\n",
       "Puerto Extranjero                              object\n",
       "Empresa Notificada Ciudad                      object\n",
       "Empresa Notificada Departamento                object\n",
       "Descripción BL                                 object\n",
       "SubPartida                                     object\n",
       "Descripción SubPartida                         object\n",
       "Capítulo                                       object\n",
       "Descripción Capítulo                           object\n",
       "Unidad Comercial                               object\n",
       "Tipo Estiba                                    object\n",
       "Empresa Notificada Nombre                      object\n",
       "Tipo Transito                                  object\n",
       "Destino Origen Extranjera Ciudad               object\n",
       "Destino Origen Extranjera Países               object\n",
       "Forma Pago                                     object\n",
       "Ciiu                                           object\n",
       "Cuode                                          object\n",
       "Número Sobordo                                 object\n",
       "Consecutivo Registro                           object\n",
       "Revista Diaria                                 object\n",
       "Revista Semanal                                object\n",
       "Roro                                           object\n",
       "Motonave Viaje                                 object\n",
       "target                                         object\n",
       "dtype: object"
      ]
     },
     "execution_count": 600,
     "metadata": {},
     "output_type": "execute_result"
    }
   ],
   "source": [
    "agp_new[variable].dtypes"
   ]
  },
  {
   "cell_type": "code",
   "execution_count": 661,
   "id": "af57fca9-3e8e-4afc-91eb-c1f9879e88a5",
   "metadata": {},
   "outputs": [],
   "source": [
    "# considering the categorical variables, the numerical ones, and the final target for classification case with the gt20 feature for the regressor case\n",
    "\n",
    "final_regre = final_feat + ['gt20']"
   ]
  },
  {
   "cell_type": "code",
   "execution_count": 662,
   "id": "bb22690f-5f0f-4f50-9748-a9934c75230b",
   "metadata": {},
   "outputs": [],
   "source": [
    "AGP_reg = agp_new[final_regre]"
   ]
  },
  {
   "cell_type": "code",
   "execution_count": 663,
   "id": "fec499af-0e8d-4d96-9f08-337b326d7c43",
   "metadata": {},
   "outputs": [],
   "source": [
    "#AGP['final_target'] = AGP['final_target'].astype('category')"
   ]
  },
  {
   "cell_type": "code",
   "execution_count": 664,
   "id": "2eb7074a-0fdb-4d61-a9de-48cef8f28f56",
   "metadata": {},
   "outputs": [],
   "source": [
    "AGP_reg = AGP_reg.drop('final_target', axis=1)"
   ]
  },
  {
   "cell_type": "code",
   "execution_count": 665,
   "id": "70726646-bff7-4e23-bfad-a9d5ad343ac2",
   "metadata": {},
   "outputs": [
    {
     "data": {
      "text/html": [
       "<div>\n",
       "<style scoped>\n",
       "    .dataframe tbody tr th:only-of-type {\n",
       "        vertical-align: middle;\n",
       "    }\n",
       "\n",
       "    .dataframe tbody tr th {\n",
       "        vertical-align: top;\n",
       "    }\n",
       "\n",
       "    .dataframe thead th {\n",
       "        text-align: right;\n",
       "    }\n",
       "</style>\n",
       "<table border=\"1\" class=\"dataframe\">\n",
       "  <thead>\n",
       "    <tr style=\"text-align: right;\">\n",
       "      <th></th>\n",
       "      <th>Código Modalidad de Importación</th>\n",
       "      <th>Código País Exportador</th>\n",
       "      <th>Subpartida Arancelaria</th>\n",
       "      <th>Cantidad Unidad Comercial</th>\n",
       "      <th>gt20</th>\n",
       "    </tr>\n",
       "  </thead>\n",
       "  <tbody>\n",
       "    <tr>\n",
       "      <th>1</th>\n",
       "      <td>C190</td>\n",
       "      <td>PA</td>\n",
       "      <td>5205120000</td>\n",
       "      <td>0.798008</td>\n",
       "      <td>0.741276</td>\n",
       "    </tr>\n",
       "    <tr>\n",
       "      <th>15</th>\n",
       "      <td>C101</td>\n",
       "      <td>CA</td>\n",
       "      <td>713409000</td>\n",
       "      <td>0.815473</td>\n",
       "      <td>0.959135</td>\n",
       "    </tr>\n",
       "    <tr>\n",
       "      <th>16</th>\n",
       "      <td>C200</td>\n",
       "      <td>CN</td>\n",
       "      <td>8502121000</td>\n",
       "      <td>0.352793</td>\n",
       "      <td>0.741276</td>\n",
       "    </tr>\n",
       "    <tr>\n",
       "      <th>30</th>\n",
       "      <td>C130</td>\n",
       "      <td>CL</td>\n",
       "      <td>303130000</td>\n",
       "      <td>0.796893</td>\n",
       "      <td>0.741276</td>\n",
       "    </tr>\n",
       "    <tr>\n",
       "      <th>31</th>\n",
       "      <td>C100</td>\n",
       "      <td>CL</td>\n",
       "      <td>808100000</td>\n",
       "      <td>0.797814</td>\n",
       "      <td>0.741276</td>\n",
       "    </tr>\n",
       "  </tbody>\n",
       "</table>\n",
       "</div>"
      ],
      "text/plain": [
       "   Código Modalidad de Importación Código País Exportador Subpartida Arancelaria  Cantidad Unidad Comercial      gt20\n",
       "1                             C190                     PA             5205120000                   0.798008  0.741276\n",
       "15                            C101                     CA              713409000                   0.815473  0.959135\n",
       "16                            C200                     CN             8502121000                   0.352793  0.741276\n",
       "30                            C130                     CL              303130000                   0.796893  0.741276\n",
       "31                            C100                     CL              808100000                   0.797814  0.741276"
      ]
     },
     "execution_count": 665,
     "metadata": {},
     "output_type": "execute_result"
    }
   ],
   "source": [
    "AGP_reg.head()"
   ]
  },
  {
   "cell_type": "code",
   "execution_count": 700,
   "id": "3f7442f1-1b31-49f0-a4df-0dc3aa102b2a",
   "metadata": {},
   "outputs": [
    {
     "data": {
      "text/plain": [
       "['Código Modalidad de Importación',\n",
       " 'Código País Exportador',\n",
       " 'Subpartida Arancelaria']"
      ]
     },
     "execution_count": 700,
     "metadata": {},
     "output_type": "execute_result"
    }
   ],
   "source": [
    "# Listing the Numerical datatypes\n",
    "categorical_final = list(AGP_reg.select_dtypes(include=['object']).columns)\n",
    "\n",
    "categorical_final"
   ]
  }
 ],
 "metadata": {
  "kernelspec": {
   "display_name": "fullstack",
   "language": "python",
   "name": "fullstack"
  },
  "language_info": {
   "codemirror_mode": {
    "name": "ipython",
    "version": 3
   },
   "file_extension": ".py",
   "mimetype": "text/x-python",
   "name": "python",
   "nbconvert_exporter": "python",
   "pygments_lexer": "ipython3",
   "version": "3.9.19"
  }
 },
 "nbformat": 4,
 "nbformat_minor": 5
}
